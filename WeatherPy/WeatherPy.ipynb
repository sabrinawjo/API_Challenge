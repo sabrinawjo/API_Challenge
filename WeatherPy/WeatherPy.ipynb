{
 "cells": [
  {
   "cell_type": "markdown",
   "metadata": {},
   "source": [
    "# WeatherPy\n",
    "----\n",
    "\n",
    "#### Note\n",
    "* Instructions have been included for each segment. You do not have to follow them exactly, but they are included to help you think through the steps."
   ]
  },
  {
   "cell_type": "code",
   "execution_count": 4,
   "metadata": {
    "scrolled": true
   },
   "outputs": [],
   "source": [
    "# Dependencies and Setup\n",
    "import matplotlib.pyplot as plt\n",
    "import pandas as pd\n",
    "import numpy as np\n",
    "import requests\n",
    "import time\n",
    "from scipy.stats import linregress\n",
    "\n",
    "# Import API key\n",
    "from api_keys import weather_api_key\n",
    "\n",
    "# Incorporated citipy to determine city based on latitude and longitude\n",
    "from citipy import citipy\n",
    "\n",
    "# Output File (CSV)\n",
    "output_data_file = \"output_data/cities.csv\"\n",
    "\n",
    "# Range of latitudes and longitudes\n",
    "lat_range = (-90, 90)\n",
    "lng_range = (-180, 180)"
   ]
  },
  {
   "cell_type": "code",
   "execution_count": 5,
   "metadata": {},
   "outputs": [],
   "source": [
    "import logging\n",
    "logging.basicConfig(level=logging.DEBUG)"
   ]
  },
  {
   "cell_type": "markdown",
   "metadata": {},
   "source": [
    "## Generate Cities List"
   ]
  },
  {
   "cell_type": "code",
   "execution_count": 6,
   "metadata": {},
   "outputs": [
    {
     "data": {
      "text/plain": [
       "613"
      ]
     },
     "execution_count": 6,
     "metadata": {},
     "output_type": "execute_result"
    }
   ],
   "source": [
    "# List for holding lat_lngs and cities\n",
    "lat_lngs = []\n",
    "cities = []\n",
    "\n",
    "# Create a set of random lat and lng combinations\n",
    "lats = np.random.uniform(lat_range[0], lat_range[1], size=1500)\n",
    "lngs = np.random.uniform(lng_range[0], lng_range[1], size=1500)\n",
    "lat_lngs = zip(lats, lngs)\n",
    "\n",
    "# Identify nearest city for each lat, lng combination\n",
    "for lat_lng in lat_lngs:\n",
    "    city = citipy.nearest_city(lat_lng[0], lat_lng[1]).city_name\n",
    "    \n",
    "    # If the city is unique, then add it to a our cities list\n",
    "    if city not in cities:\n",
    "        cities.append(city)\n",
    "\n",
    "# Print the city count to confirm sufficient count\n",
    "len(cities)"
   ]
  },
  {
   "cell_type": "code",
   "execution_count": 7,
   "metadata": {},
   "outputs": [
    {
     "data": {
      "text/plain": [
       "['ribeira grande',\n",
       " 'hamilton',\n",
       " 'sur',\n",
       " 'roma',\n",
       " 'barrow',\n",
       " 'lompoc',\n",
       " 'butaritari',\n",
       " 'tevriz',\n",
       " 'bethel',\n",
       " 'mendi',\n",
       " 'mataura',\n",
       " 'kodiak',\n",
       " 'attawapiskat',\n",
       " 'redmond',\n",
       " 'qaanaaq',\n",
       " 'kushmurun',\n",
       " 'sao luis do quitunde',\n",
       " 'hobart',\n",
       " 'busselton',\n",
       " 'cardston',\n",
       " 'albany',\n",
       " 'hadzici',\n",
       " 'kvitok',\n",
       " 'kapaa',\n",
       " 'luderitz',\n",
       " 'yar-sale',\n",
       " 'mar del plata',\n",
       " 'nelson bay',\n",
       " 'quezada',\n",
       " 'ayorou',\n",
       " 'long',\n",
       " 'nanortalik',\n",
       " 'krasnoselkup',\n",
       " 'eureka',\n",
       " 'yellowknife',\n",
       " 'torbay',\n",
       " 'mlonggo',\n",
       " 'miandrivazo',\n",
       " 'puerto ayora',\n",
       " 'vryburg',\n",
       " 'new norfolk',\n",
       " 'coquimbo',\n",
       " 'grand centre',\n",
       " 'alotau',\n",
       " 'chokurdakh',\n",
       " 'tautira',\n",
       " 'atuona',\n",
       " 'klaksvik',\n",
       " 'huarmey',\n",
       " 'viransehir',\n",
       " 'bambous virieux',\n",
       " 'xai-xai',\n",
       " 'mahebourg',\n",
       " 'manzil tamim',\n",
       " 'fortuna',\n",
       " 'ponta do sol',\n",
       " 'punta arenas',\n",
       " 'paulista',\n",
       " 'pevek',\n",
       " 'rikitea',\n",
       " 'belushya guba',\n",
       " 'illoqqortoormiut',\n",
       " 'arraial do cabo',\n",
       " 'pangnirtung',\n",
       " 'palabuhanratu',\n",
       " 'tiksi',\n",
       " 'portland',\n",
       " 'taolanaro',\n",
       " 'bredasdorp',\n",
       " 'nizhneyansk',\n",
       " 'jamestown',\n",
       " 'mzimba',\n",
       " 'katsuura',\n",
       " 'georgetown',\n",
       " 'ushuaia',\n",
       " 'iqaluit',\n",
       " 'kavieng',\n",
       " 'izhevskoye',\n",
       " 'plaster rock',\n",
       " 'bismil',\n",
       " 'bengkulu',\n",
       " 'buala',\n",
       " 'pasni',\n",
       " 'biddeford',\n",
       " 'hilo',\n",
       " 'hare bay',\n",
       " 'umzimvubu',\n",
       " 'popondetta',\n",
       " 'port alfred',\n",
       " 'bluff',\n",
       " 'san nicolas',\n",
       " 'nguiu',\n",
       " 'henties bay',\n",
       " 'changping',\n",
       " 'sayyan',\n",
       " 'samusu',\n",
       " 'cape town',\n",
       " 'bonthe',\n",
       " 'pimentel',\n",
       " 'vila',\n",
       " 'cherskiy',\n",
       " 'norman wells',\n",
       " 'clyde river',\n",
       " 'ahipara',\n",
       " 'barentsburg',\n",
       " 'carnarvon',\n",
       " 'moyale',\n",
       " 'myitkyina',\n",
       " 'tuktoyaktuk',\n",
       " 'nsanje',\n",
       " 'atlantic beach',\n",
       " 'humaita',\n",
       " 'faanui',\n",
       " 'port macquarie',\n",
       " 'severo-kurilsk',\n",
       " 'belmonte',\n",
       " 'upernavik',\n",
       " 'debre tabor',\n",
       " 'alofi',\n",
       " 'brooks',\n",
       " 'provideniya',\n",
       " 'guaruja',\n",
       " 'kaitangata',\n",
       " 'verkhnevilyuysk',\n",
       " 'tumannyy',\n",
       " 'pisco',\n",
       " 'mnogovershinnyy',\n",
       " 'castro',\n",
       " 'ambon',\n",
       " 'smidovich',\n",
       " 'aksehir',\n",
       " 'qandala',\n",
       " 'harper',\n",
       " 'coldwater',\n",
       " 'nogliki',\n",
       " 'tateyama',\n",
       " 'port elizabeth',\n",
       " 'tabas',\n",
       " 'touros',\n",
       " 'guerrero negro',\n",
       " 'ulaangom',\n",
       " 'sao joao da barra',\n",
       " 'laguna',\n",
       " 'tura',\n",
       " 'airai',\n",
       " 'southbridge',\n",
       " 'saint-philippe',\n",
       " 'chuy',\n",
       " 'grindavik',\n",
       " 'onega',\n",
       " 'kalmunai',\n",
       " 'riviere-au-renard',\n",
       " 'dikson',\n",
       " 'oyama',\n",
       " 'cidreira',\n",
       " 'naze',\n",
       " 'leh',\n",
       " 'east london',\n",
       " 'avarua',\n",
       " 'tommot',\n",
       " 'eyl',\n",
       " 'yarada',\n",
       " 'tarudant',\n",
       " 'lasa',\n",
       " 'los llanos de aridane',\n",
       " 'xichang',\n",
       " 'alice springs',\n",
       " 'nikolskoye',\n",
       " 'holme',\n",
       " 'benghazi',\n",
       " 'ewa beach',\n",
       " 'gamboma',\n",
       " 'sao felix do xingu',\n",
       " 'victoria',\n",
       " 'kandi',\n",
       " 'obidos',\n",
       " 'vaini',\n",
       " 'surazh',\n",
       " 'szubin',\n",
       " 'ilinsko-podomskoye',\n",
       " 'kruisfontein',\n",
       " 'chegdomyn',\n",
       " 'hermanus',\n",
       " 'russell',\n",
       " 'blythe',\n",
       " 'mykolayivka',\n",
       " 'mareeba',\n",
       " 'dolbeau',\n",
       " 'hithadhoo',\n",
       " 'hauterive',\n",
       " 'vestmanna',\n",
       " 'barcelos',\n",
       " 'lidkoping',\n",
       " 'mackay',\n",
       " 'tabou',\n",
       " 'soligalich',\n",
       " 'isangel',\n",
       " 'tiznit',\n",
       " 'ilulissat',\n",
       " 'burica',\n",
       " 'mocambique',\n",
       " 'cayenne',\n",
       " 'paris',\n",
       " 'dingle',\n",
       " 'vila velha',\n",
       " 'nuevo casas grandes',\n",
       " 'marcona',\n",
       " 'lavrentiya',\n",
       " 'bosaso',\n",
       " 'sabang',\n",
       " 'taoudenni',\n",
       " 'mys shmidta',\n",
       " 'kumluca',\n",
       " 'mindelo',\n",
       " 'ancud',\n",
       " 'puerto del rosario',\n",
       " 'sompeta',\n",
       " 'necochea',\n",
       " 'codrington',\n",
       " 'vaitupu',\n",
       " 'tsihombe',\n",
       " 'mahibadhoo',\n",
       " 'maniitsoq',\n",
       " 'leningradskiy',\n",
       " 'vanimo',\n",
       " 'puerto escondido',\n",
       " 'bolungarvik',\n",
       " 'dalaba',\n",
       " 'esperance',\n",
       " 'alvand',\n",
       " 'mount gambier',\n",
       " 'bandarbeyla',\n",
       " 'betul',\n",
       " 'moerai',\n",
       " 'okha',\n",
       " 'saskylakh',\n",
       " 'katherine',\n",
       " 'abu dhabi',\n",
       " 'raudeberg',\n",
       " 'honiara',\n",
       " 'caruray',\n",
       " 'morgan city',\n",
       " 'amderma',\n",
       " 'westport',\n",
       " 'yushu',\n",
       " 'kokkola',\n",
       " 'taonan',\n",
       " 'kpandu',\n",
       " 'mamontovo',\n",
       " 'lebu',\n",
       " 'puerto leguizamo',\n",
       " 'tighina',\n",
       " 'tukrah',\n",
       " 'feijo',\n",
       " 'hami',\n",
       " 'nerchinskiy zavod',\n",
       " 'nhulunbuy',\n",
       " 'karakose',\n",
       " 'nouadhibou',\n",
       " 'makokou',\n",
       " 'margate',\n",
       " 'sentyabrskiy',\n",
       " 'richards bay',\n",
       " 'wanlaweyn',\n",
       " 'boa vista',\n",
       " 'itarema',\n",
       " 'robertson',\n",
       " 'salalah',\n",
       " 'sitka',\n",
       " 'iranshahr',\n",
       " 'ponta delgada',\n",
       " 'grand river south east',\n",
       " 'bukama',\n",
       " 'neuquen',\n",
       " 'catamarca',\n",
       " 'saravan',\n",
       " 'shilka',\n",
       " 'shubarshi',\n",
       " 'kloulklubed',\n",
       " 'vao',\n",
       " 'oktyabrskiy',\n",
       " 'teguldet',\n",
       " 'linchuan',\n",
       " 'nanakuli',\n",
       " 'at-bashi',\n",
       " 'qaqortoq',\n",
       " 'chapais',\n",
       " 'nioro',\n",
       " 'kaohsiung',\n",
       " 'shenjiamen',\n",
       " 'caravelas',\n",
       " 'langsa',\n",
       " 'samfya',\n",
       " 'san patricio',\n",
       " 'sinjah',\n",
       " 'ouesso',\n",
       " 'marsa matruh',\n",
       " 'hofn',\n",
       " 'alta floresta',\n",
       " 'vieste',\n",
       " 'cubulco',\n",
       " 'tartki',\n",
       " 'cabatuan',\n",
       " 'martapura',\n",
       " 'trinidad',\n",
       " 'tilichiki',\n",
       " 'lagoa',\n",
       " 'aitape',\n",
       " 'sistranda',\n",
       " 'skelleftea',\n",
       " 'beruni',\n",
       " 'longyearbyen',\n",
       " 'tromso',\n",
       " 'erenhot',\n",
       " 'fairbanks',\n",
       " 'pamekasan',\n",
       " 'vardo',\n",
       " 'koslan',\n",
       " 'bani walid',\n",
       " 'denpasar',\n",
       " 'novyy urengoy',\n",
       " 'fukue',\n",
       " 'tuatapere',\n",
       " 'hasaki',\n",
       " 'saleaula',\n",
       " 'san',\n",
       " 'maceio',\n",
       " 'dhanwar',\n",
       " 'yulara',\n",
       " 'kalabo',\n",
       " 'mkuranga',\n",
       " 'ocean city',\n",
       " 'beira',\n",
       " 'ahumada',\n",
       " 'nelson',\n",
       " 'baleshwar',\n",
       " 'prince rupert',\n",
       " 'fort wellington',\n",
       " 'alyangula',\n",
       " 'saint-augustin',\n",
       " 'kutum',\n",
       " 'bako',\n",
       " 'starychi',\n",
       " 'bungoma',\n",
       " 'patan',\n",
       " 'monrovia',\n",
       " 'gumdag',\n",
       " 'barranca',\n",
       " 'dabakala',\n",
       " 'aksarka',\n",
       " 'zapote',\n",
       " 'moyobamba',\n",
       " 'padang',\n",
       " 'hambantota',\n",
       " 'dubti',\n",
       " 'bathsheba',\n",
       " 'santa cruz',\n",
       " 'zhangjiakou',\n",
       " 'piney green',\n",
       " 'cobija',\n",
       " 'sucre',\n",
       " 'porosozero',\n",
       " 'khor',\n",
       " 'agua dulce',\n",
       " 'vallenar',\n",
       " 'thompson',\n",
       " 'saint-pierre',\n",
       " 'derzhavinsk',\n",
       " 'bowmore',\n",
       " 'colombia',\n",
       " 'jardim',\n",
       " 'labuan',\n",
       " 'erzin',\n",
       " 'kulhudhuffushi',\n",
       " 'port-gentil',\n",
       " 'jiblah',\n",
       " 'milkovo',\n",
       " 'batagay',\n",
       " 'merauke',\n",
       " 'fort nelson',\n",
       " 'sri aman',\n",
       " 'khartoum',\n",
       " 'khatanga',\n",
       " 'iraray',\n",
       " 'burkhala',\n",
       " 'port hardy',\n",
       " 'griffith',\n",
       " 'tasiilaq',\n",
       " 'kasane',\n",
       " 'bang rakam',\n",
       " 'panguna',\n",
       " 'malartic',\n",
       " 'komsomolskiy',\n",
       " 'oakdale',\n",
       " 'stolin',\n",
       " 'rorvik',\n",
       " 'cabo san lucas',\n",
       " 'bembereke',\n",
       " 'grong',\n",
       " 'grand-santi',\n",
       " 'grand gaube',\n",
       " 'baglung',\n",
       " 'kahului',\n",
       " 'smithers',\n",
       " 'cozumel',\n",
       " 'guanica',\n",
       " 'uravakonda',\n",
       " 'dinghai',\n",
       " 'bonavista',\n",
       " 'alekseyevsk',\n",
       " 'la maddalena',\n",
       " 'comodoro rivadavia',\n",
       " 'pangai',\n",
       " 'hofu',\n",
       " 'cascais',\n",
       " 'naifaru',\n",
       " 'severo-yeniseyskiy',\n",
       " 'mago',\n",
       " 'baboua',\n",
       " 'kavaratti',\n",
       " 'hue',\n",
       " 'evensk',\n",
       " 'sharan',\n",
       " 'ayer itam',\n",
       " 'bracebridge',\n",
       " 'ukiah',\n",
       " 'ngunguru',\n",
       " 'hurghada',\n",
       " 'yei',\n",
       " 'alto araguaia',\n",
       " 'kimbe',\n",
       " 'talisay',\n",
       " 'anadyr',\n",
       " 'nueva loja',\n",
       " 'lima',\n",
       " 'svetlyy',\n",
       " 'morant bay',\n",
       " 'aykhal',\n",
       " 'vanino',\n",
       " 'olinda',\n",
       " 'natal',\n",
       " 'nicolas bravo',\n",
       " 'virden',\n",
       " 'sipoo',\n",
       " 'carutapera',\n",
       " 'ozgon',\n",
       " 'maykain',\n",
       " 'karratha',\n",
       " 'bereda',\n",
       " 'port lincoln',\n",
       " 'usevya',\n",
       " 'kirov',\n",
       " 'conde',\n",
       " 'kalomo',\n",
       " 'ramhormoz',\n",
       " 'maldonado',\n",
       " 'rize',\n",
       " 'verkh-usugli',\n",
       " 'bekescsaba',\n",
       " 'la ronge',\n",
       " 'deputatskiy',\n",
       " 'wismar',\n",
       " 'ketchikan',\n",
       " 'mount isa',\n",
       " 'loukhi',\n",
       " 'vila franca do campo',\n",
       " 'san quintin',\n",
       " 'solovetskiy',\n",
       " 'luena',\n",
       " 'kysyl-syr',\n",
       " 'souillac',\n",
       " 'manjakandriana',\n",
       " 'pont-audemer',\n",
       " 'coihaique',\n",
       " 'vysotsk',\n",
       " 'wagar',\n",
       " 'basoko',\n",
       " 'shillong',\n",
       " 'sao filipe',\n",
       " 'lorengau',\n",
       " 'coruripe',\n",
       " 'bom jesus dos perdoes',\n",
       " 'casino',\n",
       " 'kiruna',\n",
       " 'watsa',\n",
       " 'lata',\n",
       " 'port hedland',\n",
       " 'terrace',\n",
       " 'krasnovishersk',\n",
       " 'chimbote',\n",
       " 'hihifo',\n",
       " 'aksha',\n",
       " 'sivaki',\n",
       " 'chara',\n",
       " 'sarny',\n",
       " 'avera',\n",
       " 'seymchan',\n",
       " 'gallup',\n",
       " 'baraki barak',\n",
       " 'toila',\n",
       " 'progreso',\n",
       " 'le mans',\n",
       " 'aklavik',\n",
       " 'kidal',\n",
       " 'sao jose da coroa grande',\n",
       " 'riyadh',\n",
       " 'andenes',\n",
       " 'saint-louis',\n",
       " 'bodden town',\n",
       " 'arica',\n",
       " 'high level',\n",
       " 'yenagoa',\n",
       " 'conakry',\n",
       " 'channel-port aux basques',\n",
       " 'malwan',\n",
       " 'bengkalis',\n",
       " 'dubbo',\n",
       " 'hualmay',\n",
       " 'chamba',\n",
       " 'iquique',\n",
       " 'narsaq',\n",
       " 'marzuq',\n",
       " 'khandyga',\n",
       " 'bindura',\n",
       " 'viligili',\n",
       " 'damghan',\n",
       " 'novobiryusinskiy',\n",
       " 'la reforma',\n",
       " 'benguela',\n",
       " 'tashtyp',\n",
       " 'walvis bay',\n",
       " 'klyuchi',\n",
       " 'lolua',\n",
       " 'waitati',\n",
       " 'kamaishi',\n",
       " 'lang son',\n",
       " 'peniche',\n",
       " 'sobolevo',\n",
       " 'half moon bay',\n",
       " 'ust-kamchatsk',\n",
       " 'hornepayne',\n",
       " 'cockburn town',\n",
       " 'saint-joseph',\n",
       " 'la crosse',\n",
       " 'kez',\n",
       " 'atasu',\n",
       " 'hunza',\n",
       " 'dipkarpaz',\n",
       " 'ondo',\n",
       " 'smolenka',\n",
       " 'nokia',\n",
       " 'ribeira brava',\n",
       " 'saint george',\n",
       " 'mezen',\n",
       " 'sakakah',\n",
       " 'ipameri',\n",
       " 'bafoulabe',\n",
       " 'council bluffs',\n",
       " 'sinnamary',\n",
       " 'karpinsk',\n",
       " 'bubaque',\n",
       " 'ishigaki',\n",
       " 'balabac',\n",
       " 'beaverlodge',\n",
       " 'nantucket',\n",
       " 'praia da vitoria',\n",
       " 'prokuplje',\n",
       " 'fairview',\n",
       " 'yirol',\n",
       " 'bria',\n",
       " 'olafsvik',\n",
       " 'berdigestyakh',\n",
       " 'tirat karmel',\n",
       " 'lagos',\n",
       " 'talnakh',\n",
       " 'nalut',\n",
       " 'axim',\n",
       " 'muli',\n",
       " 'pacific grove',\n",
       " 'adrar',\n",
       " 'khonuu',\n",
       " 'mentok',\n",
       " 'sechura',\n",
       " 'cowra',\n",
       " 'severnyy',\n",
       " 'saraland',\n",
       " 'road town',\n",
       " 'inta',\n",
       " 'shache',\n",
       " 'puertollano',\n",
       " 'rexburg',\n",
       " 'inhambane',\n",
       " 'torres',\n",
       " 'arman',\n",
       " 'maku',\n",
       " 'aripuana',\n",
       " 'kamenka',\n",
       " 'orotukan',\n",
       " 'tupik',\n",
       " 'vestmannaeyjar',\n",
       " 'makakilo city',\n",
       " 'sergeyevka',\n",
       " 'komsomolets',\n",
       " 'chamrajnagar',\n",
       " 'roznov',\n",
       " 'ola',\n",
       " 'santa rosa',\n",
       " 'usinsk',\n",
       " 'porto murtinho',\n",
       " 'bathurst',\n",
       " 'tosham',\n",
       " 'brae',\n",
       " 'tharad']"
      ]
     },
     "execution_count": 7,
     "metadata": {},
     "output_type": "execute_result"
    }
   ],
   "source": [
    "cities"
   ]
  },
  {
   "cell_type": "code",
   "execution_count": 8,
   "metadata": {},
   "outputs": [],
   "source": [
    "#save it into csv"
   ]
  },
  {
   "cell_type": "markdown",
   "metadata": {},
   "source": [
    "### Perform API Calls\n",
    "* Perform a weather check on each city using a series of successive API calls.\n",
    "* Include a print log of each city as it'sbeing processed (with the city number and city name).\n"
   ]
  },
  {
   "cell_type": "code",
   "execution_count": null,
   "metadata": {},
   "outputs": [],
   "source": [
    "# api.openweathermap.org/data/2.5/weather?q={city name}&appid={API key}\n",
    "url = \"https://api.openweathermap.org/data/2.5/weather?units=imperial&\"\n",
    "\n",
    "city = \"beibei\"\n",
    "query_url = url + \"q=\" + city + \"&appid=\" + weather_api_key\n",
    "response = requests.get(query_url).json()\n",
    "response"
   ]
  },
  {
   "cell_type": "code",
   "execution_count": 10,
   "metadata": {},
   "outputs": [
    {
     "data": {
      "text/plain": [
       "29.8256"
      ]
     },
     "execution_count": 10,
     "metadata": {},
     "output_type": "execute_result"
    }
   ],
   "source": [
    "response[\"coord\"][\"lat\"]"
   ]
  },
  {
   "cell_type": "code",
   "execution_count": 11,
   "metadata": {},
   "outputs": [
    {
     "name": "stderr",
     "output_type": "stream",
     "text": [
      "DEBUG:urllib3.connectionpool:Starting new HTTPS connection (1): api.openweathermap.org:443\n"
     ]
    },
    {
     "name": "stdout",
     "output_type": "stream",
     "text": [
      "Beginning Data Retrieval\n",
      "-----------------------------\n"
     ]
    },
    {
     "name": "stderr",
     "output_type": "stream",
     "text": [
      "DEBUG:urllib3.connectionpool:https://api.openweathermap.org:443 \"GET /data/2.5/weather?units=imperial&q=ribeira%20grande&appid=bd8d52cf71d30c1b6d26f4c28f6a8e76 HTTP/1.1\" 200 473\n",
      "DEBUG:urllib3.connectionpool:Starting new HTTPS connection (1): api.openweathermap.org:443\n"
     ]
    },
    {
     "name": "stdout",
     "output_type": "stream",
     "text": [
      "Processing Record 1  of Set 1 | ribeira grande.\n"
     ]
    },
    {
     "name": "stderr",
     "output_type": "stream",
     "text": [
      "DEBUG:urllib3.connectionpool:https://api.openweathermap.org:443 \"GET /data/2.5/weather?units=imperial&q=hamilton&appid=bd8d52cf71d30c1b6d26f4c28f6a8e76 HTTP/1.1\" 200 464\n",
      "DEBUG:urllib3.connectionpool:Starting new HTTPS connection (1): api.openweathermap.org:443\n"
     ]
    },
    {
     "name": "stdout",
     "output_type": "stream",
     "text": [
      "Processing Record 2  of Set 1 | hamilton.\n"
     ]
    },
    {
     "name": "stderr",
     "output_type": "stream",
     "text": [
      "DEBUG:urllib3.connectionpool:https://api.openweathermap.org:443 \"GET /data/2.5/weather?units=imperial&q=sur&appid=bd8d52cf71d30c1b6d26f4c28f6a8e76 HTTP/1.1\" 200 475\n",
      "DEBUG:urllib3.connectionpool:Starting new HTTPS connection (1): api.openweathermap.org:443\n"
     ]
    },
    {
     "name": "stdout",
     "output_type": "stream",
     "text": [
      "Processing Record 3  of Set 1 | sur.\n"
     ]
    },
    {
     "name": "stderr",
     "output_type": "stream",
     "text": [
      "DEBUG:urllib3.connectionpool:https://api.openweathermap.org:443 \"GET /data/2.5/weather?units=imperial&q=roma&appid=bd8d52cf71d30c1b6d26f4c28f6a8e76 HTTP/1.1\" 200 473\n",
      "DEBUG:urllib3.connectionpool:Starting new HTTPS connection (1): api.openweathermap.org:443\n"
     ]
    },
    {
     "name": "stdout",
     "output_type": "stream",
     "text": [
      "Processing Record 4  of Set 1 | roma.\n"
     ]
    },
    {
     "name": "stderr",
     "output_type": "stream",
     "text": [
      "DEBUG:urllib3.connectionpool:https://api.openweathermap.org:443 \"GET /data/2.5/weather?units=imperial&q=barrow&appid=bd8d52cf71d30c1b6d26f4c28f6a8e76 HTTP/1.1\" 200 470\n",
      "DEBUG:urllib3.connectionpool:Starting new HTTPS connection (1): api.openweathermap.org:443\n"
     ]
    },
    {
     "name": "stdout",
     "output_type": "stream",
     "text": [
      "Processing Record 5  of Set 1 | barrow.\n"
     ]
    },
    {
     "name": "stderr",
     "output_type": "stream",
     "text": [
      "DEBUG:urllib3.connectionpool:https://api.openweathermap.org:443 \"GET /data/2.5/weather?units=imperial&q=lompoc&appid=bd8d52cf71d30c1b6d26f4c28f6a8e76 HTTP/1.1\" 200 469\n",
      "DEBUG:urllib3.connectionpool:Starting new HTTPS connection (1): api.openweathermap.org:443\n"
     ]
    },
    {
     "name": "stdout",
     "output_type": "stream",
     "text": [
      "Processing Record 6  of Set 1 | lompoc.\n"
     ]
    },
    {
     "name": "stderr",
     "output_type": "stream",
     "text": [
      "DEBUG:urllib3.connectionpool:https://api.openweathermap.org:443 \"GET /data/2.5/weather?units=imperial&q=butaritari&appid=bd8d52cf71d30c1b6d26f4c28f6a8e76 HTTP/1.1\" 200 485\n",
      "DEBUG:urllib3.connectionpool:Starting new HTTPS connection (1): api.openweathermap.org:443\n"
     ]
    },
    {
     "name": "stdout",
     "output_type": "stream",
     "text": [
      "Processing Record 7  of Set 1 | butaritari.\n"
     ]
    },
    {
     "name": "stderr",
     "output_type": "stream",
     "text": [
      "DEBUG:urllib3.connectionpool:https://api.openweathermap.org:443 \"GET /data/2.5/weather?units=imperial&q=tevriz&appid=bd8d52cf71d30c1b6d26f4c28f6a8e76 HTTP/1.1\" 200 484\n",
      "DEBUG:urllib3.connectionpool:Starting new HTTPS connection (1): api.openweathermap.org:443\n"
     ]
    },
    {
     "name": "stdout",
     "output_type": "stream",
     "text": [
      "Processing Record 8  of Set 1 | tevriz.\n"
     ]
    },
    {
     "name": "stderr",
     "output_type": "stream",
     "text": [
      "DEBUG:urllib3.connectionpool:https://api.openweathermap.org:443 \"GET /data/2.5/weather?units=imperial&q=bethel&appid=bd8d52cf71d30c1b6d26f4c28f6a8e76 HTTP/1.1\" 200 475\n",
      "DEBUG:urllib3.connectionpool:Starting new HTTPS connection (1): api.openweathermap.org:443\n"
     ]
    },
    {
     "name": "stdout",
     "output_type": "stream",
     "text": [
      "Processing Record 9  of Set 1 | bethel.\n"
     ]
    },
    {
     "name": "stderr",
     "output_type": "stream",
     "text": [
      "DEBUG:urllib3.connectionpool:https://api.openweathermap.org:443 \"GET /data/2.5/weather?units=imperial&q=mendi&appid=bd8d52cf71d30c1b6d26f4c28f6a8e76 HTTP/1.1\" 200 487\n",
      "DEBUG:urllib3.connectionpool:Starting new HTTPS connection (1): api.openweathermap.org:443\n"
     ]
    },
    {
     "name": "stdout",
     "output_type": "stream",
     "text": [
      "Processing Record 10  of Set 1 | mendi.\n"
     ]
    },
    {
     "name": "stderr",
     "output_type": "stream",
     "text": [
      "DEBUG:urllib3.connectionpool:https://api.openweathermap.org:443 \"GET /data/2.5/weather?units=imperial&q=mataura&appid=bd8d52cf71d30c1b6d26f4c28f6a8e76 HTTP/1.1\" 200 477\n",
      "DEBUG:urllib3.connectionpool:Starting new HTTPS connection (1): api.openweathermap.org:443\n"
     ]
    },
    {
     "name": "stdout",
     "output_type": "stream",
     "text": [
      "Processing Record 11  of Set 1 | mataura.\n"
     ]
    },
    {
     "name": "stderr",
     "output_type": "stream",
     "text": [
      "DEBUG:urllib3.connectionpool:https://api.openweathermap.org:443 \"GET /data/2.5/weather?units=imperial&q=kodiak&appid=bd8d52cf71d30c1b6d26f4c28f6a8e76 HTTP/1.1\" 200 475\n",
      "DEBUG:urllib3.connectionpool:Starting new HTTPS connection (1): api.openweathermap.org:443\n"
     ]
    },
    {
     "name": "stdout",
     "output_type": "stream",
     "text": [
      "Processing Record 12  of Set 1 | kodiak.\n"
     ]
    },
    {
     "name": "stderr",
     "output_type": "stream",
     "text": [
      "DEBUG:urllib3.connectionpool:https://api.openweathermap.org:443 \"GET /data/2.5/weather?units=imperial&q=attawapiskat&appid=bd8d52cf71d30c1b6d26f4c28f6a8e76 HTTP/1.1\" 404 40\n",
      "DEBUG:urllib3.connectionpool:Starting new HTTPS connection (1): api.openweathermap.org:443\n"
     ]
    },
    {
     "name": "stdout",
     "output_type": "stream",
     "text": [
      "Processing Record 13  of Set 1 | attawapiskat.\n",
      "City not found. Skipping...\n"
     ]
    },
    {
     "name": "stderr",
     "output_type": "stream",
     "text": [
      "DEBUG:urllib3.connectionpool:https://api.openweathermap.org:443 \"GET /data/2.5/weather?units=imperial&q=redmond&appid=bd8d52cf71d30c1b6d26f4c28f6a8e76 HTTP/1.1\" 200 510\n",
      "DEBUG:urllib3.connectionpool:Starting new HTTPS connection (1): api.openweathermap.org:443\n"
     ]
    },
    {
     "name": "stdout",
     "output_type": "stream",
     "text": [
      "Processing Record 14  of Set 1 | redmond.\n"
     ]
    },
    {
     "name": "stderr",
     "output_type": "stream",
     "text": [
      "DEBUG:urllib3.connectionpool:https://api.openweathermap.org:443 \"GET /data/2.5/weather?units=imperial&q=qaanaaq&appid=bd8d52cf71d30c1b6d26f4c28f6a8e76 HTTP/1.1\" 200 488\n",
      "DEBUG:urllib3.connectionpool:Starting new HTTPS connection (1): api.openweathermap.org:443\n"
     ]
    },
    {
     "name": "stdout",
     "output_type": "stream",
     "text": [
      "Processing Record 15  of Set 1 | qaanaaq.\n"
     ]
    },
    {
     "name": "stderr",
     "output_type": "stream",
     "text": [
      "DEBUG:urllib3.connectionpool:https://api.openweathermap.org:443 \"GET /data/2.5/weather?units=imperial&q=kushmurun&appid=bd8d52cf71d30c1b6d26f4c28f6a8e76 HTTP/1.1\" 200 490\n",
      "DEBUG:urllib3.connectionpool:Starting new HTTPS connection (1): api.openweathermap.org:443\n"
     ]
    },
    {
     "name": "stdout",
     "output_type": "stream",
     "text": [
      "Processing Record 16  of Set 1 | kushmurun.\n"
     ]
    },
    {
     "name": "stderr",
     "output_type": "stream",
     "text": [
      "DEBUG:urllib3.connectionpool:https://api.openweathermap.org:443 \"GET /data/2.5/weather?units=imperial&q=sao%20luis%20do%20quitunde&appid=bd8d52cf71d30c1b6d26f4c28f6a8e76 HTTP/1.1\" 200 486\n",
      "DEBUG:urllib3.connectionpool:Starting new HTTPS connection (1): api.openweathermap.org:443\n"
     ]
    },
    {
     "name": "stdout",
     "output_type": "stream",
     "text": [
      "Processing Record 17  of Set 1 | sao luis do quitunde.\n"
     ]
    },
    {
     "name": "stderr",
     "output_type": "stream",
     "text": [
      "DEBUG:urllib3.connectionpool:https://api.openweathermap.org:443 \"GET /data/2.5/weather?units=imperial&q=hobart&appid=bd8d52cf71d30c1b6d26f4c28f6a8e76 HTTP/1.1\" 200 466\n",
      "DEBUG:urllib3.connectionpool:Starting new HTTPS connection (1): api.openweathermap.org:443\n"
     ]
    },
    {
     "name": "stdout",
     "output_type": "stream",
     "text": [
      "Processing Record 18  of Set 1 | hobart.\n"
     ]
    },
    {
     "name": "stderr",
     "output_type": "stream",
     "text": [
      "DEBUG:urllib3.connectionpool:https://api.openweathermap.org:443 \"GET /data/2.5/weather?units=imperial&q=busselton&appid=bd8d52cf71d30c1b6d26f4c28f6a8e76 HTTP/1.1\" 200 485\n",
      "DEBUG:urllib3.connectionpool:Starting new HTTPS connection (1): api.openweathermap.org:443\n"
     ]
    },
    {
     "name": "stdout",
     "output_type": "stream",
     "text": [
      "Processing Record 19  of Set 1 | busselton.\n"
     ]
    },
    {
     "name": "stderr",
     "output_type": "stream",
     "text": [
      "DEBUG:urllib3.connectionpool:https://api.openweathermap.org:443 \"GET /data/2.5/weather?units=imperial&q=cardston&appid=bd8d52cf71d30c1b6d26f4c28f6a8e76 HTTP/1.1\" 200 509\n",
      "DEBUG:urllib3.connectionpool:Starting new HTTPS connection (1): api.openweathermap.org:443\n"
     ]
    },
    {
     "name": "stdout",
     "output_type": "stream",
     "text": [
      "Processing Record 20  of Set 1 | cardston.\n"
     ]
    },
    {
     "name": "stderr",
     "output_type": "stream",
     "text": [
      "DEBUG:urllib3.connectionpool:https://api.openweathermap.org:443 \"GET /data/2.5/weather?units=imperial&q=albany&appid=bd8d52cf71d30c1b6d26f4c28f6a8e76 HTTP/1.1\" 200 471\n",
      "DEBUG:urllib3.connectionpool:Starting new HTTPS connection (1): api.openweathermap.org:443\n"
     ]
    },
    {
     "name": "stdout",
     "output_type": "stream",
     "text": [
      "Processing Record 21  of Set 1 | albany.\n"
     ]
    },
    {
     "name": "stderr",
     "output_type": "stream",
     "text": [
      "DEBUG:urllib3.connectionpool:https://api.openweathermap.org:443 \"GET /data/2.5/weather?units=imperial&q=hadzici&appid=bd8d52cf71d30c1b6d26f4c28f6a8e76 HTTP/1.1\" 200 461\n",
      "DEBUG:urllib3.connectionpool:Starting new HTTPS connection (1): api.openweathermap.org:443\n"
     ]
    },
    {
     "name": "stdout",
     "output_type": "stream",
     "text": [
      "Processing Record 22  of Set 1 | hadzici.\n"
     ]
    },
    {
     "name": "stderr",
     "output_type": "stream",
     "text": [
      "DEBUG:urllib3.connectionpool:https://api.openweathermap.org:443 \"GET /data/2.5/weather?units=imperial&q=kvitok&appid=bd8d52cf71d30c1b6d26f4c28f6a8e76 HTTP/1.1\" 200 504\n",
      "DEBUG:urllib3.connectionpool:Starting new HTTPS connection (1): api.openweathermap.org:443\n"
     ]
    },
    {
     "name": "stdout",
     "output_type": "stream",
     "text": [
      "Processing Record 23  of Set 1 | kvitok.\n"
     ]
    },
    {
     "name": "stderr",
     "output_type": "stream",
     "text": [
      "DEBUG:urllib3.connectionpool:https://api.openweathermap.org:443 \"GET /data/2.5/weather?units=imperial&q=kapaa&appid=bd8d52cf71d30c1b6d26f4c28f6a8e76 HTTP/1.1\" 200 481\n",
      "DEBUG:urllib3.connectionpool:Starting new HTTPS connection (1): api.openweathermap.org:443\n"
     ]
    },
    {
     "name": "stdout",
     "output_type": "stream",
     "text": [
      "Processing Record 24  of Set 1 | kapaa.\n"
     ]
    },
    {
     "name": "stderr",
     "output_type": "stream",
     "text": [
      "DEBUG:urllib3.connectionpool:https://api.openweathermap.org:443 \"GET /data/2.5/weather?units=imperial&q=luderitz&appid=bd8d52cf71d30c1b6d26f4c28f6a8e76 HTTP/1.1\" 200 484\n",
      "DEBUG:urllib3.connectionpool:Starting new HTTPS connection (1): api.openweathermap.org:443\n"
     ]
    },
    {
     "name": "stdout",
     "output_type": "stream",
     "text": [
      "Processing Record 25  of Set 1 | luderitz.\n"
     ]
    },
    {
     "name": "stderr",
     "output_type": "stream",
     "text": [
      "DEBUG:urllib3.connectionpool:https://api.openweathermap.org:443 \"GET /data/2.5/weather?units=imperial&q=yar-sale&appid=bd8d52cf71d30c1b6d26f4c28f6a8e76 HTTP/1.1\" 200 515\n",
      "DEBUG:urllib3.connectionpool:Starting new HTTPS connection (1): api.openweathermap.org:443\n"
     ]
    },
    {
     "name": "stdout",
     "output_type": "stream",
     "text": [
      "Processing Record 26  of Set 1 | yar-sale.\n"
     ]
    },
    {
     "name": "stderr",
     "output_type": "stream",
     "text": [
      "DEBUG:urllib3.connectionpool:https://api.openweathermap.org:443 \"GET /data/2.5/weather?units=imperial&q=mar%20del%20plata&appid=bd8d52cf71d30c1b6d26f4c28f6a8e76 HTTP/1.1\" 200 473\n",
      "DEBUG:urllib3.connectionpool:Starting new HTTPS connection (1): api.openweathermap.org:443\n"
     ]
    },
    {
     "name": "stdout",
     "output_type": "stream",
     "text": [
      "Processing Record 27  of Set 1 | mar del plata.\n"
     ]
    },
    {
     "name": "stderr",
     "output_type": "stream",
     "text": [
      "DEBUG:urllib3.connectionpool:https://api.openweathermap.org:443 \"GET /data/2.5/weather?units=imperial&q=nelson%20bay&appid=bd8d52cf71d30c1b6d26f4c28f6a8e76 HTTP/1.1\" 200 549\n",
      "DEBUG:urllib3.connectionpool:Starting new HTTPS connection (1): api.openweathermap.org:443\n"
     ]
    },
    {
     "name": "stdout",
     "output_type": "stream",
     "text": [
      "Processing Record 28  of Set 1 | nelson bay.\n"
     ]
    },
    {
     "name": "stderr",
     "output_type": "stream",
     "text": [
      "DEBUG:urllib3.connectionpool:https://api.openweathermap.org:443 \"GET /data/2.5/weather?units=imperial&q=quezada&appid=bd8d52cf71d30c1b6d26f4c28f6a8e76 HTTP/1.1\" 200 464\n",
      "DEBUG:urllib3.connectionpool:Starting new HTTPS connection (1): api.openweathermap.org:443\n"
     ]
    },
    {
     "name": "stdout",
     "output_type": "stream",
     "text": [
      "Processing Record 29  of Set 1 | quezada.\n"
     ]
    },
    {
     "name": "stderr",
     "output_type": "stream",
     "text": [
      "DEBUG:urllib3.connectionpool:https://api.openweathermap.org:443 \"GET /data/2.5/weather?units=imperial&q=ayorou&appid=bd8d52cf71d30c1b6d26f4c28f6a8e76 HTTP/1.1\" 200 476\n",
      "DEBUG:urllib3.connectionpool:Starting new HTTPS connection (1): api.openweathermap.org:443\n"
     ]
    },
    {
     "name": "stdout",
     "output_type": "stream",
     "text": [
      "Processing Record 30  of Set 1 | ayorou.\n"
     ]
    },
    {
     "name": "stderr",
     "output_type": "stream",
     "text": [
      "DEBUG:urllib3.connectionpool:https://api.openweathermap.org:443 \"GET /data/2.5/weather?units=imperial&q=long&appid=bd8d52cf71d30c1b6d26f4c28f6a8e76 HTTP/1.1\" 200 472\n",
      "DEBUG:urllib3.connectionpool:Starting new HTTPS connection (1): api.openweathermap.org:443\n"
     ]
    },
    {
     "name": "stdout",
     "output_type": "stream",
     "text": [
      "Processing Record 31  of Set 1 | long.\n"
     ]
    },
    {
     "name": "stderr",
     "output_type": "stream",
     "text": [
      "DEBUG:urllib3.connectionpool:https://api.openweathermap.org:443 \"GET /data/2.5/weather?units=imperial&q=nanortalik&appid=bd8d52cf71d30c1b6d26f4c28f6a8e76 HTTP/1.1\" 200 485\n",
      "DEBUG:urllib3.connectionpool:Starting new HTTPS connection (1): api.openweathermap.org:443\n"
     ]
    },
    {
     "name": "stdout",
     "output_type": "stream",
     "text": [
      "Processing Record 32  of Set 1 | nanortalik.\n"
     ]
    },
    {
     "name": "stderr",
     "output_type": "stream",
     "text": [
      "DEBUG:urllib3.connectionpool:https://api.openweathermap.org:443 \"GET /data/2.5/weather?units=imperial&q=krasnoselkup&appid=bd8d52cf71d30c1b6d26f4c28f6a8e76 HTTP/1.1\" 200 498\n",
      "DEBUG:urllib3.connectionpool:Starting new HTTPS connection (1): api.openweathermap.org:443\n"
     ]
    },
    {
     "name": "stdout",
     "output_type": "stream",
     "text": [
      "Processing Record 33  of Set 1 | krasnoselkup.\n"
     ]
    },
    {
     "name": "stderr",
     "output_type": "stream",
     "text": [
      "DEBUG:urllib3.connectionpool:https://api.openweathermap.org:443 \"GET /data/2.5/weather?units=imperial&q=eureka&appid=bd8d52cf71d30c1b6d26f4c28f6a8e76 HTTP/1.1\" 200 454\n",
      "DEBUG:urllib3.connectionpool:Starting new HTTPS connection (1): api.openweathermap.org:443\n"
     ]
    },
    {
     "name": "stdout",
     "output_type": "stream",
     "text": [
      "Processing Record 34  of Set 1 | eureka.\n"
     ]
    },
    {
     "name": "stderr",
     "output_type": "stream",
     "text": [
      "DEBUG:urllib3.connectionpool:https://api.openweathermap.org:443 \"GET /data/2.5/weather?units=imperial&q=yellowknife&appid=bd8d52cf71d30c1b6d26f4c28f6a8e76 HTTP/1.1\" 200 481\n",
      "DEBUG:urllib3.connectionpool:Starting new HTTPS connection (1): api.openweathermap.org:443\n"
     ]
    },
    {
     "name": "stdout",
     "output_type": "stream",
     "text": [
      "Processing Record 35  of Set 1 | yellowknife.\n"
     ]
    },
    {
     "name": "stderr",
     "output_type": "stream",
     "text": [
      "DEBUG:urllib3.connectionpool:https://api.openweathermap.org:443 \"GET /data/2.5/weather?units=imperial&q=torbay&appid=bd8d52cf71d30c1b6d26f4c28f6a8e76 HTTP/1.1\" 200 483\n",
      "DEBUG:urllib3.connectionpool:Starting new HTTPS connection (1): api.openweathermap.org:443\n"
     ]
    },
    {
     "name": "stdout",
     "output_type": "stream",
     "text": [
      "Processing Record 36  of Set 1 | torbay.\n"
     ]
    },
    {
     "name": "stderr",
     "output_type": "stream",
     "text": [
      "DEBUG:urllib3.connectionpool:https://api.openweathermap.org:443 \"GET /data/2.5/weather?units=imperial&q=mlonggo&appid=bd8d52cf71d30c1b6d26f4c28f6a8e76 HTTP/1.1\" 200 486\n",
      "DEBUG:urllib3.connectionpool:Starting new HTTPS connection (1): api.openweathermap.org:443\n"
     ]
    },
    {
     "name": "stdout",
     "output_type": "stream",
     "text": [
      "Processing Record 37  of Set 1 | mlonggo.\n"
     ]
    },
    {
     "name": "stderr",
     "output_type": "stream",
     "text": [
      "DEBUG:urllib3.connectionpool:https://api.openweathermap.org:443 \"GET /data/2.5/weather?units=imperial&q=miandrivazo&appid=bd8d52cf71d30c1b6d26f4c28f6a8e76 HTTP/1.1\" 200 506\n",
      "DEBUG:urllib3.connectionpool:Starting new HTTPS connection (1): api.openweathermap.org:443\n"
     ]
    },
    {
     "name": "stdout",
     "output_type": "stream",
     "text": [
      "Processing Record 38  of Set 1 | miandrivazo.\n"
     ]
    },
    {
     "name": "stderr",
     "output_type": "stream",
     "text": [
      "DEBUG:urllib3.connectionpool:https://api.openweathermap.org:443 \"GET /data/2.5/weather?units=imperial&q=puerto%20ayora&appid=bd8d52cf71d30c1b6d26f4c28f6a8e76 HTTP/1.1\" 200 491\n",
      "DEBUG:urllib3.connectionpool:Starting new HTTPS connection (1): api.openweathermap.org:443\n"
     ]
    },
    {
     "name": "stdout",
     "output_type": "stream",
     "text": [
      "Processing Record 39  of Set 1 | puerto ayora.\n"
     ]
    },
    {
     "name": "stderr",
     "output_type": "stream",
     "text": [
      "DEBUG:urllib3.connectionpool:https://api.openweathermap.org:443 \"GET /data/2.5/weather?units=imperial&q=vryburg&appid=bd8d52cf71d30c1b6d26f4c28f6a8e76 HTTP/1.1\" 200 479\n",
      "DEBUG:urllib3.connectionpool:Starting new HTTPS connection (1): api.openweathermap.org:443\n"
     ]
    },
    {
     "name": "stdout",
     "output_type": "stream",
     "text": [
      "Processing Record 40  of Set 1 | vryburg.\n"
     ]
    },
    {
     "name": "stderr",
     "output_type": "stream",
     "text": [
      "DEBUG:urllib3.connectionpool:https://api.openweathermap.org:443 \"GET /data/2.5/weather?units=imperial&q=new%20norfolk&appid=bd8d52cf71d30c1b6d26f4c28f6a8e76 HTTP/1.1\" 200 489\n",
      "DEBUG:urllib3.connectionpool:Starting new HTTPS connection (1): api.openweathermap.org:443\n"
     ]
    },
    {
     "name": "stdout",
     "output_type": "stream",
     "text": [
      "Processing Record 41  of Set 1 | new norfolk.\n"
     ]
    },
    {
     "name": "stderr",
     "output_type": "stream",
     "text": [
      "DEBUG:urllib3.connectionpool:https://api.openweathermap.org:443 \"GET /data/2.5/weather?units=imperial&q=coquimbo&appid=bd8d52cf71d30c1b6d26f4c28f6a8e76 HTTP/1.1\" 200 463\n",
      "DEBUG:urllib3.connectionpool:Starting new HTTPS connection (1): api.openweathermap.org:443\n"
     ]
    },
    {
     "name": "stdout",
     "output_type": "stream",
     "text": [
      "Processing Record 42  of Set 1 | coquimbo.\n"
     ]
    },
    {
     "name": "stderr",
     "output_type": "stream",
     "text": [
      "DEBUG:urllib3.connectionpool:https://api.openweathermap.org:443 \"GET /data/2.5/weather?units=imperial&q=grand%20centre&appid=bd8d52cf71d30c1b6d26f4c28f6a8e76 HTTP/1.1\" 404 40\n",
      "DEBUG:urllib3.connectionpool:Starting new HTTPS connection (1): api.openweathermap.org:443\n"
     ]
    },
    {
     "name": "stdout",
     "output_type": "stream",
     "text": [
      "Processing Record 43  of Set 1 | grand centre.\n",
      "City not found. Skipping...\n"
     ]
    },
    {
     "name": "stderr",
     "output_type": "stream",
     "text": [
      "DEBUG:urllib3.connectionpool:https://api.openweathermap.org:443 \"GET /data/2.5/weather?units=imperial&q=alotau&appid=bd8d52cf71d30c1b6d26f4c28f6a8e76 HTTP/1.1\" 404 40\n",
      "DEBUG:urllib3.connectionpool:Starting new HTTPS connection (1): api.openweathermap.org:443\n"
     ]
    },
    {
     "name": "stdout",
     "output_type": "stream",
     "text": [
      "Processing Record 44  of Set 1 | alotau.\n",
      "City not found. Skipping...\n"
     ]
    },
    {
     "name": "stderr",
     "output_type": "stream",
     "text": [
      "DEBUG:urllib3.connectionpool:https://api.openweathermap.org:443 \"GET /data/2.5/weather?units=imperial&q=chokurdakh&appid=bd8d52cf71d30c1b6d26f4c28f6a8e76 HTTP/1.1\" 200 495\n",
      "DEBUG:urllib3.connectionpool:Starting new HTTPS connection (1): api.openweathermap.org:443\n"
     ]
    },
    {
     "name": "stdout",
     "output_type": "stream",
     "text": [
      "Processing Record 45  of Set 1 | chokurdakh.\n"
     ]
    },
    {
     "name": "stderr",
     "output_type": "stream",
     "text": [
      "DEBUG:urllib3.connectionpool:https://api.openweathermap.org:443 \"GET /data/2.5/weather?units=imperial&q=tautira&appid=bd8d52cf71d30c1b6d26f4c28f6a8e76 HTTP/1.1\" 200 481\n",
      "DEBUG:urllib3.connectionpool:Starting new HTTPS connection (1): api.openweathermap.org:443\n"
     ]
    },
    {
     "name": "stdout",
     "output_type": "stream",
     "text": [
      "Processing Record 46  of Set 1 | tautira.\n"
     ]
    },
    {
     "name": "stderr",
     "output_type": "stream",
     "text": [
      "DEBUG:urllib3.connectionpool:https://api.openweathermap.org:443 \"GET /data/2.5/weather?units=imperial&q=atuona&appid=bd8d52cf71d30c1b6d26f4c28f6a8e76 HTTP/1.1\" 200 500\n",
      "DEBUG:urllib3.connectionpool:Starting new HTTPS connection (1): api.openweathermap.org:443\n"
     ]
    },
    {
     "name": "stdout",
     "output_type": "stream",
     "text": [
      "Processing Record 47  of Set 1 | atuona.\n"
     ]
    },
    {
     "name": "stderr",
     "output_type": "stream",
     "text": [
      "DEBUG:urllib3.connectionpool:https://api.openweathermap.org:443 \"GET /data/2.5/weather?units=imperial&q=klaksvik&appid=bd8d52cf71d30c1b6d26f4c28f6a8e76 HTTP/1.1\" 200 466\n",
      "DEBUG:urllib3.connectionpool:Starting new HTTPS connection (1): api.openweathermap.org:443\n"
     ]
    },
    {
     "name": "stdout",
     "output_type": "stream",
     "text": [
      "Processing Record 48  of Set 1 | klaksvik.\n"
     ]
    },
    {
     "name": "stderr",
     "output_type": "stream",
     "text": [
      "DEBUG:urllib3.connectionpool:https://api.openweathermap.org:443 \"GET /data/2.5/weather?units=imperial&q=huarmey&appid=bd8d52cf71d30c1b6d26f4c28f6a8e76 HTTP/1.1\" 200 504\n",
      "DEBUG:urllib3.connectionpool:Starting new HTTPS connection (1): api.openweathermap.org:443\n"
     ]
    },
    {
     "name": "stdout",
     "output_type": "stream",
     "text": [
      "Processing Record 49  of Set 1 | huarmey.\n"
     ]
    },
    {
     "name": "stderr",
     "output_type": "stream",
     "text": [
      "DEBUG:urllib3.connectionpool:https://api.openweathermap.org:443 \"GET /data/2.5/weather?units=imperial&q=viransehir&appid=bd8d52cf71d30c1b6d26f4c28f6a8e76 HTTP/1.1\" 200 499\n",
      "DEBUG:urllib3.connectionpool:Starting new HTTPS connection (1): api.openweathermap.org:443\n"
     ]
    },
    {
     "name": "stdout",
     "output_type": "stream",
     "text": [
      "Processing Record 0  of Set 2 | viransehir.\n"
     ]
    },
    {
     "name": "stderr",
     "output_type": "stream",
     "text": [
      "DEBUG:urllib3.connectionpool:https://api.openweathermap.org:443 \"GET /data/2.5/weather?units=imperial&q=bambous%20virieux&appid=bd8d52cf71d30c1b6d26f4c28f6a8e76 HTTP/1.1\" 200 500\n",
      "DEBUG:urllib3.connectionpool:Starting new HTTPS connection (1): api.openweathermap.org:443\n"
     ]
    },
    {
     "name": "stdout",
     "output_type": "stream",
     "text": [
      "Processing Record 1  of Set 2 | bambous virieux.\n"
     ]
    },
    {
     "name": "stderr",
     "output_type": "stream",
     "text": [
      "DEBUG:urllib3.connectionpool:https://api.openweathermap.org:443 \"GET /data/2.5/weather?units=imperial&q=xai-xai&appid=bd8d52cf71d30c1b6d26f4c28f6a8e76 HTTP/1.1\" 200 487\n",
      "DEBUG:urllib3.connectionpool:Starting new HTTPS connection (1): api.openweathermap.org:443\n"
     ]
    },
    {
     "name": "stdout",
     "output_type": "stream",
     "text": [
      "Processing Record 2  of Set 2 | xai-xai.\n"
     ]
    },
    {
     "name": "stderr",
     "output_type": "stream",
     "text": [
      "DEBUG:urllib3.connectionpool:https://api.openweathermap.org:443 \"GET /data/2.5/weather?units=imperial&q=mahebourg&appid=bd8d52cf71d30c1b6d26f4c28f6a8e76 HTTP/1.1\" 200 496\n",
      "DEBUG:urllib3.connectionpool:Starting new HTTPS connection (1): api.openweathermap.org:443\n"
     ]
    },
    {
     "name": "stdout",
     "output_type": "stream",
     "text": [
      "Processing Record 3  of Set 2 | mahebourg.\n"
     ]
    },
    {
     "name": "stderr",
     "output_type": "stream",
     "text": [
      "DEBUG:urllib3.connectionpool:https://api.openweathermap.org:443 \"GET /data/2.5/weather?units=imperial&q=manzil%20tamim&appid=bd8d52cf71d30c1b6d26f4c28f6a8e76 HTTP/1.1\" 404 40\n",
      "DEBUG:urllib3.connectionpool:Starting new HTTPS connection (1): api.openweathermap.org:443\n"
     ]
    },
    {
     "name": "stdout",
     "output_type": "stream",
     "text": [
      "Processing Record 4  of Set 2 | manzil tamim.\n",
      "City not found. Skipping...\n"
     ]
    },
    {
     "name": "stderr",
     "output_type": "stream",
     "text": [
      "DEBUG:urllib3.connectionpool:https://api.openweathermap.org:443 \"GET /data/2.5/weather?units=imperial&q=fortuna&appid=bd8d52cf71d30c1b6d26f4c28f6a8e76 HTTP/1.1\" 200 486\n",
      "DEBUG:urllib3.connectionpool:Starting new HTTPS connection (1): api.openweathermap.org:443\n"
     ]
    },
    {
     "name": "stdout",
     "output_type": "stream",
     "text": [
      "Processing Record 5  of Set 2 | fortuna.\n"
     ]
    },
    {
     "name": "stderr",
     "output_type": "stream",
     "text": [
      "DEBUG:urllib3.connectionpool:https://api.openweathermap.org:443 \"GET /data/2.5/weather?units=imperial&q=ponta%20do%20sol&appid=bd8d52cf71d30c1b6d26f4c28f6a8e76 HTTP/1.1\" 200 477\n",
      "DEBUG:urllib3.connectionpool:Starting new HTTPS connection (1): api.openweathermap.org:443\n"
     ]
    },
    {
     "name": "stdout",
     "output_type": "stream",
     "text": [
      "Processing Record 6  of Set 2 | ponta do sol.\n"
     ]
    },
    {
     "name": "stderr",
     "output_type": "stream",
     "text": [
      "DEBUG:urllib3.connectionpool:https://api.openweathermap.org:443 \"GET /data/2.5/weather?units=imperial&q=punta%20arenas&appid=bd8d52cf71d30c1b6d26f4c28f6a8e76 HTTP/1.1\" 200 462\n",
      "DEBUG:urllib3.connectionpool:Starting new HTTPS connection (1): api.openweathermap.org:443\n"
     ]
    },
    {
     "name": "stdout",
     "output_type": "stream",
     "text": [
      "Processing Record 7  of Set 2 | punta arenas.\n"
     ]
    },
    {
     "name": "stderr",
     "output_type": "stream",
     "text": [
      "DEBUG:urllib3.connectionpool:https://api.openweathermap.org:443 \"GET /data/2.5/weather?units=imperial&q=paulista&appid=bd8d52cf71d30c1b6d26f4c28f6a8e76 HTTP/1.1\" 200 475\n",
      "DEBUG:urllib3.connectionpool:Starting new HTTPS connection (1): api.openweathermap.org:443\n"
     ]
    },
    {
     "name": "stdout",
     "output_type": "stream",
     "text": [
      "Processing Record 8  of Set 2 | paulista.\n"
     ]
    },
    {
     "name": "stderr",
     "output_type": "stream",
     "text": [
      "DEBUG:urllib3.connectionpool:https://api.openweathermap.org:443 \"GET /data/2.5/weather?units=imperial&q=pevek&appid=bd8d52cf71d30c1b6d26f4c28f6a8e76 HTTP/1.1\" 200 484\n",
      "DEBUG:urllib3.connectionpool:Starting new HTTPS connection (1): api.openweathermap.org:443\n"
     ]
    },
    {
     "name": "stdout",
     "output_type": "stream",
     "text": [
      "Processing Record 9  of Set 2 | pevek.\n"
     ]
    },
    {
     "name": "stderr",
     "output_type": "stream",
     "text": [
      "DEBUG:urllib3.connectionpool:https://api.openweathermap.org:443 \"GET /data/2.5/weather?units=imperial&q=rikitea&appid=bd8d52cf71d30c1b6d26f4c28f6a8e76 HTTP/1.1\" 200 493\n",
      "DEBUG:urllib3.connectionpool:Starting new HTTPS connection (1): api.openweathermap.org:443\n"
     ]
    },
    {
     "name": "stdout",
     "output_type": "stream",
     "text": [
      "Processing Record 10  of Set 2 | rikitea.\n"
     ]
    },
    {
     "name": "stderr",
     "output_type": "stream",
     "text": [
      "DEBUG:urllib3.connectionpool:https://api.openweathermap.org:443 \"GET /data/2.5/weather?units=imperial&q=belushya%20guba&appid=bd8d52cf71d30c1b6d26f4c28f6a8e76 HTTP/1.1\" 404 40\n",
      "DEBUG:urllib3.connectionpool:Starting new HTTPS connection (1): api.openweathermap.org:443\n"
     ]
    },
    {
     "name": "stdout",
     "output_type": "stream",
     "text": [
      "Processing Record 11  of Set 2 | belushya guba.\n",
      "City not found. Skipping...\n"
     ]
    },
    {
     "name": "stderr",
     "output_type": "stream",
     "text": [
      "DEBUG:urllib3.connectionpool:https://api.openweathermap.org:443 \"GET /data/2.5/weather?units=imperial&q=illoqqortoormiut&appid=bd8d52cf71d30c1b6d26f4c28f6a8e76 HTTP/1.1\" 404 40\n",
      "DEBUG:urllib3.connectionpool:Starting new HTTPS connection (1): api.openweathermap.org:443\n"
     ]
    },
    {
     "name": "stdout",
     "output_type": "stream",
     "text": [
      "Processing Record 12  of Set 2 | illoqqortoormiut.\n",
      "City not found. Skipping...\n"
     ]
    },
    {
     "name": "stderr",
     "output_type": "stream",
     "text": [
      "DEBUG:urllib3.connectionpool:https://api.openweathermap.org:443 \"GET /data/2.5/weather?units=imperial&q=arraial%20do%20cabo&appid=bd8d52cf71d30c1b6d26f4c28f6a8e76 HTTP/1.1\" 200 472\n",
      "DEBUG:urllib3.connectionpool:Starting new HTTPS connection (1): api.openweathermap.org:443\n"
     ]
    },
    {
     "name": "stdout",
     "output_type": "stream",
     "text": [
      "Processing Record 13  of Set 2 | arraial do cabo.\n"
     ]
    },
    {
     "name": "stderr",
     "output_type": "stream",
     "text": [
      "DEBUG:urllib3.connectionpool:https://api.openweathermap.org:443 \"GET /data/2.5/weather?units=imperial&q=pangnirtung&appid=bd8d52cf71d30c1b6d26f4c28f6a8e76 HTTP/1.1\" 200 478\n",
      "DEBUG:urllib3.connectionpool:Starting new HTTPS connection (1): api.openweathermap.org:443\n"
     ]
    },
    {
     "name": "stdout",
     "output_type": "stream",
     "text": [
      "Processing Record 14  of Set 2 | pangnirtung.\n"
     ]
    },
    {
     "name": "stderr",
     "output_type": "stream",
     "text": [
      "DEBUG:urllib3.connectionpool:https://api.openweathermap.org:443 \"GET /data/2.5/weather?units=imperial&q=palabuhanratu&appid=bd8d52cf71d30c1b6d26f4c28f6a8e76 HTTP/1.1\" 404 40\n",
      "DEBUG:urllib3.connectionpool:Starting new HTTPS connection (1): api.openweathermap.org:443\n"
     ]
    },
    {
     "name": "stdout",
     "output_type": "stream",
     "text": [
      "Processing Record 15  of Set 2 | palabuhanratu.\n",
      "City not found. Skipping...\n"
     ]
    },
    {
     "name": "stderr",
     "output_type": "stream",
     "text": [
      "DEBUG:urllib3.connectionpool:https://api.openweathermap.org:443 \"GET /data/2.5/weather?units=imperial&q=tiksi&appid=bd8d52cf71d30c1b6d26f4c28f6a8e76 HTTP/1.1\" 200 502\n",
      "DEBUG:urllib3.connectionpool:Starting new HTTPS connection (1): api.openweathermap.org:443\n"
     ]
    },
    {
     "name": "stdout",
     "output_type": "stream",
     "text": [
      "Processing Record 16  of Set 2 | tiksi.\n"
     ]
    },
    {
     "name": "stderr",
     "output_type": "stream",
     "text": [
      "DEBUG:urllib3.connectionpool:https://api.openweathermap.org:443 \"GET /data/2.5/weather?units=imperial&q=portland&appid=bd8d52cf71d30c1b6d26f4c28f6a8e76 HTTP/1.1\" 200 475\n",
      "DEBUG:urllib3.connectionpool:Starting new HTTPS connection (1): api.openweathermap.org:443\n"
     ]
    },
    {
     "name": "stdout",
     "output_type": "stream",
     "text": [
      "Processing Record 17  of Set 2 | portland.\n"
     ]
    },
    {
     "name": "stderr",
     "output_type": "stream",
     "text": [
      "DEBUG:urllib3.connectionpool:https://api.openweathermap.org:443 \"GET /data/2.5/weather?units=imperial&q=taolanaro&appid=bd8d52cf71d30c1b6d26f4c28f6a8e76 HTTP/1.1\" 404 40\n",
      "DEBUG:urllib3.connectionpool:Starting new HTTPS connection (1): api.openweathermap.org:443\n"
     ]
    },
    {
     "name": "stdout",
     "output_type": "stream",
     "text": [
      "Processing Record 18  of Set 2 | taolanaro.\n",
      "City not found. Skipping...\n"
     ]
    },
    {
     "name": "stderr",
     "output_type": "stream",
     "text": [
      "DEBUG:urllib3.connectionpool:https://api.openweathermap.org:443 \"GET /data/2.5/weather?units=imperial&q=bredasdorp&appid=bd8d52cf71d30c1b6d26f4c28f6a8e76 HTTP/1.1\" 200 465\n",
      "DEBUG:urllib3.connectionpool:Starting new HTTPS connection (1): api.openweathermap.org:443\n"
     ]
    },
    {
     "name": "stdout",
     "output_type": "stream",
     "text": [
      "Processing Record 19  of Set 2 | bredasdorp.\n"
     ]
    },
    {
     "name": "stderr",
     "output_type": "stream",
     "text": [
      "DEBUG:urllib3.connectionpool:https://api.openweathermap.org:443 \"GET /data/2.5/weather?units=imperial&q=nizhneyansk&appid=bd8d52cf71d30c1b6d26f4c28f6a8e76 HTTP/1.1\" 404 40\n",
      "DEBUG:urllib3.connectionpool:Starting new HTTPS connection (1): api.openweathermap.org:443\n"
     ]
    },
    {
     "name": "stdout",
     "output_type": "stream",
     "text": [
      "Processing Record 20  of Set 2 | nizhneyansk.\n",
      "City not found. Skipping...\n"
     ]
    },
    {
     "name": "stderr",
     "output_type": "stream",
     "text": [
      "DEBUG:urllib3.connectionpool:https://api.openweathermap.org:443 \"GET /data/2.5/weather?units=imperial&q=jamestown&appid=bd8d52cf71d30c1b6d26f4c28f6a8e76 HTTP/1.1\" 200 462\n",
      "DEBUG:urllib3.connectionpool:Starting new HTTPS connection (1): api.openweathermap.org:443\n"
     ]
    },
    {
     "name": "stdout",
     "output_type": "stream",
     "text": [
      "Processing Record 21  of Set 2 | jamestown.\n"
     ]
    },
    {
     "name": "stderr",
     "output_type": "stream",
     "text": [
      "DEBUG:urllib3.connectionpool:https://api.openweathermap.org:443 \"GET /data/2.5/weather?units=imperial&q=mzimba&appid=bd8d52cf71d30c1b6d26f4c28f6a8e76 HTTP/1.1\" 200 492\n",
      "DEBUG:urllib3.connectionpool:Starting new HTTPS connection (1): api.openweathermap.org:443\n"
     ]
    },
    {
     "name": "stdout",
     "output_type": "stream",
     "text": [
      "Processing Record 22  of Set 2 | mzimba.\n"
     ]
    },
    {
     "name": "stderr",
     "output_type": "stream",
     "text": [
      "DEBUG:urllib3.connectionpool:https://api.openweathermap.org:443 \"GET /data/2.5/weather?units=imperial&q=katsuura&appid=bd8d52cf71d30c1b6d26f4c28f6a8e76 HTTP/1.1\" 200 473\n",
      "DEBUG:urllib3.connectionpool:Starting new HTTPS connection (1): api.openweathermap.org:443\n"
     ]
    },
    {
     "name": "stdout",
     "output_type": "stream",
     "text": [
      "Processing Record 23  of Set 2 | katsuura.\n"
     ]
    },
    {
     "name": "stderr",
     "output_type": "stream",
     "text": [
      "DEBUG:urllib3.connectionpool:https://api.openweathermap.org:443 \"GET /data/2.5/weather?units=imperial&q=georgetown&appid=bd8d52cf71d30c1b6d26f4c28f6a8e76 HTTP/1.1\" 200 470\n",
      "DEBUG:urllib3.connectionpool:Starting new HTTPS connection (1): api.openweathermap.org:443\n"
     ]
    },
    {
     "name": "stdout",
     "output_type": "stream",
     "text": [
      "Processing Record 24  of Set 2 | georgetown.\n"
     ]
    },
    {
     "name": "stderr",
     "output_type": "stream",
     "text": [
      "DEBUG:urllib3.connectionpool:https://api.openweathermap.org:443 \"GET /data/2.5/weather?units=imperial&q=ushuaia&appid=bd8d52cf71d30c1b6d26f4c28f6a8e76 HTTP/1.1\" 200 467\n",
      "DEBUG:urllib3.connectionpool:Starting new HTTPS connection (1): api.openweathermap.org:443\n"
     ]
    },
    {
     "name": "stdout",
     "output_type": "stream",
     "text": [
      "Processing Record 25  of Set 2 | ushuaia.\n"
     ]
    },
    {
     "name": "stderr",
     "output_type": "stream",
     "text": [
      "DEBUG:urllib3.connectionpool:https://api.openweathermap.org:443 \"GET /data/2.5/weather?units=imperial&q=iqaluit&appid=bd8d52cf71d30c1b6d26f4c28f6a8e76 HTTP/1.1\" 200 453\n",
      "DEBUG:urllib3.connectionpool:Starting new HTTPS connection (1): api.openweathermap.org:443\n"
     ]
    },
    {
     "name": "stdout",
     "output_type": "stream",
     "text": [
      "Processing Record 26  of Set 2 | iqaluit.\n"
     ]
    },
    {
     "name": "stderr",
     "output_type": "stream",
     "text": [
      "DEBUG:urllib3.connectionpool:https://api.openweathermap.org:443 \"GET /data/2.5/weather?units=imperial&q=kavieng&appid=bd8d52cf71d30c1b6d26f4c28f6a8e76 HTTP/1.1\" 200 507\n",
      "DEBUG:urllib3.connectionpool:Starting new HTTPS connection (1): api.openweathermap.org:443\n"
     ]
    },
    {
     "name": "stdout",
     "output_type": "stream",
     "text": [
      "Processing Record 27  of Set 2 | kavieng.\n"
     ]
    },
    {
     "name": "stderr",
     "output_type": "stream",
     "text": [
      "DEBUG:urllib3.connectionpool:https://api.openweathermap.org:443 \"GET /data/2.5/weather?units=imperial&q=izhevskoye&appid=bd8d52cf71d30c1b6d26f4c28f6a8e76 HTTP/1.1\" 200 503\n",
      "DEBUG:urllib3.connectionpool:Starting new HTTPS connection (1): api.openweathermap.org:443\n"
     ]
    },
    {
     "name": "stdout",
     "output_type": "stream",
     "text": [
      "Processing Record 28  of Set 2 | izhevskoye.\n"
     ]
    },
    {
     "name": "stderr",
     "output_type": "stream",
     "text": [
      "DEBUG:urllib3.connectionpool:https://api.openweathermap.org:443 \"GET /data/2.5/weather?units=imperial&q=plaster%20rock&appid=bd8d52cf71d30c1b6d26f4c28f6a8e76 HTTP/1.1\" 200 484\n",
      "DEBUG:urllib3.connectionpool:Starting new HTTPS connection (1): api.openweathermap.org:443\n"
     ]
    },
    {
     "name": "stdout",
     "output_type": "stream",
     "text": [
      "Processing Record 29  of Set 2 | plaster rock.\n"
     ]
    },
    {
     "name": "stderr",
     "output_type": "stream",
     "text": [
      "DEBUG:urllib3.connectionpool:https://api.openweathermap.org:443 \"GET /data/2.5/weather?units=imperial&q=bismil&appid=bd8d52cf71d30c1b6d26f4c28f6a8e76 HTTP/1.1\" 200 463\n",
      "DEBUG:urllib3.connectionpool:Starting new HTTPS connection (1): api.openweathermap.org:443\n"
     ]
    },
    {
     "name": "stdout",
     "output_type": "stream",
     "text": [
      "Processing Record 30  of Set 2 | bismil.\n"
     ]
    },
    {
     "name": "stderr",
     "output_type": "stream",
     "text": [
      "DEBUG:urllib3.connectionpool:https://api.openweathermap.org:443 \"GET /data/2.5/weather?units=imperial&q=bengkulu&appid=bd8d52cf71d30c1b6d26f4c28f6a8e76 HTTP/1.1\" 200 486\n",
      "DEBUG:urllib3.connectionpool:Starting new HTTPS connection (1): api.openweathermap.org:443\n"
     ]
    },
    {
     "name": "stdout",
     "output_type": "stream",
     "text": [
      "Processing Record 31  of Set 2 | bengkulu.\n"
     ]
    },
    {
     "name": "stderr",
     "output_type": "stream",
     "text": [
      "DEBUG:urllib3.connectionpool:https://api.openweathermap.org:443 \"GET /data/2.5/weather?units=imperial&q=buala&appid=bd8d52cf71d30c1b6d26f4c28f6a8e76 HTTP/1.1\" 200 508\n",
      "DEBUG:urllib3.connectionpool:Starting new HTTPS connection (1): api.openweathermap.org:443\n"
     ]
    },
    {
     "name": "stdout",
     "output_type": "stream",
     "text": [
      "Processing Record 32  of Set 2 | buala.\n"
     ]
    },
    {
     "name": "stderr",
     "output_type": "stream",
     "text": [
      "DEBUG:urllib3.connectionpool:https://api.openweathermap.org:443 \"GET /data/2.5/weather?units=imperial&q=pasni&appid=bd8d52cf71d30c1b6d26f4c28f6a8e76 HTTP/1.1\" 200 478\n",
      "DEBUG:urllib3.connectionpool:Starting new HTTPS connection (1): api.openweathermap.org:443\n"
     ]
    },
    {
     "name": "stdout",
     "output_type": "stream",
     "text": [
      "Processing Record 33  of Set 2 | pasni.\n"
     ]
    },
    {
     "name": "stderr",
     "output_type": "stream",
     "text": [
      "DEBUG:urllib3.connectionpool:https://api.openweathermap.org:443 \"GET /data/2.5/weather?units=imperial&q=biddeford&appid=bd8d52cf71d30c1b6d26f4c28f6a8e76 HTTP/1.1\" 200 482\n",
      "DEBUG:urllib3.connectionpool:Starting new HTTPS connection (1): api.openweathermap.org:443\n"
     ]
    },
    {
     "name": "stdout",
     "output_type": "stream",
     "text": [
      "Processing Record 34  of Set 2 | biddeford.\n"
     ]
    },
    {
     "name": "stderr",
     "output_type": "stream",
     "text": [
      "DEBUG:urllib3.connectionpool:https://api.openweathermap.org:443 \"GET /data/2.5/weather?units=imperial&q=hilo&appid=bd8d52cf71d30c1b6d26f4c28f6a8e76 HTTP/1.1\" 200 483\n",
      "DEBUG:urllib3.connectionpool:Starting new HTTPS connection (1): api.openweathermap.org:443\n"
     ]
    },
    {
     "name": "stdout",
     "output_type": "stream",
     "text": [
      "Processing Record 35  of Set 2 | hilo.\n"
     ]
    },
    {
     "name": "stderr",
     "output_type": "stream",
     "text": [
      "DEBUG:urllib3.connectionpool:https://api.openweathermap.org:443 \"GET /data/2.5/weather?units=imperial&q=hare%20bay&appid=bd8d52cf71d30c1b6d26f4c28f6a8e76 HTTP/1.1\" 200 470\n",
      "DEBUG:urllib3.connectionpool:Starting new HTTPS connection (1): api.openweathermap.org:443\n"
     ]
    },
    {
     "name": "stdout",
     "output_type": "stream",
     "text": [
      "Processing Record 36  of Set 2 | hare bay.\n"
     ]
    },
    {
     "name": "stderr",
     "output_type": "stream",
     "text": [
      "DEBUG:urllib3.connectionpool:https://api.openweathermap.org:443 \"GET /data/2.5/weather?units=imperial&q=umzimvubu&appid=bd8d52cf71d30c1b6d26f4c28f6a8e76 HTTP/1.1\" 404 40\n",
      "DEBUG:urllib3.connectionpool:Starting new HTTPS connection (1): api.openweathermap.org:443\n"
     ]
    },
    {
     "name": "stdout",
     "output_type": "stream",
     "text": [
      "Processing Record 37  of Set 2 | umzimvubu.\n",
      "City not found. Skipping...\n"
     ]
    },
    {
     "name": "stderr",
     "output_type": "stream",
     "text": [
      "DEBUG:urllib3.connectionpool:https://api.openweathermap.org:443 \"GET /data/2.5/weather?units=imperial&q=popondetta&appid=bd8d52cf71d30c1b6d26f4c28f6a8e76 HTTP/1.1\" 200 493\n",
      "DEBUG:urllib3.connectionpool:Starting new HTTPS connection (1): api.openweathermap.org:443\n"
     ]
    },
    {
     "name": "stdout",
     "output_type": "stream",
     "text": [
      "Processing Record 38  of Set 2 | popondetta.\n"
     ]
    },
    {
     "name": "stderr",
     "output_type": "stream",
     "text": [
      "DEBUG:urllib3.connectionpool:https://api.openweathermap.org:443 \"GET /data/2.5/weather?units=imperial&q=port%20alfred&appid=bd8d52cf71d30c1b6d26f4c28f6a8e76 HTTP/1.1\" 200 501\n",
      "DEBUG:urllib3.connectionpool:Starting new HTTPS connection (1): api.openweathermap.org:443\n"
     ]
    },
    {
     "name": "stdout",
     "output_type": "stream",
     "text": [
      "Processing Record 39  of Set 2 | port alfred.\n"
     ]
    },
    {
     "name": "stderr",
     "output_type": "stream",
     "text": [
      "DEBUG:urllib3.connectionpool:https://api.openweathermap.org:443 \"GET /data/2.5/weather?units=imperial&q=bluff&appid=bd8d52cf71d30c1b6d26f4c28f6a8e76 HTTP/1.1\" 200 475\n",
      "DEBUG:urllib3.connectionpool:Starting new HTTPS connection (1): api.openweathermap.org:443\n"
     ]
    },
    {
     "name": "stdout",
     "output_type": "stream",
     "text": [
      "Processing Record 40  of Set 2 | bluff.\n"
     ]
    },
    {
     "name": "stderr",
     "output_type": "stream",
     "text": [
      "DEBUG:urllib3.connectionpool:https://api.openweathermap.org:443 \"GET /data/2.5/weather?units=imperial&q=san%20nicolas&appid=bd8d52cf71d30c1b6d26f4c28f6a8e76 HTTP/1.1\" 200 498\n",
      "DEBUG:urllib3.connectionpool:Starting new HTTPS connection (1): api.openweathermap.org:443\n"
     ]
    },
    {
     "name": "stdout",
     "output_type": "stream",
     "text": [
      "Processing Record 41  of Set 2 | san nicolas.\n"
     ]
    },
    {
     "name": "stderr",
     "output_type": "stream",
     "text": [
      "DEBUG:urllib3.connectionpool:https://api.openweathermap.org:443 \"GET /data/2.5/weather?units=imperial&q=nguiu&appid=bd8d52cf71d30c1b6d26f4c28f6a8e76 HTTP/1.1\" 404 40\n",
      "DEBUG:urllib3.connectionpool:Starting new HTTPS connection (1): api.openweathermap.org:443\n"
     ]
    },
    {
     "name": "stdout",
     "output_type": "stream",
     "text": [
      "Processing Record 42  of Set 2 | nguiu.\n",
      "City not found. Skipping...\n"
     ]
    },
    {
     "name": "stderr",
     "output_type": "stream",
     "text": [
      "DEBUG:urllib3.connectionpool:https://api.openweathermap.org:443 \"GET /data/2.5/weather?units=imperial&q=henties%20bay&appid=bd8d52cf71d30c1b6d26f4c28f6a8e76 HTTP/1.1\" 200 483\n",
      "DEBUG:urllib3.connectionpool:Starting new HTTPS connection (1): api.openweathermap.org:443\n"
     ]
    },
    {
     "name": "stdout",
     "output_type": "stream",
     "text": [
      "Processing Record 43  of Set 2 | henties bay.\n"
     ]
    },
    {
     "name": "stderr",
     "output_type": "stream",
     "text": [
      "DEBUG:urllib3.connectionpool:https://api.openweathermap.org:443 \"GET /data/2.5/weather?units=imperial&q=changping&appid=bd8d52cf71d30c1b6d26f4c28f6a8e76 HTTP/1.1\" 200 457\n",
      "DEBUG:urllib3.connectionpool:Starting new HTTPS connection (1): api.openweathermap.org:443\n"
     ]
    },
    {
     "name": "stdout",
     "output_type": "stream",
     "text": [
      "Processing Record 44  of Set 2 | changping.\n"
     ]
    },
    {
     "name": "stderr",
     "output_type": "stream",
     "text": [
      "DEBUG:urllib3.connectionpool:https://api.openweathermap.org:443 \"GET /data/2.5/weather?units=imperial&q=sayyan&appid=bd8d52cf71d30c1b6d26f4c28f6a8e76 HTTP/1.1\" 200 492\n",
      "DEBUG:urllib3.connectionpool:Starting new HTTPS connection (1): api.openweathermap.org:443\n"
     ]
    },
    {
     "name": "stdout",
     "output_type": "stream",
     "text": [
      "Processing Record 45  of Set 2 | sayyan.\n"
     ]
    },
    {
     "name": "stderr",
     "output_type": "stream",
     "text": [
      "DEBUG:urllib3.connectionpool:https://api.openweathermap.org:443 \"GET /data/2.5/weather?units=imperial&q=samusu&appid=bd8d52cf71d30c1b6d26f4c28f6a8e76 HTTP/1.1\" 404 40\n",
      "DEBUG:urllib3.connectionpool:Starting new HTTPS connection (1): api.openweathermap.org:443\n"
     ]
    },
    {
     "name": "stdout",
     "output_type": "stream",
     "text": [
      "Processing Record 46  of Set 2 | samusu.\n",
      "City not found. Skipping...\n"
     ]
    },
    {
     "name": "stderr",
     "output_type": "stream",
     "text": [
      "DEBUG:urllib3.connectionpool:https://api.openweathermap.org:443 \"GET /data/2.5/weather?units=imperial&q=cape%20town&appid=bd8d52cf71d30c1b6d26f4c28f6a8e76 HTTP/1.1\" 200 464\n",
      "DEBUG:urllib3.connectionpool:Starting new HTTPS connection (1): api.openweathermap.org:443\n"
     ]
    },
    {
     "name": "stdout",
     "output_type": "stream",
     "text": [
      "Processing Record 47  of Set 2 | cape town.\n"
     ]
    },
    {
     "name": "stderr",
     "output_type": "stream",
     "text": [
      "DEBUG:urllib3.connectionpool:https://api.openweathermap.org:443 \"GET /data/2.5/weather?units=imperial&q=bonthe&appid=bd8d52cf71d30c1b6d26f4c28f6a8e76 HTTP/1.1\" 200 493\n",
      "DEBUG:urllib3.connectionpool:Starting new HTTPS connection (1): api.openweathermap.org:443\n"
     ]
    },
    {
     "name": "stdout",
     "output_type": "stream",
     "text": [
      "Processing Record 48  of Set 2 | bonthe.\n"
     ]
    },
    {
     "name": "stderr",
     "output_type": "stream",
     "text": [
      "DEBUG:urllib3.connectionpool:https://api.openweathermap.org:443 \"GET /data/2.5/weather?units=imperial&q=pimentel&appid=bd8d52cf71d30c1b6d26f4c28f6a8e76 HTTP/1.1\" 200 464\n",
      "DEBUG:urllib3.connectionpool:Starting new HTTPS connection (1): api.openweathermap.org:443\n"
     ]
    },
    {
     "name": "stdout",
     "output_type": "stream",
     "text": [
      "Processing Record 49  of Set 2 | pimentel.\n"
     ]
    },
    {
     "name": "stderr",
     "output_type": "stream",
     "text": [
      "DEBUG:urllib3.connectionpool:https://api.openweathermap.org:443 \"GET /data/2.5/weather?units=imperial&q=vila&appid=bd8d52cf71d30c1b6d26f4c28f6a8e76 HTTP/1.1\" 200 482\n",
      "DEBUG:urllib3.connectionpool:Starting new HTTPS connection (1): api.openweathermap.org:443\n"
     ]
    },
    {
     "name": "stdout",
     "output_type": "stream",
     "text": [
      "Processing Record 0  of Set 3 | vila.\n"
     ]
    },
    {
     "name": "stderr",
     "output_type": "stream",
     "text": [
      "DEBUG:urllib3.connectionpool:https://api.openweathermap.org:443 \"GET /data/2.5/weather?units=imperial&q=cherskiy&appid=bd8d52cf71d30c1b6d26f4c28f6a8e76 HTTP/1.1\" 200 490\n",
      "DEBUG:urllib3.connectionpool:Starting new HTTPS connection (1): api.openweathermap.org:443\n"
     ]
    },
    {
     "name": "stdout",
     "output_type": "stream",
     "text": [
      "Processing Record 1  of Set 3 | cherskiy.\n"
     ]
    },
    {
     "name": "stderr",
     "output_type": "stream",
     "text": [
      "DEBUG:urllib3.connectionpool:https://api.openweathermap.org:443 \"GET /data/2.5/weather?units=imperial&q=norman%20wells&appid=bd8d52cf71d30c1b6d26f4c28f6a8e76 HTTP/1.1\" 200 473\n",
      "DEBUG:urllib3.connectionpool:Starting new HTTPS connection (1): api.openweathermap.org:443\n"
     ]
    },
    {
     "name": "stdout",
     "output_type": "stream",
     "text": [
      "Processing Record 2  of Set 3 | norman wells.\n"
     ]
    },
    {
     "name": "stderr",
     "output_type": "stream",
     "text": [
      "DEBUG:urllib3.connectionpool:https://api.openweathermap.org:443 \"GET /data/2.5/weather?units=imperial&q=clyde%20river&appid=bd8d52cf71d30c1b6d26f4c28f6a8e76 HTTP/1.1\" 200 463\n",
      "DEBUG:urllib3.connectionpool:Starting new HTTPS connection (1): api.openweathermap.org:443\n"
     ]
    },
    {
     "name": "stdout",
     "output_type": "stream",
     "text": [
      "Processing Record 3  of Set 3 | clyde river.\n"
     ]
    },
    {
     "name": "stderr",
     "output_type": "stream",
     "text": [
      "DEBUG:urllib3.connectionpool:https://api.openweathermap.org:443 \"GET /data/2.5/weather?units=imperial&q=ahipara&appid=bd8d52cf71d30c1b6d26f4c28f6a8e76 HTTP/1.1\" 200 490\n",
      "DEBUG:urllib3.connectionpool:Starting new HTTPS connection (1): api.openweathermap.org:443\n"
     ]
    },
    {
     "name": "stdout",
     "output_type": "stream",
     "text": [
      "Processing Record 4  of Set 3 | ahipara.\n"
     ]
    },
    {
     "name": "stderr",
     "output_type": "stream",
     "text": [
      "DEBUG:urllib3.connectionpool:https://api.openweathermap.org:443 \"GET /data/2.5/weather?units=imperial&q=barentsburg&appid=bd8d52cf71d30c1b6d26f4c28f6a8e76 HTTP/1.1\" 404 40\n",
      "DEBUG:urllib3.connectionpool:Starting new HTTPS connection (1): api.openweathermap.org:443\n"
     ]
    },
    {
     "name": "stdout",
     "output_type": "stream",
     "text": [
      "Processing Record 5  of Set 3 | barentsburg.\n",
      "City not found. Skipping...\n"
     ]
    },
    {
     "name": "stderr",
     "output_type": "stream",
     "text": [
      "DEBUG:urllib3.connectionpool:https://api.openweathermap.org:443 \"GET /data/2.5/weather?units=imperial&q=carnarvon&appid=bd8d52cf71d30c1b6d26f4c28f6a8e76 HTTP/1.1\" 200 485\n",
      "DEBUG:urllib3.connectionpool:Starting new HTTPS connection (1): api.openweathermap.org:443\n"
     ]
    },
    {
     "name": "stdout",
     "output_type": "stream",
     "text": [
      "Processing Record 6  of Set 3 | carnarvon.\n"
     ]
    },
    {
     "name": "stderr",
     "output_type": "stream",
     "text": [
      "DEBUG:urllib3.connectionpool:https://api.openweathermap.org:443 \"GET /data/2.5/weather?units=imperial&q=moyale&appid=bd8d52cf71d30c1b6d26f4c28f6a8e76 HTTP/1.1\" 200 477\n",
      "DEBUG:urllib3.connectionpool:Starting new HTTPS connection (1): api.openweathermap.org:443\n"
     ]
    },
    {
     "name": "stdout",
     "output_type": "stream",
     "text": [
      "Processing Record 7  of Set 3 | moyale.\n"
     ]
    },
    {
     "name": "stderr",
     "output_type": "stream",
     "text": [
      "DEBUG:urllib3.connectionpool:https://api.openweathermap.org:443 \"GET /data/2.5/weather?units=imperial&q=myitkyina&appid=bd8d52cf71d30c1b6d26f4c28f6a8e76 HTTP/1.1\" 200 490\n",
      "DEBUG:urllib3.connectionpool:Starting new HTTPS connection (1): api.openweathermap.org:443\n"
     ]
    },
    {
     "name": "stdout",
     "output_type": "stream",
     "text": [
      "Processing Record 8  of Set 3 | myitkyina.\n"
     ]
    },
    {
     "name": "stderr",
     "output_type": "stream",
     "text": [
      "DEBUG:urllib3.connectionpool:https://api.openweathermap.org:443 \"GET /data/2.5/weather?units=imperial&q=tuktoyaktuk&appid=bd8d52cf71d30c1b6d26f4c28f6a8e76 HTTP/1.1\" 200 472\n",
      "DEBUG:urllib3.connectionpool:Starting new HTTPS connection (1): api.openweathermap.org:443\n"
     ]
    },
    {
     "name": "stdout",
     "output_type": "stream",
     "text": [
      "Processing Record 9  of Set 3 | tuktoyaktuk.\n"
     ]
    },
    {
     "name": "stderr",
     "output_type": "stream",
     "text": [
      "DEBUG:urllib3.connectionpool:https://api.openweathermap.org:443 \"GET /data/2.5/weather?units=imperial&q=nsanje&appid=bd8d52cf71d30c1b6d26f4c28f6a8e76 HTTP/1.1\" 200 484\n",
      "DEBUG:urllib3.connectionpool:Starting new HTTPS connection (1): api.openweathermap.org:443\n"
     ]
    },
    {
     "name": "stdout",
     "output_type": "stream",
     "text": [
      "Processing Record 10  of Set 3 | nsanje.\n"
     ]
    },
    {
     "name": "stderr",
     "output_type": "stream",
     "text": [
      "DEBUG:urllib3.connectionpool:https://api.openweathermap.org:443 \"GET /data/2.5/weather?units=imperial&q=atlantic%20beach&appid=bd8d52cf71d30c1b6d26f4c28f6a8e76 HTTP/1.1\" 200 465\n",
      "DEBUG:urllib3.connectionpool:Starting new HTTPS connection (1): api.openweathermap.org:443\n"
     ]
    },
    {
     "name": "stdout",
     "output_type": "stream",
     "text": [
      "Processing Record 11  of Set 3 | atlantic beach.\n"
     ]
    },
    {
     "name": "stderr",
     "output_type": "stream",
     "text": [
      "DEBUG:urllib3.connectionpool:https://api.openweathermap.org:443 \"GET /data/2.5/weather?units=imperial&q=humaita&appid=bd8d52cf71d30c1b6d26f4c28f6a8e76 HTTP/1.1\" 200 493\n",
      "DEBUG:urllib3.connectionpool:Starting new HTTPS connection (1): api.openweathermap.org:443\n"
     ]
    },
    {
     "name": "stdout",
     "output_type": "stream",
     "text": [
      "Processing Record 12  of Set 3 | humaita.\n"
     ]
    },
    {
     "name": "stderr",
     "output_type": "stream",
     "text": [
      "DEBUG:urllib3.connectionpool:https://api.openweathermap.org:443 \"GET /data/2.5/weather?units=imperial&q=faanui&appid=bd8d52cf71d30c1b6d26f4c28f6a8e76 HTTP/1.1\" 200 485\n",
      "DEBUG:urllib3.connectionpool:Starting new HTTPS connection (1): api.openweathermap.org:443\n"
     ]
    },
    {
     "name": "stdout",
     "output_type": "stream",
     "text": [
      "Processing Record 13  of Set 3 | faanui.\n"
     ]
    },
    {
     "name": "stderr",
     "output_type": "stream",
     "text": [
      "DEBUG:urllib3.connectionpool:https://api.openweathermap.org:443 \"GET /data/2.5/weather?units=imperial&q=port%20macquarie&appid=bd8d52cf71d30c1b6d26f4c28f6a8e76 HTTP/1.1\" 200 495\n",
      "DEBUG:urllib3.connectionpool:Starting new HTTPS connection (1): api.openweathermap.org:443\n"
     ]
    },
    {
     "name": "stdout",
     "output_type": "stream",
     "text": [
      "Processing Record 14  of Set 3 | port macquarie.\n"
     ]
    },
    {
     "name": "stderr",
     "output_type": "stream",
     "text": [
      "DEBUG:urllib3.connectionpool:https://api.openweathermap.org:443 \"GET /data/2.5/weather?units=imperial&q=severo-kurilsk&appid=bd8d52cf71d30c1b6d26f4c28f6a8e76 HTTP/1.1\" 200 521\n",
      "DEBUG:urllib3.connectionpool:Starting new HTTPS connection (1): api.openweathermap.org:443\n"
     ]
    },
    {
     "name": "stdout",
     "output_type": "stream",
     "text": [
      "Processing Record 15  of Set 3 | severo-kurilsk.\n"
     ]
    },
    {
     "name": "stderr",
     "output_type": "stream",
     "text": [
      "DEBUG:urllib3.connectionpool:https://api.openweathermap.org:443 \"GET /data/2.5/weather?units=imperial&q=belmonte&appid=bd8d52cf71d30c1b6d26f4c28f6a8e76 HTTP/1.1\" 200 473\n",
      "DEBUG:urllib3.connectionpool:Starting new HTTPS connection (1): api.openweathermap.org:443\n"
     ]
    },
    {
     "name": "stdout",
     "output_type": "stream",
     "text": [
      "Processing Record 16  of Set 3 | belmonte.\n"
     ]
    },
    {
     "name": "stderr",
     "output_type": "stream",
     "text": [
      "DEBUG:urllib3.connectionpool:https://api.openweathermap.org:443 \"GET /data/2.5/weather?units=imperial&q=upernavik&appid=bd8d52cf71d30c1b6d26f4c28f6a8e76 HTTP/1.1\" 200 504\n",
      "DEBUG:urllib3.connectionpool:Starting new HTTPS connection (1): api.openweathermap.org:443\n"
     ]
    },
    {
     "name": "stdout",
     "output_type": "stream",
     "text": [
      "Processing Record 17  of Set 3 | upernavik.\n"
     ]
    },
    {
     "name": "stderr",
     "output_type": "stream",
     "text": [
      "DEBUG:urllib3.connectionpool:https://api.openweathermap.org:443 \"GET /data/2.5/weather?units=imperial&q=debre%20tabor&appid=bd8d52cf71d30c1b6d26f4c28f6a8e76 HTTP/1.1\" 200 500\n",
      "DEBUG:urllib3.connectionpool:Starting new HTTPS connection (1): api.openweathermap.org:443\n"
     ]
    },
    {
     "name": "stdout",
     "output_type": "stream",
     "text": [
      "Processing Record 18  of Set 3 | debre tabor.\n"
     ]
    },
    {
     "name": "stderr",
     "output_type": "stream",
     "text": [
      "DEBUG:urllib3.connectionpool:https://api.openweathermap.org:443 \"GET /data/2.5/weather?units=imperial&q=alofi&appid=bd8d52cf71d30c1b6d26f4c28f6a8e76 HTTP/1.1\" 200 482\n",
      "DEBUG:urllib3.connectionpool:Starting new HTTPS connection (1): api.openweathermap.org:443\n"
     ]
    },
    {
     "name": "stdout",
     "output_type": "stream",
     "text": [
      "Processing Record 19  of Set 3 | alofi.\n"
     ]
    },
    {
     "name": "stderr",
     "output_type": "stream",
     "text": [
      "DEBUG:urllib3.connectionpool:https://api.openweathermap.org:443 \"GET /data/2.5/weather?units=imperial&q=brooks&appid=bd8d52cf71d30c1b6d26f4c28f6a8e76 HTTP/1.1\" 200 465\n",
      "DEBUG:urllib3.connectionpool:Starting new HTTPS connection (1): api.openweathermap.org:443\n"
     ]
    },
    {
     "name": "stdout",
     "output_type": "stream",
     "text": [
      "Processing Record 20  of Set 3 | brooks.\n"
     ]
    },
    {
     "name": "stderr",
     "output_type": "stream",
     "text": [
      "DEBUG:urllib3.connectionpool:https://api.openweathermap.org:443 \"GET /data/2.5/weather?units=imperial&q=provideniya&appid=bd8d52cf71d30c1b6d26f4c28f6a8e76 HTTP/1.1\" 200 466\n",
      "DEBUG:urllib3.connectionpool:Starting new HTTPS connection (1): api.openweathermap.org:443\n"
     ]
    },
    {
     "name": "stdout",
     "output_type": "stream",
     "text": [
      "Processing Record 21  of Set 3 | provideniya.\n"
     ]
    },
    {
     "name": "stderr",
     "output_type": "stream",
     "text": [
      "DEBUG:urllib3.connectionpool:https://api.openweathermap.org:443 \"GET /data/2.5/weather?units=imperial&q=guaruja&appid=bd8d52cf71d30c1b6d26f4c28f6a8e76 HTTP/1.1\" 200 484\n",
      "DEBUG:urllib3.connectionpool:Starting new HTTPS connection (1): api.openweathermap.org:443\n"
     ]
    },
    {
     "name": "stdout",
     "output_type": "stream",
     "text": [
      "Processing Record 22  of Set 3 | guaruja.\n"
     ]
    },
    {
     "name": "stderr",
     "output_type": "stream",
     "text": [
      "DEBUG:urllib3.connectionpool:https://api.openweathermap.org:443 \"GET /data/2.5/weather?units=imperial&q=kaitangata&appid=bd8d52cf71d30c1b6d26f4c28f6a8e76 HTTP/1.1\" 200 471\n",
      "DEBUG:urllib3.connectionpool:Starting new HTTPS connection (1): api.openweathermap.org:443\n"
     ]
    },
    {
     "name": "stdout",
     "output_type": "stream",
     "text": [
      "Processing Record 23  of Set 3 | kaitangata.\n"
     ]
    },
    {
     "name": "stderr",
     "output_type": "stream",
     "text": [
      "DEBUG:urllib3.connectionpool:https://api.openweathermap.org:443 \"GET /data/2.5/weather?units=imperial&q=verkhnevilyuysk&appid=bd8d52cf71d30c1b6d26f4c28f6a8e76 HTTP/1.1\" 200 501\n",
      "DEBUG:urllib3.connectionpool:Starting new HTTPS connection (1): api.openweathermap.org:443\n"
     ]
    },
    {
     "name": "stdout",
     "output_type": "stream",
     "text": [
      "Processing Record 24  of Set 3 | verkhnevilyuysk.\n"
     ]
    },
    {
     "name": "stderr",
     "output_type": "stream",
     "text": [
      "DEBUG:urllib3.connectionpool:https://api.openweathermap.org:443 \"GET /data/2.5/weather?units=imperial&q=tumannyy&appid=bd8d52cf71d30c1b6d26f4c28f6a8e76 HTTP/1.1\" 404 40\n",
      "DEBUG:urllib3.connectionpool:Starting new HTTPS connection (1): api.openweathermap.org:443\n"
     ]
    },
    {
     "name": "stdout",
     "output_type": "stream",
     "text": [
      "Processing Record 25  of Set 3 | tumannyy.\n",
      "City not found. Skipping...\n"
     ]
    },
    {
     "name": "stderr",
     "output_type": "stream",
     "text": [
      "DEBUG:urllib3.connectionpool:https://api.openweathermap.org:443 \"GET /data/2.5/weather?units=imperial&q=pisco&appid=bd8d52cf71d30c1b6d26f4c28f6a8e76 HTTP/1.1\" 200 466\n",
      "DEBUG:urllib3.connectionpool:Starting new HTTPS connection (1): api.openweathermap.org:443\n"
     ]
    },
    {
     "name": "stdout",
     "output_type": "stream",
     "text": [
      "Processing Record 26  of Set 3 | pisco.\n"
     ]
    },
    {
     "name": "stderr",
     "output_type": "stream",
     "text": [
      "DEBUG:urllib3.connectionpool:https://api.openweathermap.org:443 \"GET /data/2.5/weather?units=imperial&q=mnogovershinnyy&appid=bd8d52cf71d30c1b6d26f4c28f6a8e76 HTTP/1.1\" 200 502\n",
      "DEBUG:urllib3.connectionpool:Starting new HTTPS connection (1): api.openweathermap.org:443\n"
     ]
    },
    {
     "name": "stdout",
     "output_type": "stream",
     "text": [
      "Processing Record 27  of Set 3 | mnogovershinnyy.\n"
     ]
    },
    {
     "name": "stderr",
     "output_type": "stream",
     "text": [
      "DEBUG:urllib3.connectionpool:https://api.openweathermap.org:443 \"GET /data/2.5/weather?units=imperial&q=castro&appid=bd8d52cf71d30c1b6d26f4c28f6a8e76 HTTP/1.1\" 200 500\n",
      "DEBUG:urllib3.connectionpool:Starting new HTTPS connection (1): api.openweathermap.org:443\n"
     ]
    },
    {
     "name": "stdout",
     "output_type": "stream",
     "text": [
      "Processing Record 28  of Set 3 | castro.\n"
     ]
    },
    {
     "name": "stderr",
     "output_type": "stream",
     "text": [
      "DEBUG:urllib3.connectionpool:https://api.openweathermap.org:443 \"GET /data/2.5/weather?units=imperial&q=ambon&appid=bd8d52cf71d30c1b6d26f4c28f6a8e76 HTTP/1.1\" 200 474\n",
      "DEBUG:urllib3.connectionpool:Starting new HTTPS connection (1): api.openweathermap.org:443\n"
     ]
    },
    {
     "name": "stdout",
     "output_type": "stream",
     "text": [
      "Processing Record 29  of Set 3 | ambon.\n"
     ]
    },
    {
     "name": "stderr",
     "output_type": "stream",
     "text": [
      "DEBUG:urllib3.connectionpool:https://api.openweathermap.org:443 \"GET /data/2.5/weather?units=imperial&q=smidovich&appid=bd8d52cf71d30c1b6d26f4c28f6a8e76 HTTP/1.1\" 200 491\n",
      "DEBUG:urllib3.connectionpool:Starting new HTTPS connection (1): api.openweathermap.org:443\n"
     ]
    },
    {
     "name": "stdout",
     "output_type": "stream",
     "text": [
      "Processing Record 30  of Set 3 | smidovich.\n"
     ]
    },
    {
     "name": "stderr",
     "output_type": "stream",
     "text": [
      "DEBUG:urllib3.connectionpool:https://api.openweathermap.org:443 \"GET /data/2.5/weather?units=imperial&q=aksehir&appid=bd8d52cf71d30c1b6d26f4c28f6a8e76 HTTP/1.1\" 200 498\n",
      "DEBUG:urllib3.connectionpool:Starting new HTTPS connection (1): api.openweathermap.org:443\n"
     ]
    },
    {
     "name": "stdout",
     "output_type": "stream",
     "text": [
      "Processing Record 31  of Set 3 | aksehir.\n"
     ]
    },
    {
     "name": "stderr",
     "output_type": "stream",
     "text": [
      "DEBUG:urllib3.connectionpool:https://api.openweathermap.org:443 \"GET /data/2.5/weather?units=imperial&q=qandala&appid=bd8d52cf71d30c1b6d26f4c28f6a8e76 HTTP/1.1\" 200 489\n",
      "DEBUG:urllib3.connectionpool:Starting new HTTPS connection (1): api.openweathermap.org:443\n"
     ]
    },
    {
     "name": "stdout",
     "output_type": "stream",
     "text": [
      "Processing Record 32  of Set 3 | qandala.\n"
     ]
    },
    {
     "name": "stderr",
     "output_type": "stream",
     "text": [
      "DEBUG:urllib3.connectionpool:https://api.openweathermap.org:443 \"GET /data/2.5/weather?units=imperial&q=harper&appid=bd8d52cf71d30c1b6d26f4c28f6a8e76 HTTP/1.1\" 200 494\n",
      "DEBUG:urllib3.connectionpool:Starting new HTTPS connection (1): api.openweathermap.org:443\n"
     ]
    },
    {
     "name": "stdout",
     "output_type": "stream",
     "text": [
      "Processing Record 33  of Set 3 | harper.\n"
     ]
    },
    {
     "name": "stderr",
     "output_type": "stream",
     "text": [
      "DEBUG:urllib3.connectionpool:https://api.openweathermap.org:443 \"GET /data/2.5/weather?units=imperial&q=coldwater&appid=bd8d52cf71d30c1b6d26f4c28f6a8e76 HTTP/1.1\" 200 482\n",
      "DEBUG:urllib3.connectionpool:Starting new HTTPS connection (1): api.openweathermap.org:443\n"
     ]
    },
    {
     "name": "stdout",
     "output_type": "stream",
     "text": [
      "Processing Record 34  of Set 3 | coldwater.\n"
     ]
    },
    {
     "name": "stderr",
     "output_type": "stream",
     "text": [
      "DEBUG:urllib3.connectionpool:https://api.openweathermap.org:443 \"GET /data/2.5/weather?units=imperial&q=nogliki&appid=bd8d52cf71d30c1b6d26f4c28f6a8e76 HTTP/1.1\" 200 486\n",
      "DEBUG:urllib3.connectionpool:Starting new HTTPS connection (1): api.openweathermap.org:443\n"
     ]
    },
    {
     "name": "stdout",
     "output_type": "stream",
     "text": [
      "Processing Record 35  of Set 3 | nogliki.\n"
     ]
    },
    {
     "name": "stderr",
     "output_type": "stream",
     "text": [
      "DEBUG:urllib3.connectionpool:https://api.openweathermap.org:443 \"GET /data/2.5/weather?units=imperial&q=tateyama&appid=bd8d52cf71d30c1b6d26f4c28f6a8e76 HTTP/1.1\" 200 483\n",
      "DEBUG:urllib3.connectionpool:Starting new HTTPS connection (1): api.openweathermap.org:443\n"
     ]
    },
    {
     "name": "stdout",
     "output_type": "stream",
     "text": [
      "Processing Record 36  of Set 3 | tateyama.\n"
     ]
    },
    {
     "name": "stderr",
     "output_type": "stream",
     "text": [
      "DEBUG:urllib3.connectionpool:https://api.openweathermap.org:443 \"GET /data/2.5/weather?units=imperial&q=port%20elizabeth&appid=bd8d52cf71d30c1b6d26f4c28f6a8e76 HTTP/1.1\" 200 464\n",
      "DEBUG:urllib3.connectionpool:Starting new HTTPS connection (1): api.openweathermap.org:443\n"
     ]
    },
    {
     "name": "stdout",
     "output_type": "stream",
     "text": [
      "Processing Record 37  of Set 3 | port elizabeth.\n"
     ]
    },
    {
     "name": "stderr",
     "output_type": "stream",
     "text": [
      "DEBUG:urllib3.connectionpool:https://api.openweathermap.org:443 \"GET /data/2.5/weather?units=imperial&q=tabas&appid=bd8d52cf71d30c1b6d26f4c28f6a8e76 HTTP/1.1\" 200 488\n",
      "DEBUG:urllib3.connectionpool:Starting new HTTPS connection (1): api.openweathermap.org:443\n"
     ]
    },
    {
     "name": "stdout",
     "output_type": "stream",
     "text": [
      "Processing Record 38  of Set 3 | tabas.\n"
     ]
    },
    {
     "name": "stderr",
     "output_type": "stream",
     "text": [
      "DEBUG:urllib3.connectionpool:https://api.openweathermap.org:443 \"GET /data/2.5/weather?units=imperial&q=touros&appid=bd8d52cf71d30c1b6d26f4c28f6a8e76 HTTP/1.1\" 200 473\n",
      "DEBUG:urllib3.connectionpool:Starting new HTTPS connection (1): api.openweathermap.org:443\n"
     ]
    },
    {
     "name": "stdout",
     "output_type": "stream",
     "text": [
      "Processing Record 39  of Set 3 | touros.\n"
     ]
    },
    {
     "name": "stderr",
     "output_type": "stream",
     "text": [
      "DEBUG:urllib3.connectionpool:https://api.openweathermap.org:443 \"GET /data/2.5/weather?units=imperial&q=guerrero%20negro&appid=bd8d52cf71d30c1b6d26f4c28f6a8e76 HTTP/1.1\" 200 499\n",
      "DEBUG:urllib3.connectionpool:Starting new HTTPS connection (1): api.openweathermap.org:443\n"
     ]
    },
    {
     "name": "stdout",
     "output_type": "stream",
     "text": [
      "Processing Record 40  of Set 3 | guerrero negro.\n"
     ]
    },
    {
     "name": "stderr",
     "output_type": "stream",
     "text": [
      "DEBUG:urllib3.connectionpool:https://api.openweathermap.org:443 \"GET /data/2.5/weather?units=imperial&q=ulaangom&appid=bd8d52cf71d30c1b6d26f4c28f6a8e76 HTTP/1.1\" 200 491\n",
      "DEBUG:urllib3.connectionpool:Starting new HTTPS connection (1): api.openweathermap.org:443\n"
     ]
    },
    {
     "name": "stdout",
     "output_type": "stream",
     "text": [
      "Processing Record 41  of Set 3 | ulaangom.\n"
     ]
    },
    {
     "name": "stderr",
     "output_type": "stream",
     "text": [
      "DEBUG:urllib3.connectionpool:https://api.openweathermap.org:443 \"GET /data/2.5/weather?units=imperial&q=sao%20joao%20da%20barra&appid=bd8d52cf71d30c1b6d26f4c28f6a8e76 HTTP/1.1\" 200 477\n",
      "DEBUG:urllib3.connectionpool:Starting new HTTPS connection (1): api.openweathermap.org:443\n"
     ]
    },
    {
     "name": "stdout",
     "output_type": "stream",
     "text": [
      "Processing Record 42  of Set 3 | sao joao da barra.\n"
     ]
    },
    {
     "name": "stderr",
     "output_type": "stream",
     "text": [
      "DEBUG:urllib3.connectionpool:https://api.openweathermap.org:443 \"GET /data/2.5/weather?units=imperial&q=laguna&appid=bd8d52cf71d30c1b6d26f4c28f6a8e76 HTTP/1.1\" 200 462\n",
      "DEBUG:urllib3.connectionpool:Starting new HTTPS connection (1): api.openweathermap.org:443\n"
     ]
    },
    {
     "name": "stdout",
     "output_type": "stream",
     "text": [
      "Processing Record 43  of Set 3 | laguna.\n"
     ]
    },
    {
     "name": "stderr",
     "output_type": "stream",
     "text": [
      "DEBUG:urllib3.connectionpool:https://api.openweathermap.org:443 \"GET /data/2.5/weather?units=imperial&q=tura&appid=bd8d52cf71d30c1b6d26f4c28f6a8e76 HTTP/1.1\" 200 476\n",
      "DEBUG:urllib3.connectionpool:Starting new HTTPS connection (1): api.openweathermap.org:443\n"
     ]
    },
    {
     "name": "stdout",
     "output_type": "stream",
     "text": [
      "Processing Record 44  of Set 3 | tura.\n"
     ]
    },
    {
     "name": "stderr",
     "output_type": "stream",
     "text": [
      "DEBUG:urllib3.connectionpool:https://api.openweathermap.org:443 \"GET /data/2.5/weather?units=imperial&q=airai&appid=bd8d52cf71d30c1b6d26f4c28f6a8e76 HTTP/1.1\" 200 489\n",
      "DEBUG:urllib3.connectionpool:Starting new HTTPS connection (1): api.openweathermap.org:443\n"
     ]
    },
    {
     "name": "stdout",
     "output_type": "stream",
     "text": [
      "Processing Record 45  of Set 3 | airai.\n"
     ]
    },
    {
     "name": "stderr",
     "output_type": "stream",
     "text": [
      "DEBUG:urllib3.connectionpool:https://api.openweathermap.org:443 \"GET /data/2.5/weather?units=imperial&q=southbridge&appid=bd8d52cf71d30c1b6d26f4c28f6a8e76 HTTP/1.1\" 200 483\n",
      "DEBUG:urllib3.connectionpool:Starting new HTTPS connection (1): api.openweathermap.org:443\n"
     ]
    },
    {
     "name": "stdout",
     "output_type": "stream",
     "text": [
      "Processing Record 46  of Set 3 | southbridge.\n"
     ]
    },
    {
     "name": "stderr",
     "output_type": "stream",
     "text": [
      "DEBUG:urllib3.connectionpool:https://api.openweathermap.org:443 \"GET /data/2.5/weather?units=imperial&q=saint-philippe&appid=bd8d52cf71d30c1b6d26f4c28f6a8e76 HTTP/1.1\" 200 462\n",
      "DEBUG:urllib3.connectionpool:Starting new HTTPS connection (1): api.openweathermap.org:443\n"
     ]
    },
    {
     "name": "stdout",
     "output_type": "stream",
     "text": [
      "Processing Record 47  of Set 3 | saint-philippe.\n"
     ]
    },
    {
     "name": "stderr",
     "output_type": "stream",
     "text": [
      "DEBUG:urllib3.connectionpool:https://api.openweathermap.org:443 \"GET /data/2.5/weather?units=imperial&q=chuy&appid=bd8d52cf71d30c1b6d26f4c28f6a8e76 HTTP/1.1\" 200 481\n",
      "DEBUG:urllib3.connectionpool:Starting new HTTPS connection (1): api.openweathermap.org:443\n"
     ]
    },
    {
     "name": "stdout",
     "output_type": "stream",
     "text": [
      "Processing Record 48  of Set 3 | chuy.\n"
     ]
    },
    {
     "name": "stderr",
     "output_type": "stream",
     "text": [
      "DEBUG:urllib3.connectionpool:https://api.openweathermap.org:443 \"GET /data/2.5/weather?units=imperial&q=grindavik&appid=bd8d52cf71d30c1b6d26f4c28f6a8e76 HTTP/1.1\" 200 473\n",
      "DEBUG:urllib3.connectionpool:Starting new HTTPS connection (1): api.openweathermap.org:443\n"
     ]
    },
    {
     "name": "stdout",
     "output_type": "stream",
     "text": [
      "Processing Record 49  of Set 3 | grindavik.\n"
     ]
    },
    {
     "name": "stderr",
     "output_type": "stream",
     "text": [
      "DEBUG:urllib3.connectionpool:https://api.openweathermap.org:443 \"GET /data/2.5/weather?units=imperial&q=onega&appid=bd8d52cf71d30c1b6d26f4c28f6a8e76 HTTP/1.1\" 200 484\n",
      "DEBUG:urllib3.connectionpool:Starting new HTTPS connection (1): api.openweathermap.org:443\n"
     ]
    },
    {
     "name": "stdout",
     "output_type": "stream",
     "text": [
      "Processing Record 0  of Set 4 | onega.\n"
     ]
    },
    {
     "name": "stderr",
     "output_type": "stream",
     "text": [
      "DEBUG:urllib3.connectionpool:https://api.openweathermap.org:443 \"GET /data/2.5/weather?units=imperial&q=kalmunai&appid=bd8d52cf71d30c1b6d26f4c28f6a8e76 HTTP/1.1\" 200 495\n",
      "DEBUG:urllib3.connectionpool:Starting new HTTPS connection (1): api.openweathermap.org:443\n"
     ]
    },
    {
     "name": "stdout",
     "output_type": "stream",
     "text": [
      "Processing Record 1  of Set 4 | kalmunai.\n"
     ]
    },
    {
     "name": "stderr",
     "output_type": "stream",
     "text": [
      "DEBUG:urllib3.connectionpool:https://api.openweathermap.org:443 \"GET /data/2.5/weather?units=imperial&q=riviere-au-renard&appid=bd8d52cf71d30c1b6d26f4c28f6a8e76 HTTP/1.1\" 200 499\n",
      "DEBUG:urllib3.connectionpool:Starting new HTTPS connection (1): api.openweathermap.org:443\n"
     ]
    },
    {
     "name": "stdout",
     "output_type": "stream",
     "text": [
      "Processing Record 2  of Set 4 | riviere-au-renard.\n"
     ]
    },
    {
     "name": "stderr",
     "output_type": "stream",
     "text": [
      "DEBUG:urllib3.connectionpool:https://api.openweathermap.org:443 \"GET /data/2.5/weather?units=imperial&q=dikson&appid=bd8d52cf71d30c1b6d26f4c28f6a8e76 HTTP/1.1\" 200 484\n",
      "DEBUG:urllib3.connectionpool:Starting new HTTPS connection (1): api.openweathermap.org:443\n"
     ]
    },
    {
     "name": "stdout",
     "output_type": "stream",
     "text": [
      "Processing Record 3  of Set 4 | dikson.\n"
     ]
    },
    {
     "name": "stderr",
     "output_type": "stream",
     "text": [
      "DEBUG:urllib3.connectionpool:https://api.openweathermap.org:443 \"GET /data/2.5/weather?units=imperial&q=oyama&appid=bd8d52cf71d30c1b6d26f4c28f6a8e76 HTTP/1.1\" 200 459\n",
      "DEBUG:urllib3.connectionpool:Starting new HTTPS connection (1): api.openweathermap.org:443\n"
     ]
    },
    {
     "name": "stdout",
     "output_type": "stream",
     "text": [
      "Processing Record 4  of Set 4 | oyama.\n"
     ]
    },
    {
     "name": "stderr",
     "output_type": "stream",
     "text": [
      "DEBUG:urllib3.connectionpool:https://api.openweathermap.org:443 \"GET /data/2.5/weather?units=imperial&q=cidreira&appid=bd8d52cf71d30c1b6d26f4c28f6a8e76 HTTP/1.1\" 200 490\n",
      "DEBUG:urllib3.connectionpool:Starting new HTTPS connection (1): api.openweathermap.org:443\n"
     ]
    },
    {
     "name": "stdout",
     "output_type": "stream",
     "text": [
      "Processing Record 5  of Set 4 | cidreira.\n"
     ]
    },
    {
     "name": "stderr",
     "output_type": "stream",
     "text": [
      "DEBUG:urllib3.connectionpool:https://api.openweathermap.org:443 \"GET /data/2.5/weather?units=imperial&q=naze&appid=bd8d52cf71d30c1b6d26f4c28f6a8e76 HTTP/1.1\" 200 484\n",
      "DEBUG:urllib3.connectionpool:Starting new HTTPS connection (1): api.openweathermap.org:443\n"
     ]
    },
    {
     "name": "stdout",
     "output_type": "stream",
     "text": [
      "Processing Record 6  of Set 4 | naze.\n"
     ]
    },
    {
     "name": "stderr",
     "output_type": "stream",
     "text": [
      "DEBUG:urllib3.connectionpool:https://api.openweathermap.org:443 \"GET /data/2.5/weather?units=imperial&q=leh&appid=bd8d52cf71d30c1b6d26f4c28f6a8e76 HTTP/1.1\" 200 485\n",
      "DEBUG:urllib3.connectionpool:Starting new HTTPS connection (1): api.openweathermap.org:443\n"
     ]
    },
    {
     "name": "stdout",
     "output_type": "stream",
     "text": [
      "Processing Record 7  of Set 4 | leh.\n"
     ]
    },
    {
     "name": "stderr",
     "output_type": "stream",
     "text": [
      "DEBUG:urllib3.connectionpool:https://api.openweathermap.org:443 \"GET /data/2.5/weather?units=imperial&q=east%20london&appid=bd8d52cf71d30c1b6d26f4c28f6a8e76 HTTP/1.1\" 200 487\n",
      "DEBUG:urllib3.connectionpool:Starting new HTTPS connection (1): api.openweathermap.org:443\n"
     ]
    },
    {
     "name": "stdout",
     "output_type": "stream",
     "text": [
      "Processing Record 8  of Set 4 | east london.\n"
     ]
    },
    {
     "name": "stderr",
     "output_type": "stream",
     "text": [
      "DEBUG:urllib3.connectionpool:https://api.openweathermap.org:443 \"GET /data/2.5/weather?units=imperial&q=avarua&appid=bd8d52cf71d30c1b6d26f4c28f6a8e76 HTTP/1.1\" 200 472\n",
      "DEBUG:urllib3.connectionpool:Starting new HTTPS connection (1): api.openweathermap.org:443\n"
     ]
    },
    {
     "name": "stdout",
     "output_type": "stream",
     "text": [
      "Processing Record 9  of Set 4 | avarua.\n"
     ]
    },
    {
     "name": "stderr",
     "output_type": "stream",
     "text": [
      "DEBUG:urllib3.connectionpool:https://api.openweathermap.org:443 \"GET /data/2.5/weather?units=imperial&q=tommot&appid=bd8d52cf71d30c1b6d26f4c28f6a8e76 HTTP/1.1\" 200 500\n",
      "DEBUG:urllib3.connectionpool:Starting new HTTPS connection (1): api.openweathermap.org:443\n"
     ]
    },
    {
     "name": "stdout",
     "output_type": "stream",
     "text": [
      "Processing Record 10  of Set 4 | tommot.\n"
     ]
    },
    {
     "name": "stderr",
     "output_type": "stream",
     "text": [
      "DEBUG:urllib3.connectionpool:https://api.openweathermap.org:443 \"GET /data/2.5/weather?units=imperial&q=eyl&appid=bd8d52cf71d30c1b6d26f4c28f6a8e76 HTTP/1.1\" 200 483\n",
      "DEBUG:urllib3.connectionpool:Starting new HTTPS connection (1): api.openweathermap.org:443\n"
     ]
    },
    {
     "name": "stdout",
     "output_type": "stream",
     "text": [
      "Processing Record 11  of Set 4 | eyl.\n"
     ]
    },
    {
     "name": "stderr",
     "output_type": "stream",
     "text": [
      "DEBUG:urllib3.connectionpool:https://api.openweathermap.org:443 \"GET /data/2.5/weather?units=imperial&q=yarada&appid=bd8d52cf71d30c1b6d26f4c28f6a8e76 HTTP/1.1\" 200 451\n",
      "DEBUG:urllib3.connectionpool:Starting new HTTPS connection (1): api.openweathermap.org:443\n"
     ]
    },
    {
     "name": "stdout",
     "output_type": "stream",
     "text": [
      "Processing Record 12  of Set 4 | yarada.\n"
     ]
    },
    {
     "name": "stderr",
     "output_type": "stream",
     "text": [
      "DEBUG:urllib3.connectionpool:https://api.openweathermap.org:443 \"GET /data/2.5/weather?units=imperial&q=tarudant&appid=bd8d52cf71d30c1b6d26f4c28f6a8e76 HTTP/1.1\" 404 40\n",
      "DEBUG:urllib3.connectionpool:Starting new HTTPS connection (1): api.openweathermap.org:443\n"
     ]
    },
    {
     "name": "stdout",
     "output_type": "stream",
     "text": [
      "Processing Record 13  of Set 4 | tarudant.\n",
      "City not found. Skipping...\n"
     ]
    },
    {
     "name": "stderr",
     "output_type": "stream",
     "text": [
      "DEBUG:urllib3.connectionpool:https://api.openweathermap.org:443 \"GET /data/2.5/weather?units=imperial&q=lasa&appid=bd8d52cf71d30c1b6d26f4c28f6a8e76 HTTP/1.1\" 200 456\n",
      "DEBUG:urllib3.connectionpool:Starting new HTTPS connection (1): api.openweathermap.org:443\n"
     ]
    },
    {
     "name": "stdout",
     "output_type": "stream",
     "text": [
      "Processing Record 14  of Set 4 | lasa.\n"
     ]
    },
    {
     "name": "stderr",
     "output_type": "stream",
     "text": [
      "DEBUG:urllib3.connectionpool:https://api.openweathermap.org:443 \"GET /data/2.5/weather?units=imperial&q=los%20llanos%20de%20aridane&appid=bd8d52cf71d30c1b6d26f4c28f6a8e76 HTTP/1.1\" 200 480\n",
      "DEBUG:urllib3.connectionpool:Starting new HTTPS connection (1): api.openweathermap.org:443\n"
     ]
    },
    {
     "name": "stdout",
     "output_type": "stream",
     "text": [
      "Processing Record 15  of Set 4 | los llanos de aridane.\n"
     ]
    },
    {
     "name": "stderr",
     "output_type": "stream",
     "text": [
      "DEBUG:urllib3.connectionpool:https://api.openweathermap.org:443 \"GET /data/2.5/weather?units=imperial&q=xichang&appid=bd8d52cf71d30c1b6d26f4c28f6a8e76 HTTP/1.1\" 200 474\n",
      "DEBUG:urllib3.connectionpool:Starting new HTTPS connection (1): api.openweathermap.org:443\n"
     ]
    },
    {
     "name": "stdout",
     "output_type": "stream",
     "text": [
      "Processing Record 16  of Set 4 | xichang.\n"
     ]
    },
    {
     "name": "stderr",
     "output_type": "stream",
     "text": [
      "DEBUG:urllib3.connectionpool:https://api.openweathermap.org:443 \"GET /data/2.5/weather?units=imperial&q=alice%20springs&appid=bd8d52cf71d30c1b6d26f4c28f6a8e76 HTTP/1.1\" 200 466\n",
      "DEBUG:urllib3.connectionpool:Starting new HTTPS connection (1): api.openweathermap.org:443\n"
     ]
    },
    {
     "name": "stdout",
     "output_type": "stream",
     "text": [
      "Processing Record 17  of Set 4 | alice springs.\n"
     ]
    },
    {
     "name": "stderr",
     "output_type": "stream",
     "text": [
      "DEBUG:urllib3.connectionpool:https://api.openweathermap.org:443 \"GET /data/2.5/weather?units=imperial&q=nikolskoye&appid=bd8d52cf71d30c1b6d26f4c28f6a8e76 HTTP/1.1\" 200 462\n",
      "DEBUG:urllib3.connectionpool:Starting new HTTPS connection (1): api.openweathermap.org:443\n"
     ]
    },
    {
     "name": "stdout",
     "output_type": "stream",
     "text": [
      "Processing Record 18  of Set 4 | nikolskoye.\n"
     ]
    },
    {
     "name": "stderr",
     "output_type": "stream",
     "text": [
      "DEBUG:urllib3.connectionpool:https://api.openweathermap.org:443 \"GET /data/2.5/weather?units=imperial&q=holme&appid=bd8d52cf71d30c1b6d26f4c28f6a8e76 HTTP/1.1\" 200 466\n",
      "DEBUG:urllib3.connectionpool:Starting new HTTPS connection (1): api.openweathermap.org:443\n"
     ]
    },
    {
     "name": "stdout",
     "output_type": "stream",
     "text": [
      "Processing Record 19  of Set 4 | holme.\n"
     ]
    },
    {
     "name": "stderr",
     "output_type": "stream",
     "text": [
      "DEBUG:urllib3.connectionpool:https://api.openweathermap.org:443 \"GET /data/2.5/weather?units=imperial&q=benghazi&appid=bd8d52cf71d30c1b6d26f4c28f6a8e76 HTTP/1.1\" 200 479\n",
      "DEBUG:urllib3.connectionpool:Starting new HTTPS connection (1): api.openweathermap.org:443\n"
     ]
    },
    {
     "name": "stdout",
     "output_type": "stream",
     "text": [
      "Processing Record 20  of Set 4 | benghazi.\n"
     ]
    },
    {
     "name": "stderr",
     "output_type": "stream",
     "text": [
      "DEBUG:urllib3.connectionpool:https://api.openweathermap.org:443 \"GET /data/2.5/weather?units=imperial&q=ewa%20beach&appid=bd8d52cf71d30c1b6d26f4c28f6a8e76 HTTP/1.1\" 200 486\n",
      "DEBUG:urllib3.connectionpool:Starting new HTTPS connection (1): api.openweathermap.org:443\n"
     ]
    },
    {
     "name": "stdout",
     "output_type": "stream",
     "text": [
      "Processing Record 21  of Set 4 | ewa beach.\n"
     ]
    },
    {
     "name": "stderr",
     "output_type": "stream",
     "text": [
      "DEBUG:urllib3.connectionpool:https://api.openweathermap.org:443 \"GET /data/2.5/weather?units=imperial&q=gamboma&appid=bd8d52cf71d30c1b6d26f4c28f6a8e76 HTTP/1.1\" 200 486\n",
      "DEBUG:urllib3.connectionpool:Starting new HTTPS connection (1): api.openweathermap.org:443\n"
     ]
    },
    {
     "name": "stdout",
     "output_type": "stream",
     "text": [
      "Processing Record 22  of Set 4 | gamboma.\n"
     ]
    },
    {
     "name": "stderr",
     "output_type": "stream",
     "text": [
      "DEBUG:urllib3.connectionpool:https://api.openweathermap.org:443 \"GET /data/2.5/weather?units=imperial&q=sao%20felix%20do%20xingu&appid=bd8d52cf71d30c1b6d26f4c28f6a8e76 HTTP/1.1\" 200 501\n",
      "DEBUG:urllib3.connectionpool:Starting new HTTPS connection (1): api.openweathermap.org:443\n"
     ]
    },
    {
     "name": "stdout",
     "output_type": "stream",
     "text": [
      "Processing Record 23  of Set 4 | sao felix do xingu.\n"
     ]
    },
    {
     "name": "stderr",
     "output_type": "stream",
     "text": [
      "DEBUG:urllib3.connectionpool:https://api.openweathermap.org:443 \"GET /data/2.5/weather?units=imperial&q=victoria&appid=bd8d52cf71d30c1b6d26f4c28f6a8e76 HTTP/1.1\" 200 487\n",
      "DEBUG:urllib3.connectionpool:Starting new HTTPS connection (1): api.openweathermap.org:443\n"
     ]
    },
    {
     "name": "stdout",
     "output_type": "stream",
     "text": [
      "Processing Record 24  of Set 4 | victoria.\n"
     ]
    },
    {
     "name": "stderr",
     "output_type": "stream",
     "text": [
      "DEBUG:urllib3.connectionpool:https://api.openweathermap.org:443 \"GET /data/2.5/weather?units=imperial&q=kandi&appid=bd8d52cf71d30c1b6d26f4c28f6a8e76 HTTP/1.1\" 200 475\n",
      "DEBUG:urllib3.connectionpool:Starting new HTTPS connection (1): api.openweathermap.org:443\n"
     ]
    },
    {
     "name": "stdout",
     "output_type": "stream",
     "text": [
      "Processing Record 25  of Set 4 | kandi.\n"
     ]
    },
    {
     "name": "stderr",
     "output_type": "stream",
     "text": [
      "DEBUG:urllib3.connectionpool:https://api.openweathermap.org:443 \"GET /data/2.5/weather?units=imperial&q=obidos&appid=bd8d52cf71d30c1b6d26f4c28f6a8e76 HTTP/1.1\" 200 501\n",
      "DEBUG:urllib3.connectionpool:Starting new HTTPS connection (1): api.openweathermap.org:443\n"
     ]
    },
    {
     "name": "stdout",
     "output_type": "stream",
     "text": [
      "Processing Record 26  of Set 4 | obidos.\n"
     ]
    },
    {
     "name": "stderr",
     "output_type": "stream",
     "text": [
      "DEBUG:urllib3.connectionpool:https://api.openweathermap.org:443 \"GET /data/2.5/weather?units=imperial&q=vaini&appid=bd8d52cf71d30c1b6d26f4c28f6a8e76 HTTP/1.1\" 200 471\n",
      "DEBUG:urllib3.connectionpool:Starting new HTTPS connection (1): api.openweathermap.org:443\n"
     ]
    },
    {
     "name": "stdout",
     "output_type": "stream",
     "text": [
      "Processing Record 27  of Set 4 | vaini.\n"
     ]
    },
    {
     "name": "stderr",
     "output_type": "stream",
     "text": [
      "DEBUG:urllib3.connectionpool:https://api.openweathermap.org:443 \"GET /data/2.5/weather?units=imperial&q=surazh&appid=bd8d52cf71d30c1b6d26f4c28f6a8e76 HTTP/1.1\" 200 473\n",
      "DEBUG:urllib3.connectionpool:Starting new HTTPS connection (1): api.openweathermap.org:443\n"
     ]
    },
    {
     "name": "stdout",
     "output_type": "stream",
     "text": [
      "Processing Record 28  of Set 4 | surazh.\n"
     ]
    },
    {
     "name": "stderr",
     "output_type": "stream",
     "text": [
      "DEBUG:urllib3.connectionpool:https://api.openweathermap.org:443 \"GET /data/2.5/weather?units=imperial&q=szubin&appid=bd8d52cf71d30c1b6d26f4c28f6a8e76 HTTP/1.1\" 200 455\n",
      "DEBUG:urllib3.connectionpool:Starting new HTTPS connection (1): api.openweathermap.org:443\n"
     ]
    },
    {
     "name": "stdout",
     "output_type": "stream",
     "text": [
      "Processing Record 29  of Set 4 | szubin.\n"
     ]
    },
    {
     "name": "stderr",
     "output_type": "stream",
     "text": [
      "DEBUG:urllib3.connectionpool:https://api.openweathermap.org:443 \"GET /data/2.5/weather?units=imperial&q=ilinsko-podomskoye&appid=bd8d52cf71d30c1b6d26f4c28f6a8e76 HTTP/1.1\" 404 40\n",
      "DEBUG:urllib3.connectionpool:Starting new HTTPS connection (1): api.openweathermap.org:443\n"
     ]
    },
    {
     "name": "stdout",
     "output_type": "stream",
     "text": [
      "Processing Record 30  of Set 4 | ilinsko-podomskoye.\n",
      "City not found. Skipping...\n"
     ]
    },
    {
     "name": "stderr",
     "output_type": "stream",
     "text": [
      "DEBUG:urllib3.connectionpool:https://api.openweathermap.org:443 \"GET /data/2.5/weather?units=imperial&q=kruisfontein&appid=bd8d52cf71d30c1b6d26f4c28f6a8e76 HTTP/1.1\" 200 484\n",
      "DEBUG:urllib3.connectionpool:Starting new HTTPS connection (1): api.openweathermap.org:443\n"
     ]
    },
    {
     "name": "stdout",
     "output_type": "stream",
     "text": [
      "Processing Record 31  of Set 4 | kruisfontein.\n"
     ]
    },
    {
     "name": "stderr",
     "output_type": "stream",
     "text": [
      "DEBUG:urllib3.connectionpool:https://api.openweathermap.org:443 \"GET /data/2.5/weather?units=imperial&q=chegdomyn&appid=bd8d52cf71d30c1b6d26f4c28f6a8e76 HTTP/1.1\" 200 490\n",
      "DEBUG:urllib3.connectionpool:Starting new HTTPS connection (1): api.openweathermap.org:443\n"
     ]
    },
    {
     "name": "stdout",
     "output_type": "stream",
     "text": [
      "Processing Record 32  of Set 4 | chegdomyn.\n"
     ]
    },
    {
     "name": "stderr",
     "output_type": "stream",
     "text": [
      "DEBUG:urllib3.connectionpool:https://api.openweathermap.org:443 \"GET /data/2.5/weather?units=imperial&q=hermanus&appid=bd8d52cf71d30c1b6d26f4c28f6a8e76 HTTP/1.1\" 200 469\n",
      "DEBUG:urllib3.connectionpool:Starting new HTTPS connection (1): api.openweathermap.org:443\n"
     ]
    },
    {
     "name": "stdout",
     "output_type": "stream",
     "text": [
      "Processing Record 33  of Set 4 | hermanus.\n"
     ]
    },
    {
     "name": "stderr",
     "output_type": "stream",
     "text": [
      "DEBUG:urllib3.connectionpool:https://api.openweathermap.org:443 \"GET /data/2.5/weather?units=imperial&q=russell&appid=bd8d52cf71d30c1b6d26f4c28f6a8e76 HTTP/1.1\" 200 482\n",
      "DEBUG:urllib3.connectionpool:Starting new HTTPS connection (1): api.openweathermap.org:443\n"
     ]
    },
    {
     "name": "stdout",
     "output_type": "stream",
     "text": [
      "Processing Record 34  of Set 4 | russell.\n"
     ]
    },
    {
     "name": "stderr",
     "output_type": "stream",
     "text": [
      "DEBUG:urllib3.connectionpool:https://api.openweathermap.org:443 \"GET /data/2.5/weather?units=imperial&q=blythe&appid=bd8d52cf71d30c1b6d26f4c28f6a8e76 HTTP/1.1\" 200 461\n",
      "DEBUG:urllib3.connectionpool:Starting new HTTPS connection (1): api.openweathermap.org:443\n"
     ]
    },
    {
     "name": "stdout",
     "output_type": "stream",
     "text": [
      "Processing Record 35  of Set 4 | blythe.\n"
     ]
    },
    {
     "name": "stderr",
     "output_type": "stream",
     "text": [
      "DEBUG:urllib3.connectionpool:https://api.openweathermap.org:443 \"GET /data/2.5/weather?units=imperial&q=mykolayivka&appid=bd8d52cf71d30c1b6d26f4c28f6a8e76 HTTP/1.1\" 200 491\n",
      "DEBUG:urllib3.connectionpool:Starting new HTTPS connection (1): api.openweathermap.org:443\n"
     ]
    },
    {
     "name": "stdout",
     "output_type": "stream",
     "text": [
      "Processing Record 36  of Set 4 | mykolayivka.\n"
     ]
    },
    {
     "name": "stderr",
     "output_type": "stream",
     "text": [
      "DEBUG:urllib3.connectionpool:https://api.openweathermap.org:443 \"GET /data/2.5/weather?units=imperial&q=mareeba&appid=bd8d52cf71d30c1b6d26f4c28f6a8e76 HTTP/1.1\" 200 467\n",
      "DEBUG:urllib3.connectionpool:Starting new HTTPS connection (1): api.openweathermap.org:443\n"
     ]
    },
    {
     "name": "stdout",
     "output_type": "stream",
     "text": [
      "Processing Record 37  of Set 4 | mareeba.\n"
     ]
    },
    {
     "name": "stderr",
     "output_type": "stream",
     "text": [
      "DEBUG:urllib3.connectionpool:https://api.openweathermap.org:443 \"GET /data/2.5/weather?units=imperial&q=dolbeau&appid=bd8d52cf71d30c1b6d26f4c28f6a8e76 HTTP/1.1\" 404 40\n",
      "DEBUG:urllib3.connectionpool:Starting new HTTPS connection (1): api.openweathermap.org:443\n"
     ]
    },
    {
     "name": "stdout",
     "output_type": "stream",
     "text": [
      "Processing Record 38  of Set 4 | dolbeau.\n",
      "City not found. Skipping...\n"
     ]
    },
    {
     "name": "stderr",
     "output_type": "stream",
     "text": [
      "DEBUG:urllib3.connectionpool:https://api.openweathermap.org:443 \"GET /data/2.5/weather?units=imperial&q=hithadhoo&appid=bd8d52cf71d30c1b6d26f4c28f6a8e76 HTTP/1.1\" 200 480\n",
      "DEBUG:urllib3.connectionpool:Starting new HTTPS connection (1): api.openweathermap.org:443\n"
     ]
    },
    {
     "name": "stdout",
     "output_type": "stream",
     "text": [
      "Processing Record 39  of Set 4 | hithadhoo.\n"
     ]
    },
    {
     "name": "stderr",
     "output_type": "stream",
     "text": [
      "DEBUG:urllib3.connectionpool:https://api.openweathermap.org:443 \"GET /data/2.5/weather?units=imperial&q=hauterive&appid=bd8d52cf71d30c1b6d26f4c28f6a8e76 HTTP/1.1\" 200 462\n",
      "DEBUG:urllib3.connectionpool:Starting new HTTPS connection (1): api.openweathermap.org:443\n"
     ]
    },
    {
     "name": "stdout",
     "output_type": "stream",
     "text": [
      "Processing Record 40  of Set 4 | hauterive.\n"
     ]
    },
    {
     "name": "stderr",
     "output_type": "stream",
     "text": [
      "DEBUG:urllib3.connectionpool:https://api.openweathermap.org:443 \"GET /data/2.5/weather?units=imperial&q=vestmanna&appid=bd8d52cf71d30c1b6d26f4c28f6a8e76 HTTP/1.1\" 200 467\n",
      "DEBUG:urllib3.connectionpool:Starting new HTTPS connection (1): api.openweathermap.org:443\n"
     ]
    },
    {
     "name": "stdout",
     "output_type": "stream",
     "text": [
      "Processing Record 41  of Set 4 | vestmanna.\n"
     ]
    },
    {
     "name": "stderr",
     "output_type": "stream",
     "text": [
      "DEBUG:urllib3.connectionpool:https://api.openweathermap.org:443 \"GET /data/2.5/weather?units=imperial&q=barcelos&appid=bd8d52cf71d30c1b6d26f4c28f6a8e76 HTTP/1.1\" 200 476\n",
      "DEBUG:urllib3.connectionpool:Starting new HTTPS connection (1): api.openweathermap.org:443\n"
     ]
    },
    {
     "name": "stdout",
     "output_type": "stream",
     "text": [
      "Processing Record 42  of Set 4 | barcelos.\n"
     ]
    },
    {
     "name": "stderr",
     "output_type": "stream",
     "text": [
      "DEBUG:urllib3.connectionpool:https://api.openweathermap.org:443 \"GET /data/2.5/weather?units=imperial&q=lidkoping&appid=bd8d52cf71d30c1b6d26f4c28f6a8e76 HTTP/1.1\" 200 468\n",
      "DEBUG:urllib3.connectionpool:Starting new HTTPS connection (1): api.openweathermap.org:443\n"
     ]
    },
    {
     "name": "stdout",
     "output_type": "stream",
     "text": [
      "Processing Record 43  of Set 4 | lidkoping.\n"
     ]
    },
    {
     "name": "stderr",
     "output_type": "stream",
     "text": [
      "DEBUG:urllib3.connectionpool:https://api.openweathermap.org:443 \"GET /data/2.5/weather?units=imperial&q=mackay&appid=bd8d52cf71d30c1b6d26f4c28f6a8e76 HTTP/1.1\" 200 462\n",
      "DEBUG:urllib3.connectionpool:Starting new HTTPS connection (1): api.openweathermap.org:443\n"
     ]
    },
    {
     "name": "stdout",
     "output_type": "stream",
     "text": [
      "Processing Record 44  of Set 4 | mackay.\n"
     ]
    },
    {
     "name": "stderr",
     "output_type": "stream",
     "text": [
      "DEBUG:urllib3.connectionpool:https://api.openweathermap.org:443 \"GET /data/2.5/weather?units=imperial&q=tabou&appid=bd8d52cf71d30c1b6d26f4c28f6a8e76 HTTP/1.1\" 200 493\n",
      "DEBUG:urllib3.connectionpool:Starting new HTTPS connection (1): api.openweathermap.org:443\n"
     ]
    },
    {
     "name": "stdout",
     "output_type": "stream",
     "text": [
      "Processing Record 45  of Set 4 | tabou.\n"
     ]
    },
    {
     "name": "stderr",
     "output_type": "stream",
     "text": [
      "DEBUG:urllib3.connectionpool:https://api.openweathermap.org:443 \"GET /data/2.5/weather?units=imperial&q=soligalich&appid=bd8d52cf71d30c1b6d26f4c28f6a8e76 HTTP/1.1\" 200 500\n",
      "DEBUG:urllib3.connectionpool:Starting new HTTPS connection (1): api.openweathermap.org:443\n"
     ]
    },
    {
     "name": "stdout",
     "output_type": "stream",
     "text": [
      "Processing Record 46  of Set 4 | soligalich.\n"
     ]
    },
    {
     "name": "stderr",
     "output_type": "stream",
     "text": [
      "DEBUG:urllib3.connectionpool:https://api.openweathermap.org:443 \"GET /data/2.5/weather?units=imperial&q=isangel&appid=bd8d52cf71d30c1b6d26f4c28f6a8e76 HTTP/1.1\" 200 467\n",
      "DEBUG:urllib3.connectionpool:Starting new HTTPS connection (1): api.openweathermap.org:443\n"
     ]
    },
    {
     "name": "stdout",
     "output_type": "stream",
     "text": [
      "Processing Record 47  of Set 4 | isangel.\n"
     ]
    },
    {
     "name": "stderr",
     "output_type": "stream",
     "text": [
      "DEBUG:urllib3.connectionpool:https://api.openweathermap.org:443 \"GET /data/2.5/weather?units=imperial&q=tiznit&appid=bd8d52cf71d30c1b6d26f4c28f6a8e76 HTTP/1.1\" 200 484\n",
      "DEBUG:urllib3.connectionpool:Starting new HTTPS connection (1): api.openweathermap.org:443\n"
     ]
    },
    {
     "name": "stdout",
     "output_type": "stream",
     "text": [
      "Processing Record 48  of Set 4 | tiznit.\n"
     ]
    },
    {
     "name": "stderr",
     "output_type": "stream",
     "text": [
      "DEBUG:urllib3.connectionpool:https://api.openweathermap.org:443 \"GET /data/2.5/weather?units=imperial&q=ilulissat&appid=bd8d52cf71d30c1b6d26f4c28f6a8e76 HTTP/1.1\" 200 468\n",
      "DEBUG:urllib3.connectionpool:Starting new HTTPS connection (1): api.openweathermap.org:443\n"
     ]
    },
    {
     "name": "stdout",
     "output_type": "stream",
     "text": [
      "Processing Record 49  of Set 4 | ilulissat.\n"
     ]
    },
    {
     "name": "stderr",
     "output_type": "stream",
     "text": [
      "DEBUG:urllib3.connectionpool:https://api.openweathermap.org:443 \"GET /data/2.5/weather?units=imperial&q=burica&appid=bd8d52cf71d30c1b6d26f4c28f6a8e76 HTTP/1.1\" 404 40\n",
      "DEBUG:urllib3.connectionpool:Starting new HTTPS connection (1): api.openweathermap.org:443\n"
     ]
    },
    {
     "name": "stdout",
     "output_type": "stream",
     "text": [
      "Processing Record 0  of Set 5 | burica.\n",
      "City not found. Skipping...\n"
     ]
    },
    {
     "name": "stderr",
     "output_type": "stream",
     "text": [
      "DEBUG:urllib3.connectionpool:https://api.openweathermap.org:443 \"GET /data/2.5/weather?units=imperial&q=mocambique&appid=bd8d52cf71d30c1b6d26f4c28f6a8e76 HTTP/1.1\" 404 40\n",
      "DEBUG:urllib3.connectionpool:Starting new HTTPS connection (1): api.openweathermap.org:443\n"
     ]
    },
    {
     "name": "stdout",
     "output_type": "stream",
     "text": [
      "Processing Record 1  of Set 5 | mocambique.\n",
      "City not found. Skipping...\n"
     ]
    },
    {
     "name": "stderr",
     "output_type": "stream",
     "text": [
      "DEBUG:urllib3.connectionpool:https://api.openweathermap.org:443 \"GET /data/2.5/weather?units=imperial&q=cayenne&appid=bd8d52cf71d30c1b6d26f4c28f6a8e76 HTTP/1.1\" 200 481\n",
      "DEBUG:urllib3.connectionpool:Starting new HTTPS connection (1): api.openweathermap.org:443\n"
     ]
    },
    {
     "name": "stdout",
     "output_type": "stream",
     "text": [
      "Processing Record 2  of Set 5 | cayenne.\n"
     ]
    },
    {
     "name": "stderr",
     "output_type": "stream",
     "text": [
      "DEBUG:urllib3.connectionpool:https://api.openweathermap.org:443 \"GET /data/2.5/weather?units=imperial&q=paris&appid=bd8d52cf71d30c1b6d26f4c28f6a8e76 HTTP/1.1\" 200 461\n",
      "DEBUG:urllib3.connectionpool:Starting new HTTPS connection (1): api.openweathermap.org:443\n"
     ]
    },
    {
     "name": "stdout",
     "output_type": "stream",
     "text": [
      "Processing Record 3  of Set 5 | paris.\n"
     ]
    },
    {
     "name": "stderr",
     "output_type": "stream",
     "text": [
      "DEBUG:urllib3.connectionpool:https://api.openweathermap.org:443 \"GET /data/2.5/weather?units=imperial&q=dingle&appid=bd8d52cf71d30c1b6d26f4c28f6a8e76 HTTP/1.1\" 200 488\n",
      "DEBUG:urllib3.connectionpool:Starting new HTTPS connection (1): api.openweathermap.org:443\n"
     ]
    },
    {
     "name": "stdout",
     "output_type": "stream",
     "text": [
      "Processing Record 4  of Set 5 | dingle.\n"
     ]
    },
    {
     "name": "stderr",
     "output_type": "stream",
     "text": [
      "DEBUG:urllib3.connectionpool:https://api.openweathermap.org:443 \"GET /data/2.5/weather?units=imperial&q=vila%20velha&appid=bd8d52cf71d30c1b6d26f4c28f6a8e76 HTTP/1.1\" 200 470\n",
      "DEBUG:urllib3.connectionpool:Starting new HTTPS connection (1): api.openweathermap.org:443\n"
     ]
    },
    {
     "name": "stdout",
     "output_type": "stream",
     "text": [
      "Processing Record 5  of Set 5 | vila velha.\n"
     ]
    },
    {
     "name": "stderr",
     "output_type": "stream",
     "text": [
      "DEBUG:urllib3.connectionpool:https://api.openweathermap.org:443 \"GET /data/2.5/weather?units=imperial&q=nuevo%20casas%20grandes&appid=bd8d52cf71d30c1b6d26f4c28f6a8e76 HTTP/1.1\" 200 482\n",
      "DEBUG:urllib3.connectionpool:Starting new HTTPS connection (1): api.openweathermap.org:443\n"
     ]
    },
    {
     "name": "stdout",
     "output_type": "stream",
     "text": [
      "Processing Record 6  of Set 5 | nuevo casas grandes.\n"
     ]
    },
    {
     "name": "stderr",
     "output_type": "stream",
     "text": [
      "DEBUG:urllib3.connectionpool:https://api.openweathermap.org:443 \"GET /data/2.5/weather?units=imperial&q=marcona&appid=bd8d52cf71d30c1b6d26f4c28f6a8e76 HTTP/1.1\" 404 40\n",
      "DEBUG:urllib3.connectionpool:Starting new HTTPS connection (1): api.openweathermap.org:443\n"
     ]
    },
    {
     "name": "stdout",
     "output_type": "stream",
     "text": [
      "Processing Record 7  of Set 5 | marcona.\n",
      "City not found. Skipping...\n"
     ]
    },
    {
     "name": "stderr",
     "output_type": "stream",
     "text": [
      "DEBUG:urllib3.connectionpool:https://api.openweathermap.org:443 \"GET /data/2.5/weather?units=imperial&q=lavrentiya&appid=bd8d52cf71d30c1b6d26f4c28f6a8e76 HTTP/1.1\" 200 492\n",
      "DEBUG:urllib3.connectionpool:Starting new HTTPS connection (1): api.openweathermap.org:443\n"
     ]
    },
    {
     "name": "stdout",
     "output_type": "stream",
     "text": [
      "Processing Record 8  of Set 5 | lavrentiya.\n"
     ]
    },
    {
     "name": "stderr",
     "output_type": "stream",
     "text": [
      "DEBUG:urllib3.connectionpool:https://api.openweathermap.org:443 \"GET /data/2.5/weather?units=imperial&q=bosaso&appid=bd8d52cf71d30c1b6d26f4c28f6a8e76 HTTP/1.1\" 200 497\n",
      "DEBUG:urllib3.connectionpool:Starting new HTTPS connection (1): api.openweathermap.org:443\n"
     ]
    },
    {
     "name": "stdout",
     "output_type": "stream",
     "text": [
      "Processing Record 9  of Set 5 | bosaso.\n"
     ]
    },
    {
     "name": "stderr",
     "output_type": "stream",
     "text": [
      "DEBUG:urllib3.connectionpool:https://api.openweathermap.org:443 \"GET /data/2.5/weather?units=imperial&q=sabang&appid=bd8d52cf71d30c1b6d26f4c28f6a8e76 HTTP/1.1\" 200 478\n",
      "DEBUG:urllib3.connectionpool:Starting new HTTPS connection (1): api.openweathermap.org:443\n"
     ]
    },
    {
     "name": "stdout",
     "output_type": "stream",
     "text": [
      "Processing Record 10  of Set 5 | sabang.\n"
     ]
    },
    {
     "name": "stderr",
     "output_type": "stream",
     "text": [
      "DEBUG:urllib3.connectionpool:https://api.openweathermap.org:443 \"GET /data/2.5/weather?units=imperial&q=taoudenni&appid=bd8d52cf71d30c1b6d26f4c28f6a8e76 HTTP/1.1\" 200 491\n",
      "DEBUG:urllib3.connectionpool:Starting new HTTPS connection (1): api.openweathermap.org:443\n"
     ]
    },
    {
     "name": "stdout",
     "output_type": "stream",
     "text": [
      "Processing Record 11  of Set 5 | taoudenni.\n"
     ]
    },
    {
     "name": "stderr",
     "output_type": "stream",
     "text": [
      "DEBUG:urllib3.connectionpool:https://api.openweathermap.org:443 \"GET /data/2.5/weather?units=imperial&q=mys%20shmidta&appid=bd8d52cf71d30c1b6d26f4c28f6a8e76 HTTP/1.1\" 404 40\n",
      "DEBUG:urllib3.connectionpool:Starting new HTTPS connection (1): api.openweathermap.org:443\n"
     ]
    },
    {
     "name": "stdout",
     "output_type": "stream",
     "text": [
      "Processing Record 12  of Set 5 | mys shmidta.\n",
      "City not found. Skipping...\n"
     ]
    },
    {
     "name": "stderr",
     "output_type": "stream",
     "text": [
      "DEBUG:urllib3.connectionpool:https://api.openweathermap.org:443 \"GET /data/2.5/weather?units=imperial&q=kumluca&appid=bd8d52cf71d30c1b6d26f4c28f6a8e76 HTTP/1.1\" 200 488\n",
      "DEBUG:urllib3.connectionpool:Starting new HTTPS connection (1): api.openweathermap.org:443\n"
     ]
    },
    {
     "name": "stdout",
     "output_type": "stream",
     "text": [
      "Processing Record 13  of Set 5 | kumluca.\n"
     ]
    },
    {
     "name": "stderr",
     "output_type": "stream",
     "text": [
      "DEBUG:urllib3.connectionpool:https://api.openweathermap.org:443 \"GET /data/2.5/weather?units=imperial&q=mindelo&appid=bd8d52cf71d30c1b6d26f4c28f6a8e76 HTTP/1.1\" 200 469\n",
      "DEBUG:urllib3.connectionpool:Starting new HTTPS connection (1): api.openweathermap.org:443\n"
     ]
    },
    {
     "name": "stdout",
     "output_type": "stream",
     "text": [
      "Processing Record 14  of Set 5 | mindelo.\n"
     ]
    },
    {
     "name": "stderr",
     "output_type": "stream",
     "text": [
      "DEBUG:urllib3.connectionpool:https://api.openweathermap.org:443 \"GET /data/2.5/weather?units=imperial&q=ancud&appid=bd8d52cf71d30c1b6d26f4c28f6a8e76 HTTP/1.1\" 200 461\n",
      "DEBUG:urllib3.connectionpool:Starting new HTTPS connection (1): api.openweathermap.org:443\n"
     ]
    },
    {
     "name": "stdout",
     "output_type": "stream",
     "text": [
      "Processing Record 15  of Set 5 | ancud.\n"
     ]
    },
    {
     "name": "stderr",
     "output_type": "stream",
     "text": [
      "DEBUG:urllib3.connectionpool:https://api.openweathermap.org:443 \"GET /data/2.5/weather?units=imperial&q=puerto%20del%20rosario&appid=bd8d52cf71d30c1b6d26f4c28f6a8e76 HTTP/1.1\" 200 479\n",
      "DEBUG:urllib3.connectionpool:Starting new HTTPS connection (1): api.openweathermap.org:443\n"
     ]
    },
    {
     "name": "stdout",
     "output_type": "stream",
     "text": [
      "Processing Record 16  of Set 5 | puerto del rosario.\n"
     ]
    },
    {
     "name": "stderr",
     "output_type": "stream",
     "text": [
      "DEBUG:urllib3.connectionpool:https://api.openweathermap.org:443 \"GET /data/2.5/weather?units=imperial&q=sompeta&appid=bd8d52cf71d30c1b6d26f4c28f6a8e76 HTTP/1.1\" 200 490\n",
      "DEBUG:urllib3.connectionpool:Starting new HTTPS connection (1): api.openweathermap.org:443\n"
     ]
    },
    {
     "name": "stdout",
     "output_type": "stream",
     "text": [
      "Processing Record 17  of Set 5 | sompeta.\n"
     ]
    },
    {
     "name": "stderr",
     "output_type": "stream",
     "text": [
      "DEBUG:urllib3.connectionpool:https://api.openweathermap.org:443 \"GET /data/2.5/weather?units=imperial&q=necochea&appid=bd8d52cf71d30c1b6d26f4c28f6a8e76 HTTP/1.1\" 200 473\n",
      "DEBUG:urllib3.connectionpool:Starting new HTTPS connection (1): api.openweathermap.org:443\n"
     ]
    },
    {
     "name": "stdout",
     "output_type": "stream",
     "text": [
      "Processing Record 18  of Set 5 | necochea.\n"
     ]
    },
    {
     "name": "stderr",
     "output_type": "stream",
     "text": [
      "DEBUG:urllib3.connectionpool:https://api.openweathermap.org:443 \"GET /data/2.5/weather?units=imperial&q=codrington&appid=bd8d52cf71d30c1b6d26f4c28f6a8e76 HTTP/1.1\" 200 508\n",
      "DEBUG:urllib3.connectionpool:Starting new HTTPS connection (1): api.openweathermap.org:443\n"
     ]
    },
    {
     "name": "stdout",
     "output_type": "stream",
     "text": [
      "Processing Record 19  of Set 5 | codrington.\n"
     ]
    },
    {
     "name": "stderr",
     "output_type": "stream",
     "text": [
      "DEBUG:urllib3.connectionpool:https://api.openweathermap.org:443 \"GET /data/2.5/weather?units=imperial&q=vaitupu&appid=bd8d52cf71d30c1b6d26f4c28f6a8e76 HTTP/1.1\" 404 40\n",
      "DEBUG:urllib3.connectionpool:Starting new HTTPS connection (1): api.openweathermap.org:443\n"
     ]
    },
    {
     "name": "stdout",
     "output_type": "stream",
     "text": [
      "Processing Record 20  of Set 5 | vaitupu.\n",
      "City not found. Skipping...\n"
     ]
    },
    {
     "name": "stderr",
     "output_type": "stream",
     "text": [
      "DEBUG:urllib3.connectionpool:https://api.openweathermap.org:443 \"GET /data/2.5/weather?units=imperial&q=tsihombe&appid=bd8d52cf71d30c1b6d26f4c28f6a8e76 HTTP/1.1\" 404 40\n",
      "DEBUG:urllib3.connectionpool:Starting new HTTPS connection (1): api.openweathermap.org:443\n"
     ]
    },
    {
     "name": "stdout",
     "output_type": "stream",
     "text": [
      "Processing Record 21  of Set 5 | tsihombe.\n",
      "City not found. Skipping...\n"
     ]
    },
    {
     "name": "stderr",
     "output_type": "stream",
     "text": [
      "DEBUG:urllib3.connectionpool:https://api.openweathermap.org:443 \"GET /data/2.5/weather?units=imperial&q=mahibadhoo&appid=bd8d52cf71d30c1b6d26f4c28f6a8e76 HTTP/1.1\" 200 492\n",
      "DEBUG:urllib3.connectionpool:Starting new HTTPS connection (1): api.openweathermap.org:443\n"
     ]
    },
    {
     "name": "stdout",
     "output_type": "stream",
     "text": [
      "Processing Record 22  of Set 5 | mahibadhoo.\n"
     ]
    },
    {
     "name": "stderr",
     "output_type": "stream",
     "text": [
      "DEBUG:urllib3.connectionpool:https://api.openweathermap.org:443 \"GET /data/2.5/weather?units=imperial&q=maniitsoq&appid=bd8d52cf71d30c1b6d26f4c28f6a8e76 HTTP/1.1\" 200 491\n",
      "DEBUG:urllib3.connectionpool:Starting new HTTPS connection (1): api.openweathermap.org:443\n"
     ]
    },
    {
     "name": "stdout",
     "output_type": "stream",
     "text": [
      "Processing Record 23  of Set 5 | maniitsoq.\n"
     ]
    },
    {
     "name": "stderr",
     "output_type": "stream",
     "text": [
      "DEBUG:urllib3.connectionpool:https://api.openweathermap.org:443 \"GET /data/2.5/weather?units=imperial&q=leningradskiy&appid=bd8d52cf71d30c1b6d26f4c28f6a8e76 HTTP/1.1\" 200 510\n",
      "DEBUG:urllib3.connectionpool:Starting new HTTPS connection (1): api.openweathermap.org:443\n"
     ]
    },
    {
     "name": "stdout",
     "output_type": "stream",
     "text": [
      "Processing Record 24  of Set 5 | leningradskiy.\n"
     ]
    },
    {
     "name": "stderr",
     "output_type": "stream",
     "text": [
      "DEBUG:urllib3.connectionpool:https://api.openweathermap.org:443 \"GET /data/2.5/weather?units=imperial&q=vanimo&appid=bd8d52cf71d30c1b6d26f4c28f6a8e76 HTTP/1.1\" 200 501\n",
      "DEBUG:urllib3.connectionpool:Starting new HTTPS connection (1): api.openweathermap.org:443\n"
     ]
    },
    {
     "name": "stdout",
     "output_type": "stream",
     "text": [
      "Processing Record 25  of Set 5 | vanimo.\n"
     ]
    },
    {
     "name": "stderr",
     "output_type": "stream",
     "text": [
      "DEBUG:urllib3.connectionpool:https://api.openweathermap.org:443 \"GET /data/2.5/weather?units=imperial&q=puerto%20escondido&appid=bd8d52cf71d30c1b6d26f4c28f6a8e76 HTTP/1.1\" 200 474\n",
      "DEBUG:urllib3.connectionpool:Starting new HTTPS connection (1): api.openweathermap.org:443\n"
     ]
    },
    {
     "name": "stdout",
     "output_type": "stream",
     "text": [
      "Processing Record 26  of Set 5 | puerto escondido.\n"
     ]
    },
    {
     "name": "stderr",
     "output_type": "stream",
     "text": [
      "DEBUG:urllib3.connectionpool:https://api.openweathermap.org:443 \"GET /data/2.5/weather?units=imperial&q=bolungarvik&appid=bd8d52cf71d30c1b6d26f4c28f6a8e76 HTTP/1.1\" 404 40\n",
      "DEBUG:urllib3.connectionpool:Starting new HTTPS connection (1): api.openweathermap.org:443\n"
     ]
    },
    {
     "name": "stdout",
     "output_type": "stream",
     "text": [
      "Processing Record 27  of Set 5 | bolungarvik.\n",
      "City not found. Skipping...\n"
     ]
    },
    {
     "name": "stderr",
     "output_type": "stream",
     "text": [
      "DEBUG:urllib3.connectionpool:https://api.openweathermap.org:443 \"GET /data/2.5/weather?units=imperial&q=dalaba&appid=bd8d52cf71d30c1b6d26f4c28f6a8e76 HTTP/1.1\" 200 492\n",
      "DEBUG:urllib3.connectionpool:Starting new HTTPS connection (1): api.openweathermap.org:443\n"
     ]
    },
    {
     "name": "stdout",
     "output_type": "stream",
     "text": [
      "Processing Record 28  of Set 5 | dalaba.\n"
     ]
    },
    {
     "name": "stderr",
     "output_type": "stream",
     "text": [
      "DEBUG:urllib3.connectionpool:https://api.openweathermap.org:443 \"GET /data/2.5/weather?units=imperial&q=esperance&appid=bd8d52cf71d30c1b6d26f4c28f6a8e76 HTTP/1.1\" 200 470\n",
      "DEBUG:urllib3.connectionpool:Starting new HTTPS connection (1): api.openweathermap.org:443\n"
     ]
    },
    {
     "name": "stdout",
     "output_type": "stream",
     "text": [
      "Processing Record 29  of Set 5 | esperance.\n"
     ]
    },
    {
     "name": "stderr",
     "output_type": "stream",
     "text": [
      "DEBUG:urllib3.connectionpool:https://api.openweathermap.org:443 \"GET /data/2.5/weather?units=imperial&q=alvand&appid=bd8d52cf71d30c1b6d26f4c28f6a8e76 HTTP/1.1\" 200 487\n",
      "DEBUG:urllib3.connectionpool:Starting new HTTPS connection (1): api.openweathermap.org:443\n"
     ]
    },
    {
     "name": "stdout",
     "output_type": "stream",
     "text": [
      "Processing Record 30  of Set 5 | alvand.\n"
     ]
    },
    {
     "name": "stderr",
     "output_type": "stream",
     "text": [
      "DEBUG:urllib3.connectionpool:https://api.openweathermap.org:443 \"GET /data/2.5/weather?units=imperial&q=mount%20gambier&appid=bd8d52cf71d30c1b6d26f4c28f6a8e76 HTTP/1.1\" 200 478\n",
      "DEBUG:urllib3.connectionpool:Starting new HTTPS connection (1): api.openweathermap.org:443\n"
     ]
    },
    {
     "name": "stdout",
     "output_type": "stream",
     "text": [
      "Processing Record 31  of Set 5 | mount gambier.\n"
     ]
    },
    {
     "name": "stderr",
     "output_type": "stream",
     "text": [
      "DEBUG:urllib3.connectionpool:https://api.openweathermap.org:443 \"GET /data/2.5/weather?units=imperial&q=bandarbeyla&appid=bd8d52cf71d30c1b6d26f4c28f6a8e76 HTTP/1.1\" 200 498\n",
      "DEBUG:urllib3.connectionpool:Starting new HTTPS connection (1): api.openweathermap.org:443\n"
     ]
    },
    {
     "name": "stdout",
     "output_type": "stream",
     "text": [
      "Processing Record 32  of Set 5 | bandarbeyla.\n"
     ]
    },
    {
     "name": "stderr",
     "output_type": "stream",
     "text": [
      "DEBUG:urllib3.connectionpool:https://api.openweathermap.org:443 \"GET /data/2.5/weather?units=imperial&q=betul&appid=bd8d52cf71d30c1b6d26f4c28f6a8e76 HTTP/1.1\" 200 479\n",
      "DEBUG:urllib3.connectionpool:Starting new HTTPS connection (1): api.openweathermap.org:443\n"
     ]
    },
    {
     "name": "stdout",
     "output_type": "stream",
     "text": [
      "Processing Record 33  of Set 5 | betul.\n"
     ]
    },
    {
     "name": "stderr",
     "output_type": "stream",
     "text": [
      "DEBUG:urllib3.connectionpool:https://api.openweathermap.org:443 \"GET /data/2.5/weather?units=imperial&q=moerai&appid=bd8d52cf71d30c1b6d26f4c28f6a8e76 HTTP/1.1\" 200 490\n",
      "DEBUG:urllib3.connectionpool:Starting new HTTPS connection (1): api.openweathermap.org:443\n"
     ]
    },
    {
     "name": "stdout",
     "output_type": "stream",
     "text": [
      "Processing Record 34  of Set 5 | moerai.\n"
     ]
    },
    {
     "name": "stderr",
     "output_type": "stream",
     "text": [
      "DEBUG:urllib3.connectionpool:https://api.openweathermap.org:443 \"GET /data/2.5/weather?units=imperial&q=okha&appid=bd8d52cf71d30c1b6d26f4c28f6a8e76 HTTP/1.1\" 200 483\n",
      "DEBUG:urllib3.connectionpool:Starting new HTTPS connection (1): api.openweathermap.org:443\n"
     ]
    },
    {
     "name": "stdout",
     "output_type": "stream",
     "text": [
      "Processing Record 35  of Set 5 | okha.\n"
     ]
    },
    {
     "name": "stderr",
     "output_type": "stream",
     "text": [
      "DEBUG:urllib3.connectionpool:https://api.openweathermap.org:443 \"GET /data/2.5/weather?units=imperial&q=saskylakh&appid=bd8d52cf71d30c1b6d26f4c28f6a8e76 HTTP/1.1\" 200 496\n",
      "DEBUG:urllib3.connectionpool:Starting new HTTPS connection (1): api.openweathermap.org:443\n"
     ]
    },
    {
     "name": "stdout",
     "output_type": "stream",
     "text": [
      "Processing Record 36  of Set 5 | saskylakh.\n"
     ]
    },
    {
     "name": "stderr",
     "output_type": "stream",
     "text": [
      "DEBUG:urllib3.connectionpool:https://api.openweathermap.org:443 \"GET /data/2.5/weather?units=imperial&q=katherine&appid=bd8d52cf71d30c1b6d26f4c28f6a8e76 HTTP/1.1\" 200 475\n",
      "DEBUG:urllib3.connectionpool:Starting new HTTPS connection (1): api.openweathermap.org:443\n"
     ]
    },
    {
     "name": "stdout",
     "output_type": "stream",
     "text": [
      "Processing Record 37  of Set 5 | katherine.\n"
     ]
    },
    {
     "name": "stderr",
     "output_type": "stream",
     "text": [
      "DEBUG:urllib3.connectionpool:https://api.openweathermap.org:443 \"GET /data/2.5/weather?units=imperial&q=abu%20dhabi&appid=bd8d52cf71d30c1b6d26f4c28f6a8e76 HTTP/1.1\" 200 461\n",
      "DEBUG:urllib3.connectionpool:Starting new HTTPS connection (1): api.openweathermap.org:443\n"
     ]
    },
    {
     "name": "stdout",
     "output_type": "stream",
     "text": [
      "Processing Record 38  of Set 5 | abu dhabi.\n"
     ]
    },
    {
     "name": "stderr",
     "output_type": "stream",
     "text": [
      "DEBUG:urllib3.connectionpool:https://api.openweathermap.org:443 \"GET /data/2.5/weather?units=imperial&q=raudeberg&appid=bd8d52cf71d30c1b6d26f4c28f6a8e76 HTTP/1.1\" 200 464\n",
      "DEBUG:urllib3.connectionpool:Starting new HTTPS connection (1): api.openweathermap.org:443\n"
     ]
    },
    {
     "name": "stdout",
     "output_type": "stream",
     "text": [
      "Processing Record 39  of Set 5 | raudeberg.\n"
     ]
    },
    {
     "name": "stderr",
     "output_type": "stream",
     "text": [
      "DEBUG:urllib3.connectionpool:https://api.openweathermap.org:443 \"GET /data/2.5/weather?units=imperial&q=honiara&appid=bd8d52cf71d30c1b6d26f4c28f6a8e76 HTTP/1.1\" 200 489\n",
      "DEBUG:urllib3.connectionpool:Starting new HTTPS connection (1): api.openweathermap.org:443\n"
     ]
    },
    {
     "name": "stdout",
     "output_type": "stream",
     "text": [
      "Processing Record 40  of Set 5 | honiara.\n"
     ]
    },
    {
     "name": "stderr",
     "output_type": "stream",
     "text": [
      "DEBUG:urllib3.connectionpool:https://api.openweathermap.org:443 \"GET /data/2.5/weather?units=imperial&q=caruray&appid=bd8d52cf71d30c1b6d26f4c28f6a8e76 HTTP/1.1\" 200 502\n",
      "DEBUG:urllib3.connectionpool:Starting new HTTPS connection (1): api.openweathermap.org:443\n"
     ]
    },
    {
     "name": "stdout",
     "output_type": "stream",
     "text": [
      "Processing Record 41  of Set 5 | caruray.\n"
     ]
    },
    {
     "name": "stderr",
     "output_type": "stream",
     "text": [
      "DEBUG:urllib3.connectionpool:https://api.openweathermap.org:443 \"GET /data/2.5/weather?units=imperial&q=morgan%20city&appid=bd8d52cf71d30c1b6d26f4c28f6a8e76 HTTP/1.1\" 200 469\n",
      "DEBUG:urllib3.connectionpool:Starting new HTTPS connection (1): api.openweathermap.org:443\n"
     ]
    },
    {
     "name": "stdout",
     "output_type": "stream",
     "text": [
      "Processing Record 42  of Set 5 | morgan city.\n"
     ]
    },
    {
     "name": "stderr",
     "output_type": "stream",
     "text": [
      "DEBUG:urllib3.connectionpool:https://api.openweathermap.org:443 \"GET /data/2.5/weather?units=imperial&q=amderma&appid=bd8d52cf71d30c1b6d26f4c28f6a8e76 HTTP/1.1\" 404 40\n",
      "DEBUG:urllib3.connectionpool:Starting new HTTPS connection (1): api.openweathermap.org:443\n"
     ]
    },
    {
     "name": "stdout",
     "output_type": "stream",
     "text": [
      "Processing Record 43  of Set 5 | amderma.\n",
      "City not found. Skipping...\n"
     ]
    },
    {
     "name": "stderr",
     "output_type": "stream",
     "text": [
      "DEBUG:urllib3.connectionpool:https://api.openweathermap.org:443 \"GET /data/2.5/weather?units=imperial&q=westport&appid=bd8d52cf71d30c1b6d26f4c28f6a8e76 HTTP/1.1\" 200 478\n",
      "DEBUG:urllib3.connectionpool:Starting new HTTPS connection (1): api.openweathermap.org:443\n"
     ]
    },
    {
     "name": "stdout",
     "output_type": "stream",
     "text": [
      "Processing Record 44  of Set 5 | westport.\n"
     ]
    },
    {
     "name": "stderr",
     "output_type": "stream",
     "text": [
      "DEBUG:urllib3.connectionpool:https://api.openweathermap.org:443 \"GET /data/2.5/weather?units=imperial&q=yushu&appid=bd8d52cf71d30c1b6d26f4c28f6a8e76 HTTP/1.1\" 200 484\n",
      "DEBUG:urllib3.connectionpool:Starting new HTTPS connection (1): api.openweathermap.org:443\n"
     ]
    },
    {
     "name": "stdout",
     "output_type": "stream",
     "text": [
      "Processing Record 45  of Set 5 | yushu.\n"
     ]
    },
    {
     "name": "stderr",
     "output_type": "stream",
     "text": [
      "DEBUG:urllib3.connectionpool:https://api.openweathermap.org:443 \"GET /data/2.5/weather?units=imperial&q=kokkola&appid=bd8d52cf71d30c1b6d26f4c28f6a8e76 HTTP/1.1\" 200 476\n",
      "DEBUG:urllib3.connectionpool:Starting new HTTPS connection (1): api.openweathermap.org:443\n"
     ]
    },
    {
     "name": "stdout",
     "output_type": "stream",
     "text": [
      "Processing Record 46  of Set 5 | kokkola.\n"
     ]
    },
    {
     "name": "stderr",
     "output_type": "stream",
     "text": [
      "DEBUG:urllib3.connectionpool:https://api.openweathermap.org:443 \"GET /data/2.5/weather?units=imperial&q=taonan&appid=bd8d52cf71d30c1b6d26f4c28f6a8e76 HTTP/1.1\" 200 491\n",
      "DEBUG:urllib3.connectionpool:Starting new HTTPS connection (1): api.openweathermap.org:443\n"
     ]
    },
    {
     "name": "stdout",
     "output_type": "stream",
     "text": [
      "Processing Record 47  of Set 5 | taonan.\n"
     ]
    },
    {
     "name": "stderr",
     "output_type": "stream",
     "text": [
      "DEBUG:urllib3.connectionpool:https://api.openweathermap.org:443 \"GET /data/2.5/weather?units=imperial&q=kpandu&appid=bd8d52cf71d30c1b6d26f4c28f6a8e76 HTTP/1.1\" 200 494\n",
      "DEBUG:urllib3.connectionpool:Starting new HTTPS connection (1): api.openweathermap.org:443\n"
     ]
    },
    {
     "name": "stdout",
     "output_type": "stream",
     "text": [
      "Processing Record 48  of Set 5 | kpandu.\n"
     ]
    },
    {
     "name": "stderr",
     "output_type": "stream",
     "text": [
      "DEBUG:urllib3.connectionpool:https://api.openweathermap.org:443 \"GET /data/2.5/weather?units=imperial&q=mamontovo&appid=bd8d52cf71d30c1b6d26f4c28f6a8e76 HTTP/1.1\" 200 486\n",
      "DEBUG:urllib3.connectionpool:Starting new HTTPS connection (1): api.openweathermap.org:443\n"
     ]
    },
    {
     "name": "stdout",
     "output_type": "stream",
     "text": [
      "Processing Record 49  of Set 5 | mamontovo.\n"
     ]
    },
    {
     "name": "stderr",
     "output_type": "stream",
     "text": [
      "DEBUG:urllib3.connectionpool:https://api.openweathermap.org:443 \"GET /data/2.5/weather?units=imperial&q=lebu&appid=bd8d52cf71d30c1b6d26f4c28f6a8e76 HTTP/1.1\" 200 486\n",
      "DEBUG:urllib3.connectionpool:Starting new HTTPS connection (1): api.openweathermap.org:443\n"
     ]
    },
    {
     "name": "stdout",
     "output_type": "stream",
     "text": [
      "Processing Record 0  of Set 6 | lebu.\n"
     ]
    },
    {
     "name": "stderr",
     "output_type": "stream",
     "text": [
      "DEBUG:urllib3.connectionpool:https://api.openweathermap.org:443 \"GET /data/2.5/weather?units=imperial&q=puerto%20leguizamo&appid=bd8d52cf71d30c1b6d26f4c28f6a8e76 HTTP/1.1\" 200 503\n",
      "DEBUG:urllib3.connectionpool:Starting new HTTPS connection (1): api.openweathermap.org:443\n"
     ]
    },
    {
     "name": "stdout",
     "output_type": "stream",
     "text": [
      "Processing Record 1  of Set 6 | puerto leguizamo.\n"
     ]
    },
    {
     "name": "stderr",
     "output_type": "stream",
     "text": [
      "DEBUG:urllib3.connectionpool:https://api.openweathermap.org:443 \"GET /data/2.5/weather?units=imperial&q=tighina&appid=bd8d52cf71d30c1b6d26f4c28f6a8e76 HTTP/1.1\" 200 461\n",
      "DEBUG:urllib3.connectionpool:Starting new HTTPS connection (1): api.openweathermap.org:443\n"
     ]
    },
    {
     "name": "stdout",
     "output_type": "stream",
     "text": [
      "Processing Record 2  of Set 6 | tighina.\n"
     ]
    },
    {
     "name": "stderr",
     "output_type": "stream",
     "text": [
      "DEBUG:urllib3.connectionpool:https://api.openweathermap.org:443 \"GET /data/2.5/weather?units=imperial&q=tukrah&appid=bd8d52cf71d30c1b6d26f4c28f6a8e76 HTTP/1.1\" 200 478\n",
      "DEBUG:urllib3.connectionpool:Starting new HTTPS connection (1): api.openweathermap.org:443\n"
     ]
    },
    {
     "name": "stdout",
     "output_type": "stream",
     "text": [
      "Processing Record 3  of Set 6 | tukrah.\n"
     ]
    },
    {
     "name": "stderr",
     "output_type": "stream",
     "text": [
      "DEBUG:urllib3.connectionpool:https://api.openweathermap.org:443 \"GET /data/2.5/weather?units=imperial&q=feijo&appid=bd8d52cf71d30c1b6d26f4c28f6a8e76 HTTP/1.1\" 200 489\n",
      "DEBUG:urllib3.connectionpool:Starting new HTTPS connection (1): api.openweathermap.org:443\n"
     ]
    },
    {
     "name": "stdout",
     "output_type": "stream",
     "text": [
      "Processing Record 4  of Set 6 | feijo.\n"
     ]
    },
    {
     "name": "stderr",
     "output_type": "stream",
     "text": [
      "DEBUG:urllib3.connectionpool:https://api.openweathermap.org:443 \"GET /data/2.5/weather?units=imperial&q=hami&appid=bd8d52cf71d30c1b6d26f4c28f6a8e76 HTTP/1.1\" 200 485\n",
      "DEBUG:urllib3.connectionpool:Starting new HTTPS connection (1): api.openweathermap.org:443\n"
     ]
    },
    {
     "name": "stdout",
     "output_type": "stream",
     "text": [
      "Processing Record 5  of Set 6 | hami.\n"
     ]
    },
    {
     "name": "stderr",
     "output_type": "stream",
     "text": [
      "DEBUG:urllib3.connectionpool:https://api.openweathermap.org:443 \"GET /data/2.5/weather?units=imperial&q=nerchinskiy%20zavod&appid=bd8d52cf71d30c1b6d26f4c28f6a8e76 HTTP/1.1\" 200 510\n",
      "DEBUG:urllib3.connectionpool:Starting new HTTPS connection (1): api.openweathermap.org:443\n"
     ]
    },
    {
     "name": "stdout",
     "output_type": "stream",
     "text": [
      "Processing Record 6  of Set 6 | nerchinskiy zavod.\n"
     ]
    },
    {
     "name": "stderr",
     "output_type": "stream",
     "text": [
      "DEBUG:urllib3.connectionpool:https://api.openweathermap.org:443 \"GET /data/2.5/weather?units=imperial&q=nhulunbuy&appid=bd8d52cf71d30c1b6d26f4c28f6a8e76 HTTP/1.1\" 200 476\n",
      "DEBUG:urllib3.connectionpool:Starting new HTTPS connection (1): api.openweathermap.org:443\n"
     ]
    },
    {
     "name": "stdout",
     "output_type": "stream",
     "text": [
      "Processing Record 7  of Set 6 | nhulunbuy.\n"
     ]
    },
    {
     "name": "stderr",
     "output_type": "stream",
     "text": [
      "DEBUG:urllib3.connectionpool:https://api.openweathermap.org:443 \"GET /data/2.5/weather?units=imperial&q=karakose&appid=bd8d52cf71d30c1b6d26f4c28f6a8e76 HTTP/1.1\" 404 40\n",
      "DEBUG:urllib3.connectionpool:Starting new HTTPS connection (1): api.openweathermap.org:443\n"
     ]
    },
    {
     "name": "stdout",
     "output_type": "stream",
     "text": [
      "Processing Record 8  of Set 6 | karakose.\n",
      "City not found. Skipping...\n"
     ]
    },
    {
     "name": "stderr",
     "output_type": "stream",
     "text": [
      "DEBUG:urllib3.connectionpool:https://api.openweathermap.org:443 \"GET /data/2.5/weather?units=imperial&q=nouadhibou&appid=bd8d52cf71d30c1b6d26f4c28f6a8e76 HTTP/1.1\" 200 468\n",
      "DEBUG:urllib3.connectionpool:Starting new HTTPS connection (1): api.openweathermap.org:443\n"
     ]
    },
    {
     "name": "stdout",
     "output_type": "stream",
     "text": [
      "Processing Record 9  of Set 6 | nouadhibou.\n"
     ]
    },
    {
     "name": "stderr",
     "output_type": "stream",
     "text": [
      "DEBUG:urllib3.connectionpool:https://api.openweathermap.org:443 \"GET /data/2.5/weather?units=imperial&q=makokou&appid=bd8d52cf71d30c1b6d26f4c28f6a8e76 HTTP/1.1\" 200 498\n",
      "DEBUG:urllib3.connectionpool:Starting new HTTPS connection (1): api.openweathermap.org:443\n"
     ]
    },
    {
     "name": "stdout",
     "output_type": "stream",
     "text": [
      "Processing Record 10  of Set 6 | makokou.\n"
     ]
    },
    {
     "name": "stderr",
     "output_type": "stream",
     "text": [
      "DEBUG:urllib3.connectionpool:https://api.openweathermap.org:443 \"GET /data/2.5/weather?units=imperial&q=margate&appid=bd8d52cf71d30c1b6d26f4c28f6a8e76 HTTP/1.1\" 200 456\n",
      "DEBUG:urllib3.connectionpool:Starting new HTTPS connection (1): api.openweathermap.org:443\n"
     ]
    },
    {
     "name": "stdout",
     "output_type": "stream",
     "text": [
      "Processing Record 11  of Set 6 | margate.\n"
     ]
    },
    {
     "name": "stderr",
     "output_type": "stream",
     "text": [
      "DEBUG:urllib3.connectionpool:https://api.openweathermap.org:443 \"GET /data/2.5/weather?units=imperial&q=sentyabrskiy&appid=bd8d52cf71d30c1b6d26f4c28f6a8e76 HTTP/1.1\" 404 40\n",
      "DEBUG:urllib3.connectionpool:Starting new HTTPS connection (1): api.openweathermap.org:443\n"
     ]
    },
    {
     "name": "stdout",
     "output_type": "stream",
     "text": [
      "Processing Record 12  of Set 6 | sentyabrskiy.\n",
      "City not found. Skipping...\n"
     ]
    },
    {
     "name": "stderr",
     "output_type": "stream",
     "text": [
      "DEBUG:urllib3.connectionpool:https://api.openweathermap.org:443 \"GET /data/2.5/weather?units=imperial&q=richards%20bay&appid=bd8d52cf71d30c1b6d26f4c28f6a8e76 HTTP/1.1\" 200 495\n",
      "DEBUG:urllib3.connectionpool:Starting new HTTPS connection (1): api.openweathermap.org:443\n"
     ]
    },
    {
     "name": "stdout",
     "output_type": "stream",
     "text": [
      "Processing Record 13  of Set 6 | richards bay.\n"
     ]
    },
    {
     "name": "stderr",
     "output_type": "stream",
     "text": [
      "DEBUG:urllib3.connectionpool:https://api.openweathermap.org:443 \"GET /data/2.5/weather?units=imperial&q=wanlaweyn&appid=bd8d52cf71d30c1b6d26f4c28f6a8e76 HTTP/1.1\" 200 480\n",
      "DEBUG:urllib3.connectionpool:Starting new HTTPS connection (1): api.openweathermap.org:443\n"
     ]
    },
    {
     "name": "stdout",
     "output_type": "stream",
     "text": [
      "Processing Record 14  of Set 6 | wanlaweyn.\n"
     ]
    },
    {
     "name": "stderr",
     "output_type": "stream",
     "text": [
      "DEBUG:urllib3.connectionpool:https://api.openweathermap.org:443 \"GET /data/2.5/weather?units=imperial&q=boa%20vista&appid=bd8d52cf71d30c1b6d26f4c28f6a8e76 HTTP/1.1\" 200 470\n",
      "DEBUG:urllib3.connectionpool:Starting new HTTPS connection (1): api.openweathermap.org:443\n"
     ]
    },
    {
     "name": "stdout",
     "output_type": "stream",
     "text": [
      "Processing Record 15  of Set 6 | boa vista.\n"
     ]
    },
    {
     "name": "stderr",
     "output_type": "stream",
     "text": [
      "DEBUG:urllib3.connectionpool:https://api.openweathermap.org:443 \"GET /data/2.5/weather?units=imperial&q=itarema&appid=bd8d52cf71d30c1b6d26f4c28f6a8e76 HTTP/1.1\" 200 491\n",
      "DEBUG:urllib3.connectionpool:Starting new HTTPS connection (1): api.openweathermap.org:443\n"
     ]
    },
    {
     "name": "stdout",
     "output_type": "stream",
     "text": [
      "Processing Record 16  of Set 6 | itarema.\n"
     ]
    },
    {
     "name": "stderr",
     "output_type": "stream",
     "text": [
      "DEBUG:urllib3.connectionpool:https://api.openweathermap.org:443 \"GET /data/2.5/weather?units=imperial&q=robertson&appid=bd8d52cf71d30c1b6d26f4c28f6a8e76 HTTP/1.1\" 200 462\n",
      "DEBUG:urllib3.connectionpool:Starting new HTTPS connection (1): api.openweathermap.org:443\n"
     ]
    },
    {
     "name": "stdout",
     "output_type": "stream",
     "text": [
      "Processing Record 17  of Set 6 | robertson.\n"
     ]
    },
    {
     "name": "stderr",
     "output_type": "stream",
     "text": [
      "DEBUG:urllib3.connectionpool:https://api.openweathermap.org:443 \"GET /data/2.5/weather?units=imperial&q=salalah&appid=bd8d52cf71d30c1b6d26f4c28f6a8e76 HTTP/1.1\" 200 460\n",
      "DEBUG:urllib3.connectionpool:Starting new HTTPS connection (1): api.openweathermap.org:443\n"
     ]
    },
    {
     "name": "stdout",
     "output_type": "stream",
     "text": [
      "Processing Record 18  of Set 6 | salalah.\n"
     ]
    },
    {
     "name": "stderr",
     "output_type": "stream",
     "text": [
      "DEBUG:urllib3.connectionpool:https://api.openweathermap.org:443 \"GET /data/2.5/weather?units=imperial&q=sitka&appid=bd8d52cf71d30c1b6d26f4c28f6a8e76 HTTP/1.1\" 200 603\n",
      "DEBUG:urllib3.connectionpool:Starting new HTTPS connection (1): api.openweathermap.org:443\n"
     ]
    },
    {
     "name": "stdout",
     "output_type": "stream",
     "text": [
      "Processing Record 19  of Set 6 | sitka.\n"
     ]
    },
    {
     "name": "stderr",
     "output_type": "stream",
     "text": [
      "DEBUG:urllib3.connectionpool:https://api.openweathermap.org:443 \"GET /data/2.5/weather?units=imperial&q=iranshahr&appid=bd8d52cf71d30c1b6d26f4c28f6a8e76 HTTP/1.1\" 200 464\n",
      "DEBUG:urllib3.connectionpool:Starting new HTTPS connection (1): api.openweathermap.org:443\n"
     ]
    },
    {
     "name": "stdout",
     "output_type": "stream",
     "text": [
      "Processing Record 20  of Set 6 | iranshahr.\n"
     ]
    },
    {
     "name": "stderr",
     "output_type": "stream",
     "text": [
      "DEBUG:urllib3.connectionpool:https://api.openweathermap.org:443 \"GET /data/2.5/weather?units=imperial&q=ponta%20delgada&appid=bd8d52cf71d30c1b6d26f4c28f6a8e76 HTTP/1.1\" 200 469\n",
      "DEBUG:urllib3.connectionpool:Starting new HTTPS connection (1): api.openweathermap.org:443\n"
     ]
    },
    {
     "name": "stdout",
     "output_type": "stream",
     "text": [
      "Processing Record 21  of Set 6 | ponta delgada.\n"
     ]
    },
    {
     "name": "stderr",
     "output_type": "stream",
     "text": [
      "DEBUG:urllib3.connectionpool:https://api.openweathermap.org:443 \"GET /data/2.5/weather?units=imperial&q=grand%20river%20south%20east&appid=bd8d52cf71d30c1b6d26f4c28f6a8e76 HTTP/1.1\" 404 40\n",
      "DEBUG:urllib3.connectionpool:Starting new HTTPS connection (1): api.openweathermap.org:443\n"
     ]
    },
    {
     "name": "stdout",
     "output_type": "stream",
     "text": [
      "Processing Record 22  of Set 6 | grand river south east.\n",
      "City not found. Skipping...\n"
     ]
    },
    {
     "name": "stderr",
     "output_type": "stream",
     "text": [
      "DEBUG:urllib3.connectionpool:https://api.openweathermap.org:443 \"GET /data/2.5/weather?units=imperial&q=bukama&appid=bd8d52cf71d30c1b6d26f4c28f6a8e76 HTTP/1.1\" 200 493\n",
      "DEBUG:urllib3.connectionpool:Starting new HTTPS connection (1): api.openweathermap.org:443\n"
     ]
    },
    {
     "name": "stdout",
     "output_type": "stream",
     "text": [
      "Processing Record 23  of Set 6 | bukama.\n"
     ]
    },
    {
     "name": "stderr",
     "output_type": "stream",
     "text": [
      "DEBUG:urllib3.connectionpool:https://api.openweathermap.org:443 \"GET /data/2.5/weather?units=imperial&q=neuquen&appid=bd8d52cf71d30c1b6d26f4c28f6a8e76 HTTP/1.1\" 200 472\n",
      "DEBUG:urllib3.connectionpool:Starting new HTTPS connection (1): api.openweathermap.org:443\n"
     ]
    },
    {
     "name": "stdout",
     "output_type": "stream",
     "text": [
      "Processing Record 24  of Set 6 | neuquen.\n"
     ]
    },
    {
     "name": "stderr",
     "output_type": "stream",
     "text": [
      "DEBUG:urllib3.connectionpool:https://api.openweathermap.org:443 \"GET /data/2.5/weather?units=imperial&q=catamarca&appid=bd8d52cf71d30c1b6d26f4c28f6a8e76 HTTP/1.1\" 200 514\n",
      "DEBUG:urllib3.connectionpool:Starting new HTTPS connection (1): api.openweathermap.org:443\n"
     ]
    },
    {
     "name": "stdout",
     "output_type": "stream",
     "text": [
      "Processing Record 25  of Set 6 | catamarca.\n"
     ]
    },
    {
     "name": "stderr",
     "output_type": "stream",
     "text": [
      "DEBUG:urllib3.connectionpool:https://api.openweathermap.org:443 \"GET /data/2.5/weather?units=imperial&q=saravan&appid=bd8d52cf71d30c1b6d26f4c28f6a8e76 HTTP/1.1\" 200 467\n",
      "DEBUG:urllib3.connectionpool:Starting new HTTPS connection (1): api.openweathermap.org:443\n"
     ]
    },
    {
     "name": "stdout",
     "output_type": "stream",
     "text": [
      "Processing Record 26  of Set 6 | saravan.\n"
     ]
    },
    {
     "name": "stderr",
     "output_type": "stream",
     "text": [
      "DEBUG:urllib3.connectionpool:https://api.openweathermap.org:443 \"GET /data/2.5/weather?units=imperial&q=shilka&appid=bd8d52cf71d30c1b6d26f4c28f6a8e76 HTTP/1.1\" 200 488\n",
      "DEBUG:urllib3.connectionpool:Starting new HTTPS connection (1): api.openweathermap.org:443\n"
     ]
    },
    {
     "name": "stdout",
     "output_type": "stream",
     "text": [
      "Processing Record 27  of Set 6 | shilka.\n"
     ]
    },
    {
     "name": "stderr",
     "output_type": "stream",
     "text": [
      "DEBUG:urllib3.connectionpool:https://api.openweathermap.org:443 \"GET /data/2.5/weather?units=imperial&q=shubarshi&appid=bd8d52cf71d30c1b6d26f4c28f6a8e76 HTTP/1.1\" 200 501\n",
      "DEBUG:urllib3.connectionpool:Starting new HTTPS connection (1): api.openweathermap.org:443\n"
     ]
    },
    {
     "name": "stdout",
     "output_type": "stream",
     "text": [
      "Processing Record 28  of Set 6 | shubarshi.\n"
     ]
    },
    {
     "name": "stderr",
     "output_type": "stream",
     "text": [
      "DEBUG:urllib3.connectionpool:https://api.openweathermap.org:443 \"GET /data/2.5/weather?units=imperial&q=kloulklubed&appid=bd8d52cf71d30c1b6d26f4c28f6a8e76 HTTP/1.1\" 200 501\n",
      "DEBUG:urllib3.connectionpool:Starting new HTTPS connection (1): api.openweathermap.org:443\n"
     ]
    },
    {
     "name": "stdout",
     "output_type": "stream",
     "text": [
      "Processing Record 29  of Set 6 | kloulklubed.\n"
     ]
    },
    {
     "name": "stderr",
     "output_type": "stream",
     "text": [
      "DEBUG:urllib3.connectionpool:https://api.openweathermap.org:443 \"GET /data/2.5/weather?units=imperial&q=vao&appid=bd8d52cf71d30c1b6d26f4c28f6a8e76 HTTP/1.1\" 200 495\n",
      "DEBUG:urllib3.connectionpool:Starting new HTTPS connection (1): api.openweathermap.org:443\n"
     ]
    },
    {
     "name": "stdout",
     "output_type": "stream",
     "text": [
      "Processing Record 30  of Set 6 | vao.\n"
     ]
    },
    {
     "name": "stderr",
     "output_type": "stream",
     "text": [
      "DEBUG:urllib3.connectionpool:https://api.openweathermap.org:443 \"GET /data/2.5/weather?units=imperial&q=oktyabrskiy&appid=bd8d52cf71d30c1b6d26f4c28f6a8e76 HTTP/1.1\" 200 502\n",
      "DEBUG:urllib3.connectionpool:Starting new HTTPS connection (1): api.openweathermap.org:443\n"
     ]
    },
    {
     "name": "stdout",
     "output_type": "stream",
     "text": [
      "Processing Record 31  of Set 6 | oktyabrskiy.\n"
     ]
    },
    {
     "name": "stderr",
     "output_type": "stream",
     "text": [
      "DEBUG:urllib3.connectionpool:https://api.openweathermap.org:443 \"GET /data/2.5/weather?units=imperial&q=teguldet&appid=bd8d52cf71d30c1b6d26f4c28f6a8e76 HTTP/1.1\" 200 486\n",
      "DEBUG:urllib3.connectionpool:Starting new HTTPS connection (1): api.openweathermap.org:443\n"
     ]
    },
    {
     "name": "stdout",
     "output_type": "stream",
     "text": [
      "Processing Record 32  of Set 6 | teguldet.\n"
     ]
    },
    {
     "name": "stderr",
     "output_type": "stream",
     "text": [
      "DEBUG:urllib3.connectionpool:https://api.openweathermap.org:443 \"GET /data/2.5/weather?units=imperial&q=linchuan&appid=bd8d52cf71d30c1b6d26f4c28f6a8e76 HTTP/1.1\" 404 40\n",
      "DEBUG:urllib3.connectionpool:Starting new HTTPS connection (1): api.openweathermap.org:443\n"
     ]
    },
    {
     "name": "stdout",
     "output_type": "stream",
     "text": [
      "Processing Record 33  of Set 6 | linchuan.\n",
      "City not found. Skipping...\n"
     ]
    },
    {
     "name": "stderr",
     "output_type": "stream",
     "text": [
      "DEBUG:urllib3.connectionpool:https://api.openweathermap.org:443 \"GET /data/2.5/weather?units=imperial&q=nanakuli&appid=bd8d52cf71d30c1b6d26f4c28f6a8e76 HTTP/1.1\" 200 484\n",
      "DEBUG:urllib3.connectionpool:Starting new HTTPS connection (1): api.openweathermap.org:443\n"
     ]
    },
    {
     "name": "stdout",
     "output_type": "stream",
     "text": [
      "Processing Record 34  of Set 6 | nanakuli.\n"
     ]
    },
    {
     "name": "stderr",
     "output_type": "stream",
     "text": [
      "DEBUG:urllib3.connectionpool:https://api.openweathermap.org:443 \"GET /data/2.5/weather?units=imperial&q=at-bashi&appid=bd8d52cf71d30c1b6d26f4c28f6a8e76 HTTP/1.1\" 200 500\n",
      "DEBUG:urllib3.connectionpool:Starting new HTTPS connection (1): api.openweathermap.org:443\n"
     ]
    },
    {
     "name": "stdout",
     "output_type": "stream",
     "text": [
      "Processing Record 35  of Set 6 | at-bashi.\n"
     ]
    },
    {
     "name": "stderr",
     "output_type": "stream",
     "text": [
      "DEBUG:urllib3.connectionpool:https://api.openweathermap.org:443 \"GET /data/2.5/weather?units=imperial&q=qaqortoq&appid=bd8d52cf71d30c1b6d26f4c28f6a8e76 HTTP/1.1\" 200 467\n",
      "DEBUG:urllib3.connectionpool:Starting new HTTPS connection (1): api.openweathermap.org:443\n"
     ]
    },
    {
     "name": "stdout",
     "output_type": "stream",
     "text": [
      "Processing Record 36  of Set 6 | qaqortoq.\n"
     ]
    },
    {
     "name": "stderr",
     "output_type": "stream",
     "text": [
      "DEBUG:urllib3.connectionpool:https://api.openweathermap.org:443 \"GET /data/2.5/weather?units=imperial&q=chapais&appid=bd8d52cf71d30c1b6d26f4c28f6a8e76 HTTP/1.1\" 200 481\n",
      "DEBUG:urllib3.connectionpool:Starting new HTTPS connection (1): api.openweathermap.org:443\n"
     ]
    },
    {
     "name": "stdout",
     "output_type": "stream",
     "text": [
      "Processing Record 37  of Set 6 | chapais.\n"
     ]
    },
    {
     "name": "stderr",
     "output_type": "stream",
     "text": [
      "DEBUG:urllib3.connectionpool:https://api.openweathermap.org:443 \"GET /data/2.5/weather?units=imperial&q=nioro&appid=bd8d52cf71d30c1b6d26f4c28f6a8e76 HTTP/1.1\" 200 473\n",
      "DEBUG:urllib3.connectionpool:Starting new HTTPS connection (1): api.openweathermap.org:443\n"
     ]
    },
    {
     "name": "stdout",
     "output_type": "stream",
     "text": [
      "Processing Record 38  of Set 6 | nioro.\n"
     ]
    },
    {
     "name": "stderr",
     "output_type": "stream",
     "text": [
      "DEBUG:urllib3.connectionpool:https://api.openweathermap.org:443 \"GET /data/2.5/weather?units=imperial&q=kaohsiung&appid=bd8d52cf71d30c1b6d26f4c28f6a8e76 HTTP/1.1\" 200 473\n",
      "DEBUG:urllib3.connectionpool:Starting new HTTPS connection (1): api.openweathermap.org:443\n"
     ]
    },
    {
     "name": "stdout",
     "output_type": "stream",
     "text": [
      "Processing Record 39  of Set 6 | kaohsiung.\n"
     ]
    },
    {
     "name": "stderr",
     "output_type": "stream",
     "text": [
      "DEBUG:urllib3.connectionpool:https://api.openweathermap.org:443 \"GET /data/2.5/weather?units=imperial&q=shenjiamen&appid=bd8d52cf71d30c1b6d26f4c28f6a8e76 HTTP/1.1\" 200 492\n",
      "DEBUG:urllib3.connectionpool:Starting new HTTPS connection (1): api.openweathermap.org:443\n"
     ]
    },
    {
     "name": "stdout",
     "output_type": "stream",
     "text": [
      "Processing Record 40  of Set 6 | shenjiamen.\n"
     ]
    },
    {
     "name": "stderr",
     "output_type": "stream",
     "text": [
      "DEBUG:urllib3.connectionpool:https://api.openweathermap.org:443 \"GET /data/2.5/weather?units=imperial&q=caravelas&appid=bd8d52cf71d30c1b6d26f4c28f6a8e76 HTTP/1.1\" 200 486\n",
      "DEBUG:urllib3.connectionpool:Starting new HTTPS connection (1): api.openweathermap.org:443\n"
     ]
    },
    {
     "name": "stdout",
     "output_type": "stream",
     "text": [
      "Processing Record 41  of Set 6 | caravelas.\n"
     ]
    },
    {
     "name": "stderr",
     "output_type": "stream",
     "text": [
      "DEBUG:urllib3.connectionpool:https://api.openweathermap.org:443 \"GET /data/2.5/weather?units=imperial&q=langsa&appid=bd8d52cf71d30c1b6d26f4c28f6a8e76 HTTP/1.1\" 200 487\n",
      "DEBUG:urllib3.connectionpool:Starting new HTTPS connection (1): api.openweathermap.org:443\n"
     ]
    },
    {
     "name": "stdout",
     "output_type": "stream",
     "text": [
      "Processing Record 42  of Set 6 | langsa.\n"
     ]
    },
    {
     "name": "stderr",
     "output_type": "stream",
     "text": [
      "DEBUG:urllib3.connectionpool:https://api.openweathermap.org:443 \"GET /data/2.5/weather?units=imperial&q=samfya&appid=bd8d52cf71d30c1b6d26f4c28f6a8e76 HTTP/1.1\" 200 515\n",
      "DEBUG:urllib3.connectionpool:Starting new HTTPS connection (1): api.openweathermap.org:443\n"
     ]
    },
    {
     "name": "stdout",
     "output_type": "stream",
     "text": [
      "Processing Record 43  of Set 6 | samfya.\n"
     ]
    },
    {
     "name": "stderr",
     "output_type": "stream",
     "text": [
      "DEBUG:urllib3.connectionpool:https://api.openweathermap.org:443 \"GET /data/2.5/weather?units=imperial&q=san%20patricio&appid=bd8d52cf71d30c1b6d26f4c28f6a8e76 HTTP/1.1\" 200 474\n",
      "DEBUG:urllib3.connectionpool:Starting new HTTPS connection (1): api.openweathermap.org:443\n"
     ]
    },
    {
     "name": "stdout",
     "output_type": "stream",
     "text": [
      "Processing Record 44  of Set 6 | san patricio.\n"
     ]
    },
    {
     "name": "stderr",
     "output_type": "stream",
     "text": [
      "DEBUG:urllib3.connectionpool:https://api.openweathermap.org:443 \"GET /data/2.5/weather?units=imperial&q=sinjah&appid=bd8d52cf71d30c1b6d26f4c28f6a8e76 HTTP/1.1\" 404 40\n",
      "DEBUG:urllib3.connectionpool:Starting new HTTPS connection (1): api.openweathermap.org:443\n"
     ]
    },
    {
     "name": "stdout",
     "output_type": "stream",
     "text": [
      "Processing Record 45  of Set 6 | sinjah.\n",
      "City not found. Skipping...\n"
     ]
    },
    {
     "name": "stderr",
     "output_type": "stream",
     "text": [
      "DEBUG:urllib3.connectionpool:https://api.openweathermap.org:443 \"GET /data/2.5/weather?units=imperial&q=ouesso&appid=bd8d52cf71d30c1b6d26f4c28f6a8e76 HTTP/1.1\" 200 484\n",
      "DEBUG:urllib3.connectionpool:Starting new HTTPS connection (1): api.openweathermap.org:443\n"
     ]
    },
    {
     "name": "stdout",
     "output_type": "stream",
     "text": [
      "Processing Record 46  of Set 6 | ouesso.\n"
     ]
    },
    {
     "name": "stderr",
     "output_type": "stream",
     "text": [
      "DEBUG:urllib3.connectionpool:https://api.openweathermap.org:443 \"GET /data/2.5/weather?units=imperial&q=marsa%20matruh&appid=bd8d52cf71d30c1b6d26f4c28f6a8e76 HTTP/1.1\" 200 476\n",
      "DEBUG:urllib3.connectionpool:Starting new HTTPS connection (1): api.openweathermap.org:443\n"
     ]
    },
    {
     "name": "stdout",
     "output_type": "stream",
     "text": [
      "Processing Record 47  of Set 6 | marsa matruh.\n"
     ]
    },
    {
     "name": "stderr",
     "output_type": "stream",
     "text": [
      "DEBUG:urllib3.connectionpool:https://api.openweathermap.org:443 \"GET /data/2.5/weather?units=imperial&q=hofn&appid=bd8d52cf71d30c1b6d26f4c28f6a8e76 HTTP/1.1\" 200 486\n",
      "DEBUG:urllib3.connectionpool:Starting new HTTPS connection (1): api.openweathermap.org:443\n"
     ]
    },
    {
     "name": "stdout",
     "output_type": "stream",
     "text": [
      "Processing Record 48  of Set 6 | hofn.\n"
     ]
    },
    {
     "name": "stderr",
     "output_type": "stream",
     "text": [
      "DEBUG:urllib3.connectionpool:https://api.openweathermap.org:443 \"GET /data/2.5/weather?units=imperial&q=alta%20floresta&appid=bd8d52cf71d30c1b6d26f4c28f6a8e76 HTTP/1.1\" 200 503\n",
      "DEBUG:urllib3.connectionpool:Starting new HTTPS connection (1): api.openweathermap.org:443\n"
     ]
    },
    {
     "name": "stdout",
     "output_type": "stream",
     "text": [
      "Processing Record 49  of Set 6 | alta floresta.\n"
     ]
    },
    {
     "name": "stderr",
     "output_type": "stream",
     "text": [
      "DEBUG:urllib3.connectionpool:https://api.openweathermap.org:443 \"GET /data/2.5/weather?units=imperial&q=vieste&appid=bd8d52cf71d30c1b6d26f4c28f6a8e76 HTTP/1.1\" 200 455\n",
      "DEBUG:urllib3.connectionpool:Starting new HTTPS connection (1): api.openweathermap.org:443\n"
     ]
    },
    {
     "name": "stdout",
     "output_type": "stream",
     "text": [
      "Processing Record 0  of Set 7 | vieste.\n"
     ]
    },
    {
     "name": "stderr",
     "output_type": "stream",
     "text": [
      "DEBUG:urllib3.connectionpool:https://api.openweathermap.org:443 \"GET /data/2.5/weather?units=imperial&q=cubulco&appid=bd8d52cf71d30c1b6d26f4c28f6a8e76 HTTP/1.1\" 200 507\n",
      "DEBUG:urllib3.connectionpool:Starting new HTTPS connection (1): api.openweathermap.org:443\n"
     ]
    },
    {
     "name": "stdout",
     "output_type": "stream",
     "text": [
      "Processing Record 1  of Set 7 | cubulco.\n"
     ]
    },
    {
     "name": "stderr",
     "output_type": "stream",
     "text": [
      "DEBUG:urllib3.connectionpool:https://api.openweathermap.org:443 \"GET /data/2.5/weather?units=imperial&q=tartki&appid=bd8d52cf71d30c1b6d26f4c28f6a8e76 HTTP/1.1\" 404 40\n",
      "DEBUG:urllib3.connectionpool:Starting new HTTPS connection (1): api.openweathermap.org:443\n"
     ]
    },
    {
     "name": "stdout",
     "output_type": "stream",
     "text": [
      "Processing Record 2  of Set 7 | tartki.\n",
      "City not found. Skipping...\n"
     ]
    },
    {
     "name": "stderr",
     "output_type": "stream",
     "text": [
      "DEBUG:urllib3.connectionpool:https://api.openweathermap.org:443 \"GET /data/2.5/weather?units=imperial&q=cabatuan&appid=bd8d52cf71d30c1b6d26f4c28f6a8e76 HTTP/1.1\" 200 490\n",
      "DEBUG:urllib3.connectionpool:Starting new HTTPS connection (1): api.openweathermap.org:443\n"
     ]
    },
    {
     "name": "stdout",
     "output_type": "stream",
     "text": [
      "Processing Record 3  of Set 7 | cabatuan.\n"
     ]
    },
    {
     "name": "stderr",
     "output_type": "stream",
     "text": [
      "DEBUG:urllib3.connectionpool:https://api.openweathermap.org:443 \"GET /data/2.5/weather?units=imperial&q=martapura&appid=bd8d52cf71d30c1b6d26f4c28f6a8e76 HTTP/1.1\" 200 471\n",
      "DEBUG:urllib3.connectionpool:Starting new HTTPS connection (1): api.openweathermap.org:443\n"
     ]
    },
    {
     "name": "stdout",
     "output_type": "stream",
     "text": [
      "Processing Record 4  of Set 7 | martapura.\n"
     ]
    },
    {
     "name": "stderr",
     "output_type": "stream",
     "text": [
      "DEBUG:urllib3.connectionpool:https://api.openweathermap.org:443 \"GET /data/2.5/weather?units=imperial&q=trinidad&appid=bd8d52cf71d30c1b6d26f4c28f6a8e76 HTTP/1.1\" 200 478\n",
      "DEBUG:urllib3.connectionpool:Starting new HTTPS connection (1): api.openweathermap.org:443\n"
     ]
    },
    {
     "name": "stdout",
     "output_type": "stream",
     "text": [
      "Processing Record 5  of Set 7 | trinidad.\n"
     ]
    },
    {
     "name": "stderr",
     "output_type": "stream",
     "text": [
      "DEBUG:urllib3.connectionpool:https://api.openweathermap.org:443 \"GET /data/2.5/weather?units=imperial&q=tilichiki&appid=bd8d52cf71d30c1b6d26f4c28f6a8e76 HTTP/1.1\" 200 488\n",
      "DEBUG:urllib3.connectionpool:Starting new HTTPS connection (1): api.openweathermap.org:443\n"
     ]
    },
    {
     "name": "stdout",
     "output_type": "stream",
     "text": [
      "Processing Record 6  of Set 7 | tilichiki.\n"
     ]
    },
    {
     "name": "stderr",
     "output_type": "stream",
     "text": [
      "DEBUG:urllib3.connectionpool:https://api.openweathermap.org:443 \"GET /data/2.5/weather?units=imperial&q=lagoa&appid=bd8d52cf71d30c1b6d26f4c28f6a8e76 HTTP/1.1\" 200 487\n",
      "DEBUG:urllib3.connectionpool:Starting new HTTPS connection (1): api.openweathermap.org:443\n"
     ]
    },
    {
     "name": "stdout",
     "output_type": "stream",
     "text": [
      "Processing Record 7  of Set 7 | lagoa.\n"
     ]
    },
    {
     "name": "stderr",
     "output_type": "stream",
     "text": [
      "DEBUG:urllib3.connectionpool:https://api.openweathermap.org:443 \"GET /data/2.5/weather?units=imperial&q=aitape&appid=bd8d52cf71d30c1b6d26f4c28f6a8e76 HTTP/1.1\" 200 517\n",
      "DEBUG:urllib3.connectionpool:Starting new HTTPS connection (1): api.openweathermap.org:443\n"
     ]
    },
    {
     "name": "stdout",
     "output_type": "stream",
     "text": [
      "Processing Record 8  of Set 7 | aitape.\n"
     ]
    },
    {
     "name": "stderr",
     "output_type": "stream",
     "text": [
      "DEBUG:urllib3.connectionpool:https://api.openweathermap.org:443 \"GET /data/2.5/weather?units=imperial&q=sistranda&appid=bd8d52cf71d30c1b6d26f4c28f6a8e76 HTTP/1.1\" 200 462\n",
      "DEBUG:urllib3.connectionpool:Starting new HTTPS connection (1): api.openweathermap.org:443\n"
     ]
    },
    {
     "name": "stdout",
     "output_type": "stream",
     "text": [
      "Processing Record 9  of Set 7 | sistranda.\n"
     ]
    },
    {
     "name": "stderr",
     "output_type": "stream",
     "text": [
      "DEBUG:urllib3.connectionpool:https://api.openweathermap.org:443 \"GET /data/2.5/weather?units=imperial&q=skelleftea&appid=bd8d52cf71d30c1b6d26f4c28f6a8e76 HTTP/1.1\" 200 466\n",
      "DEBUG:urllib3.connectionpool:Starting new HTTPS connection (1): api.openweathermap.org:443\n"
     ]
    },
    {
     "name": "stdout",
     "output_type": "stream",
     "text": [
      "Processing Record 10  of Set 7 | skelleftea.\n"
     ]
    },
    {
     "name": "stderr",
     "output_type": "stream",
     "text": [
      "DEBUG:urllib3.connectionpool:https://api.openweathermap.org:443 \"GET /data/2.5/weather?units=imperial&q=beruni&appid=bd8d52cf71d30c1b6d26f4c28f6a8e76 HTTP/1.1\" 404 40\n",
      "DEBUG:urllib3.connectionpool:Starting new HTTPS connection (1): api.openweathermap.org:443\n"
     ]
    },
    {
     "name": "stdout",
     "output_type": "stream",
     "text": [
      "Processing Record 11  of Set 7 | beruni.\n",
      "City not found. Skipping...\n"
     ]
    },
    {
     "name": "stderr",
     "output_type": "stream",
     "text": [
      "DEBUG:urllib3.connectionpool:https://api.openweathermap.org:443 \"GET /data/2.5/weather?units=imperial&q=longyearbyen&appid=bd8d52cf71d30c1b6d26f4c28f6a8e76 HTTP/1.1\" 200 469\n",
      "DEBUG:urllib3.connectionpool:Starting new HTTPS connection (1): api.openweathermap.org:443\n"
     ]
    },
    {
     "name": "stdout",
     "output_type": "stream",
     "text": [
      "Processing Record 12  of Set 7 | longyearbyen.\n"
     ]
    },
    {
     "name": "stderr",
     "output_type": "stream",
     "text": [
      "DEBUG:urllib3.connectionpool:https://api.openweathermap.org:443 \"GET /data/2.5/weather?units=imperial&q=tromso&appid=bd8d52cf71d30c1b6d26f4c28f6a8e76 HTTP/1.1\" 200 480\n",
      "DEBUG:urllib3.connectionpool:Starting new HTTPS connection (1): api.openweathermap.org:443\n"
     ]
    },
    {
     "name": "stdout",
     "output_type": "stream",
     "text": [
      "Processing Record 13  of Set 7 | tromso.\n"
     ]
    },
    {
     "name": "stderr",
     "output_type": "stream",
     "text": [
      "DEBUG:urllib3.connectionpool:https://api.openweathermap.org:443 \"GET /data/2.5/weather?units=imperial&q=erenhot&appid=bd8d52cf71d30c1b6d26f4c28f6a8e76 HTTP/1.1\" 200 488\n",
      "DEBUG:urllib3.connectionpool:Starting new HTTPS connection (1): api.openweathermap.org:443\n"
     ]
    },
    {
     "name": "stdout",
     "output_type": "stream",
     "text": [
      "Processing Record 14  of Set 7 | erenhot.\n"
     ]
    },
    {
     "name": "stderr",
     "output_type": "stream",
     "text": [
      "DEBUG:urllib3.connectionpool:https://api.openweathermap.org:443 \"GET /data/2.5/weather?units=imperial&q=fairbanks&appid=bd8d52cf71d30c1b6d26f4c28f6a8e76 HTTP/1.1\" 200 522\n",
      "DEBUG:urllib3.connectionpool:Starting new HTTPS connection (1): api.openweathermap.org:443\n"
     ]
    },
    {
     "name": "stdout",
     "output_type": "stream",
     "text": [
      "Processing Record 15  of Set 7 | fairbanks.\n"
     ]
    },
    {
     "name": "stderr",
     "output_type": "stream",
     "text": [
      "DEBUG:urllib3.connectionpool:https://api.openweathermap.org:443 \"GET /data/2.5/weather?units=imperial&q=pamekasan&appid=bd8d52cf71d30c1b6d26f4c28f6a8e76 HTTP/1.1\" 200 504\n",
      "DEBUG:urllib3.connectionpool:Starting new HTTPS connection (1): api.openweathermap.org:443\n"
     ]
    },
    {
     "name": "stdout",
     "output_type": "stream",
     "text": [
      "Processing Record 16  of Set 7 | pamekasan.\n"
     ]
    },
    {
     "name": "stderr",
     "output_type": "stream",
     "text": [
      "DEBUG:urllib3.connectionpool:https://api.openweathermap.org:443 \"GET /data/2.5/weather?units=imperial&q=vardo&appid=bd8d52cf71d30c1b6d26f4c28f6a8e76 HTTP/1.1\" 200 480\n",
      "DEBUG:urllib3.connectionpool:Starting new HTTPS connection (1): api.openweathermap.org:443\n"
     ]
    },
    {
     "name": "stdout",
     "output_type": "stream",
     "text": [
      "Processing Record 17  of Set 7 | vardo.\n"
     ]
    },
    {
     "name": "stderr",
     "output_type": "stream",
     "text": [
      "DEBUG:urllib3.connectionpool:https://api.openweathermap.org:443 \"GET /data/2.5/weather?units=imperial&q=koslan&appid=bd8d52cf71d30c1b6d26f4c28f6a8e76 HTTP/1.1\" 200 496\n",
      "DEBUG:urllib3.connectionpool:Starting new HTTPS connection (1): api.openweathermap.org:443\n"
     ]
    },
    {
     "name": "stdout",
     "output_type": "stream",
     "text": [
      "Processing Record 18  of Set 7 | koslan.\n"
     ]
    },
    {
     "name": "stderr",
     "output_type": "stream",
     "text": [
      "DEBUG:urllib3.connectionpool:https://api.openweathermap.org:443 \"GET /data/2.5/weather?units=imperial&q=bani%20walid&appid=bd8d52cf71d30c1b6d26f4c28f6a8e76 HTTP/1.1\" 200 501\n",
      "DEBUG:urllib3.connectionpool:Starting new HTTPS connection (1): api.openweathermap.org:443\n"
     ]
    },
    {
     "name": "stdout",
     "output_type": "stream",
     "text": [
      "Processing Record 19  of Set 7 | bani walid.\n"
     ]
    },
    {
     "name": "stderr",
     "output_type": "stream",
     "text": [
      "DEBUG:urllib3.connectionpool:https://api.openweathermap.org:443 \"GET /data/2.5/weather?units=imperial&q=denpasar&appid=bd8d52cf71d30c1b6d26f4c28f6a8e76 HTTP/1.1\" 200 469\n",
      "DEBUG:urllib3.connectionpool:Starting new HTTPS connection (1): api.openweathermap.org:443\n"
     ]
    },
    {
     "name": "stdout",
     "output_type": "stream",
     "text": [
      "Processing Record 20  of Set 7 | denpasar.\n"
     ]
    },
    {
     "name": "stderr",
     "output_type": "stream",
     "text": [
      "DEBUG:urllib3.connectionpool:https://api.openweathermap.org:443 \"GET /data/2.5/weather?units=imperial&q=novyy%20urengoy&appid=bd8d52cf71d30c1b6d26f4c28f6a8e76 HTTP/1.1\" 200 506\n",
      "DEBUG:urllib3.connectionpool:Starting new HTTPS connection (1): api.openweathermap.org:443\n"
     ]
    },
    {
     "name": "stdout",
     "output_type": "stream",
     "text": [
      "Processing Record 21  of Set 7 | novyy urengoy.\n"
     ]
    },
    {
     "name": "stderr",
     "output_type": "stream",
     "text": [
      "DEBUG:urllib3.connectionpool:https://api.openweathermap.org:443 \"GET /data/2.5/weather?units=imperial&q=fukue&appid=bd8d52cf71d30c1b6d26f4c28f6a8e76 HTTP/1.1\" 200 492\n",
      "DEBUG:urllib3.connectionpool:Starting new HTTPS connection (1): api.openweathermap.org:443\n"
     ]
    },
    {
     "name": "stdout",
     "output_type": "stream",
     "text": [
      "Processing Record 22  of Set 7 | fukue.\n"
     ]
    },
    {
     "name": "stderr",
     "output_type": "stream",
     "text": [
      "DEBUG:urllib3.connectionpool:https://api.openweathermap.org:443 \"GET /data/2.5/weather?units=imperial&q=tuatapere&appid=bd8d52cf71d30c1b6d26f4c28f6a8e76 HTTP/1.1\" 200 476\n",
      "DEBUG:urllib3.connectionpool:Starting new HTTPS connection (1): api.openweathermap.org:443\n"
     ]
    },
    {
     "name": "stdout",
     "output_type": "stream",
     "text": [
      "Processing Record 23  of Set 7 | tuatapere.\n"
     ]
    },
    {
     "name": "stderr",
     "output_type": "stream",
     "text": [
      "DEBUG:urllib3.connectionpool:https://api.openweathermap.org:443 \"GET /data/2.5/weather?units=imperial&q=hasaki&appid=bd8d52cf71d30c1b6d26f4c28f6a8e76 HTTP/1.1\" 200 465\n",
      "DEBUG:urllib3.connectionpool:Starting new HTTPS connection (1): api.openweathermap.org:443\n"
     ]
    },
    {
     "name": "stdout",
     "output_type": "stream",
     "text": [
      "Processing Record 24  of Set 7 | hasaki.\n"
     ]
    },
    {
     "name": "stderr",
     "output_type": "stream",
     "text": [
      "DEBUG:urllib3.connectionpool:https://api.openweathermap.org:443 \"GET /data/2.5/weather?units=imperial&q=saleaula&appid=bd8d52cf71d30c1b6d26f4c28f6a8e76 HTTP/1.1\" 404 40\n",
      "DEBUG:urllib3.connectionpool:Starting new HTTPS connection (1): api.openweathermap.org:443\n"
     ]
    },
    {
     "name": "stdout",
     "output_type": "stream",
     "text": [
      "Processing Record 25  of Set 7 | saleaula.\n",
      "City not found. Skipping...\n"
     ]
    },
    {
     "name": "stderr",
     "output_type": "stream",
     "text": [
      "DEBUG:urllib3.connectionpool:https://api.openweathermap.org:443 \"GET /data/2.5/weather?units=imperial&q=san&appid=bd8d52cf71d30c1b6d26f4c28f6a8e76 HTTP/1.1\" 200 480\n",
      "DEBUG:urllib3.connectionpool:Starting new HTTPS connection (1): api.openweathermap.org:443\n"
     ]
    },
    {
     "name": "stdout",
     "output_type": "stream",
     "text": [
      "Processing Record 26  of Set 7 | san.\n"
     ]
    },
    {
     "name": "stderr",
     "output_type": "stream",
     "text": [
      "DEBUG:urllib3.connectionpool:https://api.openweathermap.org:443 \"GET /data/2.5/weather?units=imperial&q=maceio&appid=bd8d52cf71d30c1b6d26f4c28f6a8e76 HTTP/1.1\" 200 471\n",
      "DEBUG:urllib3.connectionpool:Starting new HTTPS connection (1): api.openweathermap.org:443\n"
     ]
    },
    {
     "name": "stdout",
     "output_type": "stream",
     "text": [
      "Processing Record 27  of Set 7 | maceio.\n"
     ]
    },
    {
     "name": "stderr",
     "output_type": "stream",
     "text": [
      "DEBUG:urllib3.connectionpool:https://api.openweathermap.org:443 \"GET /data/2.5/weather?units=imperial&q=dhanwar&appid=bd8d52cf71d30c1b6d26f4c28f6a8e76 HTTP/1.1\" 200 489\n",
      "DEBUG:urllib3.connectionpool:Starting new HTTPS connection (1): api.openweathermap.org:443\n"
     ]
    },
    {
     "name": "stdout",
     "output_type": "stream",
     "text": [
      "Processing Record 28  of Set 7 | dhanwar.\n"
     ]
    },
    {
     "name": "stderr",
     "output_type": "stream",
     "text": [
      "DEBUG:urllib3.connectionpool:https://api.openweathermap.org:443 \"GET /data/2.5/weather?units=imperial&q=yulara&appid=bd8d52cf71d30c1b6d26f4c28f6a8e76 HTTP/1.1\" 200 457\n",
      "DEBUG:urllib3.connectionpool:Starting new HTTPS connection (1): api.openweathermap.org:443\n"
     ]
    },
    {
     "name": "stdout",
     "output_type": "stream",
     "text": [
      "Processing Record 29  of Set 7 | yulara.\n"
     ]
    },
    {
     "name": "stderr",
     "output_type": "stream",
     "text": [
      "DEBUG:urllib3.connectionpool:https://api.openweathermap.org:443 \"GET /data/2.5/weather?units=imperial&q=kalabo&appid=bd8d52cf71d30c1b6d26f4c28f6a8e76 HTTP/1.1\" 200 485\n",
      "DEBUG:urllib3.connectionpool:Starting new HTTPS connection (1): api.openweathermap.org:443\n"
     ]
    },
    {
     "name": "stdout",
     "output_type": "stream",
     "text": [
      "Processing Record 30  of Set 7 | kalabo.\n"
     ]
    },
    {
     "name": "stderr",
     "output_type": "stream",
     "text": [
      "DEBUG:urllib3.connectionpool:https://api.openweathermap.org:443 \"GET /data/2.5/weather?units=imperial&q=mkuranga&appid=bd8d52cf71d30c1b6d26f4c28f6a8e76 HTTP/1.1\" 200 469\n",
      "DEBUG:urllib3.connectionpool:Starting new HTTPS connection (1): api.openweathermap.org:443\n"
     ]
    },
    {
     "name": "stdout",
     "output_type": "stream",
     "text": [
      "Processing Record 31  of Set 7 | mkuranga.\n"
     ]
    },
    {
     "name": "stderr",
     "output_type": "stream",
     "text": [
      "DEBUG:urllib3.connectionpool:https://api.openweathermap.org:443 \"GET /data/2.5/weather?units=imperial&q=ocean%20city&appid=bd8d52cf71d30c1b6d26f4c28f6a8e76 HTTP/1.1\" 200 468\n",
      "DEBUG:urllib3.connectionpool:Starting new HTTPS connection (1): api.openweathermap.org:443\n"
     ]
    },
    {
     "name": "stdout",
     "output_type": "stream",
     "text": [
      "Processing Record 32  of Set 7 | ocean city.\n"
     ]
    },
    {
     "name": "stderr",
     "output_type": "stream",
     "text": [
      "DEBUG:urllib3.connectionpool:https://api.openweathermap.org:443 \"GET /data/2.5/weather?units=imperial&q=beira&appid=bd8d52cf71d30c1b6d26f4c28f6a8e76 HTTP/1.1\" 200 481\n",
      "DEBUG:urllib3.connectionpool:Starting new HTTPS connection (1): api.openweathermap.org:443\n"
     ]
    },
    {
     "name": "stdout",
     "output_type": "stream",
     "text": [
      "Processing Record 33  of Set 7 | beira.\n"
     ]
    },
    {
     "name": "stderr",
     "output_type": "stream",
     "text": [
      "DEBUG:urllib3.connectionpool:https://api.openweathermap.org:443 \"GET /data/2.5/weather?units=imperial&q=ahumada&appid=bd8d52cf71d30c1b6d26f4c28f6a8e76 HTTP/1.1\" 404 40\n",
      "DEBUG:urllib3.connectionpool:Starting new HTTPS connection (1): api.openweathermap.org:443\n"
     ]
    },
    {
     "name": "stdout",
     "output_type": "stream",
     "text": [
      "Processing Record 34  of Set 7 | ahumada.\n",
      "City not found. Skipping...\n"
     ]
    },
    {
     "name": "stderr",
     "output_type": "stream",
     "text": [
      "DEBUG:urllib3.connectionpool:https://api.openweathermap.org:443 \"GET /data/2.5/weather?units=imperial&q=nelson&appid=bd8d52cf71d30c1b6d26f4c28f6a8e76 HTTP/1.1\" 200 484\n",
      "DEBUG:urllib3.connectionpool:Starting new HTTPS connection (1): api.openweathermap.org:443\n"
     ]
    },
    {
     "name": "stdout",
     "output_type": "stream",
     "text": [
      "Processing Record 35  of Set 7 | nelson.\n"
     ]
    },
    {
     "name": "stderr",
     "output_type": "stream",
     "text": [
      "DEBUG:urllib3.connectionpool:https://api.openweathermap.org:443 \"GET /data/2.5/weather?units=imperial&q=baleshwar&appid=bd8d52cf71d30c1b6d26f4c28f6a8e76 HTTP/1.1\" 200 494\n",
      "DEBUG:urllib3.connectionpool:Starting new HTTPS connection (1): api.openweathermap.org:443\n"
     ]
    },
    {
     "name": "stdout",
     "output_type": "stream",
     "text": [
      "Processing Record 36  of Set 7 | baleshwar.\n"
     ]
    },
    {
     "name": "stderr",
     "output_type": "stream",
     "text": [
      "DEBUG:urllib3.connectionpool:https://api.openweathermap.org:443 \"GET /data/2.5/weather?units=imperial&q=prince%20rupert&appid=bd8d52cf71d30c1b6d26f4c28f6a8e76 HTTP/1.1\" 200 489\n",
      "DEBUG:urllib3.connectionpool:Starting new HTTPS connection (1): api.openweathermap.org:443\n"
     ]
    },
    {
     "name": "stdout",
     "output_type": "stream",
     "text": [
      "Processing Record 37  of Set 7 | prince rupert.\n"
     ]
    },
    {
     "name": "stderr",
     "output_type": "stream",
     "text": [
      "DEBUG:urllib3.connectionpool:https://api.openweathermap.org:443 \"GET /data/2.5/weather?units=imperial&q=fort%20wellington&appid=bd8d52cf71d30c1b6d26f4c28f6a8e76 HTTP/1.1\" 200 491\n",
      "DEBUG:urllib3.connectionpool:Starting new HTTPS connection (1): api.openweathermap.org:443\n"
     ]
    },
    {
     "name": "stdout",
     "output_type": "stream",
     "text": [
      "Processing Record 38  of Set 7 | fort wellington.\n"
     ]
    },
    {
     "name": "stderr",
     "output_type": "stream",
     "text": [
      "DEBUG:urllib3.connectionpool:https://api.openweathermap.org:443 \"GET /data/2.5/weather?units=imperial&q=alyangula&appid=bd8d52cf71d30c1b6d26f4c28f6a8e76 HTTP/1.1\" 200 492\n",
      "DEBUG:urllib3.connectionpool:Starting new HTTPS connection (1): api.openweathermap.org:443\n"
     ]
    },
    {
     "name": "stdout",
     "output_type": "stream",
     "text": [
      "Processing Record 39  of Set 7 | alyangula.\n"
     ]
    },
    {
     "name": "stderr",
     "output_type": "stream",
     "text": [
      "DEBUG:urllib3.connectionpool:https://api.openweathermap.org:443 \"GET /data/2.5/weather?units=imperial&q=saint-augustin&appid=bd8d52cf71d30c1b6d26f4c28f6a8e76 HTTP/1.1\" 200 499\n",
      "DEBUG:urllib3.connectionpool:Starting new HTTPS connection (1): api.openweathermap.org:443\n"
     ]
    },
    {
     "name": "stdout",
     "output_type": "stream",
     "text": [
      "Processing Record 40  of Set 7 | saint-augustin.\n"
     ]
    },
    {
     "name": "stderr",
     "output_type": "stream",
     "text": [
      "DEBUG:urllib3.connectionpool:https://api.openweathermap.org:443 \"GET /data/2.5/weather?units=imperial&q=kutum&appid=bd8d52cf71d30c1b6d26f4c28f6a8e76 HTTP/1.1\" 200 473\n",
      "DEBUG:urllib3.connectionpool:Starting new HTTPS connection (1): api.openweathermap.org:443\n"
     ]
    },
    {
     "name": "stdout",
     "output_type": "stream",
     "text": [
      "Processing Record 41  of Set 7 | kutum.\n"
     ]
    },
    {
     "name": "stderr",
     "output_type": "stream",
     "text": [
      "DEBUG:urllib3.connectionpool:https://api.openweathermap.org:443 \"GET /data/2.5/weather?units=imperial&q=bako&appid=bd8d52cf71d30c1b6d26f4c28f6a8e76 HTTP/1.1\" 200 481\n",
      "DEBUG:urllib3.connectionpool:Starting new HTTPS connection (1): api.openweathermap.org:443\n"
     ]
    },
    {
     "name": "stdout",
     "output_type": "stream",
     "text": [
      "Processing Record 42  of Set 7 | bako.\n"
     ]
    },
    {
     "name": "stderr",
     "output_type": "stream",
     "text": [
      "DEBUG:urllib3.connectionpool:https://api.openweathermap.org:443 \"GET /data/2.5/weather?units=imperial&q=starychi&appid=bd8d52cf71d30c1b6d26f4c28f6a8e76 HTTP/1.1\" 200 457\n",
      "DEBUG:urllib3.connectionpool:Starting new HTTPS connection (1): api.openweathermap.org:443\n"
     ]
    },
    {
     "name": "stdout",
     "output_type": "stream",
     "text": [
      "Processing Record 43  of Set 7 | starychi.\n"
     ]
    },
    {
     "name": "stderr",
     "output_type": "stream",
     "text": [
      "DEBUG:urllib3.connectionpool:https://api.openweathermap.org:443 \"GET /data/2.5/weather?units=imperial&q=bungoma&appid=bd8d52cf71d30c1b6d26f4c28f6a8e76 HTTP/1.1\" 200 478\n",
      "DEBUG:urllib3.connectionpool:Starting new HTTPS connection (1): api.openweathermap.org:443\n"
     ]
    },
    {
     "name": "stdout",
     "output_type": "stream",
     "text": [
      "Processing Record 44  of Set 7 | bungoma.\n"
     ]
    },
    {
     "name": "stderr",
     "output_type": "stream",
     "text": [
      "DEBUG:urllib3.connectionpool:https://api.openweathermap.org:443 \"GET /data/2.5/weather?units=imperial&q=patan&appid=bd8d52cf71d30c1b6d26f4c28f6a8e76 HTTP/1.1\" 200 459\n",
      "DEBUG:urllib3.connectionpool:Starting new HTTPS connection (1): api.openweathermap.org:443\n"
     ]
    },
    {
     "name": "stdout",
     "output_type": "stream",
     "text": [
      "Processing Record 45  of Set 7 | patan.\n"
     ]
    },
    {
     "name": "stderr",
     "output_type": "stream",
     "text": [
      "DEBUG:urllib3.connectionpool:https://api.openweathermap.org:443 \"GET /data/2.5/weather?units=imperial&q=monrovia&appid=bd8d52cf71d30c1b6d26f4c28f6a8e76 HTTP/1.1\" 200 461\n",
      "DEBUG:urllib3.connectionpool:Starting new HTTPS connection (1): api.openweathermap.org:443\n"
     ]
    },
    {
     "name": "stdout",
     "output_type": "stream",
     "text": [
      "Processing Record 46  of Set 7 | monrovia.\n"
     ]
    },
    {
     "name": "stderr",
     "output_type": "stream",
     "text": [
      "DEBUG:urllib3.connectionpool:https://api.openweathermap.org:443 \"GET /data/2.5/weather?units=imperial&q=gumdag&appid=bd8d52cf71d30c1b6d26f4c28f6a8e76 HTTP/1.1\" 200 490\n",
      "DEBUG:urllib3.connectionpool:Starting new HTTPS connection (1): api.openweathermap.org:443\n"
     ]
    },
    {
     "name": "stdout",
     "output_type": "stream",
     "text": [
      "Processing Record 47  of Set 7 | gumdag.\n"
     ]
    },
    {
     "name": "stderr",
     "output_type": "stream",
     "text": [
      "DEBUG:urllib3.connectionpool:https://api.openweathermap.org:443 \"GET /data/2.5/weather?units=imperial&q=barranca&appid=bd8d52cf71d30c1b6d26f4c28f6a8e76 HTTP/1.1\" 200 503\n",
      "DEBUG:urllib3.connectionpool:Starting new HTTPS connection (1): api.openweathermap.org:443\n"
     ]
    },
    {
     "name": "stdout",
     "output_type": "stream",
     "text": [
      "Processing Record 48  of Set 7 | barranca.\n"
     ]
    },
    {
     "name": "stderr",
     "output_type": "stream",
     "text": [
      "DEBUG:urllib3.connectionpool:https://api.openweathermap.org:443 \"GET /data/2.5/weather?units=imperial&q=dabakala&appid=bd8d52cf71d30c1b6d26f4c28f6a8e76 HTTP/1.1\" 200 487\n",
      "DEBUG:urllib3.connectionpool:Starting new HTTPS connection (1): api.openweathermap.org:443\n"
     ]
    },
    {
     "name": "stdout",
     "output_type": "stream",
     "text": [
      "Processing Record 49  of Set 7 | dabakala.\n"
     ]
    },
    {
     "name": "stderr",
     "output_type": "stream",
     "text": [
      "DEBUG:urllib3.connectionpool:https://api.openweathermap.org:443 \"GET /data/2.5/weather?units=imperial&q=aksarka&appid=bd8d52cf71d30c1b6d26f4c28f6a8e76 HTTP/1.1\" 200 482\n",
      "DEBUG:urllib3.connectionpool:Starting new HTTPS connection (1): api.openweathermap.org:443\n"
     ]
    },
    {
     "name": "stdout",
     "output_type": "stream",
     "text": [
      "Processing Record 0  of Set 8 | aksarka.\n"
     ]
    },
    {
     "name": "stderr",
     "output_type": "stream",
     "text": [
      "DEBUG:urllib3.connectionpool:https://api.openweathermap.org:443 \"GET /data/2.5/weather?units=imperial&q=zapote&appid=bd8d52cf71d30c1b6d26f4c28f6a8e76 HTTP/1.1\" 200 482\n",
      "DEBUG:urllib3.connectionpool:Starting new HTTPS connection (1): api.openweathermap.org:443\n"
     ]
    },
    {
     "name": "stdout",
     "output_type": "stream",
     "text": [
      "Processing Record 1  of Set 8 | zapote.\n"
     ]
    },
    {
     "name": "stderr",
     "output_type": "stream",
     "text": [
      "DEBUG:urllib3.connectionpool:https://api.openweathermap.org:443 \"GET /data/2.5/weather?units=imperial&q=moyobamba&appid=bd8d52cf71d30c1b6d26f4c28f6a8e76 HTTP/1.1\" 200 491\n",
      "DEBUG:urllib3.connectionpool:Starting new HTTPS connection (1): api.openweathermap.org:443\n"
     ]
    },
    {
     "name": "stdout",
     "output_type": "stream",
     "text": [
      "Processing Record 2  of Set 8 | moyobamba.\n"
     ]
    },
    {
     "name": "stderr",
     "output_type": "stream",
     "text": [
      "DEBUG:urllib3.connectionpool:https://api.openweathermap.org:443 \"GET /data/2.5/weather?units=imperial&q=padang&appid=bd8d52cf71d30c1b6d26f4c28f6a8e76 HTTP/1.1\" 200 467\n",
      "DEBUG:urllib3.connectionpool:Starting new HTTPS connection (1): api.openweathermap.org:443\n"
     ]
    },
    {
     "name": "stdout",
     "output_type": "stream",
     "text": [
      "Processing Record 3  of Set 8 | padang.\n"
     ]
    },
    {
     "name": "stderr",
     "output_type": "stream",
     "text": [
      "DEBUG:urllib3.connectionpool:https://api.openweathermap.org:443 \"GET /data/2.5/weather?units=imperial&q=hambantota&appid=bd8d52cf71d30c1b6d26f4c28f6a8e76 HTTP/1.1\" 200 462\n",
      "DEBUG:urllib3.connectionpool:Starting new HTTPS connection (1): api.openweathermap.org:443\n"
     ]
    },
    {
     "name": "stdout",
     "output_type": "stream",
     "text": [
      "Processing Record 4  of Set 8 | hambantota.\n"
     ]
    },
    {
     "name": "stderr",
     "output_type": "stream",
     "text": [
      "DEBUG:urllib3.connectionpool:https://api.openweathermap.org:443 \"GET /data/2.5/weather?units=imperial&q=dubti&appid=bd8d52cf71d30c1b6d26f4c28f6a8e76 HTTP/1.1\" 200 477\n",
      "DEBUG:urllib3.connectionpool:Starting new HTTPS connection (1): api.openweathermap.org:443\n"
     ]
    },
    {
     "name": "stdout",
     "output_type": "stream",
     "text": [
      "Processing Record 5  of Set 8 | dubti.\n"
     ]
    },
    {
     "name": "stderr",
     "output_type": "stream",
     "text": [
      "DEBUG:urllib3.connectionpool:https://api.openweathermap.org:443 \"GET /data/2.5/weather?units=imperial&q=bathsheba&appid=bd8d52cf71d30c1b6d26f4c28f6a8e76 HTTP/1.1\" 200 475\n",
      "DEBUG:urllib3.connectionpool:Starting new HTTPS connection (1): api.openweathermap.org:443\n"
     ]
    },
    {
     "name": "stdout",
     "output_type": "stream",
     "text": [
      "Processing Record 6  of Set 8 | bathsheba.\n"
     ]
    },
    {
     "name": "stderr",
     "output_type": "stream",
     "text": [
      "DEBUG:urllib3.connectionpool:https://api.openweathermap.org:443 \"GET /data/2.5/weather?units=imperial&q=santa%20cruz&appid=bd8d52cf71d30c1b6d26f4c28f6a8e76 HTTP/1.1\" 200 480\n",
      "DEBUG:urllib3.connectionpool:Starting new HTTPS connection (1): api.openweathermap.org:443\n"
     ]
    },
    {
     "name": "stdout",
     "output_type": "stream",
     "text": [
      "Processing Record 7  of Set 8 | santa cruz.\n"
     ]
    },
    {
     "name": "stderr",
     "output_type": "stream",
     "text": [
      "DEBUG:urllib3.connectionpool:https://api.openweathermap.org:443 \"GET /data/2.5/weather?units=imperial&q=zhangjiakou&appid=bd8d52cf71d30c1b6d26f4c28f6a8e76 HTTP/1.1\" 200 482\n",
      "DEBUG:urllib3.connectionpool:Starting new HTTPS connection (1): api.openweathermap.org:443\n"
     ]
    },
    {
     "name": "stdout",
     "output_type": "stream",
     "text": [
      "Processing Record 8  of Set 8 | zhangjiakou.\n"
     ]
    },
    {
     "name": "stderr",
     "output_type": "stream",
     "text": [
      "DEBUG:urllib3.connectionpool:https://api.openweathermap.org:443 \"GET /data/2.5/weather?units=imperial&q=piney%20green&appid=bd8d52cf71d30c1b6d26f4c28f6a8e76 HTTP/1.1\" 200 475\n",
      "DEBUG:urllib3.connectionpool:Starting new HTTPS connection (1): api.openweathermap.org:443\n"
     ]
    },
    {
     "name": "stdout",
     "output_type": "stream",
     "text": [
      "Processing Record 9  of Set 8 | piney green.\n"
     ]
    },
    {
     "name": "stderr",
     "output_type": "stream",
     "text": [
      "DEBUG:urllib3.connectionpool:https://api.openweathermap.org:443 \"GET /data/2.5/weather?units=imperial&q=cobija&appid=bd8d52cf71d30c1b6d26f4c28f6a8e76 HTTP/1.1\" 200 473\n",
      "DEBUG:urllib3.connectionpool:Starting new HTTPS connection (1): api.openweathermap.org:443\n"
     ]
    },
    {
     "name": "stdout",
     "output_type": "stream",
     "text": [
      "Processing Record 10  of Set 8 | cobija.\n"
     ]
    },
    {
     "name": "stderr",
     "output_type": "stream",
     "text": [
      "DEBUG:urllib3.connectionpool:https://api.openweathermap.org:443 \"GET /data/2.5/weather?units=imperial&q=sucre&appid=bd8d52cf71d30c1b6d26f4c28f6a8e76 HTTP/1.1\" 200 486\n",
      "DEBUG:urllib3.connectionpool:Starting new HTTPS connection (1): api.openweathermap.org:443\n"
     ]
    },
    {
     "name": "stdout",
     "output_type": "stream",
     "text": [
      "Processing Record 11  of Set 8 | sucre.\n"
     ]
    },
    {
     "name": "stderr",
     "output_type": "stream",
     "text": [
      "DEBUG:urllib3.connectionpool:https://api.openweathermap.org:443 \"GET /data/2.5/weather?units=imperial&q=porosozero&appid=bd8d52cf71d30c1b6d26f4c28f6a8e76 HTTP/1.1\" 200 481\n",
      "DEBUG:urllib3.connectionpool:Starting new HTTPS connection (1): api.openweathermap.org:443\n"
     ]
    },
    {
     "name": "stdout",
     "output_type": "stream",
     "text": [
      "Processing Record 12  of Set 8 | porosozero.\n"
     ]
    },
    {
     "name": "stderr",
     "output_type": "stream",
     "text": [
      "DEBUG:urllib3.connectionpool:https://api.openweathermap.org:443 \"GET /data/2.5/weather?units=imperial&q=khor&appid=bd8d52cf71d30c1b6d26f4c28f6a8e76 HTTP/1.1\" 200 477\n",
      "DEBUG:urllib3.connectionpool:Starting new HTTPS connection (1): api.openweathermap.org:443\n"
     ]
    },
    {
     "name": "stdout",
     "output_type": "stream",
     "text": [
      "Processing Record 13  of Set 8 | khor.\n"
     ]
    },
    {
     "name": "stderr",
     "output_type": "stream",
     "text": [
      "DEBUG:urllib3.connectionpool:https://api.openweathermap.org:443 \"GET /data/2.5/weather?units=imperial&q=agua%20dulce&appid=bd8d52cf71d30c1b6d26f4c28f6a8e76 HTTP/1.1\" 200 479\n",
      "DEBUG:urllib3.connectionpool:Starting new HTTPS connection (1): api.openweathermap.org:443\n"
     ]
    },
    {
     "name": "stdout",
     "output_type": "stream",
     "text": [
      "Processing Record 14  of Set 8 | agua dulce.\n"
     ]
    },
    {
     "name": "stderr",
     "output_type": "stream",
     "text": [
      "DEBUG:urllib3.connectionpool:https://api.openweathermap.org:443 \"GET /data/2.5/weather?units=imperial&q=vallenar&appid=bd8d52cf71d30c1b6d26f4c28f6a8e76 HTTP/1.1\" 200 485\n",
      "DEBUG:urllib3.connectionpool:Starting new HTTPS connection (1): api.openweathermap.org:443\n"
     ]
    },
    {
     "name": "stdout",
     "output_type": "stream",
     "text": [
      "Processing Record 15  of Set 8 | vallenar.\n"
     ]
    },
    {
     "name": "stderr",
     "output_type": "stream",
     "text": [
      "DEBUG:urllib3.connectionpool:https://api.openweathermap.org:443 \"GET /data/2.5/weather?units=imperial&q=thompson&appid=bd8d52cf71d30c1b6d26f4c28f6a8e76 HTTP/1.1\" 200 461\n",
      "DEBUG:urllib3.connectionpool:Starting new HTTPS connection (1): api.openweathermap.org:443\n"
     ]
    },
    {
     "name": "stdout",
     "output_type": "stream",
     "text": [
      "Processing Record 16  of Set 8 | thompson.\n"
     ]
    },
    {
     "name": "stderr",
     "output_type": "stream",
     "text": [
      "DEBUG:urllib3.connectionpool:https://api.openweathermap.org:443 \"GET /data/2.5/weather?units=imperial&q=saint-pierre&appid=bd8d52cf71d30c1b6d26f4c28f6a8e76 HTTP/1.1\" 200 463\n",
      "DEBUG:urllib3.connectionpool:Starting new HTTPS connection (1): api.openweathermap.org:443\n"
     ]
    },
    {
     "name": "stdout",
     "output_type": "stream",
     "text": [
      "Processing Record 17  of Set 8 | saint-pierre.\n"
     ]
    },
    {
     "name": "stderr",
     "output_type": "stream",
     "text": [
      "DEBUG:urllib3.connectionpool:https://api.openweathermap.org:443 \"GET /data/2.5/weather?units=imperial&q=derzhavinsk&appid=bd8d52cf71d30c1b6d26f4c28f6a8e76 HTTP/1.1\" 200 492\n",
      "DEBUG:urllib3.connectionpool:Starting new HTTPS connection (1): api.openweathermap.org:443\n"
     ]
    },
    {
     "name": "stdout",
     "output_type": "stream",
     "text": [
      "Processing Record 18  of Set 8 | derzhavinsk.\n"
     ]
    },
    {
     "name": "stderr",
     "output_type": "stream",
     "text": [
      "DEBUG:urllib3.connectionpool:https://api.openweathermap.org:443 \"GET /data/2.5/weather?units=imperial&q=bowmore&appid=bd8d52cf71d30c1b6d26f4c28f6a8e76 HTTP/1.1\" 200 463\n",
      "DEBUG:urllib3.connectionpool:Starting new HTTPS connection (1): api.openweathermap.org:443\n"
     ]
    },
    {
     "name": "stdout",
     "output_type": "stream",
     "text": [
      "Processing Record 19  of Set 8 | bowmore.\n"
     ]
    },
    {
     "name": "stderr",
     "output_type": "stream",
     "text": [
      "DEBUG:urllib3.connectionpool:https://api.openweathermap.org:443 \"GET /data/2.5/weather?units=imperial&q=colombia&appid=bd8d52cf71d30c1b6d26f4c28f6a8e76 HTTP/1.1\" 200 473\n",
      "DEBUG:urllib3.connectionpool:Starting new HTTPS connection (1): api.openweathermap.org:443\n"
     ]
    },
    {
     "name": "stdout",
     "output_type": "stream",
     "text": [
      "Processing Record 20  of Set 8 | colombia.\n"
     ]
    },
    {
     "name": "stderr",
     "output_type": "stream",
     "text": [
      "DEBUG:urllib3.connectionpool:https://api.openweathermap.org:443 \"GET /data/2.5/weather?units=imperial&q=jardim&appid=bd8d52cf71d30c1b6d26f4c28f6a8e76 HTTP/1.1\" 200 502\n",
      "DEBUG:urllib3.connectionpool:Starting new HTTPS connection (1): api.openweathermap.org:443\n"
     ]
    },
    {
     "name": "stdout",
     "output_type": "stream",
     "text": [
      "Processing Record 21  of Set 8 | jardim.\n"
     ]
    },
    {
     "name": "stderr",
     "output_type": "stream",
     "text": [
      "DEBUG:urllib3.connectionpool:https://api.openweathermap.org:443 \"GET /data/2.5/weather?units=imperial&q=labuan&appid=bd8d52cf71d30c1b6d26f4c28f6a8e76 HTTP/1.1\" 200 464\n",
      "DEBUG:urllib3.connectionpool:Starting new HTTPS connection (1): api.openweathermap.org:443\n"
     ]
    },
    {
     "name": "stdout",
     "output_type": "stream",
     "text": [
      "Processing Record 22  of Set 8 | labuan.\n"
     ]
    },
    {
     "name": "stderr",
     "output_type": "stream",
     "text": [
      "DEBUG:urllib3.connectionpool:https://api.openweathermap.org:443 \"GET /data/2.5/weather?units=imperial&q=erzin&appid=bd8d52cf71d30c1b6d26f4c28f6a8e76 HTTP/1.1\" 200 472\n",
      "DEBUG:urllib3.connectionpool:Starting new HTTPS connection (1): api.openweathermap.org:443\n"
     ]
    },
    {
     "name": "stdout",
     "output_type": "stream",
     "text": [
      "Processing Record 23  of Set 8 | erzin.\n"
     ]
    },
    {
     "name": "stderr",
     "output_type": "stream",
     "text": [
      "DEBUG:urllib3.connectionpool:https://api.openweathermap.org:443 \"GET /data/2.5/weather?units=imperial&q=kulhudhuffushi&appid=bd8d52cf71d30c1b6d26f4c28f6a8e76 HTTP/1.1\" 200 495\n",
      "DEBUG:urllib3.connectionpool:Starting new HTTPS connection (1): api.openweathermap.org:443\n"
     ]
    },
    {
     "name": "stdout",
     "output_type": "stream",
     "text": [
      "Processing Record 24  of Set 8 | kulhudhuffushi.\n"
     ]
    },
    {
     "name": "stderr",
     "output_type": "stream",
     "text": [
      "DEBUG:urllib3.connectionpool:https://api.openweathermap.org:443 \"GET /data/2.5/weather?units=imperial&q=port-gentil&appid=bd8d52cf71d30c1b6d26f4c28f6a8e76 HTTP/1.1\" 200 483\n",
      "DEBUG:urllib3.connectionpool:Starting new HTTPS connection (1): api.openweathermap.org:443\n"
     ]
    },
    {
     "name": "stdout",
     "output_type": "stream",
     "text": [
      "Processing Record 25  of Set 8 | port-gentil.\n"
     ]
    },
    {
     "name": "stderr",
     "output_type": "stream",
     "text": [
      "DEBUG:urllib3.connectionpool:https://api.openweathermap.org:443 \"GET /data/2.5/weather?units=imperial&q=jiblah&appid=bd8d52cf71d30c1b6d26f4c28f6a8e76 HTTP/1.1\" 200 495\n",
      "DEBUG:urllib3.connectionpool:Starting new HTTPS connection (1): api.openweathermap.org:443\n"
     ]
    },
    {
     "name": "stdout",
     "output_type": "stream",
     "text": [
      "Processing Record 26  of Set 8 | jiblah.\n"
     ]
    },
    {
     "name": "stderr",
     "output_type": "stream",
     "text": [
      "DEBUG:urllib3.connectionpool:https://api.openweathermap.org:443 \"GET /data/2.5/weather?units=imperial&q=milkovo&appid=bd8d52cf71d30c1b6d26f4c28f6a8e76 HTTP/1.1\" 200 488\n",
      "DEBUG:urllib3.connectionpool:Starting new HTTPS connection (1): api.openweathermap.org:443\n"
     ]
    },
    {
     "name": "stdout",
     "output_type": "stream",
     "text": [
      "Processing Record 27  of Set 8 | milkovo.\n"
     ]
    },
    {
     "name": "stderr",
     "output_type": "stream",
     "text": [
      "DEBUG:urllib3.connectionpool:https://api.openweathermap.org:443 \"GET /data/2.5/weather?units=imperial&q=batagay&appid=bd8d52cf71d30c1b6d26f4c28f6a8e76 HTTP/1.1\" 200 488\n",
      "DEBUG:urllib3.connectionpool:Starting new HTTPS connection (1): api.openweathermap.org:443\n"
     ]
    },
    {
     "name": "stdout",
     "output_type": "stream",
     "text": [
      "Processing Record 28  of Set 8 | batagay.\n"
     ]
    },
    {
     "name": "stderr",
     "output_type": "stream",
     "text": [
      "DEBUG:urllib3.connectionpool:https://api.openweathermap.org:443 \"GET /data/2.5/weather?units=imperial&q=merauke&appid=bd8d52cf71d30c1b6d26f4c28f6a8e76 HTTP/1.1\" 200 489\n",
      "DEBUG:urllib3.connectionpool:Starting new HTTPS connection (1): api.openweathermap.org:443\n"
     ]
    },
    {
     "name": "stdout",
     "output_type": "stream",
     "text": [
      "Processing Record 29  of Set 8 | merauke.\n"
     ]
    },
    {
     "name": "stderr",
     "output_type": "stream",
     "text": [
      "DEBUG:urllib3.connectionpool:https://api.openweathermap.org:443 \"GET /data/2.5/weather?units=imperial&q=fort%20nelson&appid=bd8d52cf71d30c1b6d26f4c28f6a8e76 HTTP/1.1\" 200 470\n",
      "DEBUG:urllib3.connectionpool:Starting new HTTPS connection (1): api.openweathermap.org:443\n"
     ]
    },
    {
     "name": "stdout",
     "output_type": "stream",
     "text": [
      "Processing Record 30  of Set 8 | fort nelson.\n"
     ]
    },
    {
     "name": "stderr",
     "output_type": "stream",
     "text": [
      "DEBUG:urllib3.connectionpool:https://api.openweathermap.org:443 \"GET /data/2.5/weather?units=imperial&q=sri%20aman&appid=bd8d52cf71d30c1b6d26f4c28f6a8e76 HTTP/1.1\" 200 484\n",
      "DEBUG:urllib3.connectionpool:Starting new HTTPS connection (1): api.openweathermap.org:443\n"
     ]
    },
    {
     "name": "stdout",
     "output_type": "stream",
     "text": [
      "Processing Record 31  of Set 8 | sri aman.\n"
     ]
    },
    {
     "name": "stderr",
     "output_type": "stream",
     "text": [
      "DEBUG:urllib3.connectionpool:https://api.openweathermap.org:443 \"GET /data/2.5/weather?units=imperial&q=khartoum&appid=bd8d52cf71d30c1b6d26f4c28f6a8e76 HTTP/1.1\" 200 455\n",
      "DEBUG:urllib3.connectionpool:Starting new HTTPS connection (1): api.openweathermap.org:443\n"
     ]
    },
    {
     "name": "stdout",
     "output_type": "stream",
     "text": [
      "Processing Record 32  of Set 8 | khartoum.\n"
     ]
    },
    {
     "name": "stderr",
     "output_type": "stream",
     "text": [
      "DEBUG:urllib3.connectionpool:https://api.openweathermap.org:443 \"GET /data/2.5/weather?units=imperial&q=khatanga&appid=bd8d52cf71d30c1b6d26f4c28f6a8e76 HTTP/1.1\" 200 504\n",
      "DEBUG:urllib3.connectionpool:Starting new HTTPS connection (1): api.openweathermap.org:443\n"
     ]
    },
    {
     "name": "stdout",
     "output_type": "stream",
     "text": [
      "Processing Record 33  of Set 8 | khatanga.\n"
     ]
    },
    {
     "name": "stderr",
     "output_type": "stream",
     "text": [
      "DEBUG:urllib3.connectionpool:https://api.openweathermap.org:443 \"GET /data/2.5/weather?units=imperial&q=iraray&appid=bd8d52cf71d30c1b6d26f4c28f6a8e76 HTTP/1.1\" 200 485\n",
      "DEBUG:urllib3.connectionpool:Starting new HTTPS connection (1): api.openweathermap.org:443\n"
     ]
    },
    {
     "name": "stdout",
     "output_type": "stream",
     "text": [
      "Processing Record 34  of Set 8 | iraray.\n"
     ]
    },
    {
     "name": "stderr",
     "output_type": "stream",
     "text": [
      "DEBUG:urllib3.connectionpool:https://api.openweathermap.org:443 \"GET /data/2.5/weather?units=imperial&q=burkhala&appid=bd8d52cf71d30c1b6d26f4c28f6a8e76 HTTP/1.1\" 404 40\n",
      "DEBUG:urllib3.connectionpool:Starting new HTTPS connection (1): api.openweathermap.org:443\n"
     ]
    },
    {
     "name": "stdout",
     "output_type": "stream",
     "text": [
      "Processing Record 35  of Set 8 | burkhala.\n",
      "City not found. Skipping...\n"
     ]
    },
    {
     "name": "stderr",
     "output_type": "stream",
     "text": [
      "DEBUG:urllib3.connectionpool:https://api.openweathermap.org:443 \"GET /data/2.5/weather?units=imperial&q=port%20hardy&appid=bd8d52cf71d30c1b6d26f4c28f6a8e76 HTTP/1.1\" 200 470\n",
      "DEBUG:urllib3.connectionpool:Starting new HTTPS connection (1): api.openweathermap.org:443\n"
     ]
    },
    {
     "name": "stdout",
     "output_type": "stream",
     "text": [
      "Processing Record 36  of Set 8 | port hardy.\n"
     ]
    },
    {
     "name": "stderr",
     "output_type": "stream",
     "text": [
      "DEBUG:urllib3.connectionpool:https://api.openweathermap.org:443 \"GET /data/2.5/weather?units=imperial&q=griffith&appid=bd8d52cf71d30c1b6d26f4c28f6a8e76 HTTP/1.1\" 200 467\n",
      "DEBUG:urllib3.connectionpool:Starting new HTTPS connection (1): api.openweathermap.org:443\n"
     ]
    },
    {
     "name": "stdout",
     "output_type": "stream",
     "text": [
      "Processing Record 37  of Set 8 | griffith.\n"
     ]
    },
    {
     "name": "stderr",
     "output_type": "stream",
     "text": [
      "DEBUG:urllib3.connectionpool:https://api.openweathermap.org:443 \"GET /data/2.5/weather?units=imperial&q=tasiilaq&appid=bd8d52cf71d30c1b6d26f4c28f6a8e76 HTTP/1.1\" 200 472\n",
      "DEBUG:urllib3.connectionpool:Starting new HTTPS connection (1): api.openweathermap.org:443\n"
     ]
    },
    {
     "name": "stdout",
     "output_type": "stream",
     "text": [
      "Processing Record 38  of Set 8 | tasiilaq.\n"
     ]
    },
    {
     "name": "stderr",
     "output_type": "stream",
     "text": [
      "DEBUG:urllib3.connectionpool:https://api.openweathermap.org:443 \"GET /data/2.5/weather?units=imperial&q=kasane&appid=bd8d52cf71d30c1b6d26f4c28f6a8e76 HTTP/1.1\" 200 473\n",
      "DEBUG:urllib3.connectionpool:Starting new HTTPS connection (1): api.openweathermap.org:443\n"
     ]
    },
    {
     "name": "stdout",
     "output_type": "stream",
     "text": [
      "Processing Record 39  of Set 8 | kasane.\n"
     ]
    },
    {
     "name": "stderr",
     "output_type": "stream",
     "text": [
      "DEBUG:urllib3.connectionpool:https://api.openweathermap.org:443 \"GET /data/2.5/weather?units=imperial&q=bang%20rakam&appid=bd8d52cf71d30c1b6d26f4c28f6a8e76 HTTP/1.1\" 200 472\n",
      "DEBUG:urllib3.connectionpool:Starting new HTTPS connection (1): api.openweathermap.org:443\n"
     ]
    },
    {
     "name": "stdout",
     "output_type": "stream",
     "text": [
      "Processing Record 40  of Set 8 | bang rakam.\n"
     ]
    },
    {
     "name": "stderr",
     "output_type": "stream",
     "text": [
      "DEBUG:urllib3.connectionpool:https://api.openweathermap.org:443 \"GET /data/2.5/weather?units=imperial&q=panguna&appid=bd8d52cf71d30c1b6d26f4c28f6a8e76 HTTP/1.1\" 200 498\n",
      "DEBUG:urllib3.connectionpool:Starting new HTTPS connection (1): api.openweathermap.org:443\n"
     ]
    },
    {
     "name": "stdout",
     "output_type": "stream",
     "text": [
      "Processing Record 41  of Set 8 | panguna.\n"
     ]
    },
    {
     "name": "stderr",
     "output_type": "stream",
     "text": [
      "DEBUG:urllib3.connectionpool:https://api.openweathermap.org:443 \"GET /data/2.5/weather?units=imperial&q=malartic&appid=bd8d52cf71d30c1b6d26f4c28f6a8e76 HTTP/1.1\" 200 463\n",
      "DEBUG:urllib3.connectionpool:Starting new HTTPS connection (1): api.openweathermap.org:443\n"
     ]
    },
    {
     "name": "stdout",
     "output_type": "stream",
     "text": [
      "Processing Record 42  of Set 8 | malartic.\n"
     ]
    },
    {
     "name": "stderr",
     "output_type": "stream",
     "text": [
      "DEBUG:urllib3.connectionpool:https://api.openweathermap.org:443 \"GET /data/2.5/weather?units=imperial&q=komsomolskiy&appid=bd8d52cf71d30c1b6d26f4c28f6a8e76 HTTP/1.1\" 200 478\n",
      "DEBUG:urllib3.connectionpool:Starting new HTTPS connection (1): api.openweathermap.org:443\n"
     ]
    },
    {
     "name": "stdout",
     "output_type": "stream",
     "text": [
      "Processing Record 43  of Set 8 | komsomolskiy.\n"
     ]
    },
    {
     "name": "stderr",
     "output_type": "stream",
     "text": [
      "DEBUG:urllib3.connectionpool:https://api.openweathermap.org:443 \"GET /data/2.5/weather?units=imperial&q=oakdale&appid=bd8d52cf71d30c1b6d26f4c28f6a8e76 HTTP/1.1\" 200 478\n",
      "DEBUG:urllib3.connectionpool:Starting new HTTPS connection (1): api.openweathermap.org:443\n"
     ]
    },
    {
     "name": "stdout",
     "output_type": "stream",
     "text": [
      "Processing Record 44  of Set 8 | oakdale.\n"
     ]
    },
    {
     "name": "stderr",
     "output_type": "stream",
     "text": [
      "DEBUG:urllib3.connectionpool:https://api.openweathermap.org:443 \"GET /data/2.5/weather?units=imperial&q=stolin&appid=bd8d52cf71d30c1b6d26f4c28f6a8e76 HTTP/1.1\" 200 478\n",
      "DEBUG:urllib3.connectionpool:Starting new HTTPS connection (1): api.openweathermap.org:443\n"
     ]
    },
    {
     "name": "stdout",
     "output_type": "stream",
     "text": [
      "Processing Record 45  of Set 8 | stolin.\n"
     ]
    },
    {
     "name": "stderr",
     "output_type": "stream",
     "text": [
      "DEBUG:urllib3.connectionpool:https://api.openweathermap.org:443 \"GET /data/2.5/weather?units=imperial&q=rorvik&appid=bd8d52cf71d30c1b6d26f4c28f6a8e76 HTTP/1.1\" 200 467\n",
      "DEBUG:urllib3.connectionpool:Starting new HTTPS connection (1): api.openweathermap.org:443\n"
     ]
    },
    {
     "name": "stdout",
     "output_type": "stream",
     "text": [
      "Processing Record 46  of Set 8 | rorvik.\n"
     ]
    },
    {
     "name": "stderr",
     "output_type": "stream",
     "text": [
      "DEBUG:urllib3.connectionpool:https://api.openweathermap.org:443 \"GET /data/2.5/weather?units=imperial&q=cabo%20san%20lucas&appid=bd8d52cf71d30c1b6d26f4c28f6a8e76 HTTP/1.1\" 200 473\n",
      "DEBUG:urllib3.connectionpool:Starting new HTTPS connection (1): api.openweathermap.org:443\n"
     ]
    },
    {
     "name": "stdout",
     "output_type": "stream",
     "text": [
      "Processing Record 47  of Set 8 | cabo san lucas.\n"
     ]
    },
    {
     "name": "stderr",
     "output_type": "stream",
     "text": [
      "DEBUG:urllib3.connectionpool:https://api.openweathermap.org:443 \"GET /data/2.5/weather?units=imperial&q=bembereke&appid=bd8d52cf71d30c1b6d26f4c28f6a8e76 HTTP/1.1\" 200 482\n",
      "DEBUG:urllib3.connectionpool:Starting new HTTPS connection (1): api.openweathermap.org:443\n"
     ]
    },
    {
     "name": "stdout",
     "output_type": "stream",
     "text": [
      "Processing Record 48  of Set 8 | bembereke.\n"
     ]
    },
    {
     "name": "stderr",
     "output_type": "stream",
     "text": [
      "DEBUG:urllib3.connectionpool:https://api.openweathermap.org:443 \"GET /data/2.5/weather?units=imperial&q=grong&appid=bd8d52cf71d30c1b6d26f4c28f6a8e76 HTTP/1.1\" 200 479\n",
      "DEBUG:urllib3.connectionpool:Starting new HTTPS connection (1): api.openweathermap.org:443\n"
     ]
    },
    {
     "name": "stdout",
     "output_type": "stream",
     "text": [
      "Processing Record 49  of Set 8 | grong.\n"
     ]
    },
    {
     "name": "stderr",
     "output_type": "stream",
     "text": [
      "DEBUG:urllib3.connectionpool:https://api.openweathermap.org:443 \"GET /data/2.5/weather?units=imperial&q=grand-santi&appid=bd8d52cf71d30c1b6d26f4c28f6a8e76 HTTP/1.1\" 200 490\n",
      "DEBUG:urllib3.connectionpool:Starting new HTTPS connection (1): api.openweathermap.org:443\n"
     ]
    },
    {
     "name": "stdout",
     "output_type": "stream",
     "text": [
      "Processing Record 0  of Set 9 | grand-santi.\n"
     ]
    },
    {
     "name": "stderr",
     "output_type": "stream",
     "text": [
      "DEBUG:urllib3.connectionpool:https://api.openweathermap.org:443 \"GET /data/2.5/weather?units=imperial&q=grand%20gaube&appid=bd8d52cf71d30c1b6d26f4c28f6a8e76 HTTP/1.1\" 200 475\n",
      "DEBUG:urllib3.connectionpool:Starting new HTTPS connection (1): api.openweathermap.org:443\n"
     ]
    },
    {
     "name": "stdout",
     "output_type": "stream",
     "text": [
      "Processing Record 1  of Set 9 | grand gaube.\n"
     ]
    },
    {
     "name": "stderr",
     "output_type": "stream",
     "text": [
      "DEBUG:urllib3.connectionpool:https://api.openweathermap.org:443 \"GET /data/2.5/weather?units=imperial&q=baglung&appid=bd8d52cf71d30c1b6d26f4c28f6a8e76 HTTP/1.1\" 200 480\n",
      "DEBUG:urllib3.connectionpool:Starting new HTTPS connection (1): api.openweathermap.org:443\n"
     ]
    },
    {
     "name": "stdout",
     "output_type": "stream",
     "text": [
      "Processing Record 2  of Set 9 | baglung.\n"
     ]
    },
    {
     "name": "stderr",
     "output_type": "stream",
     "text": [
      "DEBUG:urllib3.connectionpool:https://api.openweathermap.org:443 \"GET /data/2.5/weather?units=imperial&q=kahului&appid=bd8d52cf71d30c1b6d26f4c28f6a8e76 HTTP/1.1\" 200 478\n",
      "DEBUG:urllib3.connectionpool:Starting new HTTPS connection (1): api.openweathermap.org:443\n"
     ]
    },
    {
     "name": "stdout",
     "output_type": "stream",
     "text": [
      "Processing Record 3  of Set 9 | kahului.\n"
     ]
    },
    {
     "name": "stderr",
     "output_type": "stream",
     "text": [
      "DEBUG:urllib3.connectionpool:https://api.openweathermap.org:443 \"GET /data/2.5/weather?units=imperial&q=smithers&appid=bd8d52cf71d30c1b6d26f4c28f6a8e76 HTTP/1.1\" 200 466\n",
      "DEBUG:urllib3.connectionpool:Starting new HTTPS connection (1): api.openweathermap.org:443\n"
     ]
    },
    {
     "name": "stdout",
     "output_type": "stream",
     "text": [
      "Processing Record 4  of Set 9 | smithers.\n"
     ]
    },
    {
     "name": "stderr",
     "output_type": "stream",
     "text": [
      "DEBUG:urllib3.connectionpool:https://api.openweathermap.org:443 \"GET /data/2.5/weather?units=imperial&q=cozumel&appid=bd8d52cf71d30c1b6d26f4c28f6a8e76 HTTP/1.1\" 200 487\n",
      "DEBUG:urllib3.connectionpool:Starting new HTTPS connection (1): api.openweathermap.org:443\n"
     ]
    },
    {
     "name": "stdout",
     "output_type": "stream",
     "text": [
      "Processing Record 5  of Set 9 | cozumel.\n"
     ]
    },
    {
     "name": "stderr",
     "output_type": "stream",
     "text": [
      "DEBUG:urllib3.connectionpool:https://api.openweathermap.org:443 \"GET /data/2.5/weather?units=imperial&q=guanica&appid=bd8d52cf71d30c1b6d26f4c28f6a8e76 HTTP/1.1\" 200 478\n",
      "DEBUG:urllib3.connectionpool:Starting new HTTPS connection (1): api.openweathermap.org:443\n"
     ]
    },
    {
     "name": "stdout",
     "output_type": "stream",
     "text": [
      "Processing Record 6  of Set 9 | guanica.\n"
     ]
    },
    {
     "name": "stderr",
     "output_type": "stream",
     "text": [
      "DEBUG:urllib3.connectionpool:https://api.openweathermap.org:443 \"GET /data/2.5/weather?units=imperial&q=uravakonda&appid=bd8d52cf71d30c1b6d26f4c28f6a8e76 HTTP/1.1\" 200 481\n",
      "DEBUG:urllib3.connectionpool:Starting new HTTPS connection (1): api.openweathermap.org:443\n"
     ]
    },
    {
     "name": "stdout",
     "output_type": "stream",
     "text": [
      "Processing Record 7  of Set 9 | uravakonda.\n"
     ]
    },
    {
     "name": "stderr",
     "output_type": "stream",
     "text": [
      "DEBUG:urllib3.connectionpool:https://api.openweathermap.org:443 \"GET /data/2.5/weather?units=imperial&q=dinghai&appid=bd8d52cf71d30c1b6d26f4c28f6a8e76 HTTP/1.1\" 200 472\n",
      "DEBUG:urllib3.connectionpool:Starting new HTTPS connection (1): api.openweathermap.org:443\n"
     ]
    },
    {
     "name": "stdout",
     "output_type": "stream",
     "text": [
      "Processing Record 8  of Set 9 | dinghai.\n"
     ]
    },
    {
     "name": "stderr",
     "output_type": "stream",
     "text": [
      "DEBUG:urllib3.connectionpool:https://api.openweathermap.org:443 \"GET /data/2.5/weather?units=imperial&q=bonavista&appid=bd8d52cf71d30c1b6d26f4c28f6a8e76 HTTP/1.1\" 200 469\n",
      "DEBUG:urllib3.connectionpool:Starting new HTTPS connection (1): api.openweathermap.org:443\n"
     ]
    },
    {
     "name": "stdout",
     "output_type": "stream",
     "text": [
      "Processing Record 9  of Set 9 | bonavista.\n"
     ]
    },
    {
     "name": "stderr",
     "output_type": "stream",
     "text": [
      "DEBUG:urllib3.connectionpool:https://api.openweathermap.org:443 \"GET /data/2.5/weather?units=imperial&q=alekseyevsk&appid=bd8d52cf71d30c1b6d26f4c28f6a8e76 HTTP/1.1\" 200 495\n",
      "DEBUG:urllib3.connectionpool:Starting new HTTPS connection (1): api.openweathermap.org:443\n"
     ]
    },
    {
     "name": "stdout",
     "output_type": "stream",
     "text": [
      "Processing Record 10  of Set 9 | alekseyevsk.\n"
     ]
    },
    {
     "name": "stderr",
     "output_type": "stream",
     "text": [
      "DEBUG:urllib3.connectionpool:https://api.openweathermap.org:443 \"GET /data/2.5/weather?units=imperial&q=la%20maddalena&appid=bd8d52cf71d30c1b6d26f4c28f6a8e76 HTTP/1.1\" 200 465\n",
      "DEBUG:urllib3.connectionpool:Starting new HTTPS connection (1): api.openweathermap.org:443\n"
     ]
    },
    {
     "name": "stdout",
     "output_type": "stream",
     "text": [
      "Processing Record 11  of Set 9 | la maddalena.\n"
     ]
    },
    {
     "name": "stderr",
     "output_type": "stream",
     "text": [
      "DEBUG:urllib3.connectionpool:https://api.openweathermap.org:443 \"GET /data/2.5/weather?units=imperial&q=comodoro%20rivadavia&appid=bd8d52cf71d30c1b6d26f4c28f6a8e76 HTTP/1.1\" 200 576\n",
      "DEBUG:urllib3.connectionpool:Starting new HTTPS connection (1): api.openweathermap.org:443\n"
     ]
    },
    {
     "name": "stdout",
     "output_type": "stream",
     "text": [
      "Processing Record 12  of Set 9 | comodoro rivadavia.\n"
     ]
    },
    {
     "name": "stderr",
     "output_type": "stream",
     "text": [
      "DEBUG:urllib3.connectionpool:https://api.openweathermap.org:443 \"GET /data/2.5/weather?units=imperial&q=pangai&appid=bd8d52cf71d30c1b6d26f4c28f6a8e76 HTTP/1.1\" 200 487\n",
      "DEBUG:urllib3.connectionpool:Starting new HTTPS connection (1): api.openweathermap.org:443\n"
     ]
    },
    {
     "name": "stdout",
     "output_type": "stream",
     "text": [
      "Processing Record 13  of Set 9 | pangai.\n"
     ]
    },
    {
     "name": "stderr",
     "output_type": "stream",
     "text": [
      "DEBUG:urllib3.connectionpool:https://api.openweathermap.org:443 \"GET /data/2.5/weather?units=imperial&q=hofu&appid=bd8d52cf71d30c1b6d26f4c28f6a8e76 HTTP/1.1\" 200 464\n",
      "DEBUG:urllib3.connectionpool:Starting new HTTPS connection (1): api.openweathermap.org:443\n"
     ]
    },
    {
     "name": "stdout",
     "output_type": "stream",
     "text": [
      "Processing Record 14  of Set 9 | hofu.\n"
     ]
    },
    {
     "name": "stderr",
     "output_type": "stream",
     "text": [
      "DEBUG:urllib3.connectionpool:https://api.openweathermap.org:443 \"GET /data/2.5/weather?units=imperial&q=cascais&appid=bd8d52cf71d30c1b6d26f4c28f6a8e76 HTTP/1.1\" 200 463\n",
      "DEBUG:urllib3.connectionpool:Starting new HTTPS connection (1): api.openweathermap.org:443\n"
     ]
    },
    {
     "name": "stdout",
     "output_type": "stream",
     "text": [
      "Processing Record 15  of Set 9 | cascais.\n"
     ]
    },
    {
     "name": "stderr",
     "output_type": "stream",
     "text": [
      "DEBUG:urllib3.connectionpool:https://api.openweathermap.org:443 \"GET /data/2.5/weather?units=imperial&q=naifaru&appid=bd8d52cf71d30c1b6d26f4c28f6a8e76 HTTP/1.1\" 200 479\n",
      "DEBUG:urllib3.connectionpool:Starting new HTTPS connection (1): api.openweathermap.org:443\n"
     ]
    },
    {
     "name": "stdout",
     "output_type": "stream",
     "text": [
      "Processing Record 16  of Set 9 | naifaru.\n"
     ]
    },
    {
     "name": "stderr",
     "output_type": "stream",
     "text": [
      "DEBUG:urllib3.connectionpool:https://api.openweathermap.org:443 \"GET /data/2.5/weather?units=imperial&q=severo-yeniseyskiy&appid=bd8d52cf71d30c1b6d26f4c28f6a8e76 HTTP/1.1\" 200 506\n",
      "DEBUG:urllib3.connectionpool:Starting new HTTPS connection (1): api.openweathermap.org:443\n"
     ]
    },
    {
     "name": "stdout",
     "output_type": "stream",
     "text": [
      "Processing Record 17  of Set 9 | severo-yeniseyskiy.\n"
     ]
    },
    {
     "name": "stderr",
     "output_type": "stream",
     "text": [
      "DEBUG:urllib3.connectionpool:https://api.openweathermap.org:443 \"GET /data/2.5/weather?units=imperial&q=mago&appid=bd8d52cf71d30c1b6d26f4c28f6a8e76 HTTP/1.1\" 200 489\n",
      "DEBUG:urllib3.connectionpool:Starting new HTTPS connection (1): api.openweathermap.org:443\n"
     ]
    },
    {
     "name": "stdout",
     "output_type": "stream",
     "text": [
      "Processing Record 18  of Set 9 | mago.\n"
     ]
    },
    {
     "name": "stderr",
     "output_type": "stream",
     "text": [
      "DEBUG:urllib3.connectionpool:https://api.openweathermap.org:443 \"GET /data/2.5/weather?units=imperial&q=baboua&appid=bd8d52cf71d30c1b6d26f4c28f6a8e76 HTTP/1.1\" 404 40\n",
      "DEBUG:urllib3.connectionpool:Starting new HTTPS connection (1): api.openweathermap.org:443\n"
     ]
    },
    {
     "name": "stdout",
     "output_type": "stream",
     "text": [
      "Processing Record 19  of Set 9 | baboua.\n",
      "City not found. Skipping...\n"
     ]
    },
    {
     "name": "stderr",
     "output_type": "stream",
     "text": [
      "DEBUG:urllib3.connectionpool:https://api.openweathermap.org:443 \"GET /data/2.5/weather?units=imperial&q=kavaratti&appid=bd8d52cf71d30c1b6d26f4c28f6a8e76 HTTP/1.1\" 200 482\n",
      "DEBUG:urllib3.connectionpool:Starting new HTTPS connection (1): api.openweathermap.org:443\n"
     ]
    },
    {
     "name": "stdout",
     "output_type": "stream",
     "text": [
      "Processing Record 20  of Set 9 | kavaratti.\n"
     ]
    },
    {
     "name": "stderr",
     "output_type": "stream",
     "text": [
      "DEBUG:urllib3.connectionpool:https://api.openweathermap.org:443 \"GET /data/2.5/weather?units=imperial&q=hue&appid=bd8d52cf71d30c1b6d26f4c28f6a8e76 HTTP/1.1\" 200 455\n",
      "DEBUG:urllib3.connectionpool:Starting new HTTPS connection (1): api.openweathermap.org:443\n"
     ]
    },
    {
     "name": "stdout",
     "output_type": "stream",
     "text": [
      "Processing Record 21  of Set 9 | hue.\n"
     ]
    },
    {
     "name": "stderr",
     "output_type": "stream",
     "text": [
      "DEBUG:urllib3.connectionpool:https://api.openweathermap.org:443 \"GET /data/2.5/weather?units=imperial&q=evensk&appid=bd8d52cf71d30c1b6d26f4c28f6a8e76 HTTP/1.1\" 200 486\n",
      "DEBUG:urllib3.connectionpool:Starting new HTTPS connection (1): api.openweathermap.org:443\n"
     ]
    },
    {
     "name": "stdout",
     "output_type": "stream",
     "text": [
      "Processing Record 22  of Set 9 | evensk.\n"
     ]
    },
    {
     "name": "stderr",
     "output_type": "stream",
     "text": [
      "DEBUG:urllib3.connectionpool:https://api.openweathermap.org:443 \"GET /data/2.5/weather?units=imperial&q=sharan&appid=bd8d52cf71d30c1b6d26f4c28f6a8e76 HTTP/1.1\" 200 491\n",
      "DEBUG:urllib3.connectionpool:Starting new HTTPS connection (1): api.openweathermap.org:443\n"
     ]
    },
    {
     "name": "stdout",
     "output_type": "stream",
     "text": [
      "Processing Record 23  of Set 9 | sharan.\n"
     ]
    },
    {
     "name": "stderr",
     "output_type": "stream",
     "text": [
      "DEBUG:urllib3.connectionpool:https://api.openweathermap.org:443 \"GET /data/2.5/weather?units=imperial&q=ayer%20itam&appid=bd8d52cf71d30c1b6d26f4c28f6a8e76 HTTP/1.1\" 404 40\n",
      "DEBUG:urllib3.connectionpool:Starting new HTTPS connection (1): api.openweathermap.org:443\n"
     ]
    },
    {
     "name": "stdout",
     "output_type": "stream",
     "text": [
      "Processing Record 24  of Set 9 | ayer itam.\n",
      "City not found. Skipping...\n"
     ]
    },
    {
     "name": "stderr",
     "output_type": "stream",
     "text": [
      "DEBUG:urllib3.connectionpool:https://api.openweathermap.org:443 \"GET /data/2.5/weather?units=imperial&q=bracebridge&appid=bd8d52cf71d30c1b6d26f4c28f6a8e76 HTTP/1.1\" 200 467\n",
      "DEBUG:urllib3.connectionpool:Starting new HTTPS connection (1): api.openweathermap.org:443\n"
     ]
    },
    {
     "name": "stdout",
     "output_type": "stream",
     "text": [
      "Processing Record 25  of Set 9 | bracebridge.\n"
     ]
    },
    {
     "name": "stderr",
     "output_type": "stream",
     "text": [
      "DEBUG:urllib3.connectionpool:https://api.openweathermap.org:443 \"GET /data/2.5/weather?units=imperial&q=ukiah&appid=bd8d52cf71d30c1b6d26f4c28f6a8e76 HTTP/1.1\" 200 465\n",
      "DEBUG:urllib3.connectionpool:Starting new HTTPS connection (1): api.openweathermap.org:443\n"
     ]
    },
    {
     "name": "stdout",
     "output_type": "stream",
     "text": [
      "Processing Record 26  of Set 9 | ukiah.\n"
     ]
    },
    {
     "name": "stderr",
     "output_type": "stream",
     "text": [
      "DEBUG:urllib3.connectionpool:https://api.openweathermap.org:443 \"GET /data/2.5/weather?units=imperial&q=ngunguru&appid=bd8d52cf71d30c1b6d26f4c28f6a8e76 HTTP/1.1\" 200 468\n",
      "DEBUG:urllib3.connectionpool:Starting new HTTPS connection (1): api.openweathermap.org:443\n"
     ]
    },
    {
     "name": "stdout",
     "output_type": "stream",
     "text": [
      "Processing Record 27  of Set 9 | ngunguru.\n"
     ]
    },
    {
     "name": "stderr",
     "output_type": "stream",
     "text": [
      "DEBUG:urllib3.connectionpool:https://api.openweathermap.org:443 \"GET /data/2.5/weather?units=imperial&q=hurghada&appid=bd8d52cf71d30c1b6d26f4c28f6a8e76 HTTP/1.1\" 200 462\n",
      "DEBUG:urllib3.connectionpool:Starting new HTTPS connection (1): api.openweathermap.org:443\n"
     ]
    },
    {
     "name": "stdout",
     "output_type": "stream",
     "text": [
      "Processing Record 28  of Set 9 | hurghada.\n"
     ]
    },
    {
     "name": "stderr",
     "output_type": "stream",
     "text": [
      "DEBUG:urllib3.connectionpool:https://api.openweathermap.org:443 \"GET /data/2.5/weather?units=imperial&q=yei&appid=bd8d52cf71d30c1b6d26f4c28f6a8e76 HTTP/1.1\" 200 479\n",
      "DEBUG:urllib3.connectionpool:Starting new HTTPS connection (1): api.openweathermap.org:443\n"
     ]
    },
    {
     "name": "stdout",
     "output_type": "stream",
     "text": [
      "Processing Record 29  of Set 9 | yei.\n"
     ]
    },
    {
     "name": "stderr",
     "output_type": "stream",
     "text": [
      "DEBUG:urllib3.connectionpool:https://api.openweathermap.org:443 \"GET /data/2.5/weather?units=imperial&q=alto%20araguaia&appid=bd8d52cf71d30c1b6d26f4c28f6a8e76 HTTP/1.1\" 200 489\n",
      "DEBUG:urllib3.connectionpool:Starting new HTTPS connection (1): api.openweathermap.org:443\n"
     ]
    },
    {
     "name": "stdout",
     "output_type": "stream",
     "text": [
      "Processing Record 30  of Set 9 | alto araguaia.\n"
     ]
    },
    {
     "name": "stderr",
     "output_type": "stream",
     "text": [
      "DEBUG:urllib3.connectionpool:https://api.openweathermap.org:443 \"GET /data/2.5/weather?units=imperial&q=kimbe&appid=bd8d52cf71d30c1b6d26f4c28f6a8e76 HTTP/1.1\" 200 515\n",
      "DEBUG:urllib3.connectionpool:Starting new HTTPS connection (1): api.openweathermap.org:443\n"
     ]
    },
    {
     "name": "stdout",
     "output_type": "stream",
     "text": [
      "Processing Record 31  of Set 9 | kimbe.\n"
     ]
    },
    {
     "name": "stderr",
     "output_type": "stream",
     "text": [
      "DEBUG:urllib3.connectionpool:https://api.openweathermap.org:443 \"GET /data/2.5/weather?units=imperial&q=talisay&appid=bd8d52cf71d30c1b6d26f4c28f6a8e76 HTTP/1.1\" 200 476\n",
      "DEBUG:urllib3.connectionpool:Starting new HTTPS connection (1): api.openweathermap.org:443\n"
     ]
    },
    {
     "name": "stdout",
     "output_type": "stream",
     "text": [
      "Processing Record 32  of Set 9 | talisay.\n"
     ]
    },
    {
     "name": "stderr",
     "output_type": "stream",
     "text": [
      "DEBUG:urllib3.connectionpool:https://api.openweathermap.org:443 \"GET /data/2.5/weather?units=imperial&q=anadyr&appid=bd8d52cf71d30c1b6d26f4c28f6a8e76 HTTP/1.1\" 200 465\n",
      "DEBUG:urllib3.connectionpool:Starting new HTTPS connection (1): api.openweathermap.org:443\n"
     ]
    },
    {
     "name": "stdout",
     "output_type": "stream",
     "text": [
      "Processing Record 33  of Set 9 | anadyr.\n"
     ]
    },
    {
     "name": "stderr",
     "output_type": "stream",
     "text": [
      "DEBUG:urllib3.connectionpool:https://api.openweathermap.org:443 \"GET /data/2.5/weather?units=imperial&q=nueva%20loja&appid=bd8d52cf71d30c1b6d26f4c28f6a8e76 HTTP/1.1\" 200 472\n",
      "DEBUG:urllib3.connectionpool:Starting new HTTPS connection (1): api.openweathermap.org:443\n"
     ]
    },
    {
     "name": "stdout",
     "output_type": "stream",
     "text": [
      "Processing Record 34  of Set 9 | nueva loja.\n"
     ]
    },
    {
     "name": "stderr",
     "output_type": "stream",
     "text": [
      "DEBUG:urllib3.connectionpool:https://api.openweathermap.org:443 \"GET /data/2.5/weather?units=imperial&q=lima&appid=bd8d52cf71d30c1b6d26f4c28f6a8e76 HTTP/1.1\" 200 462\n",
      "DEBUG:urllib3.connectionpool:Starting new HTTPS connection (1): api.openweathermap.org:443\n"
     ]
    },
    {
     "name": "stdout",
     "output_type": "stream",
     "text": [
      "Processing Record 35  of Set 9 | lima.\n"
     ]
    },
    {
     "name": "stderr",
     "output_type": "stream",
     "text": [
      "DEBUG:urllib3.connectionpool:https://api.openweathermap.org:443 \"GET /data/2.5/weather?units=imperial&q=svetlyy&appid=bd8d52cf71d30c1b6d26f4c28f6a8e76 HTTP/1.1\" 200 472\n",
      "DEBUG:urllib3.connectionpool:Starting new HTTPS connection (1): api.openweathermap.org:443\n"
     ]
    },
    {
     "name": "stdout",
     "output_type": "stream",
     "text": [
      "Processing Record 36  of Set 9 | svetlyy.\n"
     ]
    },
    {
     "name": "stderr",
     "output_type": "stream",
     "text": [
      "DEBUG:urllib3.connectionpool:https://api.openweathermap.org:443 \"GET /data/2.5/weather?units=imperial&q=morant%20bay&appid=bd8d52cf71d30c1b6d26f4c28f6a8e76 HTTP/1.1\" 200 479\n",
      "DEBUG:urllib3.connectionpool:Starting new HTTPS connection (1): api.openweathermap.org:443\n"
     ]
    },
    {
     "name": "stdout",
     "output_type": "stream",
     "text": [
      "Processing Record 37  of Set 9 | morant bay.\n"
     ]
    },
    {
     "name": "stderr",
     "output_type": "stream",
     "text": [
      "DEBUG:urllib3.connectionpool:https://api.openweathermap.org:443 \"GET /data/2.5/weather?units=imperial&q=aykhal&appid=bd8d52cf71d30c1b6d26f4c28f6a8e76 HTTP/1.1\" 200 478\n",
      "DEBUG:urllib3.connectionpool:Starting new HTTPS connection (1): api.openweathermap.org:443\n"
     ]
    },
    {
     "name": "stdout",
     "output_type": "stream",
     "text": [
      "Processing Record 38  of Set 9 | aykhal.\n"
     ]
    },
    {
     "name": "stderr",
     "output_type": "stream",
     "text": [
      "DEBUG:urllib3.connectionpool:https://api.openweathermap.org:443 \"GET /data/2.5/weather?units=imperial&q=vanino&appid=bd8d52cf71d30c1b6d26f4c28f6a8e76 HTTP/1.1\" 200 482\n",
      "DEBUG:urllib3.connectionpool:Starting new HTTPS connection (1): api.openweathermap.org:443\n"
     ]
    },
    {
     "name": "stdout",
     "output_type": "stream",
     "text": [
      "Processing Record 39  of Set 9 | vanino.\n"
     ]
    },
    {
     "name": "stderr",
     "output_type": "stream",
     "text": [
      "DEBUG:urllib3.connectionpool:https://api.openweathermap.org:443 \"GET /data/2.5/weather?units=imperial&q=olinda&appid=bd8d52cf71d30c1b6d26f4c28f6a8e76 HTTP/1.1\" 200 473\n",
      "DEBUG:urllib3.connectionpool:Starting new HTTPS connection (1): api.openweathermap.org:443\n"
     ]
    },
    {
     "name": "stdout",
     "output_type": "stream",
     "text": [
      "Processing Record 40  of Set 9 | olinda.\n"
     ]
    },
    {
     "name": "stderr",
     "output_type": "stream",
     "text": [
      "DEBUG:urllib3.connectionpool:https://api.openweathermap.org:443 \"GET /data/2.5/weather?units=imperial&q=natal&appid=bd8d52cf71d30c1b6d26f4c28f6a8e76 HTTP/1.1\" 200 471\n",
      "DEBUG:urllib3.connectionpool:Starting new HTTPS connection (1): api.openweathermap.org:443\n"
     ]
    },
    {
     "name": "stdout",
     "output_type": "stream",
     "text": [
      "Processing Record 41  of Set 9 | natal.\n"
     ]
    },
    {
     "name": "stderr",
     "output_type": "stream",
     "text": [
      "DEBUG:urllib3.connectionpool:https://api.openweathermap.org:443 \"GET /data/2.5/weather?units=imperial&q=nicolas%20bravo&appid=bd8d52cf71d30c1b6d26f4c28f6a8e76 HTTP/1.1\" 200 472\n",
      "DEBUG:urllib3.connectionpool:Starting new HTTPS connection (1): api.openweathermap.org:443\n"
     ]
    },
    {
     "name": "stdout",
     "output_type": "stream",
     "text": [
      "Processing Record 42  of Set 9 | nicolas bravo.\n"
     ]
    },
    {
     "name": "stderr",
     "output_type": "stream",
     "text": [
      "DEBUG:urllib3.connectionpool:https://api.openweathermap.org:443 \"GET /data/2.5/weather?units=imperial&q=virden&appid=bd8d52cf71d30c1b6d26f4c28f6a8e76 HTTP/1.1\" 200 476\n",
      "DEBUG:urllib3.connectionpool:Starting new HTTPS connection (1): api.openweathermap.org:443\n"
     ]
    },
    {
     "name": "stdout",
     "output_type": "stream",
     "text": [
      "Processing Record 43  of Set 9 | virden.\n"
     ]
    },
    {
     "name": "stderr",
     "output_type": "stream",
     "text": [
      "DEBUG:urllib3.connectionpool:https://api.openweathermap.org:443 \"GET /data/2.5/weather?units=imperial&q=sipoo&appid=bd8d52cf71d30c1b6d26f4c28f6a8e76 HTTP/1.1\" 200 455\n",
      "DEBUG:urllib3.connectionpool:Starting new HTTPS connection (1): api.openweathermap.org:443\n"
     ]
    },
    {
     "name": "stdout",
     "output_type": "stream",
     "text": [
      "Processing Record 44  of Set 9 | sipoo.\n"
     ]
    },
    {
     "name": "stderr",
     "output_type": "stream",
     "text": [
      "DEBUG:urllib3.connectionpool:https://api.openweathermap.org:443 \"GET /data/2.5/weather?units=imperial&q=carutapera&appid=bd8d52cf71d30c1b6d26f4c28f6a8e76 HTTP/1.1\" 200 491\n",
      "DEBUG:urllib3.connectionpool:Starting new HTTPS connection (1): api.openweathermap.org:443\n"
     ]
    },
    {
     "name": "stdout",
     "output_type": "stream",
     "text": [
      "Processing Record 45  of Set 9 | carutapera.\n"
     ]
    },
    {
     "name": "stderr",
     "output_type": "stream",
     "text": [
      "DEBUG:urllib3.connectionpool:https://api.openweathermap.org:443 \"GET /data/2.5/weather?units=imperial&q=ozgon&appid=bd8d52cf71d30c1b6d26f4c28f6a8e76 HTTP/1.1\" 404 40\n",
      "DEBUG:urllib3.connectionpool:Starting new HTTPS connection (1): api.openweathermap.org:443\n"
     ]
    },
    {
     "name": "stdout",
     "output_type": "stream",
     "text": [
      "Processing Record 46  of Set 9 | ozgon.\n",
      "City not found. Skipping...\n"
     ]
    },
    {
     "name": "stderr",
     "output_type": "stream",
     "text": [
      "DEBUG:urllib3.connectionpool:https://api.openweathermap.org:443 \"GET /data/2.5/weather?units=imperial&q=maykain&appid=bd8d52cf71d30c1b6d26f4c28f6a8e76 HTTP/1.1\" 404 40\n",
      "DEBUG:urllib3.connectionpool:Starting new HTTPS connection (1): api.openweathermap.org:443\n"
     ]
    },
    {
     "name": "stdout",
     "output_type": "stream",
     "text": [
      "Processing Record 47  of Set 9 | maykain.\n",
      "City not found. Skipping...\n"
     ]
    },
    {
     "name": "stderr",
     "output_type": "stream",
     "text": [
      "DEBUG:urllib3.connectionpool:https://api.openweathermap.org:443 \"GET /data/2.5/weather?units=imperial&q=karratha&appid=bd8d52cf71d30c1b6d26f4c28f6a8e76 HTTP/1.1\" 200 506\n",
      "DEBUG:urllib3.connectionpool:Starting new HTTPS connection (1): api.openweathermap.org:443\n"
     ]
    },
    {
     "name": "stdout",
     "output_type": "stream",
     "text": [
      "Processing Record 48  of Set 9 | karratha.\n"
     ]
    },
    {
     "name": "stderr",
     "output_type": "stream",
     "text": [
      "DEBUG:urllib3.connectionpool:https://api.openweathermap.org:443 \"GET /data/2.5/weather?units=imperial&q=bereda&appid=bd8d52cf71d30c1b6d26f4c28f6a8e76 HTTP/1.1\" 200 481\n",
      "DEBUG:urllib3.connectionpool:Starting new HTTPS connection (1): api.openweathermap.org:443\n"
     ]
    },
    {
     "name": "stdout",
     "output_type": "stream",
     "text": [
      "Processing Record 49  of Set 9 | bereda.\n"
     ]
    },
    {
     "name": "stderr",
     "output_type": "stream",
     "text": [
      "DEBUG:urllib3.connectionpool:https://api.openweathermap.org:443 \"GET /data/2.5/weather?units=imperial&q=port%20lincoln&appid=bd8d52cf71d30c1b6d26f4c28f6a8e76 HTTP/1.1\" 200 492\n",
      "DEBUG:urllib3.connectionpool:Starting new HTTPS connection (1): api.openweathermap.org:443\n"
     ]
    },
    {
     "name": "stdout",
     "output_type": "stream",
     "text": [
      "Processing Record 0  of Set 10 | port lincoln.\n"
     ]
    },
    {
     "name": "stderr",
     "output_type": "stream",
     "text": [
      "DEBUG:urllib3.connectionpool:https://api.openweathermap.org:443 \"GET /data/2.5/weather?units=imperial&q=usevya&appid=bd8d52cf71d30c1b6d26f4c28f6a8e76 HTTP/1.1\" 200 507\n",
      "DEBUG:urllib3.connectionpool:Starting new HTTPS connection (1): api.openweathermap.org:443\n"
     ]
    },
    {
     "name": "stdout",
     "output_type": "stream",
     "text": [
      "Processing Record 1  of Set 10 | usevya.\n"
     ]
    },
    {
     "name": "stderr",
     "output_type": "stream",
     "text": [
      "DEBUG:urllib3.connectionpool:https://api.openweathermap.org:443 \"GET /data/2.5/weather?units=imperial&q=kirov&appid=bd8d52cf71d30c1b6d26f4c28f6a8e76 HTTP/1.1\" 200 480\n",
      "DEBUG:urllib3.connectionpool:Starting new HTTPS connection (1): api.openweathermap.org:443\n"
     ]
    },
    {
     "name": "stdout",
     "output_type": "stream",
     "text": [
      "Processing Record 2  of Set 10 | kirov.\n"
     ]
    },
    {
     "name": "stderr",
     "output_type": "stream",
     "text": [
      "DEBUG:urllib3.connectionpool:https://api.openweathermap.org:443 \"GET /data/2.5/weather?units=imperial&q=conde&appid=bd8d52cf71d30c1b6d26f4c28f6a8e76 HTTP/1.1\" 200 471\n",
      "DEBUG:urllib3.connectionpool:Starting new HTTPS connection (1): api.openweathermap.org:443\n"
     ]
    },
    {
     "name": "stdout",
     "output_type": "stream",
     "text": [
      "Processing Record 3  of Set 10 | conde.\n"
     ]
    },
    {
     "name": "stderr",
     "output_type": "stream",
     "text": [
      "DEBUG:urllib3.connectionpool:https://api.openweathermap.org:443 \"GET /data/2.5/weather?units=imperial&q=kalomo&appid=bd8d52cf71d30c1b6d26f4c28f6a8e76 HTTP/1.1\" 404 40\n",
      "DEBUG:urllib3.connectionpool:Starting new HTTPS connection (1): api.openweathermap.org:443\n"
     ]
    },
    {
     "name": "stdout",
     "output_type": "stream",
     "text": [
      "Processing Record 4  of Set 10 | kalomo.\n",
      "City not found. Skipping...\n"
     ]
    },
    {
     "name": "stderr",
     "output_type": "stream",
     "text": [
      "DEBUG:urllib3.connectionpool:https://api.openweathermap.org:443 \"GET /data/2.5/weather?units=imperial&q=ramhormoz&appid=bd8d52cf71d30c1b6d26f4c28f6a8e76 HTTP/1.1\" 200 481\n",
      "DEBUG:urllib3.connectionpool:Starting new HTTPS connection (1): api.openweathermap.org:443\n"
     ]
    },
    {
     "name": "stdout",
     "output_type": "stream",
     "text": [
      "Processing Record 5  of Set 10 | ramhormoz.\n"
     ]
    },
    {
     "name": "stderr",
     "output_type": "stream",
     "text": [
      "DEBUG:urllib3.connectionpool:https://api.openweathermap.org:443 \"GET /data/2.5/weather?units=imperial&q=maldonado&appid=bd8d52cf71d30c1b6d26f4c28f6a8e76 HTTP/1.1\" 200 485\n",
      "DEBUG:urllib3.connectionpool:Starting new HTTPS connection (1): api.openweathermap.org:443\n"
     ]
    },
    {
     "name": "stdout",
     "output_type": "stream",
     "text": [
      "Processing Record 6  of Set 10 | maldonado.\n"
     ]
    },
    {
     "name": "stderr",
     "output_type": "stream",
     "text": [
      "DEBUG:urllib3.connectionpool:https://api.openweathermap.org:443 \"GET /data/2.5/weather?units=imperial&q=rize&appid=bd8d52cf71d30c1b6d26f4c28f6a8e76 HTTP/1.1\" 200 479\n",
      "DEBUG:urllib3.connectionpool:Starting new HTTPS connection (1): api.openweathermap.org:443\n"
     ]
    },
    {
     "name": "stdout",
     "output_type": "stream",
     "text": [
      "Processing Record 7  of Set 10 | rize.\n"
     ]
    },
    {
     "name": "stderr",
     "output_type": "stream",
     "text": [
      "DEBUG:urllib3.connectionpool:https://api.openweathermap.org:443 \"GET /data/2.5/weather?units=imperial&q=verkh-usugli&appid=bd8d52cf71d30c1b6d26f4c28f6a8e76 HTTP/1.1\" 200 494\n",
      "DEBUG:urllib3.connectionpool:Starting new HTTPS connection (1): api.openweathermap.org:443\n"
     ]
    },
    {
     "name": "stdout",
     "output_type": "stream",
     "text": [
      "Processing Record 8  of Set 10 | verkh-usugli.\n"
     ]
    },
    {
     "name": "stderr",
     "output_type": "stream",
     "text": [
      "DEBUG:urllib3.connectionpool:https://api.openweathermap.org:443 \"GET /data/2.5/weather?units=imperial&q=bekescsaba&appid=bd8d52cf71d30c1b6d26f4c28f6a8e76 HTTP/1.1\" 200 462\n",
      "DEBUG:urllib3.connectionpool:Starting new HTTPS connection (1): api.openweathermap.org:443\n"
     ]
    },
    {
     "name": "stdout",
     "output_type": "stream",
     "text": [
      "Processing Record 9  of Set 10 | bekescsaba.\n"
     ]
    },
    {
     "name": "stderr",
     "output_type": "stream",
     "text": [
      "DEBUG:urllib3.connectionpool:https://api.openweathermap.org:443 \"GET /data/2.5/weather?units=imperial&q=la%20ronge&appid=bd8d52cf71d30c1b6d26f4c28f6a8e76 HTTP/1.1\" 200 472\n",
      "DEBUG:urllib3.connectionpool:Starting new HTTPS connection (1): api.openweathermap.org:443\n"
     ]
    },
    {
     "name": "stdout",
     "output_type": "stream",
     "text": [
      "Processing Record 10  of Set 10 | la ronge.\n"
     ]
    },
    {
     "name": "stderr",
     "output_type": "stream",
     "text": [
      "DEBUG:urllib3.connectionpool:https://api.openweathermap.org:443 \"GET /data/2.5/weather?units=imperial&q=deputatskiy&appid=bd8d52cf71d30c1b6d26f4c28f6a8e76 HTTP/1.1\" 200 501\n",
      "DEBUG:urllib3.connectionpool:Starting new HTTPS connection (1): api.openweathermap.org:443\n"
     ]
    },
    {
     "name": "stdout",
     "output_type": "stream",
     "text": [
      "Processing Record 11  of Set 10 | deputatskiy.\n"
     ]
    },
    {
     "name": "stderr",
     "output_type": "stream",
     "text": [
      "DEBUG:urllib3.connectionpool:https://api.openweathermap.org:443 \"GET /data/2.5/weather?units=imperial&q=wismar&appid=bd8d52cf71d30c1b6d26f4c28f6a8e76 HTTP/1.1\" 200 475\n",
      "DEBUG:urllib3.connectionpool:Starting new HTTPS connection (1): api.openweathermap.org:443\n"
     ]
    },
    {
     "name": "stdout",
     "output_type": "stream",
     "text": [
      "Processing Record 12  of Set 10 | wismar.\n"
     ]
    },
    {
     "name": "stderr",
     "output_type": "stream",
     "text": [
      "DEBUG:urllib3.connectionpool:https://api.openweathermap.org:443 \"GET /data/2.5/weather?units=imperial&q=ketchikan&appid=bd8d52cf71d30c1b6d26f4c28f6a8e76 HTTP/1.1\" 200 487\n",
      "DEBUG:urllib3.connectionpool:Starting new HTTPS connection (1): api.openweathermap.org:443\n"
     ]
    },
    {
     "name": "stdout",
     "output_type": "stream",
     "text": [
      "Processing Record 13  of Set 10 | ketchikan.\n"
     ]
    },
    {
     "name": "stderr",
     "output_type": "stream",
     "text": [
      "DEBUG:urllib3.connectionpool:https://api.openweathermap.org:443 \"GET /data/2.5/weather?units=imperial&q=mount%20isa&appid=bd8d52cf71d30c1b6d26f4c28f6a8e76 HTTP/1.1\" 200 483\n",
      "DEBUG:urllib3.connectionpool:Starting new HTTPS connection (1): api.openweathermap.org:443\n"
     ]
    },
    {
     "name": "stdout",
     "output_type": "stream",
     "text": [
      "Processing Record 14  of Set 10 | mount isa.\n"
     ]
    },
    {
     "name": "stderr",
     "output_type": "stream",
     "text": [
      "DEBUG:urllib3.connectionpool:https://api.openweathermap.org:443 \"GET /data/2.5/weather?units=imperial&q=loukhi&appid=bd8d52cf71d30c1b6d26f4c28f6a8e76 HTTP/1.1\" 200 487\n",
      "DEBUG:urllib3.connectionpool:Starting new HTTPS connection (1): api.openweathermap.org:443\n"
     ]
    },
    {
     "name": "stdout",
     "output_type": "stream",
     "text": [
      "Processing Record 15  of Set 10 | loukhi.\n"
     ]
    },
    {
     "name": "stderr",
     "output_type": "stream",
     "text": [
      "DEBUG:urllib3.connectionpool:https://api.openweathermap.org:443 \"GET /data/2.5/weather?units=imperial&q=vila%20franca%20do%20campo&appid=bd8d52cf71d30c1b6d26f4c28f6a8e76 HTTP/1.1\" 200 480\n",
      "DEBUG:urllib3.connectionpool:Starting new HTTPS connection (1): api.openweathermap.org:443\n"
     ]
    },
    {
     "name": "stdout",
     "output_type": "stream",
     "text": [
      "Processing Record 16  of Set 10 | vila franca do campo.\n"
     ]
    },
    {
     "name": "stderr",
     "output_type": "stream",
     "text": [
      "DEBUG:urllib3.connectionpool:https://api.openweathermap.org:443 \"GET /data/2.5/weather?units=imperial&q=san%20quintin&appid=bd8d52cf71d30c1b6d26f4c28f6a8e76 HTTP/1.1\" 200 499\n",
      "DEBUG:urllib3.connectionpool:Starting new HTTPS connection (1): api.openweathermap.org:443\n"
     ]
    },
    {
     "name": "stdout",
     "output_type": "stream",
     "text": [
      "Processing Record 17  of Set 10 | san quintin.\n"
     ]
    },
    {
     "name": "stderr",
     "output_type": "stream",
     "text": [
      "DEBUG:urllib3.connectionpool:https://api.openweathermap.org:443 \"GET /data/2.5/weather?units=imperial&q=solovetskiy&appid=bd8d52cf71d30c1b6d26f4c28f6a8e76 HTTP/1.1\" 404 40\n",
      "DEBUG:urllib3.connectionpool:Starting new HTTPS connection (1): api.openweathermap.org:443\n"
     ]
    },
    {
     "name": "stdout",
     "output_type": "stream",
     "text": [
      "Processing Record 18  of Set 10 | solovetskiy.\n",
      "City not found. Skipping...\n"
     ]
    },
    {
     "name": "stderr",
     "output_type": "stream",
     "text": [
      "DEBUG:urllib3.connectionpool:https://api.openweathermap.org:443 \"GET /data/2.5/weather?units=imperial&q=luena&appid=bd8d52cf71d30c1b6d26f4c28f6a8e76 HTTP/1.1\" 200 494\n",
      "DEBUG:urllib3.connectionpool:Starting new HTTPS connection (1): api.openweathermap.org:443\n"
     ]
    },
    {
     "name": "stdout",
     "output_type": "stream",
     "text": [
      "Processing Record 19  of Set 10 | luena.\n"
     ]
    },
    {
     "name": "stderr",
     "output_type": "stream",
     "text": [
      "DEBUG:urllib3.connectionpool:https://api.openweathermap.org:443 \"GET /data/2.5/weather?units=imperial&q=kysyl-syr&appid=bd8d52cf71d30c1b6d26f4c28f6a8e76 HTTP/1.1\" 200 496\n",
      "DEBUG:urllib3.connectionpool:Starting new HTTPS connection (1): api.openweathermap.org:443\n"
     ]
    },
    {
     "name": "stdout",
     "output_type": "stream",
     "text": [
      "Processing Record 20  of Set 10 | kysyl-syr.\n"
     ]
    },
    {
     "name": "stderr",
     "output_type": "stream",
     "text": [
      "DEBUG:urllib3.connectionpool:https://api.openweathermap.org:443 \"GET /data/2.5/weather?units=imperial&q=souillac&appid=bd8d52cf71d30c1b6d26f4c28f6a8e76 HTTP/1.1\" 200 497\n",
      "DEBUG:urllib3.connectionpool:Starting new HTTPS connection (1): api.openweathermap.org:443\n"
     ]
    },
    {
     "name": "stdout",
     "output_type": "stream",
     "text": [
      "Processing Record 21  of Set 10 | souillac.\n"
     ]
    },
    {
     "name": "stderr",
     "output_type": "stream",
     "text": [
      "DEBUG:urllib3.connectionpool:https://api.openweathermap.org:443 \"GET /data/2.5/weather?units=imperial&q=manjakandriana&appid=bd8d52cf71d30c1b6d26f4c28f6a8e76 HTTP/1.1\" 200 467\n",
      "DEBUG:urllib3.connectionpool:Starting new HTTPS connection (1): api.openweathermap.org:443\n"
     ]
    },
    {
     "name": "stdout",
     "output_type": "stream",
     "text": [
      "Processing Record 22  of Set 10 | manjakandriana.\n"
     ]
    },
    {
     "name": "stderr",
     "output_type": "stream",
     "text": [
      "DEBUG:urllib3.connectionpool:https://api.openweathermap.org:443 \"GET /data/2.5/weather?units=imperial&q=pont-audemer&appid=bd8d52cf71d30c1b6d26f4c28f6a8e76 HTTP/1.1\" 200 462\n",
      "DEBUG:urllib3.connectionpool:Starting new HTTPS connection (1): api.openweathermap.org:443\n"
     ]
    },
    {
     "name": "stdout",
     "output_type": "stream",
     "text": [
      "Processing Record 23  of Set 10 | pont-audemer.\n"
     ]
    },
    {
     "name": "stderr",
     "output_type": "stream",
     "text": [
      "DEBUG:urllib3.connectionpool:https://api.openweathermap.org:443 \"GET /data/2.5/weather?units=imperial&q=coihaique&appid=bd8d52cf71d30c1b6d26f4c28f6a8e76 HTTP/1.1\" 200 475\n",
      "DEBUG:urllib3.connectionpool:Starting new HTTPS connection (1): api.openweathermap.org:443\n"
     ]
    },
    {
     "name": "stdout",
     "output_type": "stream",
     "text": [
      "Processing Record 24  of Set 10 | coihaique.\n"
     ]
    },
    {
     "name": "stderr",
     "output_type": "stream",
     "text": [
      "DEBUG:urllib3.connectionpool:https://api.openweathermap.org:443 \"GET /data/2.5/weather?units=imperial&q=vysotsk&appid=bd8d52cf71d30c1b6d26f4c28f6a8e76 HTTP/1.1\" 200 474\n",
      "DEBUG:urllib3.connectionpool:Starting new HTTPS connection (1): api.openweathermap.org:443\n"
     ]
    },
    {
     "name": "stdout",
     "output_type": "stream",
     "text": [
      "Processing Record 25  of Set 10 | vysotsk.\n"
     ]
    },
    {
     "name": "stderr",
     "output_type": "stream",
     "text": [
      "DEBUG:urllib3.connectionpool:https://api.openweathermap.org:443 \"GET /data/2.5/weather?units=imperial&q=wagar&appid=bd8d52cf71d30c1b6d26f4c28f6a8e76 HTTP/1.1\" 200 482\n",
      "DEBUG:urllib3.connectionpool:Starting new HTTPS connection (1): api.openweathermap.org:443\n"
     ]
    },
    {
     "name": "stdout",
     "output_type": "stream",
     "text": [
      "Processing Record 26  of Set 10 | wagar.\n"
     ]
    },
    {
     "name": "stderr",
     "output_type": "stream",
     "text": [
      "DEBUG:urllib3.connectionpool:https://api.openweathermap.org:443 \"GET /data/2.5/weather?units=imperial&q=basoko&appid=bd8d52cf71d30c1b6d26f4c28f6a8e76 HTTP/1.1\" 200 483\n",
      "DEBUG:urllib3.connectionpool:Starting new HTTPS connection (1): api.openweathermap.org:443\n"
     ]
    },
    {
     "name": "stdout",
     "output_type": "stream",
     "text": [
      "Processing Record 27  of Set 10 | basoko.\n"
     ]
    },
    {
     "name": "stderr",
     "output_type": "stream",
     "text": [
      "DEBUG:urllib3.connectionpool:https://api.openweathermap.org:443 \"GET /data/2.5/weather?units=imperial&q=shillong&appid=bd8d52cf71d30c1b6d26f4c28f6a8e76 HTTP/1.1\" 200 450\n",
      "DEBUG:urllib3.connectionpool:Starting new HTTPS connection (1): api.openweathermap.org:443\n"
     ]
    },
    {
     "name": "stdout",
     "output_type": "stream",
     "text": [
      "Processing Record 28  of Set 10 | shillong.\n"
     ]
    },
    {
     "name": "stderr",
     "output_type": "stream",
     "text": [
      "DEBUG:urllib3.connectionpool:https://api.openweathermap.org:443 \"GET /data/2.5/weather?units=imperial&q=sao%20filipe&appid=bd8d52cf71d30c1b6d26f4c28f6a8e76 HTTP/1.1\" 200 494\n",
      "DEBUG:urllib3.connectionpool:Starting new HTTPS connection (1): api.openweathermap.org:443\n"
     ]
    },
    {
     "name": "stdout",
     "output_type": "stream",
     "text": [
      "Processing Record 29  of Set 10 | sao filipe.\n"
     ]
    },
    {
     "name": "stderr",
     "output_type": "stream",
     "text": [
      "DEBUG:urllib3.connectionpool:https://api.openweathermap.org:443 \"GET /data/2.5/weather?units=imperial&q=lorengau&appid=bd8d52cf71d30c1b6d26f4c28f6a8e76 HTTP/1.1\" 200 493\n",
      "DEBUG:urllib3.connectionpool:Starting new HTTPS connection (1): api.openweathermap.org:443\n"
     ]
    },
    {
     "name": "stdout",
     "output_type": "stream",
     "text": [
      "Processing Record 30  of Set 10 | lorengau.\n"
     ]
    },
    {
     "name": "stderr",
     "output_type": "stream",
     "text": [
      "DEBUG:urllib3.connectionpool:https://api.openweathermap.org:443 \"GET /data/2.5/weather?units=imperial&q=coruripe&appid=bd8d52cf71d30c1b6d26f4c28f6a8e76 HTTP/1.1\" 200 486\n",
      "DEBUG:urllib3.connectionpool:Starting new HTTPS connection (1): api.openweathermap.org:443\n"
     ]
    },
    {
     "name": "stdout",
     "output_type": "stream",
     "text": [
      "Processing Record 31  of Set 10 | coruripe.\n"
     ]
    },
    {
     "name": "stderr",
     "output_type": "stream",
     "text": [
      "DEBUG:urllib3.connectionpool:https://api.openweathermap.org:443 \"GET /data/2.5/weather?units=imperial&q=bom%20jesus%20dos%20perdoes&appid=bd8d52cf71d30c1b6d26f4c28f6a8e76 HTTP/1.1\" 200 489\n",
      "DEBUG:urllib3.connectionpool:Starting new HTTPS connection (1): api.openweathermap.org:443\n"
     ]
    },
    {
     "name": "stdout",
     "output_type": "stream",
     "text": [
      "Processing Record 32  of Set 10 | bom jesus dos perdoes.\n"
     ]
    },
    {
     "name": "stderr",
     "output_type": "stream",
     "text": [
      "DEBUG:urllib3.connectionpool:https://api.openweathermap.org:443 \"GET /data/2.5/weather?units=imperial&q=casino&appid=bd8d52cf71d30c1b6d26f4c28f6a8e76 HTTP/1.1\" 200 466\n",
      "DEBUG:urllib3.connectionpool:Starting new HTTPS connection (1): api.openweathermap.org:443\n"
     ]
    },
    {
     "name": "stdout",
     "output_type": "stream",
     "text": [
      "Processing Record 33  of Set 10 | casino.\n"
     ]
    },
    {
     "name": "stderr",
     "output_type": "stream",
     "text": [
      "DEBUG:urllib3.connectionpool:https://api.openweathermap.org:443 \"GET /data/2.5/weather?units=imperial&q=kiruna&appid=bd8d52cf71d30c1b6d26f4c28f6a8e76 HTTP/1.1\" 200 465\n",
      "DEBUG:urllib3.connectionpool:Starting new HTTPS connection (1): api.openweathermap.org:443\n"
     ]
    },
    {
     "name": "stdout",
     "output_type": "stream",
     "text": [
      "Processing Record 34  of Set 10 | kiruna.\n"
     ]
    },
    {
     "name": "stderr",
     "output_type": "stream",
     "text": [
      "DEBUG:urllib3.connectionpool:https://api.openweathermap.org:443 \"GET /data/2.5/weather?units=imperial&q=watsa&appid=bd8d52cf71d30c1b6d26f4c28f6a8e76 HTTP/1.1\" 200 494\n",
      "DEBUG:urllib3.connectionpool:Starting new HTTPS connection (1): api.openweathermap.org:443\n"
     ]
    },
    {
     "name": "stdout",
     "output_type": "stream",
     "text": [
      "Processing Record 35  of Set 10 | watsa.\n"
     ]
    },
    {
     "name": "stderr",
     "output_type": "stream",
     "text": [
      "DEBUG:urllib3.connectionpool:https://api.openweathermap.org:443 \"GET /data/2.5/weather?units=imperial&q=lata&appid=bd8d52cf71d30c1b6d26f4c28f6a8e76 HTTP/1.1\" 200 464\n",
      "DEBUG:urllib3.connectionpool:Starting new HTTPS connection (1): api.openweathermap.org:443\n"
     ]
    },
    {
     "name": "stdout",
     "output_type": "stream",
     "text": [
      "Processing Record 36  of Set 10 | lata.\n"
     ]
    },
    {
     "name": "stderr",
     "output_type": "stream",
     "text": [
      "DEBUG:urllib3.connectionpool:https://api.openweathermap.org:443 \"GET /data/2.5/weather?units=imperial&q=port%20hedland&appid=bd8d52cf71d30c1b6d26f4c28f6a8e76 HTTP/1.1\" 200 472\n",
      "DEBUG:urllib3.connectionpool:Starting new HTTPS connection (1): api.openweathermap.org:443\n"
     ]
    },
    {
     "name": "stdout",
     "output_type": "stream",
     "text": [
      "Processing Record 37  of Set 10 | port hedland.\n"
     ]
    },
    {
     "name": "stderr",
     "output_type": "stream",
     "text": [
      "DEBUG:urllib3.connectionpool:https://api.openweathermap.org:443 \"GET /data/2.5/weather?units=imperial&q=terrace&appid=bd8d52cf71d30c1b6d26f4c28f6a8e76 HTTP/1.1\" 200 505\n",
      "DEBUG:urllib3.connectionpool:Starting new HTTPS connection (1): api.openweathermap.org:443\n"
     ]
    },
    {
     "name": "stdout",
     "output_type": "stream",
     "text": [
      "Processing Record 38  of Set 10 | terrace.\n"
     ]
    },
    {
     "name": "stderr",
     "output_type": "stream",
     "text": [
      "DEBUG:urllib3.connectionpool:https://api.openweathermap.org:443 \"GET /data/2.5/weather?units=imperial&q=krasnovishersk&appid=bd8d52cf71d30c1b6d26f4c28f6a8e76 HTTP/1.1\" 200 502\n",
      "DEBUG:urllib3.connectionpool:Starting new HTTPS connection (1): api.openweathermap.org:443\n"
     ]
    },
    {
     "name": "stdout",
     "output_type": "stream",
     "text": [
      "Processing Record 39  of Set 10 | krasnovishersk.\n"
     ]
    },
    {
     "name": "stderr",
     "output_type": "stream",
     "text": [
      "DEBUG:urllib3.connectionpool:https://api.openweathermap.org:443 \"GET /data/2.5/weather?units=imperial&q=chimbote&appid=bd8d52cf71d30c1b6d26f4c28f6a8e76 HTTP/1.1\" 200 502\n",
      "DEBUG:urllib3.connectionpool:Starting new HTTPS connection (1): api.openweathermap.org:443\n"
     ]
    },
    {
     "name": "stdout",
     "output_type": "stream",
     "text": [
      "Processing Record 40  of Set 10 | chimbote.\n"
     ]
    },
    {
     "name": "stderr",
     "output_type": "stream",
     "text": [
      "DEBUG:urllib3.connectionpool:https://api.openweathermap.org:443 \"GET /data/2.5/weather?units=imperial&q=hihifo&appid=bd8d52cf71d30c1b6d26f4c28f6a8e76 HTTP/1.1\" 404 40\n",
      "DEBUG:urllib3.connectionpool:Starting new HTTPS connection (1): api.openweathermap.org:443\n"
     ]
    },
    {
     "name": "stdout",
     "output_type": "stream",
     "text": [
      "Processing Record 41  of Set 10 | hihifo.\n",
      "City not found. Skipping...\n"
     ]
    },
    {
     "name": "stderr",
     "output_type": "stream",
     "text": [
      "DEBUG:urllib3.connectionpool:https://api.openweathermap.org:443 \"GET /data/2.5/weather?units=imperial&q=aksha&appid=bd8d52cf71d30c1b6d26f4c28f6a8e76 HTTP/1.1\" 200 485\n",
      "DEBUG:urllib3.connectionpool:Starting new HTTPS connection (1): api.openweathermap.org:443\n"
     ]
    },
    {
     "name": "stdout",
     "output_type": "stream",
     "text": [
      "Processing Record 42  of Set 10 | aksha.\n"
     ]
    },
    {
     "name": "stderr",
     "output_type": "stream",
     "text": [
      "DEBUG:urllib3.connectionpool:https://api.openweathermap.org:443 \"GET /data/2.5/weather?units=imperial&q=sivaki&appid=bd8d52cf71d30c1b6d26f4c28f6a8e76 HTTP/1.1\" 200 486\n",
      "DEBUG:urllib3.connectionpool:Starting new HTTPS connection (1): api.openweathermap.org:443\n"
     ]
    },
    {
     "name": "stdout",
     "output_type": "stream",
     "text": [
      "Processing Record 43  of Set 10 | sivaki.\n"
     ]
    },
    {
     "name": "stderr",
     "output_type": "stream",
     "text": [
      "DEBUG:urllib3.connectionpool:https://api.openweathermap.org:443 \"GET /data/2.5/weather?units=imperial&q=chara&appid=bd8d52cf71d30c1b6d26f4c28f6a8e76 HTTP/1.1\" 200 483\n",
      "DEBUG:urllib3.connectionpool:Starting new HTTPS connection (1): api.openweathermap.org:443\n"
     ]
    },
    {
     "name": "stdout",
     "output_type": "stream",
     "text": [
      "Processing Record 44  of Set 10 | chara.\n"
     ]
    },
    {
     "name": "stderr",
     "output_type": "stream",
     "text": [
      "DEBUG:urllib3.connectionpool:https://api.openweathermap.org:443 \"GET /data/2.5/weather?units=imperial&q=sarny&appid=bd8d52cf71d30c1b6d26f4c28f6a8e76 HTTP/1.1\" 200 476\n",
      "DEBUG:urllib3.connectionpool:Starting new HTTPS connection (1): api.openweathermap.org:443\n"
     ]
    },
    {
     "name": "stdout",
     "output_type": "stream",
     "text": [
      "Processing Record 45  of Set 10 | sarny.\n"
     ]
    },
    {
     "name": "stderr",
     "output_type": "stream",
     "text": [
      "DEBUG:urllib3.connectionpool:https://api.openweathermap.org:443 \"GET /data/2.5/weather?units=imperial&q=avera&appid=bd8d52cf71d30c1b6d26f4c28f6a8e76 HTTP/1.1\" 200 485\n",
      "DEBUG:urllib3.connectionpool:Starting new HTTPS connection (1): api.openweathermap.org:443\n"
     ]
    },
    {
     "name": "stdout",
     "output_type": "stream",
     "text": [
      "Processing Record 46  of Set 10 | avera.\n"
     ]
    },
    {
     "name": "stderr",
     "output_type": "stream",
     "text": [
      "DEBUG:urllib3.connectionpool:https://api.openweathermap.org:443 \"GET /data/2.5/weather?units=imperial&q=seymchan&appid=bd8d52cf71d30c1b6d26f4c28f6a8e76 HTTP/1.1\" 200 490\n",
      "DEBUG:urllib3.connectionpool:Starting new HTTPS connection (1): api.openweathermap.org:443\n"
     ]
    },
    {
     "name": "stdout",
     "output_type": "stream",
     "text": [
      "Processing Record 47  of Set 10 | seymchan.\n"
     ]
    },
    {
     "name": "stderr",
     "output_type": "stream",
     "text": [
      "DEBUG:urllib3.connectionpool:https://api.openweathermap.org:443 \"GET /data/2.5/weather?units=imperial&q=gallup&appid=bd8d52cf71d30c1b6d26f4c28f6a8e76 HTTP/1.1\" 200 463\n",
      "DEBUG:urllib3.connectionpool:Starting new HTTPS connection (1): api.openweathermap.org:443\n"
     ]
    },
    {
     "name": "stdout",
     "output_type": "stream",
     "text": [
      "Processing Record 48  of Set 10 | gallup.\n"
     ]
    },
    {
     "name": "stderr",
     "output_type": "stream",
     "text": [
      "DEBUG:urllib3.connectionpool:https://api.openweathermap.org:443 \"GET /data/2.5/weather?units=imperial&q=baraki%20barak&appid=bd8d52cf71d30c1b6d26f4c28f6a8e76 HTTP/1.1\" 200 499\n",
      "DEBUG:urllib3.connectionpool:Starting new HTTPS connection (1): api.openweathermap.org:443\n"
     ]
    },
    {
     "name": "stdout",
     "output_type": "stream",
     "text": [
      "Processing Record 49  of Set 10 | baraki barak.\n"
     ]
    },
    {
     "name": "stderr",
     "output_type": "stream",
     "text": [
      "DEBUG:urllib3.connectionpool:https://api.openweathermap.org:443 \"GET /data/2.5/weather?units=imperial&q=toila&appid=bd8d52cf71d30c1b6d26f4c28f6a8e76 HTTP/1.1\" 200 478\n",
      "DEBUG:urllib3.connectionpool:Starting new HTTPS connection (1): api.openweathermap.org:443\n"
     ]
    },
    {
     "name": "stdout",
     "output_type": "stream",
     "text": [
      "Processing Record 0  of Set 11 | toila.\n"
     ]
    },
    {
     "name": "stderr",
     "output_type": "stream",
     "text": [
      "DEBUG:urllib3.connectionpool:https://api.openweathermap.org:443 \"GET /data/2.5/weather?units=imperial&q=progreso&appid=bd8d52cf71d30c1b6d26f4c28f6a8e76 HTTP/1.1\" 200 472\n",
      "DEBUG:urllib3.connectionpool:Starting new HTTPS connection (1): api.openweathermap.org:443\n"
     ]
    },
    {
     "name": "stdout",
     "output_type": "stream",
     "text": [
      "Processing Record 1  of Set 11 | progreso.\n"
     ]
    },
    {
     "name": "stderr",
     "output_type": "stream",
     "text": [
      "DEBUG:urllib3.connectionpool:https://api.openweathermap.org:443 \"GET /data/2.5/weather?units=imperial&q=le%20mans&appid=bd8d52cf71d30c1b6d26f4c28f6a8e76 HTTP/1.1\" 200 452\n",
      "DEBUG:urllib3.connectionpool:Starting new HTTPS connection (1): api.openweathermap.org:443\n"
     ]
    },
    {
     "name": "stdout",
     "output_type": "stream",
     "text": [
      "Processing Record 2  of Set 11 | le mans.\n"
     ]
    },
    {
     "name": "stderr",
     "output_type": "stream",
     "text": [
      "DEBUG:urllib3.connectionpool:https://api.openweathermap.org:443 \"GET /data/2.5/weather?units=imperial&q=aklavik&appid=bd8d52cf71d30c1b6d26f4c28f6a8e76 HTTP/1.1\" 200 477\n",
      "DEBUG:urllib3.connectionpool:Starting new HTTPS connection (1): api.openweathermap.org:443\n"
     ]
    },
    {
     "name": "stdout",
     "output_type": "stream",
     "text": [
      "Processing Record 3  of Set 11 | aklavik.\n"
     ]
    },
    {
     "name": "stderr",
     "output_type": "stream",
     "text": [
      "DEBUG:urllib3.connectionpool:https://api.openweathermap.org:443 \"GET /data/2.5/weather?units=imperial&q=kidal&appid=bd8d52cf71d30c1b6d26f4c28f6a8e76 HTTP/1.1\" 200 488\n",
      "DEBUG:urllib3.connectionpool:Starting new HTTPS connection (1): api.openweathermap.org:443\n"
     ]
    },
    {
     "name": "stdout",
     "output_type": "stream",
     "text": [
      "Processing Record 4  of Set 11 | kidal.\n"
     ]
    },
    {
     "name": "stderr",
     "output_type": "stream",
     "text": [
      "DEBUG:urllib3.connectionpool:https://api.openweathermap.org:443 \"GET /data/2.5/weather?units=imperial&q=sao%20jose%20da%20coroa%20grande&appid=bd8d52cf71d30c1b6d26f4c28f6a8e76 HTTP/1.1\" 200 525\n",
      "DEBUG:urllib3.connectionpool:Starting new HTTPS connection (1): api.openweathermap.org:443\n"
     ]
    },
    {
     "name": "stdout",
     "output_type": "stream",
     "text": [
      "Processing Record 5  of Set 11 | sao jose da coroa grande.\n"
     ]
    },
    {
     "name": "stderr",
     "output_type": "stream",
     "text": [
      "DEBUG:urllib3.connectionpool:https://api.openweathermap.org:443 \"GET /data/2.5/weather?units=imperial&q=riyadh&appid=bd8d52cf71d30c1b6d26f4c28f6a8e76 HTTP/1.1\" 200 458\n",
      "DEBUG:urllib3.connectionpool:Starting new HTTPS connection (1): api.openweathermap.org:443\n"
     ]
    },
    {
     "name": "stdout",
     "output_type": "stream",
     "text": [
      "Processing Record 6  of Set 11 | riyadh.\n"
     ]
    },
    {
     "name": "stderr",
     "output_type": "stream",
     "text": [
      "DEBUG:urllib3.connectionpool:https://api.openweathermap.org:443 \"GET /data/2.5/weather?units=imperial&q=andenes&appid=bd8d52cf71d30c1b6d26f4c28f6a8e76 HTTP/1.1\" 200 493\n",
      "DEBUG:urllib3.connectionpool:Starting new HTTPS connection (1): api.openweathermap.org:443\n"
     ]
    },
    {
     "name": "stdout",
     "output_type": "stream",
     "text": [
      "Processing Record 7  of Set 11 | andenes.\n"
     ]
    },
    {
     "name": "stderr",
     "output_type": "stream",
     "text": [
      "DEBUG:urllib3.connectionpool:https://api.openweathermap.org:443 \"GET /data/2.5/weather?units=imperial&q=saint-louis&appid=bd8d52cf71d30c1b6d26f4c28f6a8e76 HTTP/1.1\" 200 456\n",
      "DEBUG:urllib3.connectionpool:Starting new HTTPS connection (1): api.openweathermap.org:443\n"
     ]
    },
    {
     "name": "stdout",
     "output_type": "stream",
     "text": [
      "Processing Record 8  of Set 11 | saint-louis.\n"
     ]
    },
    {
     "name": "stderr",
     "output_type": "stream",
     "text": [
      "DEBUG:urllib3.connectionpool:https://api.openweathermap.org:443 \"GET /data/2.5/weather?units=imperial&q=bodden%20town&appid=bd8d52cf71d30c1b6d26f4c28f6a8e76 HTTP/1.1\" 200 467\n",
      "DEBUG:urllib3.connectionpool:Starting new HTTPS connection (1): api.openweathermap.org:443\n"
     ]
    },
    {
     "name": "stdout",
     "output_type": "stream",
     "text": [
      "Processing Record 9  of Set 11 | bodden town.\n"
     ]
    },
    {
     "name": "stderr",
     "output_type": "stream",
     "text": [
      "DEBUG:urllib3.connectionpool:https://api.openweathermap.org:443 \"GET /data/2.5/weather?units=imperial&q=arica&appid=bd8d52cf71d30c1b6d26f4c28f6a8e76 HTTP/1.1\" 200 462\n",
      "DEBUG:urllib3.connectionpool:Starting new HTTPS connection (1): api.openweathermap.org:443\n"
     ]
    },
    {
     "name": "stdout",
     "output_type": "stream",
     "text": [
      "Processing Record 10  of Set 11 | arica.\n"
     ]
    },
    {
     "name": "stderr",
     "output_type": "stream",
     "text": [
      "DEBUG:urllib3.connectionpool:https://api.openweathermap.org:443 \"GET /data/2.5/weather?units=imperial&q=high%20level&appid=bd8d52cf71d30c1b6d26f4c28f6a8e76 HTTP/1.1\" 200 468\n",
      "DEBUG:urllib3.connectionpool:Starting new HTTPS connection (1): api.openweathermap.org:443\n"
     ]
    },
    {
     "name": "stdout",
     "output_type": "stream",
     "text": [
      "Processing Record 11  of Set 11 | high level.\n"
     ]
    },
    {
     "name": "stderr",
     "output_type": "stream",
     "text": [
      "DEBUG:urllib3.connectionpool:https://api.openweathermap.org:443 \"GET /data/2.5/weather?units=imperial&q=yenagoa&appid=bd8d52cf71d30c1b6d26f4c28f6a8e76 HTTP/1.1\" 200 487\n",
      "DEBUG:urllib3.connectionpool:Starting new HTTPS connection (1): api.openweathermap.org:443\n"
     ]
    },
    {
     "name": "stdout",
     "output_type": "stream",
     "text": [
      "Processing Record 12  of Set 11 | yenagoa.\n"
     ]
    },
    {
     "name": "stderr",
     "output_type": "stream",
     "text": [
      "DEBUG:urllib3.connectionpool:https://api.openweathermap.org:443 \"GET /data/2.5/weather?units=imperial&q=conakry&appid=bd8d52cf71d30c1b6d26f4c28f6a8e76 HTTP/1.1\" 200 452\n",
      "DEBUG:urllib3.connectionpool:Starting new HTTPS connection (1): api.openweathermap.org:443\n"
     ]
    },
    {
     "name": "stdout",
     "output_type": "stream",
     "text": [
      "Processing Record 13  of Set 11 | conakry.\n"
     ]
    },
    {
     "name": "stderr",
     "output_type": "stream",
     "text": [
      "DEBUG:urllib3.connectionpool:https://api.openweathermap.org:443 \"GET /data/2.5/weather?units=imperial&q=channel-port%20aux%20basques&appid=bd8d52cf71d30c1b6d26f4c28f6a8e76 HTTP/1.1\" 200 506\n",
      "DEBUG:urllib3.connectionpool:Starting new HTTPS connection (1): api.openweathermap.org:443\n"
     ]
    },
    {
     "name": "stdout",
     "output_type": "stream",
     "text": [
      "Processing Record 14  of Set 11 | channel-port aux basques.\n"
     ]
    },
    {
     "name": "stderr",
     "output_type": "stream",
     "text": [
      "DEBUG:urllib3.connectionpool:https://api.openweathermap.org:443 \"GET /data/2.5/weather?units=imperial&q=malwan&appid=bd8d52cf71d30c1b6d26f4c28f6a8e76 HTTP/1.1\" 404 40\n",
      "DEBUG:urllib3.connectionpool:Starting new HTTPS connection (1): api.openweathermap.org:443\n"
     ]
    },
    {
     "name": "stdout",
     "output_type": "stream",
     "text": [
      "Processing Record 15  of Set 11 | malwan.\n",
      "City not found. Skipping...\n"
     ]
    },
    {
     "name": "stderr",
     "output_type": "stream",
     "text": [
      "DEBUG:urllib3.connectionpool:https://api.openweathermap.org:443 \"GET /data/2.5/weather?units=imperial&q=bengkalis&appid=bd8d52cf71d30c1b6d26f4c28f6a8e76 HTTP/1.1\" 404 40\n",
      "DEBUG:urllib3.connectionpool:Starting new HTTPS connection (1): api.openweathermap.org:443\n"
     ]
    },
    {
     "name": "stdout",
     "output_type": "stream",
     "text": [
      "Processing Record 16  of Set 11 | bengkalis.\n",
      "City not found. Skipping...\n"
     ]
    },
    {
     "name": "stderr",
     "output_type": "stream",
     "text": [
      "DEBUG:urllib3.connectionpool:https://api.openweathermap.org:443 \"GET /data/2.5/weather?units=imperial&q=dubbo&appid=bd8d52cf71d30c1b6d26f4c28f6a8e76 HTTP/1.1\" 200 463\n",
      "DEBUG:urllib3.connectionpool:Starting new HTTPS connection (1): api.openweathermap.org:443\n"
     ]
    },
    {
     "name": "stdout",
     "output_type": "stream",
     "text": [
      "Processing Record 17  of Set 11 | dubbo.\n"
     ]
    },
    {
     "name": "stderr",
     "output_type": "stream",
     "text": [
      "DEBUG:urllib3.connectionpool:https://api.openweathermap.org:443 \"GET /data/2.5/weather?units=imperial&q=hualmay&appid=bd8d52cf71d30c1b6d26f4c28f6a8e76 HTTP/1.1\" 200 493\n",
      "DEBUG:urllib3.connectionpool:Starting new HTTPS connection (1): api.openweathermap.org:443\n"
     ]
    },
    {
     "name": "stdout",
     "output_type": "stream",
     "text": [
      "Processing Record 18  of Set 11 | hualmay.\n"
     ]
    },
    {
     "name": "stderr",
     "output_type": "stream",
     "text": [
      "DEBUG:urllib3.connectionpool:https://api.openweathermap.org:443 \"GET /data/2.5/weather?units=imperial&q=chamba&appid=bd8d52cf71d30c1b6d26f4c28f6a8e76 HTTP/1.1\" 200 477\n",
      "DEBUG:urllib3.connectionpool:Starting new HTTPS connection (1): api.openweathermap.org:443\n"
     ]
    },
    {
     "name": "stdout",
     "output_type": "stream",
     "text": [
      "Processing Record 19  of Set 11 | chamba.\n"
     ]
    },
    {
     "name": "stderr",
     "output_type": "stream",
     "text": [
      "DEBUG:urllib3.connectionpool:https://api.openweathermap.org:443 \"GET /data/2.5/weather?units=imperial&q=iquique&appid=bd8d52cf71d30c1b6d26f4c28f6a8e76 HTTP/1.1\" 200 465\n",
      "DEBUG:urllib3.connectionpool:Starting new HTTPS connection (1): api.openweathermap.org:443\n"
     ]
    },
    {
     "name": "stdout",
     "output_type": "stream",
     "text": [
      "Processing Record 20  of Set 11 | iquique.\n"
     ]
    },
    {
     "name": "stderr",
     "output_type": "stream",
     "text": [
      "DEBUG:urllib3.connectionpool:https://api.openweathermap.org:443 \"GET /data/2.5/weather?units=imperial&q=narsaq&appid=bd8d52cf71d30c1b6d26f4c28f6a8e76 HTTP/1.1\" 200 463\n",
      "DEBUG:urllib3.connectionpool:Starting new HTTPS connection (1): api.openweathermap.org:443\n"
     ]
    },
    {
     "name": "stdout",
     "output_type": "stream",
     "text": [
      "Processing Record 21  of Set 11 | narsaq.\n"
     ]
    },
    {
     "name": "stderr",
     "output_type": "stream",
     "text": [
      "DEBUG:urllib3.connectionpool:https://api.openweathermap.org:443 \"GET /data/2.5/weather?units=imperial&q=marzuq&appid=bd8d52cf71d30c1b6d26f4c28f6a8e76 HTTP/1.1\" 200 474\n",
      "DEBUG:urllib3.connectionpool:Starting new HTTPS connection (1): api.openweathermap.org:443\n"
     ]
    },
    {
     "name": "stdout",
     "output_type": "stream",
     "text": [
      "Processing Record 22  of Set 11 | marzuq.\n"
     ]
    },
    {
     "name": "stderr",
     "output_type": "stream",
     "text": [
      "DEBUG:urllib3.connectionpool:https://api.openweathermap.org:443 \"GET /data/2.5/weather?units=imperial&q=khandyga&appid=bd8d52cf71d30c1b6d26f4c28f6a8e76 HTTP/1.1\" 200 491\n",
      "DEBUG:urllib3.connectionpool:Starting new HTTPS connection (1): api.openweathermap.org:443\n"
     ]
    },
    {
     "name": "stdout",
     "output_type": "stream",
     "text": [
      "Processing Record 23  of Set 11 | khandyga.\n"
     ]
    },
    {
     "name": "stderr",
     "output_type": "stream",
     "text": [
      "DEBUG:urllib3.connectionpool:https://api.openweathermap.org:443 \"GET /data/2.5/weather?units=imperial&q=bindura&appid=bd8d52cf71d30c1b6d26f4c28f6a8e76 HTTP/1.1\" 200 477\n",
      "DEBUG:urllib3.connectionpool:Starting new HTTPS connection (1): api.openweathermap.org:443\n"
     ]
    },
    {
     "name": "stdout",
     "output_type": "stream",
     "text": [
      "Processing Record 24  of Set 11 | bindura.\n"
     ]
    },
    {
     "name": "stderr",
     "output_type": "stream",
     "text": [
      "DEBUG:urllib3.connectionpool:https://api.openweathermap.org:443 \"GET /data/2.5/weather?units=imperial&q=viligili&appid=bd8d52cf71d30c1b6d26f4c28f6a8e76 HTTP/1.1\" 404 40\n",
      "DEBUG:urllib3.connectionpool:Starting new HTTPS connection (1): api.openweathermap.org:443\n"
     ]
    },
    {
     "name": "stdout",
     "output_type": "stream",
     "text": [
      "Processing Record 25  of Set 11 | viligili.\n",
      "City not found. Skipping...\n"
     ]
    },
    {
     "name": "stderr",
     "output_type": "stream",
     "text": [
      "DEBUG:urllib3.connectionpool:https://api.openweathermap.org:443 \"GET /data/2.5/weather?units=imperial&q=damghan&appid=bd8d52cf71d30c1b6d26f4c28f6a8e76 HTTP/1.1\" 200 501\n",
      "DEBUG:urllib3.connectionpool:Starting new HTTPS connection (1): api.openweathermap.org:443\n"
     ]
    },
    {
     "name": "stdout",
     "output_type": "stream",
     "text": [
      "Processing Record 26  of Set 11 | damghan.\n"
     ]
    },
    {
     "name": "stderr",
     "output_type": "stream",
     "text": [
      "DEBUG:urllib3.connectionpool:https://api.openweathermap.org:443 \"GET /data/2.5/weather?units=imperial&q=novobiryusinskiy&appid=bd8d52cf71d30c1b6d26f4c28f6a8e76 HTTP/1.1\" 200 501\n",
      "DEBUG:urllib3.connectionpool:Starting new HTTPS connection (1): api.openweathermap.org:443\n"
     ]
    },
    {
     "name": "stdout",
     "output_type": "stream",
     "text": [
      "Processing Record 27  of Set 11 | novobiryusinskiy.\n"
     ]
    },
    {
     "name": "stderr",
     "output_type": "stream",
     "text": [
      "DEBUG:urllib3.connectionpool:https://api.openweathermap.org:443 \"GET /data/2.5/weather?units=imperial&q=la%20reforma&appid=bd8d52cf71d30c1b6d26f4c28f6a8e76 HTTP/1.1\" 200 469\n",
      "DEBUG:urllib3.connectionpool:Starting new HTTPS connection (1): api.openweathermap.org:443\n"
     ]
    },
    {
     "name": "stdout",
     "output_type": "stream",
     "text": [
      "Processing Record 28  of Set 11 | la reforma.\n"
     ]
    },
    {
     "name": "stderr",
     "output_type": "stream",
     "text": [
      "DEBUG:urllib3.connectionpool:https://api.openweathermap.org:443 \"GET /data/2.5/weather?units=imperial&q=benguela&appid=bd8d52cf71d30c1b6d26f4c28f6a8e76 HTTP/1.1\" 200 489\n",
      "DEBUG:urllib3.connectionpool:Starting new HTTPS connection (1): api.openweathermap.org:443\n"
     ]
    },
    {
     "name": "stdout",
     "output_type": "stream",
     "text": [
      "Processing Record 29  of Set 11 | benguela.\n"
     ]
    },
    {
     "name": "stderr",
     "output_type": "stream",
     "text": [
      "DEBUG:urllib3.connectionpool:https://api.openweathermap.org:443 \"GET /data/2.5/weather?units=imperial&q=tashtyp&appid=bd8d52cf71d30c1b6d26f4c28f6a8e76 HTTP/1.1\" 200 489\n",
      "DEBUG:urllib3.connectionpool:Starting new HTTPS connection (1): api.openweathermap.org:443\n"
     ]
    },
    {
     "name": "stdout",
     "output_type": "stream",
     "text": [
      "Processing Record 30  of Set 11 | tashtyp.\n"
     ]
    },
    {
     "name": "stderr",
     "output_type": "stream",
     "text": [
      "DEBUG:urllib3.connectionpool:https://api.openweathermap.org:443 \"GET /data/2.5/weather?units=imperial&q=walvis%20bay&appid=bd8d52cf71d30c1b6d26f4c28f6a8e76 HTTP/1.1\" 200 483\n",
      "DEBUG:urllib3.connectionpool:Starting new HTTPS connection (1): api.openweathermap.org:443\n"
     ]
    },
    {
     "name": "stdout",
     "output_type": "stream",
     "text": [
      "Processing Record 31  of Set 11 | walvis bay.\n"
     ]
    },
    {
     "name": "stderr",
     "output_type": "stream",
     "text": [
      "DEBUG:urllib3.connectionpool:https://api.openweathermap.org:443 \"GET /data/2.5/weather?units=imperial&q=klyuchi&appid=bd8d52cf71d30c1b6d26f4c28f6a8e76 HTTP/1.1\" 200 493\n",
      "DEBUG:urllib3.connectionpool:Starting new HTTPS connection (1): api.openweathermap.org:443\n"
     ]
    },
    {
     "name": "stdout",
     "output_type": "stream",
     "text": [
      "Processing Record 32  of Set 11 | klyuchi.\n"
     ]
    },
    {
     "name": "stderr",
     "output_type": "stream",
     "text": [
      "DEBUG:urllib3.connectionpool:https://api.openweathermap.org:443 \"GET /data/2.5/weather?units=imperial&q=lolua&appid=bd8d52cf71d30c1b6d26f4c28f6a8e76 HTTP/1.1\" 404 40\n",
      "DEBUG:urllib3.connectionpool:Starting new HTTPS connection (1): api.openweathermap.org:443\n"
     ]
    },
    {
     "name": "stdout",
     "output_type": "stream",
     "text": [
      "Processing Record 33  of Set 11 | lolua.\n",
      "City not found. Skipping...\n"
     ]
    },
    {
     "name": "stderr",
     "output_type": "stream",
     "text": [
      "DEBUG:urllib3.connectionpool:https://api.openweathermap.org:443 \"GET /data/2.5/weather?units=imperial&q=waitati&appid=bd8d52cf71d30c1b6d26f4c28f6a8e76 HTTP/1.1\" 200 483\n",
      "DEBUG:urllib3.connectionpool:Starting new HTTPS connection (1): api.openweathermap.org:443\n"
     ]
    },
    {
     "name": "stdout",
     "output_type": "stream",
     "text": [
      "Processing Record 34  of Set 11 | waitati.\n"
     ]
    },
    {
     "name": "stderr",
     "output_type": "stream",
     "text": [
      "DEBUG:urllib3.connectionpool:https://api.openweathermap.org:443 \"GET /data/2.5/weather?units=imperial&q=kamaishi&appid=bd8d52cf71d30c1b6d26f4c28f6a8e76 HTTP/1.1\" 200 482\n",
      "DEBUG:urllib3.connectionpool:Starting new HTTPS connection (1): api.openweathermap.org:443\n"
     ]
    },
    {
     "name": "stdout",
     "output_type": "stream",
     "text": [
      "Processing Record 35  of Set 11 | kamaishi.\n"
     ]
    },
    {
     "name": "stderr",
     "output_type": "stream",
     "text": [
      "DEBUG:urllib3.connectionpool:https://api.openweathermap.org:443 \"GET /data/2.5/weather?units=imperial&q=lang%20son&appid=bd8d52cf71d30c1b6d26f4c28f6a8e76 HTTP/1.1\" 200 489\n",
      "DEBUG:urllib3.connectionpool:Starting new HTTPS connection (1): api.openweathermap.org:443\n"
     ]
    },
    {
     "name": "stdout",
     "output_type": "stream",
     "text": [
      "Processing Record 36  of Set 11 | lang son.\n"
     ]
    },
    {
     "name": "stderr",
     "output_type": "stream",
     "text": [
      "DEBUG:urllib3.connectionpool:https://api.openweathermap.org:443 \"GET /data/2.5/weather?units=imperial&q=peniche&appid=bd8d52cf71d30c1b6d26f4c28f6a8e76 HTTP/1.1\" 200 465\n",
      "DEBUG:urllib3.connectionpool:Starting new HTTPS connection (1): api.openweathermap.org:443\n"
     ]
    },
    {
     "name": "stdout",
     "output_type": "stream",
     "text": [
      "Processing Record 37  of Set 11 | peniche.\n"
     ]
    },
    {
     "name": "stderr",
     "output_type": "stream",
     "text": [
      "DEBUG:urllib3.connectionpool:https://api.openweathermap.org:443 \"GET /data/2.5/weather?units=imperial&q=sobolevo&appid=bd8d52cf71d30c1b6d26f4c28f6a8e76 HTTP/1.1\" 200 490\n",
      "DEBUG:urllib3.connectionpool:Starting new HTTPS connection (1): api.openweathermap.org:443\n"
     ]
    },
    {
     "name": "stdout",
     "output_type": "stream",
     "text": [
      "Processing Record 38  of Set 11 | sobolevo.\n"
     ]
    },
    {
     "name": "stderr",
     "output_type": "stream",
     "text": [
      "DEBUG:urllib3.connectionpool:https://api.openweathermap.org:443 \"GET /data/2.5/weather?units=imperial&q=half%20moon%20bay&appid=bd8d52cf71d30c1b6d26f4c28f6a8e76 HTTP/1.1\" 200 468\n",
      "DEBUG:urllib3.connectionpool:Starting new HTTPS connection (1): api.openweathermap.org:443\n"
     ]
    },
    {
     "name": "stdout",
     "output_type": "stream",
     "text": [
      "Processing Record 39  of Set 11 | half moon bay.\n"
     ]
    },
    {
     "name": "stderr",
     "output_type": "stream",
     "text": [
      "DEBUG:urllib3.connectionpool:https://api.openweathermap.org:443 \"GET /data/2.5/weather?units=imperial&q=ust-kamchatsk&appid=bd8d52cf71d30c1b6d26f4c28f6a8e76 HTTP/1.1\" 404 40\n",
      "DEBUG:urllib3.connectionpool:Starting new HTTPS connection (1): api.openweathermap.org:443\n"
     ]
    },
    {
     "name": "stdout",
     "output_type": "stream",
     "text": [
      "Processing Record 40  of Set 11 | ust-kamchatsk.\n",
      "City not found. Skipping...\n"
     ]
    },
    {
     "name": "stderr",
     "output_type": "stream",
     "text": [
      "DEBUG:urllib3.connectionpool:https://api.openweathermap.org:443 \"GET /data/2.5/weather?units=imperial&q=hornepayne&appid=bd8d52cf71d30c1b6d26f4c28f6a8e76 HTTP/1.1\" 200 499\n",
      "DEBUG:urllib3.connectionpool:Starting new HTTPS connection (1): api.openweathermap.org:443\n"
     ]
    },
    {
     "name": "stdout",
     "output_type": "stream",
     "text": [
      "Processing Record 41  of Set 11 | hornepayne.\n"
     ]
    },
    {
     "name": "stderr",
     "output_type": "stream",
     "text": [
      "DEBUG:urllib3.connectionpool:https://api.openweathermap.org:443 \"GET /data/2.5/weather?units=imperial&q=cockburn%20town&appid=bd8d52cf71d30c1b6d26f4c28f6a8e76 HTTP/1.1\" 200 478\n",
      "DEBUG:urllib3.connectionpool:Starting new HTTPS connection (1): api.openweathermap.org:443\n"
     ]
    },
    {
     "name": "stdout",
     "output_type": "stream",
     "text": [
      "Processing Record 42  of Set 11 | cockburn town.\n"
     ]
    },
    {
     "name": "stderr",
     "output_type": "stream",
     "text": [
      "DEBUG:urllib3.connectionpool:https://api.openweathermap.org:443 \"GET /data/2.5/weather?units=imperial&q=saint-joseph&appid=bd8d52cf71d30c1b6d26f4c28f6a8e76 HTTP/1.1\" 200 466\n",
      "DEBUG:urllib3.connectionpool:Starting new HTTPS connection (1): api.openweathermap.org:443\n"
     ]
    },
    {
     "name": "stdout",
     "output_type": "stream",
     "text": [
      "Processing Record 43  of Set 11 | saint-joseph.\n"
     ]
    },
    {
     "name": "stderr",
     "output_type": "stream",
     "text": [
      "DEBUG:urllib3.connectionpool:https://api.openweathermap.org:443 \"GET /data/2.5/weather?units=imperial&q=la%20crosse&appid=bd8d52cf71d30c1b6d26f4c28f6a8e76 HTTP/1.1\" 200 466\n",
      "DEBUG:urllib3.connectionpool:Starting new HTTPS connection (1): api.openweathermap.org:443\n"
     ]
    },
    {
     "name": "stdout",
     "output_type": "stream",
     "text": [
      "Processing Record 44  of Set 11 | la crosse.\n"
     ]
    },
    {
     "name": "stderr",
     "output_type": "stream",
     "text": [
      "DEBUG:urllib3.connectionpool:https://api.openweathermap.org:443 \"GET /data/2.5/weather?units=imperial&q=kez&appid=bd8d52cf71d30c1b6d26f4c28f6a8e76 HTTP/1.1\" 200 492\n",
      "DEBUG:urllib3.connectionpool:Starting new HTTPS connection (1): api.openweathermap.org:443\n"
     ]
    },
    {
     "name": "stdout",
     "output_type": "stream",
     "text": [
      "Processing Record 45  of Set 11 | kez.\n"
     ]
    },
    {
     "name": "stderr",
     "output_type": "stream",
     "text": [
      "DEBUG:urllib3.connectionpool:https://api.openweathermap.org:443 \"GET /data/2.5/weather?units=imperial&q=atasu&appid=bd8d52cf71d30c1b6d26f4c28f6a8e76 HTTP/1.1\" 200 498\n",
      "DEBUG:urllib3.connectionpool:Starting new HTTPS connection (1): api.openweathermap.org:443\n"
     ]
    },
    {
     "name": "stdout",
     "output_type": "stream",
     "text": [
      "Processing Record 46  of Set 11 | atasu.\n"
     ]
    },
    {
     "name": "stderr",
     "output_type": "stream",
     "text": [
      "DEBUG:urllib3.connectionpool:https://api.openweathermap.org:443 \"GET /data/2.5/weather?units=imperial&q=hunza&appid=bd8d52cf71d30c1b6d26f4c28f6a8e76 HTTP/1.1\" 404 40\n",
      "DEBUG:urllib3.connectionpool:Starting new HTTPS connection (1): api.openweathermap.org:443\n"
     ]
    },
    {
     "name": "stdout",
     "output_type": "stream",
     "text": [
      "Processing Record 47  of Set 11 | hunza.\n",
      "City not found. Skipping...\n"
     ]
    },
    {
     "name": "stderr",
     "output_type": "stream",
     "text": [
      "DEBUG:urllib3.connectionpool:https://api.openweathermap.org:443 \"GET /data/2.5/weather?units=imperial&q=dipkarpaz&appid=bd8d52cf71d30c1b6d26f4c28f6a8e76 HTTP/1.1\" 500 48\n",
      "DEBUG:urllib3.connectionpool:Starting new HTTPS connection (1): api.openweathermap.org:443\n"
     ]
    },
    {
     "name": "stdout",
     "output_type": "stream",
     "text": [
      "Processing Record 48  of Set 11 | dipkarpaz.\n",
      "City not found. Skipping...\n"
     ]
    },
    {
     "name": "stderr",
     "output_type": "stream",
     "text": [
      "DEBUG:urllib3.connectionpool:https://api.openweathermap.org:443 \"GET /data/2.5/weather?units=imperial&q=ondo&appid=bd8d52cf71d30c1b6d26f4c28f6a8e76 HTTP/1.1\" 200 480\n",
      "DEBUG:urllib3.connectionpool:Starting new HTTPS connection (1): api.openweathermap.org:443\n"
     ]
    },
    {
     "name": "stdout",
     "output_type": "stream",
     "text": [
      "Processing Record 49  of Set 11 | ondo.\n"
     ]
    },
    {
     "name": "stderr",
     "output_type": "stream",
     "text": [
      "DEBUG:urllib3.connectionpool:https://api.openweathermap.org:443 \"GET /data/2.5/weather?units=imperial&q=smolenka&appid=bd8d52cf71d30c1b6d26f4c28f6a8e76 HTTP/1.1\" 200 474\n",
      "DEBUG:urllib3.connectionpool:Starting new HTTPS connection (1): api.openweathermap.org:443\n"
     ]
    },
    {
     "name": "stdout",
     "output_type": "stream",
     "text": [
      "Processing Record 0  of Set 12 | smolenka.\n"
     ]
    },
    {
     "name": "stderr",
     "output_type": "stream",
     "text": [
      "DEBUG:urllib3.connectionpool:https://api.openweathermap.org:443 \"GET /data/2.5/weather?units=imperial&q=nokia&appid=bd8d52cf71d30c1b6d26f4c28f6a8e76 HTTP/1.1\" 200 452\n",
      "DEBUG:urllib3.connectionpool:Starting new HTTPS connection (1): api.openweathermap.org:443\n"
     ]
    },
    {
     "name": "stdout",
     "output_type": "stream",
     "text": [
      "Processing Record 1  of Set 12 | nokia.\n"
     ]
    },
    {
     "name": "stderr",
     "output_type": "stream",
     "text": [
      "DEBUG:urllib3.connectionpool:https://api.openweathermap.org:443 \"GET /data/2.5/weather?units=imperial&q=ribeira%20brava&appid=bd8d52cf71d30c1b6d26f4c28f6a8e76 HTTP/1.1\" 200 483\n",
      "DEBUG:urllib3.connectionpool:Starting new HTTPS connection (1): api.openweathermap.org:443\n"
     ]
    },
    {
     "name": "stdout",
     "output_type": "stream",
     "text": [
      "Processing Record 2  of Set 12 | ribeira brava.\n"
     ]
    },
    {
     "name": "stderr",
     "output_type": "stream",
     "text": [
      "DEBUG:urllib3.connectionpool:https://api.openweathermap.org:443 \"GET /data/2.5/weather?units=imperial&q=saint%20george&appid=bd8d52cf71d30c1b6d26f4c28f6a8e76 HTTP/1.1\" 200 467\n",
      "DEBUG:urllib3.connectionpool:Starting new HTTPS connection (1): api.openweathermap.org:443\n"
     ]
    },
    {
     "name": "stdout",
     "output_type": "stream",
     "text": [
      "Processing Record 3  of Set 12 | saint george.\n"
     ]
    },
    {
     "name": "stderr",
     "output_type": "stream",
     "text": [
      "DEBUG:urllib3.connectionpool:https://api.openweathermap.org:443 \"GET /data/2.5/weather?units=imperial&q=mezen&appid=bd8d52cf71d30c1b6d26f4c28f6a8e76 HTTP/1.1\" 200 488\n",
      "DEBUG:urllib3.connectionpool:Starting new HTTPS connection (1): api.openweathermap.org:443\n"
     ]
    },
    {
     "name": "stdout",
     "output_type": "stream",
     "text": [
      "Processing Record 4  of Set 12 | mezen.\n"
     ]
    },
    {
     "name": "stderr",
     "output_type": "stream",
     "text": [
      "DEBUG:urllib3.connectionpool:https://api.openweathermap.org:443 \"GET /data/2.5/weather?units=imperial&q=sakakah&appid=bd8d52cf71d30c1b6d26f4c28f6a8e76 HTTP/1.1\" 200 461\n",
      "DEBUG:urllib3.connectionpool:Starting new HTTPS connection (1): api.openweathermap.org:443\n"
     ]
    },
    {
     "name": "stdout",
     "output_type": "stream",
     "text": [
      "Processing Record 5  of Set 12 | sakakah.\n"
     ]
    },
    {
     "name": "stderr",
     "output_type": "stream",
     "text": [
      "DEBUG:urllib3.connectionpool:https://api.openweathermap.org:443 \"GET /data/2.5/weather?units=imperial&q=ipameri&appid=bd8d52cf71d30c1b6d26f4c28f6a8e76 HTTP/1.1\" 200 488\n",
      "DEBUG:urllib3.connectionpool:Starting new HTTPS connection (1): api.openweathermap.org:443\n"
     ]
    },
    {
     "name": "stdout",
     "output_type": "stream",
     "text": [
      "Processing Record 6  of Set 12 | ipameri.\n"
     ]
    },
    {
     "name": "stderr",
     "output_type": "stream",
     "text": [
      "DEBUG:urllib3.connectionpool:https://api.openweathermap.org:443 \"GET /data/2.5/weather?units=imperial&q=bafoulabe&appid=bd8d52cf71d30c1b6d26f4c28f6a8e76 HTTP/1.1\" 200 479\n",
      "DEBUG:urllib3.connectionpool:Starting new HTTPS connection (1): api.openweathermap.org:443\n"
     ]
    },
    {
     "name": "stdout",
     "output_type": "stream",
     "text": [
      "Processing Record 7  of Set 12 | bafoulabe.\n"
     ]
    },
    {
     "name": "stderr",
     "output_type": "stream",
     "text": [
      "DEBUG:urllib3.connectionpool:https://api.openweathermap.org:443 \"GET /data/2.5/weather?units=imperial&q=council%20bluffs&appid=bd8d52cf71d30c1b6d26f4c28f6a8e76 HTTP/1.1\" 200 484\n",
      "DEBUG:urllib3.connectionpool:Starting new HTTPS connection (1): api.openweathermap.org:443\n"
     ]
    },
    {
     "name": "stdout",
     "output_type": "stream",
     "text": [
      "Processing Record 8  of Set 12 | council bluffs.\n"
     ]
    },
    {
     "name": "stderr",
     "output_type": "stream",
     "text": [
      "DEBUG:urllib3.connectionpool:https://api.openweathermap.org:443 \"GET /data/2.5/weather?units=imperial&q=sinnamary&appid=bd8d52cf71d30c1b6d26f4c28f6a8e76 HTTP/1.1\" 200 502\n",
      "DEBUG:urllib3.connectionpool:Starting new HTTPS connection (1): api.openweathermap.org:443\n"
     ]
    },
    {
     "name": "stdout",
     "output_type": "stream",
     "text": [
      "Processing Record 9  of Set 12 | sinnamary.\n"
     ]
    },
    {
     "name": "stderr",
     "output_type": "stream",
     "text": [
      "DEBUG:urllib3.connectionpool:https://api.openweathermap.org:443 \"GET /data/2.5/weather?units=imperial&q=karpinsk&appid=bd8d52cf71d30c1b6d26f4c28f6a8e76 HTTP/1.1\" 200 497\n",
      "DEBUG:urllib3.connectionpool:Starting new HTTPS connection (1): api.openweathermap.org:443\n"
     ]
    },
    {
     "name": "stdout",
     "output_type": "stream",
     "text": [
      "Processing Record 10  of Set 12 | karpinsk.\n"
     ]
    },
    {
     "name": "stderr",
     "output_type": "stream",
     "text": [
      "DEBUG:urllib3.connectionpool:https://api.openweathermap.org:443 \"GET /data/2.5/weather?units=imperial&q=bubaque&appid=bd8d52cf71d30c1b6d26f4c28f6a8e76 HTTP/1.1\" 200 487\n",
      "DEBUG:urllib3.connectionpool:Starting new HTTPS connection (1): api.openweathermap.org:443\n"
     ]
    },
    {
     "name": "stdout",
     "output_type": "stream",
     "text": [
      "Processing Record 11  of Set 12 | bubaque.\n"
     ]
    },
    {
     "name": "stderr",
     "output_type": "stream",
     "text": [
      "DEBUG:urllib3.connectionpool:https://api.openweathermap.org:443 \"GET /data/2.5/weather?units=imperial&q=ishigaki&appid=bd8d52cf71d30c1b6d26f4c28f6a8e76 HTTP/1.1\" 200 489\n",
      "DEBUG:urllib3.connectionpool:Starting new HTTPS connection (1): api.openweathermap.org:443\n"
     ]
    },
    {
     "name": "stdout",
     "output_type": "stream",
     "text": [
      "Processing Record 12  of Set 12 | ishigaki.\n"
     ]
    },
    {
     "name": "stderr",
     "output_type": "stream",
     "text": [
      "DEBUG:urllib3.connectionpool:https://api.openweathermap.org:443 \"GET /data/2.5/weather?units=imperial&q=balabac&appid=bd8d52cf71d30c1b6d26f4c28f6a8e76 HTTP/1.1\" 200 488\n",
      "DEBUG:urllib3.connectionpool:Starting new HTTPS connection (1): api.openweathermap.org:443\n"
     ]
    },
    {
     "name": "stdout",
     "output_type": "stream",
     "text": [
      "Processing Record 13  of Set 12 | balabac.\n"
     ]
    },
    {
     "name": "stderr",
     "output_type": "stream",
     "text": [
      "DEBUG:urllib3.connectionpool:https://api.openweathermap.org:443 \"GET /data/2.5/weather?units=imperial&q=beaverlodge&appid=bd8d52cf71d30c1b6d26f4c28f6a8e76 HTTP/1.1\" 200 488\n",
      "DEBUG:urllib3.connectionpool:Starting new HTTPS connection (1): api.openweathermap.org:443\n"
     ]
    },
    {
     "name": "stdout",
     "output_type": "stream",
     "text": [
      "Processing Record 14  of Set 12 | beaverlodge.\n"
     ]
    },
    {
     "name": "stderr",
     "output_type": "stream",
     "text": [
      "DEBUG:urllib3.connectionpool:https://api.openweathermap.org:443 \"GET /data/2.5/weather?units=imperial&q=nantucket&appid=bd8d52cf71d30c1b6d26f4c28f6a8e76 HTTP/1.1\" 200 480\n",
      "DEBUG:urllib3.connectionpool:Starting new HTTPS connection (1): api.openweathermap.org:443\n"
     ]
    },
    {
     "name": "stdout",
     "output_type": "stream",
     "text": [
      "Processing Record 15  of Set 12 | nantucket.\n"
     ]
    },
    {
     "name": "stderr",
     "output_type": "stream",
     "text": [
      "DEBUG:urllib3.connectionpool:https://api.openweathermap.org:443 \"GET /data/2.5/weather?units=imperial&q=praia%20da%20vitoria&appid=bd8d52cf71d30c1b6d26f4c28f6a8e76 HTTP/1.1\" 200 495\n",
      "DEBUG:urllib3.connectionpool:Starting new HTTPS connection (1): api.openweathermap.org:443\n"
     ]
    },
    {
     "name": "stdout",
     "output_type": "stream",
     "text": [
      "Processing Record 16  of Set 12 | praia da vitoria.\n"
     ]
    },
    {
     "name": "stderr",
     "output_type": "stream",
     "text": [
      "DEBUG:urllib3.connectionpool:https://api.openweathermap.org:443 \"GET /data/2.5/weather?units=imperial&q=prokuplje&appid=bd8d52cf71d30c1b6d26f4c28f6a8e76 HTTP/1.1\" 200 462\n",
      "DEBUG:urllib3.connectionpool:Starting new HTTPS connection (1): api.openweathermap.org:443\n"
     ]
    },
    {
     "name": "stdout",
     "output_type": "stream",
     "text": [
      "Processing Record 17  of Set 12 | prokuplje.\n"
     ]
    },
    {
     "name": "stderr",
     "output_type": "stream",
     "text": [
      "DEBUG:urllib3.connectionpool:https://api.openweathermap.org:443 \"GET /data/2.5/weather?units=imperial&q=fairview&appid=bd8d52cf71d30c1b6d26f4c28f6a8e76 HTTP/1.1\" 200 474\n",
      "DEBUG:urllib3.connectionpool:Starting new HTTPS connection (1): api.openweathermap.org:443\n"
     ]
    },
    {
     "name": "stdout",
     "output_type": "stream",
     "text": [
      "Processing Record 18  of Set 12 | fairview.\n"
     ]
    },
    {
     "name": "stderr",
     "output_type": "stream",
     "text": [
      "DEBUG:urllib3.connectionpool:https://api.openweathermap.org:443 \"GET /data/2.5/weather?units=imperial&q=yirol&appid=bd8d52cf71d30c1b6d26f4c28f6a8e76 HTTP/1.1\" 404 40\n",
      "DEBUG:urllib3.connectionpool:Starting new HTTPS connection (1): api.openweathermap.org:443\n"
     ]
    },
    {
     "name": "stdout",
     "output_type": "stream",
     "text": [
      "Processing Record 19  of Set 12 | yirol.\n",
      "City not found. Skipping...\n"
     ]
    },
    {
     "name": "stderr",
     "output_type": "stream",
     "text": [
      "DEBUG:urllib3.connectionpool:https://api.openweathermap.org:443 \"GET /data/2.5/weather?units=imperial&q=bria&appid=bd8d52cf71d30c1b6d26f4c28f6a8e76 HTTP/1.1\" 200 481\n",
      "DEBUG:urllib3.connectionpool:Starting new HTTPS connection (1): api.openweathermap.org:443\n"
     ]
    },
    {
     "name": "stdout",
     "output_type": "stream",
     "text": [
      "Processing Record 20  of Set 12 | bria.\n"
     ]
    },
    {
     "name": "stderr",
     "output_type": "stream",
     "text": [
      "DEBUG:urllib3.connectionpool:https://api.openweathermap.org:443 \"GET /data/2.5/weather?units=imperial&q=olafsvik&appid=bd8d52cf71d30c1b6d26f4c28f6a8e76 HTTP/1.1\" 200 501\n",
      "DEBUG:urllib3.connectionpool:Starting new HTTPS connection (1): api.openweathermap.org:443\n"
     ]
    },
    {
     "name": "stdout",
     "output_type": "stream",
     "text": [
      "Processing Record 21  of Set 12 | olafsvik.\n"
     ]
    },
    {
     "name": "stderr",
     "output_type": "stream",
     "text": [
      "DEBUG:urllib3.connectionpool:https://api.openweathermap.org:443 \"GET /data/2.5/weather?units=imperial&q=berdigestyakh&appid=bd8d52cf71d30c1b6d26f4c28f6a8e76 HTTP/1.1\" 200 495\n",
      "DEBUG:urllib3.connectionpool:Starting new HTTPS connection (1): api.openweathermap.org:443\n"
     ]
    },
    {
     "name": "stdout",
     "output_type": "stream",
     "text": [
      "Processing Record 22  of Set 12 | berdigestyakh.\n"
     ]
    },
    {
     "name": "stderr",
     "output_type": "stream",
     "text": [
      "DEBUG:urllib3.connectionpool:https://api.openweathermap.org:443 \"GET /data/2.5/weather?units=imperial&q=tirat%20karmel&appid=bd8d52cf71d30c1b6d26f4c28f6a8e76 HTTP/1.1\" 200 471\n",
      "DEBUG:urllib3.connectionpool:Starting new HTTPS connection (1): api.openweathermap.org:443\n"
     ]
    },
    {
     "name": "stdout",
     "output_type": "stream",
     "text": [
      "Processing Record 23  of Set 12 | tirat karmel.\n"
     ]
    },
    {
     "name": "stderr",
     "output_type": "stream",
     "text": [
      "DEBUG:urllib3.connectionpool:https://api.openweathermap.org:443 \"GET /data/2.5/weather?units=imperial&q=lagos&appid=bd8d52cf71d30c1b6d26f4c28f6a8e76 HTTP/1.1\" 200 463\n",
      "DEBUG:urllib3.connectionpool:Starting new HTTPS connection (1): api.openweathermap.org:443\n"
     ]
    },
    {
     "name": "stdout",
     "output_type": "stream",
     "text": [
      "Processing Record 24  of Set 12 | lagos.\n"
     ]
    },
    {
     "name": "stderr",
     "output_type": "stream",
     "text": [
      "DEBUG:urllib3.connectionpool:https://api.openweathermap.org:443 \"GET /data/2.5/weather?units=imperial&q=talnakh&appid=bd8d52cf71d30c1b6d26f4c28f6a8e76 HTTP/1.1\" 200 482\n",
      "DEBUG:urllib3.connectionpool:Starting new HTTPS connection (1): api.openweathermap.org:443\n"
     ]
    },
    {
     "name": "stdout",
     "output_type": "stream",
     "text": [
      "Processing Record 25  of Set 12 | talnakh.\n"
     ]
    },
    {
     "name": "stderr",
     "output_type": "stream",
     "text": [
      "DEBUG:urllib3.connectionpool:https://api.openweathermap.org:443 \"GET /data/2.5/weather?units=imperial&q=nalut&appid=bd8d52cf71d30c1b6d26f4c28f6a8e76 HTTP/1.1\" 200 486\n",
      "DEBUG:urllib3.connectionpool:Starting new HTTPS connection (1): api.openweathermap.org:443\n"
     ]
    },
    {
     "name": "stdout",
     "output_type": "stream",
     "text": [
      "Processing Record 26  of Set 12 | nalut.\n"
     ]
    },
    {
     "name": "stderr",
     "output_type": "stream",
     "text": [
      "DEBUG:urllib3.connectionpool:https://api.openweathermap.org:443 \"GET /data/2.5/weather?units=imperial&q=axim&appid=bd8d52cf71d30c1b6d26f4c28f6a8e76 HTTP/1.1\" 200 491\n",
      "DEBUG:urllib3.connectionpool:Starting new HTTPS connection (1): api.openweathermap.org:443\n"
     ]
    },
    {
     "name": "stdout",
     "output_type": "stream",
     "text": [
      "Processing Record 27  of Set 12 | axim.\n"
     ]
    },
    {
     "name": "stderr",
     "output_type": "stream",
     "text": [
      "DEBUG:urllib3.connectionpool:https://api.openweathermap.org:443 \"GET /data/2.5/weather?units=imperial&q=muli&appid=bd8d52cf71d30c1b6d26f4c28f6a8e76 HTTP/1.1\" 200 486\n",
      "DEBUG:urllib3.connectionpool:Starting new HTTPS connection (1): api.openweathermap.org:443\n"
     ]
    },
    {
     "name": "stdout",
     "output_type": "stream",
     "text": [
      "Processing Record 28  of Set 12 | muli.\n"
     ]
    },
    {
     "name": "stderr",
     "output_type": "stream",
     "text": [
      "DEBUG:urllib3.connectionpool:https://api.openweathermap.org:443 \"GET /data/2.5/weather?units=imperial&q=pacific%20grove&appid=bd8d52cf71d30c1b6d26f4c28f6a8e76 HTTP/1.1\" 200 468\n",
      "DEBUG:urllib3.connectionpool:Starting new HTTPS connection (1): api.openweathermap.org:443\n"
     ]
    },
    {
     "name": "stdout",
     "output_type": "stream",
     "text": [
      "Processing Record 29  of Set 12 | pacific grove.\n"
     ]
    },
    {
     "name": "stderr",
     "output_type": "stream",
     "text": [
      "DEBUG:urllib3.connectionpool:https://api.openweathermap.org:443 \"GET /data/2.5/weather?units=imperial&q=adrar&appid=bd8d52cf71d30c1b6d26f4c28f6a8e76 HTTP/1.1\" 200 466\n",
      "DEBUG:urllib3.connectionpool:Starting new HTTPS connection (1): api.openweathermap.org:443\n"
     ]
    },
    {
     "name": "stdout",
     "output_type": "stream",
     "text": [
      "Processing Record 30  of Set 12 | adrar.\n"
     ]
    },
    {
     "name": "stderr",
     "output_type": "stream",
     "text": [
      "DEBUG:urllib3.connectionpool:https://api.openweathermap.org:443 \"GET /data/2.5/weather?units=imperial&q=khonuu&appid=bd8d52cf71d30c1b6d26f4c28f6a8e76 HTTP/1.1\" 404 40\n",
      "DEBUG:urllib3.connectionpool:Starting new HTTPS connection (1): api.openweathermap.org:443\n"
     ]
    },
    {
     "name": "stdout",
     "output_type": "stream",
     "text": [
      "Processing Record 31  of Set 12 | khonuu.\n",
      "City not found. Skipping...\n"
     ]
    },
    {
     "name": "stderr",
     "output_type": "stream",
     "text": [
      "DEBUG:urllib3.connectionpool:https://api.openweathermap.org:443 \"GET /data/2.5/weather?units=imperial&q=mentok&appid=bd8d52cf71d30c1b6d26f4c28f6a8e76 HTTP/1.1\" 404 40\n",
      "DEBUG:urllib3.connectionpool:Starting new HTTPS connection (1): api.openweathermap.org:443\n"
     ]
    },
    {
     "name": "stdout",
     "output_type": "stream",
     "text": [
      "Processing Record 32  of Set 12 | mentok.\n",
      "City not found. Skipping...\n"
     ]
    },
    {
     "name": "stderr",
     "output_type": "stream",
     "text": [
      "DEBUG:urllib3.connectionpool:https://api.openweathermap.org:443 \"GET /data/2.5/weather?units=imperial&q=sechura&appid=bd8d52cf71d30c1b6d26f4c28f6a8e76 HTTP/1.1\" 200 499\n",
      "DEBUG:urllib3.connectionpool:Starting new HTTPS connection (1): api.openweathermap.org:443\n"
     ]
    },
    {
     "name": "stdout",
     "output_type": "stream",
     "text": [
      "Processing Record 33  of Set 12 | sechura.\n"
     ]
    },
    {
     "name": "stderr",
     "output_type": "stream",
     "text": [
      "DEBUG:urllib3.connectionpool:https://api.openweathermap.org:443 \"GET /data/2.5/weather?units=imperial&q=cowra&appid=bd8d52cf71d30c1b6d26f4c28f6a8e76 HTTP/1.1\" 200 486\n",
      "DEBUG:urllib3.connectionpool:Starting new HTTPS connection (1): api.openweathermap.org:443\n"
     ]
    },
    {
     "name": "stdout",
     "output_type": "stream",
     "text": [
      "Processing Record 34  of Set 12 | cowra.\n"
     ]
    },
    {
     "name": "stderr",
     "output_type": "stream",
     "text": [
      "DEBUG:urllib3.connectionpool:https://api.openweathermap.org:443 \"GET /data/2.5/weather?units=imperial&q=severnyy&appid=bd8d52cf71d30c1b6d26f4c28f6a8e76 HTTP/1.1\" 200 475\n",
      "DEBUG:urllib3.connectionpool:Starting new HTTPS connection (1): api.openweathermap.org:443\n"
     ]
    },
    {
     "name": "stdout",
     "output_type": "stream",
     "text": [
      "Processing Record 35  of Set 12 | severnyy.\n"
     ]
    },
    {
     "name": "stderr",
     "output_type": "stream",
     "text": [
      "DEBUG:urllib3.connectionpool:https://api.openweathermap.org:443 \"GET /data/2.5/weather?units=imperial&q=saraland&appid=bd8d52cf71d30c1b6d26f4c28f6a8e76 HTTP/1.1\" 200 506\n",
      "DEBUG:urllib3.connectionpool:Starting new HTTPS connection (1): api.openweathermap.org:443\n"
     ]
    },
    {
     "name": "stdout",
     "output_type": "stream",
     "text": [
      "Processing Record 36  of Set 12 | saraland.\n"
     ]
    },
    {
     "name": "stderr",
     "output_type": "stream",
     "text": [
      "DEBUG:urllib3.connectionpool:https://api.openweathermap.org:443 \"GET /data/2.5/weather?units=imperial&q=road%20town&appid=bd8d52cf71d30c1b6d26f4c28f6a8e76 HTTP/1.1\" 200 473\n",
      "DEBUG:urllib3.connectionpool:Starting new HTTPS connection (1): api.openweathermap.org:443\n"
     ]
    },
    {
     "name": "stdout",
     "output_type": "stream",
     "text": [
      "Processing Record 37  of Set 12 | road town.\n"
     ]
    },
    {
     "name": "stderr",
     "output_type": "stream",
     "text": [
      "DEBUG:urllib3.connectionpool:https://api.openweathermap.org:443 \"GET /data/2.5/weather?units=imperial&q=inta&appid=bd8d52cf71d30c1b6d26f4c28f6a8e76 HTTP/1.1\" 200 478\n",
      "DEBUG:urllib3.connectionpool:Starting new HTTPS connection (1): api.openweathermap.org:443\n"
     ]
    },
    {
     "name": "stdout",
     "output_type": "stream",
     "text": [
      "Processing Record 38  of Set 12 | inta.\n"
     ]
    },
    {
     "name": "stderr",
     "output_type": "stream",
     "text": [
      "DEBUG:urllib3.connectionpool:https://api.openweathermap.org:443 \"GET /data/2.5/weather?units=imperial&q=shache&appid=bd8d52cf71d30c1b6d26f4c28f6a8e76 HTTP/1.1\" 200 500\n",
      "DEBUG:urllib3.connectionpool:Starting new HTTPS connection (1): api.openweathermap.org:443\n"
     ]
    },
    {
     "name": "stdout",
     "output_type": "stream",
     "text": [
      "Processing Record 39  of Set 12 | shache.\n"
     ]
    },
    {
     "name": "stderr",
     "output_type": "stream",
     "text": [
      "DEBUG:urllib3.connectionpool:https://api.openweathermap.org:443 \"GET /data/2.5/weather?units=imperial&q=puertollano&appid=bd8d52cf71d30c1b6d26f4c28f6a8e76 HTTP/1.1\" 200 473\n",
      "DEBUG:urllib3.connectionpool:Starting new HTTPS connection (1): api.openweathermap.org:443\n"
     ]
    },
    {
     "name": "stdout",
     "output_type": "stream",
     "text": [
      "Processing Record 40  of Set 12 | puertollano.\n"
     ]
    },
    {
     "name": "stderr",
     "output_type": "stream",
     "text": [
      "DEBUG:urllib3.connectionpool:https://api.openweathermap.org:443 \"GET /data/2.5/weather?units=imperial&q=rexburg&appid=bd8d52cf71d30c1b6d26f4c28f6a8e76 HTTP/1.1\" 200 465\n",
      "DEBUG:urllib3.connectionpool:Starting new HTTPS connection (1): api.openweathermap.org:443\n"
     ]
    },
    {
     "name": "stdout",
     "output_type": "stream",
     "text": [
      "Processing Record 41  of Set 12 | rexburg.\n"
     ]
    },
    {
     "name": "stderr",
     "output_type": "stream",
     "text": [
      "DEBUG:urllib3.connectionpool:https://api.openweathermap.org:443 \"GET /data/2.5/weather?units=imperial&q=inhambane&appid=bd8d52cf71d30c1b6d26f4c28f6a8e76 HTTP/1.1\" 200 460\n",
      "DEBUG:urllib3.connectionpool:Starting new HTTPS connection (1): api.openweathermap.org:443\n"
     ]
    },
    {
     "name": "stdout",
     "output_type": "stream",
     "text": [
      "Processing Record 42  of Set 12 | inhambane.\n"
     ]
    },
    {
     "name": "stderr",
     "output_type": "stream",
     "text": [
      "DEBUG:urllib3.connectionpool:https://api.openweathermap.org:443 \"GET /data/2.5/weather?units=imperial&q=torres&appid=bd8d52cf71d30c1b6d26f4c28f6a8e76 HTTP/1.1\" 200 491\n",
      "DEBUG:urllib3.connectionpool:Starting new HTTPS connection (1): api.openweathermap.org:443\n"
     ]
    },
    {
     "name": "stdout",
     "output_type": "stream",
     "text": [
      "Processing Record 43  of Set 12 | torres.\n"
     ]
    },
    {
     "name": "stderr",
     "output_type": "stream",
     "text": [
      "DEBUG:urllib3.connectionpool:https://api.openweathermap.org:443 \"GET /data/2.5/weather?units=imperial&q=arman&appid=bd8d52cf71d30c1b6d26f4c28f6a8e76 HTTP/1.1\" 200 498\n",
      "DEBUG:urllib3.connectionpool:Starting new HTTPS connection (1): api.openweathermap.org:443\n"
     ]
    },
    {
     "name": "stdout",
     "output_type": "stream",
     "text": [
      "Processing Record 44  of Set 12 | arman.\n"
     ]
    },
    {
     "name": "stderr",
     "output_type": "stream",
     "text": [
      "DEBUG:urllib3.connectionpool:https://api.openweathermap.org:443 \"GET /data/2.5/weather?units=imperial&q=maku&appid=bd8d52cf71d30c1b6d26f4c28f6a8e76 HTTP/1.1\" 200 481\n",
      "DEBUG:urllib3.connectionpool:Starting new HTTPS connection (1): api.openweathermap.org:443\n"
     ]
    },
    {
     "name": "stdout",
     "output_type": "stream",
     "text": [
      "Processing Record 45  of Set 12 | maku.\n"
     ]
    },
    {
     "name": "stderr",
     "output_type": "stream",
     "text": [
      "DEBUG:urllib3.connectionpool:https://api.openweathermap.org:443 \"GET /data/2.5/weather?units=imperial&q=aripuana&appid=bd8d52cf71d30c1b6d26f4c28f6a8e76 HTTP/1.1\" 200 502\n",
      "DEBUG:urllib3.connectionpool:Starting new HTTPS connection (1): api.openweathermap.org:443\n"
     ]
    },
    {
     "name": "stdout",
     "output_type": "stream",
     "text": [
      "Processing Record 46  of Set 12 | aripuana.\n"
     ]
    },
    {
     "name": "stderr",
     "output_type": "stream",
     "text": [
      "DEBUG:urllib3.connectionpool:https://api.openweathermap.org:443 \"GET /data/2.5/weather?units=imperial&q=kamenka&appid=bd8d52cf71d30c1b6d26f4c28f6a8e76 HTTP/1.1\" 200 475\n",
      "DEBUG:urllib3.connectionpool:Starting new HTTPS connection (1): api.openweathermap.org:443\n"
     ]
    },
    {
     "name": "stdout",
     "output_type": "stream",
     "text": [
      "Processing Record 47  of Set 12 | kamenka.\n"
     ]
    },
    {
     "name": "stderr",
     "output_type": "stream",
     "text": [
      "DEBUG:urllib3.connectionpool:https://api.openweathermap.org:443 \"GET /data/2.5/weather?units=imperial&q=orotukan&appid=bd8d52cf71d30c1b6d26f4c28f6a8e76 HTTP/1.1\" 200 490\n",
      "DEBUG:urllib3.connectionpool:Starting new HTTPS connection (1): api.openweathermap.org:443\n"
     ]
    },
    {
     "name": "stdout",
     "output_type": "stream",
     "text": [
      "Processing Record 48  of Set 12 | orotukan.\n"
     ]
    },
    {
     "name": "stderr",
     "output_type": "stream",
     "text": [
      "DEBUG:urllib3.connectionpool:https://api.openweathermap.org:443 \"GET /data/2.5/weather?units=imperial&q=tupik&appid=bd8d52cf71d30c1b6d26f4c28f6a8e76 HTTP/1.1\" 200 486\n",
      "DEBUG:urllib3.connectionpool:Starting new HTTPS connection (1): api.openweathermap.org:443\n"
     ]
    },
    {
     "name": "stdout",
     "output_type": "stream",
     "text": [
      "Processing Record 49  of Set 12 | tupik.\n"
     ]
    },
    {
     "name": "stderr",
     "output_type": "stream",
     "text": [
      "DEBUG:urllib3.connectionpool:https://api.openweathermap.org:443 \"GET /data/2.5/weather?units=imperial&q=vestmannaeyjar&appid=bd8d52cf71d30c1b6d26f4c28f6a8e76 HTTP/1.1\" 200 610\n",
      "DEBUG:urllib3.connectionpool:Starting new HTTPS connection (1): api.openweathermap.org:443\n"
     ]
    },
    {
     "name": "stdout",
     "output_type": "stream",
     "text": [
      "Processing Record 0  of Set 13 | vestmannaeyjar.\n"
     ]
    },
    {
     "name": "stderr",
     "output_type": "stream",
     "text": [
      "DEBUG:urllib3.connectionpool:https://api.openweathermap.org:443 \"GET /data/2.5/weather?units=imperial&q=makakilo%20city&appid=bd8d52cf71d30c1b6d26f4c28f6a8e76 HTTP/1.1\" 200 487\n",
      "DEBUG:urllib3.connectionpool:Starting new HTTPS connection (1): api.openweathermap.org:443\n"
     ]
    },
    {
     "name": "stdout",
     "output_type": "stream",
     "text": [
      "Processing Record 1  of Set 13 | makakilo city.\n"
     ]
    },
    {
     "name": "stderr",
     "output_type": "stream",
     "text": [
      "DEBUG:urllib3.connectionpool:https://api.openweathermap.org:443 \"GET /data/2.5/weather?units=imperial&q=sergeyevka&appid=bd8d52cf71d30c1b6d26f4c28f6a8e76 HTTP/1.1\" 200 486\n",
      "DEBUG:urllib3.connectionpool:Starting new HTTPS connection (1): api.openweathermap.org:443\n"
     ]
    },
    {
     "name": "stdout",
     "output_type": "stream",
     "text": [
      "Processing Record 2  of Set 13 | sergeyevka.\n"
     ]
    },
    {
     "name": "stderr",
     "output_type": "stream",
     "text": [
      "DEBUG:urllib3.connectionpool:https://api.openweathermap.org:443 \"GET /data/2.5/weather?units=imperial&q=komsomolets&appid=bd8d52cf71d30c1b6d26f4c28f6a8e76 HTTP/1.1\" 200 492\n",
      "DEBUG:urllib3.connectionpool:Starting new HTTPS connection (1): api.openweathermap.org:443\n"
     ]
    },
    {
     "name": "stdout",
     "output_type": "stream",
     "text": [
      "Processing Record 3  of Set 13 | komsomolets.\n"
     ]
    },
    {
     "name": "stderr",
     "output_type": "stream",
     "text": [
      "DEBUG:urllib3.connectionpool:https://api.openweathermap.org:443 \"GET /data/2.5/weather?units=imperial&q=chamrajnagar&appid=bd8d52cf71d30c1b6d26f4c28f6a8e76 HTTP/1.1\" 200 492\n",
      "DEBUG:urllib3.connectionpool:Starting new HTTPS connection (1): api.openweathermap.org:443\n"
     ]
    },
    {
     "name": "stdout",
     "output_type": "stream",
     "text": [
      "Processing Record 4  of Set 13 | chamrajnagar.\n"
     ]
    },
    {
     "name": "stderr",
     "output_type": "stream",
     "text": [
      "DEBUG:urllib3.connectionpool:https://api.openweathermap.org:443 \"GET /data/2.5/weather?units=imperial&q=roznov&appid=bd8d52cf71d30c1b6d26f4c28f6a8e76 HTTP/1.1\" 200 458\n",
      "DEBUG:urllib3.connectionpool:Starting new HTTPS connection (1): api.openweathermap.org:443\n"
     ]
    },
    {
     "name": "stdout",
     "output_type": "stream",
     "text": [
      "Processing Record 5  of Set 13 | roznov.\n"
     ]
    },
    {
     "name": "stderr",
     "output_type": "stream",
     "text": [
      "DEBUG:urllib3.connectionpool:https://api.openweathermap.org:443 \"GET /data/2.5/weather?units=imperial&q=ola&appid=bd8d52cf71d30c1b6d26f4c28f6a8e76 HTTP/1.1\" 200 485\n",
      "DEBUG:urllib3.connectionpool:Starting new HTTPS connection (1): api.openweathermap.org:443\n"
     ]
    },
    {
     "name": "stdout",
     "output_type": "stream",
     "text": [
      "Processing Record 6  of Set 13 | ola.\n"
     ]
    },
    {
     "name": "stderr",
     "output_type": "stream",
     "text": [
      "DEBUG:urllib3.connectionpool:https://api.openweathermap.org:443 \"GET /data/2.5/weather?units=imperial&q=santa%20rosa&appid=bd8d52cf71d30c1b6d26f4c28f6a8e76 HTTP/1.1\" 200 468\n",
      "DEBUG:urllib3.connectionpool:Starting new HTTPS connection (1): api.openweathermap.org:443\n"
     ]
    },
    {
     "name": "stdout",
     "output_type": "stream",
     "text": [
      "Processing Record 7  of Set 13 | santa rosa.\n"
     ]
    },
    {
     "name": "stderr",
     "output_type": "stream",
     "text": [
      "DEBUG:urllib3.connectionpool:https://api.openweathermap.org:443 \"GET /data/2.5/weather?units=imperial&q=usinsk&appid=bd8d52cf71d30c1b6d26f4c28f6a8e76 HTTP/1.1\" 200 480\n",
      "DEBUG:urllib3.connectionpool:Starting new HTTPS connection (1): api.openweathermap.org:443\n"
     ]
    },
    {
     "name": "stdout",
     "output_type": "stream",
     "text": [
      "Processing Record 8  of Set 13 | usinsk.\n"
     ]
    },
    {
     "name": "stderr",
     "output_type": "stream",
     "text": [
      "DEBUG:urllib3.connectionpool:https://api.openweathermap.org:443 \"GET /data/2.5/weather?units=imperial&q=porto%20murtinho&appid=bd8d52cf71d30c1b6d26f4c28f6a8e76 HTTP/1.1\" 200 492\n",
      "DEBUG:urllib3.connectionpool:Starting new HTTPS connection (1): api.openweathermap.org:443\n"
     ]
    },
    {
     "name": "stdout",
     "output_type": "stream",
     "text": [
      "Processing Record 9  of Set 13 | porto murtinho.\n"
     ]
    },
    {
     "name": "stderr",
     "output_type": "stream",
     "text": [
      "DEBUG:urllib3.connectionpool:https://api.openweathermap.org:443 \"GET /data/2.5/weather?units=imperial&q=bathurst&appid=bd8d52cf71d30c1b6d26f4c28f6a8e76 HTTP/1.1\" 200 469\n",
      "DEBUG:urllib3.connectionpool:Starting new HTTPS connection (1): api.openweathermap.org:443\n"
     ]
    },
    {
     "name": "stdout",
     "output_type": "stream",
     "text": [
      "Processing Record 10  of Set 13 | bathurst.\n"
     ]
    },
    {
     "name": "stderr",
     "output_type": "stream",
     "text": [
      "DEBUG:urllib3.connectionpool:https://api.openweathermap.org:443 \"GET /data/2.5/weather?units=imperial&q=tosham&appid=bd8d52cf71d30c1b6d26f4c28f6a8e76 HTTP/1.1\" 200 480\n",
      "DEBUG:urllib3.connectionpool:Starting new HTTPS connection (1): api.openweathermap.org:443\n"
     ]
    },
    {
     "name": "stdout",
     "output_type": "stream",
     "text": [
      "Processing Record 11  of Set 13 | tosham.\n"
     ]
    },
    {
     "name": "stderr",
     "output_type": "stream",
     "text": [
      "DEBUG:urllib3.connectionpool:https://api.openweathermap.org:443 \"GET /data/2.5/weather?units=imperial&q=brae&appid=bd8d52cf71d30c1b6d26f4c28f6a8e76 HTTP/1.1\" 200 457\n",
      "DEBUG:urllib3.connectionpool:Starting new HTTPS connection (1): api.openweathermap.org:443\n"
     ]
    },
    {
     "name": "stdout",
     "output_type": "stream",
     "text": [
      "Processing Record 12  of Set 13 | brae.\n"
     ]
    },
    {
     "name": "stderr",
     "output_type": "stream",
     "text": [
      "DEBUG:urllib3.connectionpool:https://api.openweathermap.org:443 \"GET /data/2.5/weather?units=imperial&q=tharad&appid=bd8d52cf71d30c1b6d26f4c28f6a8e76 HTTP/1.1\" 200 478\n"
     ]
    },
    {
     "name": "stdout",
     "output_type": "stream",
     "text": [
      "Processing Record 13  of Set 13 | tharad.\n",
      "-----------------------------\n",
      "Data Retrieval Complete\n",
      "-----------------------------\n"
     ]
    }
   ],
   "source": [
    "weather_dict = {\n",
    "'Lat':[],\n",
    "'Lng':[],\n",
    "'MaxTemp':[],\n",
    "'Humidity':[],\n",
    "'Cloudiness':[],\n",
    "'WindSpeed':[],\n",
    "'Country':[],\n",
    "'Date':[]\n",
    "}\n",
    "\n",
    "print(\"Beginning Data Retrieval\")\n",
    "print(\"-----------------------------\")\n",
    "\n",
    "Record = 0\n",
    "Set = 1\n",
    "for c in cities:\n",
    "   \n",
    "    Record = Record + 1\n",
    "    if Record % 50 == 0 :\n",
    "        Record = 0\n",
    "        Set = Set + 1\n",
    "        \n",
    "    try:\n",
    "        query_url = url + \"q=\" + c + \"&appid=\" + weather_api_key\n",
    "        response = requests.get(query_url).json()\n",
    "        print(f\"Processing Record {Record}  of Set {Set} | {c}.\")\n",
    "\n",
    "        weather_dict[\"Lat\"].append(response[\"coord\"][\"lat\"])\n",
    "        weather_dict[\"Lng\"].append(response[\"coord\"][\"lon\"])\n",
    "        weather_dict[\"MaxTemp\"].append(response[\"main\"][\"temp_max\"])\n",
    "        weather_dict[\"Humidity\"].append(response[\"main\"][\"humidity\"])\n",
    "        weather_dict[\"Cloudiness\"].append(response[\"clouds\"][\"all\"])\n",
    "        weather_dict[\"WindSpeed\"].append(response[\"wind\"][\"speed\"])\n",
    "        weather_dict[\"Country\"].append(response[\"sys\"][\"country\"])\n",
    "        weather_dict[\"Date\"].append(response[\"dt\"])\n",
    "    except:\n",
    "        print(\"City not found. Skipping...\")\n",
    "        \n",
    "print(\"-----------------------------\")\n",
    "print(\"Data Retrieval Complete\")      \n",
    "print(\"-----------------------------\")        \n",
    "    \n",
    "\n"
   ]
  },
  {
   "cell_type": "code",
   "execution_count": null,
   "metadata": {},
   "outputs": [],
   "source": []
  },
  {
   "cell_type": "markdown",
   "metadata": {},
   "source": [
    "### Convert Raw Data to DataFrame\n",
    "* Export the city data into a .csv.\n",
    "* Display the DataFrame"
   ]
  },
  {
   "cell_type": "code",
   "execution_count": 29,
   "metadata": {},
   "outputs": [
    {
     "data": {
      "text/html": [
       "<div>\n",
       "<style scoped>\n",
       "    .dataframe tbody tr th:only-of-type {\n",
       "        vertical-align: middle;\n",
       "    }\n",
       "\n",
       "    .dataframe tbody tr th {\n",
       "        vertical-align: top;\n",
       "    }\n",
       "\n",
       "    .dataframe thead th {\n",
       "        text-align: right;\n",
       "    }\n",
       "</style>\n",
       "<table border=\"1\" class=\"dataframe\">\n",
       "  <thead>\n",
       "    <tr style=\"text-align: right;\">\n",
       "      <th></th>\n",
       "      <th>Lat</th>\n",
       "      <th>Lng</th>\n",
       "      <th>MaxTemp</th>\n",
       "      <th>Humidity</th>\n",
       "      <th>Cloudiness</th>\n",
       "      <th>WindSpeed</th>\n",
       "      <th>Country</th>\n",
       "      <th>Date</th>\n",
       "    </tr>\n",
       "  </thead>\n",
       "  <tbody>\n",
       "    <tr>\n",
       "      <th>0</th>\n",
       "      <td>38.5167</td>\n",
       "      <td>-28.7000</td>\n",
       "      <td>55.40</td>\n",
       "      <td>82</td>\n",
       "      <td>75</td>\n",
       "      <td>8.05</td>\n",
       "      <td>PT</td>\n",
       "      <td>1614713989</td>\n",
       "    </tr>\n",
       "    <tr>\n",
       "      <th>1</th>\n",
       "      <td>39.1834</td>\n",
       "      <td>-84.5333</td>\n",
       "      <td>44.01</td>\n",
       "      <td>36</td>\n",
       "      <td>1</td>\n",
       "      <td>4.61</td>\n",
       "      <td>US</td>\n",
       "      <td>1614713887</td>\n",
       "    </tr>\n",
       "    <tr>\n",
       "      <th>2</th>\n",
       "      <td>22.5667</td>\n",
       "      <td>59.5289</td>\n",
       "      <td>76.06</td>\n",
       "      <td>47</td>\n",
       "      <td>0</td>\n",
       "      <td>8.37</td>\n",
       "      <td>OM</td>\n",
       "      <td>1614714194</td>\n",
       "    </tr>\n",
       "    <tr>\n",
       "      <th>3</th>\n",
       "      <td>43.2128</td>\n",
       "      <td>-75.4557</td>\n",
       "      <td>23.00</td>\n",
       "      <td>49</td>\n",
       "      <td>1</td>\n",
       "      <td>20.71</td>\n",
       "      <td>US</td>\n",
       "      <td>1614714111</td>\n",
       "    </tr>\n",
       "    <tr>\n",
       "      <th>4</th>\n",
       "      <td>71.2906</td>\n",
       "      <td>-156.7887</td>\n",
       "      <td>-22.00</td>\n",
       "      <td>69</td>\n",
       "      <td>90</td>\n",
       "      <td>12.66</td>\n",
       "      <td>US</td>\n",
       "      <td>1614714001</td>\n",
       "    </tr>\n",
       "    <tr>\n",
       "      <th>...</th>\n",
       "      <td>...</td>\n",
       "      <td>...</td>\n",
       "      <td>...</td>\n",
       "      <td>...</td>\n",
       "      <td>...</td>\n",
       "      <td>...</td>\n",
       "      <td>...</td>\n",
       "      <td>...</td>\n",
       "    </tr>\n",
       "    <tr>\n",
       "      <th>556</th>\n",
       "      <td>-21.6989</td>\n",
       "      <td>-57.8825</td>\n",
       "      <td>93.34</td>\n",
       "      <td>45</td>\n",
       "      <td>21</td>\n",
       "      <td>5.55</td>\n",
       "      <td>BR</td>\n",
       "      <td>1614714497</td>\n",
       "    </tr>\n",
       "    <tr>\n",
       "      <th>557</th>\n",
       "      <td>-33.4166</td>\n",
       "      <td>149.5806</td>\n",
       "      <td>48.00</td>\n",
       "      <td>89</td>\n",
       "      <td>100</td>\n",
       "      <td>3.04</td>\n",
       "      <td>AU</td>\n",
       "      <td>1614714498</td>\n",
       "    </tr>\n",
       "    <tr>\n",
       "      <th>558</th>\n",
       "      <td>28.8833</td>\n",
       "      <td>75.9167</td>\n",
       "      <td>64.11</td>\n",
       "      <td>26</td>\n",
       "      <td>0</td>\n",
       "      <td>6.87</td>\n",
       "      <td>IN</td>\n",
       "      <td>1614714498</td>\n",
       "    </tr>\n",
       "    <tr>\n",
       "      <th>559</th>\n",
       "      <td>60.3964</td>\n",
       "      <td>-1.3530</td>\n",
       "      <td>35.60</td>\n",
       "      <td>87</td>\n",
       "      <td>20</td>\n",
       "      <td>3.71</td>\n",
       "      <td>GB</td>\n",
       "      <td>1614714129</td>\n",
       "    </tr>\n",
       "    <tr>\n",
       "      <th>560</th>\n",
       "      <td>24.3961</td>\n",
       "      <td>71.6267</td>\n",
       "      <td>66.20</td>\n",
       "      <td>30</td>\n",
       "      <td>0</td>\n",
       "      <td>6.98</td>\n",
       "      <td>IN</td>\n",
       "      <td>1614714499</td>\n",
       "    </tr>\n",
       "  </tbody>\n",
       "</table>\n",
       "<p>561 rows × 8 columns</p>\n",
       "</div>"
      ],
      "text/plain": [
       "         Lat       Lng  MaxTemp  Humidity  Cloudiness  WindSpeed Country  \\\n",
       "0    38.5167  -28.7000    55.40        82          75       8.05      PT   \n",
       "1    39.1834  -84.5333    44.01        36           1       4.61      US   \n",
       "2    22.5667   59.5289    76.06        47           0       8.37      OM   \n",
       "3    43.2128  -75.4557    23.00        49           1      20.71      US   \n",
       "4    71.2906 -156.7887   -22.00        69          90      12.66      US   \n",
       "..       ...       ...      ...       ...         ...        ...     ...   \n",
       "556 -21.6989  -57.8825    93.34        45          21       5.55      BR   \n",
       "557 -33.4166  149.5806    48.00        89         100       3.04      AU   \n",
       "558  28.8833   75.9167    64.11        26           0       6.87      IN   \n",
       "559  60.3964   -1.3530    35.60        87          20       3.71      GB   \n",
       "560  24.3961   71.6267    66.20        30           0       6.98      IN   \n",
       "\n",
       "           Date  \n",
       "0    1614713989  \n",
       "1    1614713887  \n",
       "2    1614714194  \n",
       "3    1614714111  \n",
       "4    1614714001  \n",
       "..          ...  \n",
       "556  1614714497  \n",
       "557  1614714498  \n",
       "558  1614714498  \n",
       "559  1614714129  \n",
       "560  1614714499  \n",
       "\n",
       "[561 rows x 8 columns]"
      ]
     },
     "execution_count": 29,
     "metadata": {},
     "output_type": "execute_result"
    }
   ],
   "source": [
    "weather_df = pd.DataFrame(weather_dict)\n",
    "weather_df"
   ]
  },
  {
   "cell_type": "code",
   "execution_count": 15,
   "metadata": {},
   "outputs": [
    {
     "data": {
      "text/html": [
       "<div>\n",
       "<style scoped>\n",
       "    .dataframe tbody tr th:only-of-type {\n",
       "        vertical-align: middle;\n",
       "    }\n",
       "\n",
       "    .dataframe tbody tr th {\n",
       "        vertical-align: top;\n",
       "    }\n",
       "\n",
       "    .dataframe thead th {\n",
       "        text-align: right;\n",
       "    }\n",
       "</style>\n",
       "<table border=\"1\" class=\"dataframe\">\n",
       "  <thead>\n",
       "    <tr style=\"text-align: right;\">\n",
       "      <th></th>\n",
       "      <th>Lat</th>\n",
       "      <th>Lng</th>\n",
       "      <th>MaxTemp</th>\n",
       "      <th>Humidity</th>\n",
       "      <th>Cloudiness</th>\n",
       "      <th>WindSpeed</th>\n",
       "      <th>Date</th>\n",
       "    </tr>\n",
       "  </thead>\n",
       "  <tbody>\n",
       "    <tr>\n",
       "      <th>count</th>\n",
       "      <td>561.000000</td>\n",
       "      <td>561.000000</td>\n",
       "      <td>561.000000</td>\n",
       "      <td>561.000000</td>\n",
       "      <td>561.000000</td>\n",
       "      <td>561.000000</td>\n",
       "      <td>5.610000e+02</td>\n",
       "    </tr>\n",
       "    <tr>\n",
       "      <th>mean</th>\n",
       "      <td>21.671410</td>\n",
       "      <td>17.439471</td>\n",
       "      <td>51.165740</td>\n",
       "      <td>71.645276</td>\n",
       "      <td>50.506239</td>\n",
       "      <td>8.295330</td>\n",
       "      <td>1.614714e+09</td>\n",
       "    </tr>\n",
       "    <tr>\n",
       "      <th>std</th>\n",
       "      <td>32.418072</td>\n",
       "      <td>88.659156</td>\n",
       "      <td>32.197071</td>\n",
       "      <td>22.279892</td>\n",
       "      <td>39.826011</td>\n",
       "      <td>5.881847</td>\n",
       "      <td>1.787204e+02</td>\n",
       "    </tr>\n",
       "    <tr>\n",
       "      <th>min</th>\n",
       "      <td>-54.800000</td>\n",
       "      <td>-175.200000</td>\n",
       "      <td>-42.470000</td>\n",
       "      <td>9.000000</td>\n",
       "      <td>0.000000</td>\n",
       "      <td>0.250000</td>\n",
       "      <td>1.614714e+09</td>\n",
       "    </tr>\n",
       "    <tr>\n",
       "      <th>25%</th>\n",
       "      <td>-6.176100</td>\n",
       "      <td>-58.650200</td>\n",
       "      <td>34.000000</td>\n",
       "      <td>60.000000</td>\n",
       "      <td>1.000000</td>\n",
       "      <td>3.690000</td>\n",
       "      <td>1.614714e+09</td>\n",
       "    </tr>\n",
       "    <tr>\n",
       "      <th>50%</th>\n",
       "      <td>25.263100</td>\n",
       "      <td>23.500000</td>\n",
       "      <td>61.000000</td>\n",
       "      <td>78.000000</td>\n",
       "      <td>47.000000</td>\n",
       "      <td>6.910000</td>\n",
       "      <td>1.614714e+09</td>\n",
       "    </tr>\n",
       "    <tr>\n",
       "      <th>75%</th>\n",
       "      <td>49.980000</td>\n",
       "      <td>89.898300</td>\n",
       "      <td>77.200000</td>\n",
       "      <td>89.000000</td>\n",
       "      <td>90.000000</td>\n",
       "      <td>11.500000</td>\n",
       "      <td>1.614714e+09</td>\n",
       "    </tr>\n",
       "    <tr>\n",
       "      <th>max</th>\n",
       "      <td>78.218600</td>\n",
       "      <td>178.416700</td>\n",
       "      <td>95.000000</td>\n",
       "      <td>100.000000</td>\n",
       "      <td>100.000000</td>\n",
       "      <td>44.870000</td>\n",
       "      <td>1.614714e+09</td>\n",
       "    </tr>\n",
       "  </tbody>\n",
       "</table>\n",
       "</div>"
      ],
      "text/plain": [
       "              Lat         Lng     MaxTemp    Humidity  Cloudiness   WindSpeed  \\\n",
       "count  561.000000  561.000000  561.000000  561.000000  561.000000  561.000000   \n",
       "mean    21.671410   17.439471   51.165740   71.645276   50.506239    8.295330   \n",
       "std     32.418072   88.659156   32.197071   22.279892   39.826011    5.881847   \n",
       "min    -54.800000 -175.200000  -42.470000    9.000000    0.000000    0.250000   \n",
       "25%     -6.176100  -58.650200   34.000000   60.000000    1.000000    3.690000   \n",
       "50%     25.263100   23.500000   61.000000   78.000000   47.000000    6.910000   \n",
       "75%     49.980000   89.898300   77.200000   89.000000   90.000000   11.500000   \n",
       "max     78.218600  178.416700   95.000000  100.000000  100.000000   44.870000   \n",
       "\n",
       "               Date  \n",
       "count  5.610000e+02  \n",
       "mean   1.614714e+09  \n",
       "std    1.787204e+02  \n",
       "min    1.614714e+09  \n",
       "25%    1.614714e+09  \n",
       "50%    1.614714e+09  \n",
       "75%    1.614714e+09  \n",
       "max    1.614714e+09  "
      ]
     },
     "execution_count": 15,
     "metadata": {},
     "output_type": "execute_result"
    }
   ],
   "source": [
    "weather_df.describe()"
   ]
  },
  {
   "cell_type": "markdown",
   "metadata": {},
   "source": [
    "## Inspect the data and remove the cities where the humidity > 100%.\n",
    "----\n",
    "Skip this step if there are no cities that have humidity > 100%. "
   ]
  },
  {
   "cell_type": "code",
   "execution_count": 52,
   "metadata": {},
   "outputs": [
    {
     "data": {
      "text/html": [
       "<div>\n",
       "<style scoped>\n",
       "    .dataframe tbody tr th:only-of-type {\n",
       "        vertical-align: middle;\n",
       "    }\n",
       "\n",
       "    .dataframe tbody tr th {\n",
       "        vertical-align: top;\n",
       "    }\n",
       "\n",
       "    .dataframe thead th {\n",
       "        text-align: right;\n",
       "    }\n",
       "</style>\n",
       "<table border=\"1\" class=\"dataframe\">\n",
       "  <thead>\n",
       "    <tr style=\"text-align: right;\">\n",
       "      <th></th>\n",
       "      <th>Lat</th>\n",
       "      <th>Lng</th>\n",
       "      <th>MaxTemp</th>\n",
       "      <th>Humidity</th>\n",
       "      <th>Cloudiness</th>\n",
       "      <th>WindSpeed</th>\n",
       "      <th>Country</th>\n",
       "      <th>Date</th>\n",
       "    </tr>\n",
       "  </thead>\n",
       "  <tbody>\n",
       "  </tbody>\n",
       "</table>\n",
       "</div>"
      ],
      "text/plain": [
       "Empty DataFrame\n",
       "Columns: [Lat, Lng, MaxTemp, Humidity, Cloudiness, WindSpeed, Country, Date]\n",
       "Index: []"
      ]
     },
     "execution_count": 52,
     "metadata": {},
     "output_type": "execute_result"
    }
   ],
   "source": [
    "over100 = weather_df.loc[weather_df[\"Humidity\"] > 100]\n",
    "over100"
   ]
  },
  {
   "cell_type": "code",
   "execution_count": 51,
   "metadata": {},
   "outputs": [
    {
     "data": {
      "text/plain": [
       "Int64Index([], dtype='int64')"
      ]
     },
     "execution_count": 51,
     "metadata": {},
     "output_type": "execute_result"
    }
   ],
   "source": [
    "#  Get the indices of cities that have humidity over 100%.\n",
    "pd.Int64Index(over100.value_counts())"
   ]
  },
  {
   "cell_type": "code",
   "execution_count": null,
   "metadata": {},
   "outputs": [],
   "source": [
    "# Make a new DataFrame equal to the city data to drop all humidity outliers by index.\n",
    "# Passing \"inplace=False\" will make a copy of the city_data DataFrame, which we call \"clean_city_data\".\n"
   ]
  },
  {
   "cell_type": "code",
   "execution_count": null,
   "metadata": {},
   "outputs": [],
   "source": [
    "\n"
   ]
  },
  {
   "cell_type": "code",
   "execution_count": 19,
   "metadata": {},
   "outputs": [
    {
     "data": {
      "text/html": [
       "<div>\n",
       "<style scoped>\n",
       "    .dataframe tbody tr th:only-of-type {\n",
       "        vertical-align: middle;\n",
       "    }\n",
       "\n",
       "    .dataframe tbody tr th {\n",
       "        vertical-align: top;\n",
       "    }\n",
       "\n",
       "    .dataframe thead th {\n",
       "        text-align: right;\n",
       "    }\n",
       "</style>\n",
       "<table border=\"1\" class=\"dataframe\">\n",
       "  <thead>\n",
       "    <tr style=\"text-align: right;\">\n",
       "      <th></th>\n",
       "      <th>City</th>\n",
       "      <th>Lat</th>\n",
       "      <th>Lng</th>\n",
       "      <th>Max Temp</th>\n",
       "      <th>Humidity</th>\n",
       "      <th>Cloudiness</th>\n",
       "      <th>Wind Speed</th>\n",
       "      <th>Country</th>\n",
       "      <th>Date</th>\n",
       "    </tr>\n",
       "  </thead>\n",
       "  <tbody>\n",
       "    <tr>\n",
       "      <td>0</td>\n",
       "      <td>butaritari</td>\n",
       "      <td>3.07</td>\n",
       "      <td>172.79</td>\n",
       "      <td>83.32</td>\n",
       "      <td>74</td>\n",
       "      <td>84</td>\n",
       "      <td>10.42</td>\n",
       "      <td>KI</td>\n",
       "      <td>1593605283</td>\n",
       "    </tr>\n",
       "    <tr>\n",
       "      <td>1</td>\n",
       "      <td>yerbogachen</td>\n",
       "      <td>61.28</td>\n",
       "      <td>108.01</td>\n",
       "      <td>79.52</td>\n",
       "      <td>58</td>\n",
       "      <td>20</td>\n",
       "      <td>7.70</td>\n",
       "      <td>RU</td>\n",
       "      <td>1593605121</td>\n",
       "    </tr>\n",
       "    <tr>\n",
       "      <td>2</td>\n",
       "      <td>cape town</td>\n",
       "      <td>-33.93</td>\n",
       "      <td>18.42</td>\n",
       "      <td>73.00</td>\n",
       "      <td>77</td>\n",
       "      <td>27</td>\n",
       "      <td>4.70</td>\n",
       "      <td>ZA</td>\n",
       "      <td>1593605039</td>\n",
       "    </tr>\n",
       "    <tr>\n",
       "      <td>3</td>\n",
       "      <td>touba</td>\n",
       "      <td>8.28</td>\n",
       "      <td>-7.68</td>\n",
       "      <td>79.97</td>\n",
       "      <td>75</td>\n",
       "      <td>82</td>\n",
       "      <td>3.58</td>\n",
       "      <td>CI</td>\n",
       "      <td>1593605284</td>\n",
       "    </tr>\n",
       "    <tr>\n",
       "      <td>4</td>\n",
       "      <td>jamestown</td>\n",
       "      <td>42.10</td>\n",
       "      <td>-79.24</td>\n",
       "      <td>64.00</td>\n",
       "      <td>88</td>\n",
       "      <td>1</td>\n",
       "      <td>6.93</td>\n",
       "      <td>US</td>\n",
       "      <td>1593605284</td>\n",
       "    </tr>\n",
       "  </tbody>\n",
       "</table>\n",
       "</div>"
      ],
      "text/plain": [
       "          City    Lat     Lng  Max Temp  Humidity  Cloudiness  Wind Speed  \\\n",
       "0   butaritari   3.07  172.79     83.32        74          84       10.42   \n",
       "1  yerbogachen  61.28  108.01     79.52        58          20        7.70   \n",
       "2    cape town -33.93   18.42     73.00        77          27        4.70   \n",
       "3        touba   8.28   -7.68     79.97        75          82        3.58   \n",
       "4    jamestown  42.10  -79.24     64.00        88           1        6.93   \n",
       "\n",
       "  Country        Date  \n",
       "0      KI  1593605283  \n",
       "1      RU  1593605121  \n",
       "2      ZA  1593605039  \n",
       "3      CI  1593605284  \n",
       "4      US  1593605284  "
      ]
     },
     "execution_count": 19,
     "metadata": {},
     "output_type": "execute_result"
    }
   ],
   "source": [
    "# Make a new DataFrame equal to the city data to drop all humidity outliers by index.\n",
    "# Passing \"inplace=False\" will make a copy of the city_data DataFrame, which we call \"clean_city_data\".\n"
   ]
  },
  {
   "cell_type": "code",
   "execution_count": null,
   "metadata": {},
   "outputs": [],
   "source": [
    "\n"
   ]
  },
  {
   "cell_type": "markdown",
   "metadata": {},
   "source": [
    "## Plotting the Data\n",
    "* Use proper labeling of the plots using plot titles (including date of analysis) and axes labels.\n",
    "* Save the plotted figures as .pngs."
   ]
  },
  {
   "cell_type": "markdown",
   "metadata": {},
   "source": [
    "## Latitude vs. Temperature Plot"
   ]
  },
  {
   "cell_type": "code",
   "execution_count": 80,
   "metadata": {},
   "outputs": [
    {
     "data": {
      "image/png": "[encoded data removed]",
      "text/plain": [
       "<Figure size 432x288 with 1 Axes>"
      ]
     },
     "metadata": {
      "needs_background": "light"
     },
     "output_type": "display_data"
    }
   ],
   "source": [
    "plt.scatter(weather_df[\"Lat\"], weather_df[\"MaxTemp\"], facecolors=\"steelblue\", edgecolors=\"black\")\n",
    "plt.title(\"City Latitude vs. Max Temperature (04/01/20)\")\n",
    "plt.xlabel(\"Latitude\")\n",
    "plt.ylabel(\"Max Temperature (F)\")\n",
    "plt.grid()\n",
    "plt.savefig('views/Lat_vs_Temp.png')"
   ]
  },
  {
   "cell_type": "markdown",
   "metadata": {},
   "source": [
    "## Latitude vs. Humidity Plot"
   ]
  },
  {
   "cell_type": "code",
   "execution_count": 81,
   "metadata": {},
   "outputs": [
    {
     "data": {
      "image/png": "[encoded data removed]",
      "text/plain": [
       "<Figure size 432x288 with 1 Axes>"
      ]
     },
     "metadata": {
      "needs_background": "light"
     },
     "output_type": "display_data"
    }
   ],
   "source": [
    "plt.scatter(weather_df[\"Lat\"], weather_df[\"Humidity\"], facecolors=\"steelblue\", edgecolors=\"black\")\n",
    "plt.title(\"City Latitude vs. Humidity (04/01/20)\")\n",
    "plt.xlabel(\"Latitude\")\n",
    "plt.ylabel(\"Humidity (%)\")\n",
    "plt.grid()\n",
    "plt.savefig('views/Lat_vs_Humidity.png')"
   ]
  },
  {
   "cell_type": "markdown",
   "metadata": {},
   "source": [
    "## Latitude vs. Cloudiness Plot"
   ]
  },
  {
   "cell_type": "code",
   "execution_count": 82,
   "metadata": {},
   "outputs": [
    {
     "data": {
      "image/png": "[encoded data removed]",
      "text/plain": [
       "<Figure size 432x288 with 1 Axes>"
      ]
     },
     "metadata": {
      "needs_background": "light"
     },
     "output_type": "display_data"
    }
   ],
   "source": [
    "plt.scatter(weather_df[\"Lat\"], weather_df[\"Cloudiness\"], facecolors=\"steelblue\", edgecolors=\"black\")\n",
    "plt.title(\"City Latitude vs. Cloudiness (04/01/20)\")\n",
    "plt.xlabel(\"Latitude\")\n",
    "plt.ylabel(\"Cloudiness (%)\")\n",
    "plt.grid()\n",
    "plt.savefig('views/Lat_vs_Cloud.png')"
   ]
  },
  {
   "cell_type": "markdown",
   "metadata": {},
   "source": [
    "## Latitude vs. Wind Speed Plot"
   ]
  },
  {
   "cell_type": "code",
   "execution_count": 83,
   "metadata": {},
   "outputs": [
    {
     "data": {
      "image/png": "[encoded data removed]",
      "text/plain": [
       "<Figure size 432x288 with 1 Axes>"
      ]
     },
     "metadata": {
      "needs_background": "light"
     },
     "output_type": "display_data"
    }
   ],
   "source": [
    "plt.scatter(weather_df[\"Lat\"], weather_df[\"WindSpeed\"], facecolors=\"steelblue\", edgecolors=\"black\")\n",
    "plt.title(\"City Latitude vs. Wind Speed (04/01/20)\")\n",
    "plt.xlabel(\"Latitude\")\n",
    "plt.ylabel(\"Wind Speed (mph)\")\n",
    "plt.grid()\n",
    "plt.savefig('views/Lat_vs_WindSpeed.png')"
   ]
  },
  {
   "cell_type": "markdown",
   "metadata": {},
   "source": [
    "## Linear Regression"
   ]
  },
  {
   "cell_type": "code",
   "execution_count": 112,
   "metadata": {},
   "outputs": [
    {
     "data": {
      "text/html": [
       "<div>\n",
       "<style scoped>\n",
       "    .dataframe tbody tr th:only-of-type {\n",
       "        vertical-align: middle;\n",
       "    }\n",
       "\n",
       "    .dataframe tbody tr th {\n",
       "        vertical-align: top;\n",
       "    }\n",
       "\n",
       "    .dataframe thead th {\n",
       "        text-align: right;\n",
       "    }\n",
       "</style>\n",
       "<table border=\"1\" class=\"dataframe\">\n",
       "  <thead>\n",
       "    <tr style=\"text-align: right;\">\n",
       "      <th></th>\n",
       "      <th>Lat</th>\n",
       "      <th>Lng</th>\n",
       "      <th>MaxTemp</th>\n",
       "      <th>Humidity</th>\n",
       "      <th>Cloudiness</th>\n",
       "      <th>WindSpeed</th>\n",
       "      <th>Country</th>\n",
       "      <th>Date</th>\n",
       "    </tr>\n",
       "  </thead>\n",
       "  <tbody>\n",
       "    <tr>\n",
       "      <th>9</th>\n",
       "      <td>-6.1761</td>\n",
       "      <td>143.6513</td>\n",
       "      <td>53.15</td>\n",
       "      <td>98</td>\n",
       "      <td>99</td>\n",
       "      <td>2.08</td>\n",
       "      <td>PG</td>\n",
       "      <td>1614714197</td>\n",
       "    </tr>\n",
       "    <tr>\n",
       "      <th>10</th>\n",
       "      <td>-46.1927</td>\n",
       "      <td>168.8643</td>\n",
       "      <td>57.00</td>\n",
       "      <td>97</td>\n",
       "      <td>60</td>\n",
       "      <td>1.99</td>\n",
       "      <td>NZ</td>\n",
       "      <td>1614713993</td>\n",
       "    </tr>\n",
       "    <tr>\n",
       "      <th>15</th>\n",
       "      <td>-9.3183</td>\n",
       "      <td>-35.5611</td>\n",
       "      <td>82.40</td>\n",
       "      <td>69</td>\n",
       "      <td>75</td>\n",
       "      <td>14.97</td>\n",
       "      <td>BR</td>\n",
       "      <td>1614714200</td>\n",
       "    </tr>\n",
       "    <tr>\n",
       "      <th>16</th>\n",
       "      <td>-42.8794</td>\n",
       "      <td>147.3294</td>\n",
       "      <td>48.00</td>\n",
       "      <td>71</td>\n",
       "      <td>20</td>\n",
       "      <td>6.91</td>\n",
       "      <td>AU</td>\n",
       "      <td>1614713999</td>\n",
       "    </tr>\n",
       "    <tr>\n",
       "      <th>17</th>\n",
       "      <td>-33.6500</td>\n",
       "      <td>115.3333</td>\n",
       "      <td>66.99</td>\n",
       "      <td>84</td>\n",
       "      <td>67</td>\n",
       "      <td>4.00</td>\n",
       "      <td>AU</td>\n",
       "      <td>1614714002</td>\n",
       "    </tr>\n",
       "    <tr>\n",
       "      <th>...</th>\n",
       "      <td>...</td>\n",
       "      <td>...</td>\n",
       "      <td>...</td>\n",
       "      <td>...</td>\n",
       "      <td>...</td>\n",
       "      <td>...</td>\n",
       "      <td>...</td>\n",
       "      <td>...</td>\n",
       "    </tr>\n",
       "    <tr>\n",
       "      <th>539</th>\n",
       "      <td>-23.8650</td>\n",
       "      <td>35.3833</td>\n",
       "      <td>77.00</td>\n",
       "      <td>88</td>\n",
       "      <td>20</td>\n",
       "      <td>6.91</td>\n",
       "      <td>MZ</td>\n",
       "      <td>1614714489</td>\n",
       "    </tr>\n",
       "    <tr>\n",
       "      <th>540</th>\n",
       "      <td>-29.3353</td>\n",
       "      <td>-49.7269</td>\n",
       "      <td>78.51</td>\n",
       "      <td>82</td>\n",
       "      <td>100</td>\n",
       "      <td>4.14</td>\n",
       "      <td>BR</td>\n",
       "      <td>1614714269</td>\n",
       "    </tr>\n",
       "    <tr>\n",
       "      <th>543</th>\n",
       "      <td>-9.1667</td>\n",
       "      <td>-60.6333</td>\n",
       "      <td>76.10</td>\n",
       "      <td>94</td>\n",
       "      <td>93</td>\n",
       "      <td>4.79</td>\n",
       "      <td>BR</td>\n",
       "      <td>1614714368</td>\n",
       "    </tr>\n",
       "    <tr>\n",
       "      <th>556</th>\n",
       "      <td>-21.6989</td>\n",
       "      <td>-57.8825</td>\n",
       "      <td>93.34</td>\n",
       "      <td>45</td>\n",
       "      <td>21</td>\n",
       "      <td>5.55</td>\n",
       "      <td>BR</td>\n",
       "      <td>1614714497</td>\n",
       "    </tr>\n",
       "    <tr>\n",
       "      <th>557</th>\n",
       "      <td>-33.4166</td>\n",
       "      <td>149.5806</td>\n",
       "      <td>48.00</td>\n",
       "      <td>89</td>\n",
       "      <td>100</td>\n",
       "      <td>3.04</td>\n",
       "      <td>AU</td>\n",
       "      <td>1614714498</td>\n",
       "    </tr>\n",
       "  </tbody>\n",
       "</table>\n",
       "<p>162 rows × 8 columns</p>\n",
       "</div>"
      ],
      "text/plain": [
       "         Lat       Lng  MaxTemp  Humidity  Cloudiness  WindSpeed Country  \\\n",
       "9    -6.1761  143.6513    53.15        98          99       2.08      PG   \n",
       "10  -46.1927  168.8643    57.00        97          60       1.99      NZ   \n",
       "15   -9.3183  -35.5611    82.40        69          75      14.97      BR   \n",
       "16  -42.8794  147.3294    48.00        71          20       6.91      AU   \n",
       "17  -33.6500  115.3333    66.99        84          67       4.00      AU   \n",
       "..       ...       ...      ...       ...         ...        ...     ...   \n",
       "539 -23.8650   35.3833    77.00        88          20       6.91      MZ   \n",
       "540 -29.3353  -49.7269    78.51        82         100       4.14      BR   \n",
       "543  -9.1667  -60.6333    76.10        94          93       4.79      BR   \n",
       "556 -21.6989  -57.8825    93.34        45          21       5.55      BR   \n",
       "557 -33.4166  149.5806    48.00        89         100       3.04      AU   \n",
       "\n",
       "           Date  \n",
       "9    1614714197  \n",
       "10   1614713993  \n",
       "15   1614714200  \n",
       "16   1614713999  \n",
       "17   1614714002  \n",
       "..          ...  \n",
       "539  1614714489  \n",
       "540  1614714269  \n",
       "543  1614714368  \n",
       "556  1614714497  \n",
       "557  1614714498  \n",
       "\n",
       "[162 rows x 8 columns]"
      ]
     },
     "execution_count": 112,
     "metadata": {},
     "output_type": "execute_result"
    }
   ],
   "source": [
    "#Negative latitude is south.\n",
    "southgroup = weather_df.loc[weather_df[\"Lat\"] <= 0]\n",
    "southgroup"
   ]
  },
  {
   "cell_type": "code",
   "execution_count": 113,
   "metadata": {},
   "outputs": [
    {
     "data": {
      "text/html": [
       "<div>\n",
       "<style scoped>\n",
       "    .dataframe tbody tr th:only-of-type {\n",
       "        vertical-align: middle;\n",
       "    }\n",
       "\n",
       "    .dataframe tbody tr th {\n",
       "        vertical-align: top;\n",
       "    }\n",
       "\n",
       "    .dataframe thead th {\n",
       "        text-align: right;\n",
       "    }\n",
       "</style>\n",
       "<table border=\"1\" class=\"dataframe\">\n",
       "  <thead>\n",
       "    <tr style=\"text-align: right;\">\n",
       "      <th></th>\n",
       "      <th>Lat</th>\n",
       "      <th>Lng</th>\n",
       "      <th>MaxTemp</th>\n",
       "      <th>Humidity</th>\n",
       "      <th>Cloudiness</th>\n",
       "      <th>WindSpeed</th>\n",
       "      <th>Country</th>\n",
       "      <th>Date</th>\n",
       "    </tr>\n",
       "  </thead>\n",
       "  <tbody>\n",
       "    <tr>\n",
       "      <th>0</th>\n",
       "      <td>38.5167</td>\n",
       "      <td>-28.7000</td>\n",
       "      <td>55.40</td>\n",
       "      <td>82</td>\n",
       "      <td>75</td>\n",
       "      <td>8.05</td>\n",
       "      <td>PT</td>\n",
       "      <td>1614713989</td>\n",
       "    </tr>\n",
       "    <tr>\n",
       "      <th>1</th>\n",
       "      <td>39.1834</td>\n",
       "      <td>-84.5333</td>\n",
       "      <td>44.01</td>\n",
       "      <td>36</td>\n",
       "      <td>1</td>\n",
       "      <td>4.61</td>\n",
       "      <td>US</td>\n",
       "      <td>1614713887</td>\n",
       "    </tr>\n",
       "    <tr>\n",
       "      <th>2</th>\n",
       "      <td>22.5667</td>\n",
       "      <td>59.5289</td>\n",
       "      <td>76.06</td>\n",
       "      <td>47</td>\n",
       "      <td>0</td>\n",
       "      <td>8.37</td>\n",
       "      <td>OM</td>\n",
       "      <td>1614714194</td>\n",
       "    </tr>\n",
       "    <tr>\n",
       "      <th>3</th>\n",
       "      <td>43.2128</td>\n",
       "      <td>-75.4557</td>\n",
       "      <td>23.00</td>\n",
       "      <td>49</td>\n",
       "      <td>1</td>\n",
       "      <td>20.71</td>\n",
       "      <td>US</td>\n",
       "      <td>1614714111</td>\n",
       "    </tr>\n",
       "    <tr>\n",
       "      <th>4</th>\n",
       "      <td>71.2906</td>\n",
       "      <td>-156.7887</td>\n",
       "      <td>-22.00</td>\n",
       "      <td>69</td>\n",
       "      <td>90</td>\n",
       "      <td>12.66</td>\n",
       "      <td>US</td>\n",
       "      <td>1614714001</td>\n",
       "    </tr>\n",
       "    <tr>\n",
       "      <th>...</th>\n",
       "      <td>...</td>\n",
       "      <td>...</td>\n",
       "      <td>...</td>\n",
       "      <td>...</td>\n",
       "      <td>...</td>\n",
       "      <td>...</td>\n",
       "      <td>...</td>\n",
       "      <td>...</td>\n",
       "    </tr>\n",
       "    <tr>\n",
       "      <th>554</th>\n",
       "      <td>14.3122</td>\n",
       "      <td>121.1114</td>\n",
       "      <td>81.00</td>\n",
       "      <td>78</td>\n",
       "      <td>20</td>\n",
       "      <td>5.75</td>\n",
       "      <td>PH</td>\n",
       "      <td>1614714067</td>\n",
       "    </tr>\n",
       "    <tr>\n",
       "      <th>555</th>\n",
       "      <td>65.9939</td>\n",
       "      <td>57.5281</td>\n",
       "      <td>7.29</td>\n",
       "      <td>95</td>\n",
       "      <td>94</td>\n",
       "      <td>8.95</td>\n",
       "      <td>RU</td>\n",
       "      <td>1614714008</td>\n",
       "    </tr>\n",
       "    <tr>\n",
       "      <th>558</th>\n",
       "      <td>28.8833</td>\n",
       "      <td>75.9167</td>\n",
       "      <td>64.11</td>\n",
       "      <td>26</td>\n",
       "      <td>0</td>\n",
       "      <td>6.87</td>\n",
       "      <td>IN</td>\n",
       "      <td>1614714498</td>\n",
       "    </tr>\n",
       "    <tr>\n",
       "      <th>559</th>\n",
       "      <td>60.3964</td>\n",
       "      <td>-1.3530</td>\n",
       "      <td>35.60</td>\n",
       "      <td>87</td>\n",
       "      <td>20</td>\n",
       "      <td>3.71</td>\n",
       "      <td>GB</td>\n",
       "      <td>1614714129</td>\n",
       "    </tr>\n",
       "    <tr>\n",
       "      <th>560</th>\n",
       "      <td>24.3961</td>\n",
       "      <td>71.6267</td>\n",
       "      <td>66.20</td>\n",
       "      <td>30</td>\n",
       "      <td>0</td>\n",
       "      <td>6.98</td>\n",
       "      <td>IN</td>\n",
       "      <td>1614714499</td>\n",
       "    </tr>\n",
       "  </tbody>\n",
       "</table>\n",
       "<p>399 rows × 8 columns</p>\n",
       "</div>"
      ],
      "text/plain": [
       "         Lat       Lng  MaxTemp  Humidity  Cloudiness  WindSpeed Country  \\\n",
       "0    38.5167  -28.7000    55.40        82          75       8.05      PT   \n",
       "1    39.1834  -84.5333    44.01        36           1       4.61      US   \n",
       "2    22.5667   59.5289    76.06        47           0       8.37      OM   \n",
       "3    43.2128  -75.4557    23.00        49           1      20.71      US   \n",
       "4    71.2906 -156.7887   -22.00        69          90      12.66      US   \n",
       "..       ...       ...      ...       ...         ...        ...     ...   \n",
       "554  14.3122  121.1114    81.00        78          20       5.75      PH   \n",
       "555  65.9939   57.5281     7.29        95          94       8.95      RU   \n",
       "558  28.8833   75.9167    64.11        26           0       6.87      IN   \n",
       "559  60.3964   -1.3530    35.60        87          20       3.71      GB   \n",
       "560  24.3961   71.6267    66.20        30           0       6.98      IN   \n",
       "\n",
       "           Date  \n",
       "0    1614713989  \n",
       "1    1614713887  \n",
       "2    1614714194  \n",
       "3    1614714111  \n",
       "4    1614714001  \n",
       "..          ...  \n",
       "554  1614714067  \n",
       "555  1614714008  \n",
       "558  1614714498  \n",
       "559  1614714129  \n",
       "560  1614714499  \n",
       "\n",
       "[399 rows x 8 columns]"
      ]
     },
     "execution_count": 113,
     "metadata": {},
     "output_type": "execute_result"
    }
   ],
   "source": [
    "northgroup = weather_df.loc[weather_df[\"Lat\"] >= 0]\n",
    "northgroup"
   ]
  },
  {
   "cell_type": "code",
   "execution_count": null,
   "metadata": {},
   "outputs": [],
   "source": []
  },
  {
   "cell_type": "markdown",
   "metadata": {},
   "source": [
    "####  Northern Hemisphere - Max Temp vs. Latitude Linear Regression"
   ]
  },
  {
   "cell_type": "code",
   "execution_count": 114,
   "metadata": {},
   "outputs": [
    {
     "name": "stdout",
     "output_type": "stream",
     "text": [
      "The r-value is: -0.8470384552170724\n"
     ]
    },
    {
     "data": {
      "image/png": "[encoded data removed]",
      "text/plain": [
       "<Figure size 432x288 with 1 Axes>"
      ]
     },
     "metadata": {
      "needs_background": "light"
     },
     "output_type": "display_data"
    }
   ],
   "source": [
    "x_values = northgroup[\"Lat\"]\n",
    "y_values = northgroup[\"MaxTemp\"]\n",
    "\n",
    "(slope, intercept, rvalue, pvalue, stderr) = linregress(x_values, y_values)\n",
    "regress_values = x_values * slope + intercept\n",
    "line_eq = \"y = \" + str(round(slope,2)) + \"x + \" + str(round(intercept,2))\n",
    "plt.scatter(x_values,y_values)\n",
    "plt.plot(x_values,regress_values,\"r-\")\n",
    "plt.annotate(line_eq,(6,10),fontsize=15,color=\"red\")\n",
    "plt.xlabel(\"Latitude\")\n",
    "plt.ylabel(\"Max Temperature\")\n",
    "print(f\"The r-value is: {rvalue}\")"
   ]
  },
  {
   "cell_type": "markdown",
   "metadata": {},
   "source": [
    "####  Southern Hemisphere - Max Temp vs. Latitude Linear Regression"
   ]
  },
  {
   "cell_type": "code",
   "execution_count": 135,
   "metadata": {},
   "outputs": [
    {
     "name": "stdout",
     "output_type": "stream",
     "text": [
      "The r-value is: 0.5686932312551316\n"
     ]
    },
    {
     "data": {
      "image/png": "[encoded data removed]",
      "text/plain": [
       "<Figure size 432x288 with 1 Axes>"
      ]
     },
     "metadata": {
      "needs_background": "light"
     },
     "output_type": "display_data"
    }
   ],
   "source": [
    "x_values = southgroup[\"Lat\"]\n",
    "y_values = southgroup[\"MaxTemp\"]\n",
    "\n",
    "(slope, intercept, rvalue, pvalue, stderr) = linregress(x_values, y_values)\n",
    "regress_values = x_values * slope + intercept\n",
    "line_eq = \"y = \" + str(round(slope,2)) + \"x + \" + str(round(intercept,2))\n",
    "plt.scatter(x_values,y_values)\n",
    "plt.plot(x_values, regress_values,\"r-\", label=line_eq)\n",
    "plt.legend(loc='best')\n",
    "plt.annotate(line_eq,(6,10),fontsize=15,color=\"red\")\n",
    "plt.xlabel(\"Latitude\")\n",
    "plt.ylabel(\"Max Temperature\")\n",
    "print(f\"The r-value is: {rvalue}\")"
   ]
  },
  {
   "cell_type": "markdown",
   "metadata": {},
   "source": [
    "####  Northern Hemisphere - Humidity (%) vs. Latitude Linear Regression"
   ]
  },
  {
   "cell_type": "code",
   "execution_count": 103,
   "metadata": {},
   "outputs": [
    {
     "name": "stdout",
     "output_type": "stream",
     "text": [
      "The r-value is: 0.3809149433201803\n"
     ]
    },
    {
     "data": {
      "image/png": "[encoded data removed]",
      "text/plain": [
       "<Figure size 432x288 with 1 Axes>"
      ]
     },
     "metadata": {
      "needs_background": "light"
     },
     "output_type": "display_data"
    }
   ],
   "source": [
    "x_values = northgroup[\"Lat\"]\n",
    "y_values = northgroup[\"Humidity\"]\n",
    "\n",
    "(slope, intercept, rvalue, pvalue, stderr) = linregress(x_values, y_values)\n",
    "regress_values = x_values * slope + intercept\n",
    "line_eq = \"y = \" + str(round(slope,2)) + \"x + \" + str(round(intercept,2))\n",
    "plt.scatter(x_values,y_values)\n",
    "plt.plot(x_values,regress_values,\"r-\")\n",
    "plt.annotate(line_eq,(6,10),fontsize=15,color=\"red\")\n",
    "plt.xlabel(\"Latitude\")\n",
    "plt.ylabel(\"Humidity\")\n",
    "print(f\"The r-value is: {rvalue}\")"
   ]
  },
  {
   "cell_type": "markdown",
   "metadata": {},
   "source": [
    "####  Southern Hemisphere - Humidity (%) vs. Latitude Linear Regression"
   ]
  },
  {
   "cell_type": "code",
   "execution_count": 132,
   "metadata": {},
   "outputs": [
    {
     "name": "stdout",
     "output_type": "stream",
     "text": [
      "The r-value is: 0.10602479181641784\n"
     ]
    },
    {
     "data": {
      "image/png": "[encoded data removed]",
      "text/plain": [
       "<Figure size 432x288 with 1 Axes>"
      ]
     },
     "metadata": {
      "needs_background": "light"
     },
     "output_type": "display_data"
    }
   ],
   "source": [
    "x_values = southgroup[\"Lat\"]\n",
    "y_values = southgroup[\"Humidity\"]\n",
    "\n",
    "(slope, intercept, rvalue, pvalue, stderr) = linregress(x_values, y_values)\n",
    "regress_values = x_values * slope + intercept\n",
    "line_eq = \"y = \" + str(round(slope,2)) + \"x + \" + str(round(intercept,2))\n",
    "plt.scatter(x_values,y_values)\n",
    "plt.plot(x_values, regress_values,\"r-\", label=line_eq)\n",
    "plt.legend(loc='best')\n",
    "plt.annotate(line_eq,(6,10),fontsize=15,color=\"red\")\n",
    "plt.xlabel(\"Latitude\")\n",
    "plt.ylabel(\"Humidity\")\n",
    "\n",
    "print(f\"The r-value is: {rvalue}\")"
   ]
  },
  {
   "cell_type": "markdown",
   "metadata": {},
   "source": [
    "####  Northern Hemisphere - Cloudiness (%) vs. Latitude Linear Regression"
   ]
  },
  {
   "cell_type": "code",
   "execution_count": 120,
   "metadata": {},
   "outputs": [
    {
     "name": "stdout",
     "output_type": "stream",
     "text": [
      "The r-value is: 0.1969523373008997\n"
     ]
    },
    {
     "data": {
      "image/png": "[encoded data removed]",
      "text/plain": [
       "<Figure size 432x288 with 1 Axes>"
      ]
     },
     "metadata": {
      "needs_background": "light"
     },
     "output_type": "display_data"
    }
   ],
   "source": [
    "x_values = northgroup[\"Lat\"]\n",
    "y_values = northgroup[\"Cloudiness\"]\n",
    "\n",
    "(slope, intercept, rvalue, pvalue, stderr) = linregress(x_values, y_values)\n",
    "regress_values = x_values * slope + intercept\n",
    "line_eq = \"y = \" + str(round(slope,2)) + \"x + \" + str(round(intercept,2))\n",
    "plt.scatter(x_values,y_values)\n",
    "plt.plot(x_values,regress_values,\"r-\")\n",
    "plt.annotate(line_eq,(6,10),fontsize=15,color=\"red\")\n",
    "plt.xlabel(\"Latitude\")WindSpeed\n",
    "plt.ylabel(\"Cloudiness\")\n",
    "\n",
    "print(f\"The r-value is: {rvalue}\")"
   ]
  },
  {
   "cell_type": "markdown",
   "metadata": {},
   "source": [
    "####  Southern Hemisphere - Cloudiness (%) vs. Latitude Linear Regression"
   ]
  },
  {
   "cell_type": "code",
   "execution_count": 133,
   "metadata": {},
   "outputs": [
    {
     "name": "stdout",
     "output_type": "stream",
     "text": [
      "The r-value is: 0.24357498298334376\n"
     ]
    },
    {
     "data": {
      "image/png": "[encoded data removed]",
      "text/plain": [
       "<Figure size 432x288 with 1 Axes>"
      ]
     },
     "metadata": {
      "needs_background": "light"
     },
     "output_type": "display_data"
    }
   ],
   "source": [
    "x_values = southgroup[\"Lat\"]\n",
    "y_values = southgroup[\"Cloudiness\"]\n",
    "\n",
    "(slope, intercept, rvalue, pvalue, stderr) = linregress(x_values, y_values)\n",
    "regress_values = x_values * slope + intercept\n",
    "line_eq = \"y = \" + str(round(slope,2)) + \"x + \" + str(round(intercept,2))\n",
    "plt.scatter(x_values,y_values)\n",
    "plt.plot(x_values, regress_values,\"r-\", label=line_eq)\n",
    "plt.legend(loc='best')\n",
    "plt.annotate(line_eq,(6,10),fontsize=15,color=\"red\")\n",
    "plt.xlabel(\"Latitude\")\n",
    "plt.ylabel(\"Cloudiness\")\n",
    "\n",
    "print(f\"The r-value is: {rvalue}\")"
   ]
  },
  {
   "cell_type": "markdown",
   "metadata": {},
   "source": [
    "####  Northern Hemisphere - Wind Speed (mph) vs. Latitude Linear Regression"
   ]
  },
  {
   "cell_type": "code",
   "execution_count": 121,
   "metadata": {},
   "outputs": [
    {
     "name": "stdout",
     "output_type": "stream",
     "text": [
      "The r-value is: 0.06181774408765591\n"
     ]
    },
    {
     "data": {
      "image/png": "[encoded data removed]",
      "text/plain": [
       "<Figure size 432x288 with 1 Axes>"
      ]
     },
     "metadata": {
      "needs_background": "light"
     },
     "output_type": "display_data"
    }
   ],
   "source": [
    "x_values = northgroup[\"Lat\"]\n",
    "y_values = northgroup[\"WindSpeed\"]\n",
    "\n",
    "(slope, intercept, rvalue, pvalue, stderr) = linregress(x_values, y_values)\n",
    "regress_values = x_values * slope + intercept\n",
    "line_eq = \"y = \" + str(round(slope,2)) + \"x + \" + str(round(intercept,2))\n",
    "plt.scatter(x_values,y_values)\n",
    "plt.plot(x_values,regress_values,\"r-\")\n",
    "plt.annotate(line_eq,(6,10),fontsize=15,color=\"red\")\n",
    "plt.xlabel(\"Latitude\")\n",
    "plt.ylabel(\"Wind Speed\")\n",
    "\n",
    "print(f\"The r-value is: {rvalue}\")"
   ]
  },
  {
   "cell_type": "markdown",
   "metadata": {},
   "source": [
    "####  Southern Hemisphere - Wind Speed (mph) vs. Latitude Linear Regression"
   ]
  },
  {
   "cell_type": "code",
   "execution_count": 134,
   "metadata": {},
   "outputs": [
    {
     "name": "stdout",
     "output_type": "stream",
     "text": [
      "The r-value is: 0.05950348782960193\n"
     ]
    },
    {
     "data": {
      "image/png": "[encoded data removed]",
      "text/plain": [
       "<Figure size 432x288 with 1 Axes>"
      ]
     },
     "metadata": {
      "needs_background": "light"
     },
     "output_type": "display_data"
    }
   ],
   "source": [
    "x_values = southgroup[\"Lat\"]\n",
    "y_values = southgroup[\"WindSpeed\"]\n",
    "\n",
    "(slope, intercept, rvalue, pvalue, stderr) = linregress(x_values, y_values)\n",
    "regress_values = x_values * slope + intercept\n",
    "line_eq = \"y = \" + str(round(slope,2)) + \"x + \" + str(round(intercept,2))\n",
    "plt.scatter(x_values,y_values)\n",
    "plt.plot(x_values, regress_values,\"r-\", label=line_eq)\n",
    "plt.legend(loc='best')\n",
    "plt.annotate(line_eq,(6,10),fontsize=15,color=\"red\")\n",
    "plt.xlabel(\"Latitude\")\n",
    "plt.ylabel(\"Wind Speed\")\n",
    "\n",
    "print(f\"The r-value is: {rvalue}\")"
   ]
  },
  {
   "cell_type": "code",
   "execution_count": null,
   "metadata": {},
   "outputs": [],
   "source": []
  }
 ],
 "metadata": {
  "anaconda-cloud": {},
  "kernel_info": {
   "name": "python3"
  },
  "kernelspec": {
   "display_name": "Python 3",
   "language": "python",
   "name": "python3"
  },
  "language_info": {
   "codemirror_mode": {
    "name": "ipython",
    "version": 3
   },
   "file_extension": ".py",
   "mimetype": "text/x-python",
   "name": "python",
   "nbconvert_exporter": "python",
   "pygments_lexer": "ipython3",
   "version": "3.8.5"
  },
  "latex_envs": {
   "LaTeX_envs_menu_present": true,
   "autoclose": false,
   "autocomplete": true,
   "bibliofile": "biblio.bib",
   "cite_by": "apalike",
   "current_citInitial": 1,
   "eqLabelWithNumbers": true,
   "eqNumInitial": 1,
   "hotkeys": {
    "equation": "Ctrl-E",
    "itemize": "Ctrl-I"
   },
   "labels_anchors": false,
   "latex_user_defs": false,
   "report_style_numbering": false,
   "user_envs_cfg": false
  },
  "nteract": {
   "version": "0.12.3"
  }
 },
 "nbformat": 4,
 "nbformat_minor": 2
}
